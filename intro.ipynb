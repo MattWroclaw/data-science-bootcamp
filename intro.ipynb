{
  "nbformat": 4,
  "nbformat_minor": 0,
  "metadata": {
    "colab": {
      "provenance": [],
      "authorship_tag": "ABX9TyOm89ml7gLC5QUlaiX9+xGi",
      "include_colab_link": true
    },
    "kernelspec": {
      "name": "python3",
      "display_name": "Python 3"
    },
    "language_info": {
      "name": "python"
    }
  },
  "cells": [
    {
      "cell_type": "markdown",
      "metadata": {
        "id": "view-in-github",
        "colab_type": "text"
      },
      "source": [
        "<a href=\"https://colab.research.google.com/github/MattWroclaw/data-science-bootcamp/blob/main/intro.ipynb\" target=\"_parent\"><img src=\"https://colab.research.google.com/assets/colab-badge.svg\" alt=\"Open In Colab\"/></a>"
      ]
    },
    {
      "cell_type": "code",
      "execution_count": null,
      "metadata": {
        "id": "Ue3PLGWLDWk5",
        "outputId": "f0a53d69-351b-4077-80d1-3f4e0691dd32",
        "colab": {
          "base_uri": "https://localhost:8080/"
        }
      },
      "outputs": [
        {
          "output_type": "stream",
          "name": "stdout",
          "text": [
            "Hello wroclaw\n"
          ]
        }
      ],
      "source": [
        "print('Hello wroclaw')"
      ]
    },
    {
      "cell_type": "code",
      "source": [
        "import numpy as np\n",
        "np.__version__"
      ],
      "metadata": {
        "id": "-sDYo59HDZ7a",
        "colab": {
          "base_uri": "https://localhost:8080/",
          "height": 35
        },
        "outputId": "c31edc76-ecf4-4675-d41c-905d69695cf7"
      },
      "execution_count": 1,
      "outputs": [
        {
          "output_type": "execute_result",
          "data": {
            "text/plain": [
              "'1.25.2'"
            ],
            "application/vnd.google.colaboratory.intrinsic+json": {
              "type": "string"
            }
          },
          "metadata": {},
          "execution_count": 1
        }
      ]
    },
    {
      "cell_type": "code",
      "source": [
        "dir(np)"
      ],
      "metadata": {
        "id": "x-yMbHVAKTL2"
      },
      "execution_count": null,
      "outputs": []
    },
    {
      "cell_type": "code",
      "source": [
        "help(np.array)"
      ],
      "metadata": {
        "colab": {
          "base_uri": "https://localhost:8080/"
        },
        "collapsed": true,
        "id": "h8rDzud8Uge1",
        "outputId": "9241f111-c515-4525-df69-3c56bcfa94ef"
      },
      "execution_count": null,
      "outputs": [
        {
          "output_type": "stream",
          "name": "stdout",
          "text": [
            "Help on built-in function array in module numpy:\n",
            "\n",
            "array(...)\n",
            "    array(object, dtype=None, *, copy=True, order='K', subok=False, ndmin=0,\n",
            "          like=None)\n",
            "    \n",
            "    Create an array.\n",
            "    \n",
            "    Parameters\n",
            "    ----------\n",
            "    object : array_like\n",
            "        An array, any object exposing the array interface, an object whose\n",
            "        ``__array__`` method returns an array, or any (nested) sequence.\n",
            "        If object is a scalar, a 0-dimensional array containing object is\n",
            "        returned.\n",
            "    dtype : data-type, optional\n",
            "        The desired data-type for the array. If not given, NumPy will try to use\n",
            "        a default ``dtype`` that can represent the values (by applying promotion\n",
            "        rules when necessary.)\n",
            "    copy : bool, optional\n",
            "        If true (default), then the object is copied.  Otherwise, a copy will\n",
            "        only be made if ``__array__`` returns a copy, if obj is a nested\n",
            "        sequence, or if a copy is needed to satisfy any of the other\n",
            "        requirements (``dtype``, ``order``, etc.).\n",
            "    order : {'K', 'A', 'C', 'F'}, optional\n",
            "        Specify the memory layout of the array. If object is not an array, the\n",
            "        newly created array will be in C order (row major) unless 'F' is\n",
            "        specified, in which case it will be in Fortran order (column major).\n",
            "        If object is an array the following holds.\n",
            "    \n",
            "        ===== ========= ===================================================\n",
            "        order  no copy                     copy=True\n",
            "        ===== ========= ===================================================\n",
            "        'K'   unchanged F & C order preserved, otherwise most similar order\n",
            "        'A'   unchanged F order if input is F and not C, otherwise C order\n",
            "        'C'   C order   C order\n",
            "        'F'   F order   F order\n",
            "        ===== ========= ===================================================\n",
            "    \n",
            "        When ``copy=False`` and a copy is made for other reasons, the result is\n",
            "        the same as if ``copy=True``, with some exceptions for 'A', see the\n",
            "        Notes section. The default order is 'K'.\n",
            "    subok : bool, optional\n",
            "        If True, then sub-classes will be passed-through, otherwise\n",
            "        the returned array will be forced to be a base-class array (default).\n",
            "    ndmin : int, optional\n",
            "        Specifies the minimum number of dimensions that the resulting\n",
            "        array should have.  Ones will be prepended to the shape as\n",
            "        needed to meet this requirement.\n",
            "    like : array_like, optional\n",
            "        Reference object to allow the creation of arrays which are not\n",
            "        NumPy arrays. If an array-like passed in as ``like`` supports\n",
            "        the ``__array_function__`` protocol, the result will be defined\n",
            "        by it. In this case, it ensures the creation of an array object\n",
            "        compatible with that passed in via this argument.\n",
            "    \n",
            "        .. versionadded:: 1.20.0\n",
            "    \n",
            "    Returns\n",
            "    -------\n",
            "    out : ndarray\n",
            "        An array object satisfying the specified requirements.\n",
            "    \n",
            "    See Also\n",
            "    --------\n",
            "    empty_like : Return an empty array with shape and type of input.\n",
            "    ones_like : Return an array of ones with shape and type of input.\n",
            "    zeros_like : Return an array of zeros with shape and type of input.\n",
            "    full_like : Return a new array with shape of input filled with value.\n",
            "    empty : Return a new uninitialized array.\n",
            "    ones : Return a new array setting values to one.\n",
            "    zeros : Return a new array setting values to zero.\n",
            "    full : Return a new array of given shape filled with value.\n",
            "    \n",
            "    \n",
            "    Notes\n",
            "    -----\n",
            "    When order is 'A' and ``object`` is an array in neither 'C' nor 'F' order,\n",
            "    and a copy is forced by a change in dtype, then the order of the result is\n",
            "    not necessarily 'C' as expected. This is likely a bug.\n",
            "    \n",
            "    Examples\n",
            "    --------\n",
            "    >>> np.array([1, 2, 3])\n",
            "    array([1, 2, 3])\n",
            "    \n",
            "    Upcasting:\n",
            "    \n",
            "    >>> np.array([1, 2, 3.0])\n",
            "    array([ 1.,  2.,  3.])\n",
            "    \n",
            "    More than one dimension:\n",
            "    \n",
            "    >>> np.array([[1, 2], [3, 4]])\n",
            "    array([[1, 2],\n",
            "           [3, 4]])\n",
            "    \n",
            "    Minimum dimensions 2:\n",
            "    \n",
            "    >>> np.array([1, 2, 3], ndmin=2)\n",
            "    array([[1, 2, 3]])\n",
            "    \n",
            "    Type provided:\n",
            "    \n",
            "    >>> np.array([1, 2, 3], dtype=complex)\n",
            "    array([ 1.+0.j,  2.+0.j,  3.+0.j])\n",
            "    \n",
            "    Data-type consisting of more than one element:\n",
            "    \n",
            "    >>> x = np.array([(1,2),(3,4)],dtype=[('a','<i4'),('b','<i4')])\n",
            "    >>> x['a']\n",
            "    array([1, 3])\n",
            "    \n",
            "    Creating an array from sub-classes:\n",
            "    \n",
            "    >>> np.array(np.mat('1 2; 3 4'))\n",
            "    array([[1, 2],\n",
            "           [3, 4]])\n",
            "    \n",
            "    >>> np.array(np.mat('1 2; 3 4'), subok=True)\n",
            "    matrix([[1, 2],\n",
            "            [3, 4]])\n",
            "\n"
          ]
        }
      ]
    },
    {
      "cell_type": "markdown",
      "source": [
        "###1D Array###"
      ],
      "metadata": {
        "id": "PsVBBbKbVt-L"
      }
    },
    {
      "cell_type": "code",
      "source": [
        "x = np.array([1,2,3])\n",
        "x"
      ],
      "metadata": {
        "colab": {
          "base_uri": "https://localhost:8080/"
        },
        "id": "jUqCu5ewV2tP",
        "outputId": "10145484-4e87-4308-847b-b31b273a787f"
      },
      "execution_count": null,
      "outputs": [
        {
          "output_type": "execute_result",
          "data": {
            "text/plain": [
              "array([1, 2, 3])"
            ]
          },
          "metadata": {},
          "execution_count": 8
        }
      ]
    },
    {
      "cell_type": "code",
      "source": [
        "print(x)"
      ],
      "metadata": {
        "colab": {
          "base_uri": "https://localhost:8080/"
        },
        "id": "o2majeoUWTC9",
        "outputId": "2ef727ad-3ac5-4fab-f6d9-b11563a1b5c2"
      },
      "execution_count": null,
      "outputs": [
        {
          "output_type": "stream",
          "name": "stdout",
          "text": [
            "[1 2 3]\n"
          ]
        }
      ]
    },
    {
      "cell_type": "code",
      "source": [
        "type(x)"
      ],
      "metadata": {
        "colab": {
          "base_uri": "https://localhost:8080/"
        },
        "id": "Blhi_vDjWdj5",
        "outputId": "d23059f6-3243-4f1f-f4e1-65b1299c0f58"
      },
      "execution_count": null,
      "outputs": [
        {
          "output_type": "execute_result",
          "data": {
            "text/plain": [
              "numpy.ndarray"
            ]
          },
          "metadata": {},
          "execution_count": 11
        }
      ]
    },
    {
      "cell_type": "code",
      "source": [
        "x.shape"
      ],
      "metadata": {
        "colab": {
          "base_uri": "https://localhost:8080/"
        },
        "id": "WQuS8IneW0VU",
        "outputId": "3412b5d8-1fd0-4056-dee9-b7c131ad8694"
      },
      "execution_count": null,
      "outputs": [
        {
          "output_type": "execute_result",
          "data": {
            "text/plain": [
              "(3,)"
            ]
          },
          "metadata": {},
          "execution_count": 12
        }
      ]
    },
    {
      "cell_type": "code",
      "source": [
        "x.ndim"
      ],
      "metadata": {
        "colab": {
          "base_uri": "https://localhost:8080/"
        },
        "id": "Q1TS0Y8KWx9e",
        "outputId": "cf7fd1e1-24e0-4f17-fd4b-5d5f7fb71113"
      },
      "execution_count": null,
      "outputs": [
        {
          "output_type": "execute_result",
          "data": {
            "text/plain": [
              "1"
            ]
          },
          "metadata": {},
          "execution_count": 13
        }
      ]
    },
    {
      "cell_type": "code",
      "source": [
        "x.size"
      ],
      "metadata": {
        "colab": {
          "base_uri": "https://localhost:8080/"
        },
        "id": "OHTOWp7IW4sD",
        "outputId": "6b043a55-0359-4794-a9e2-0b75cd58e8ee"
      },
      "execution_count": null,
      "outputs": [
        {
          "output_type": "execute_result",
          "data": {
            "text/plain": [
              "3"
            ]
          },
          "metadata": {},
          "execution_count": 14
        }
      ]
    },
    {
      "cell_type": "code",
      "source": [
        "x.dtype"
      ],
      "metadata": {
        "colab": {
          "base_uri": "https://localhost:8080/"
        },
        "id": "K5AnwAlmXC_h",
        "outputId": "a14ddf02-4a50-4c49-b225-7298a0702fdb"
      },
      "execution_count": null,
      "outputs": [
        {
          "output_type": "execute_result",
          "data": {
            "text/plain": [
              "dtype('int64')"
            ]
          },
          "metadata": {},
          "execution_count": 15
        }
      ]
    },
    {
      "cell_type": "code",
      "source": [
        "x = np.array([1.2,2.10,3.4320])\n",
        "print(x)"
      ],
      "metadata": {
        "colab": {
          "base_uri": "https://localhost:8080/"
        },
        "id": "LACBMOw0XFlK",
        "outputId": "43ce2507-2c13-4166-dcf2-101fd9f575b6"
      },
      "execution_count": null,
      "outputs": [
        {
          "output_type": "stream",
          "name": "stdout",
          "text": [
            "[1.2   2.1   3.432]\n"
          ]
        }
      ]
    },
    {
      "cell_type": "code",
      "source": [
        "x.dtype"
      ],
      "metadata": {
        "colab": {
          "base_uri": "https://localhost:8080/"
        },
        "id": "jeu9iG6tXqCo",
        "outputId": "5e54c1b3-f891-46cd-a59f-e93eb724616e"
      },
      "execution_count": null,
      "outputs": [
        {
          "output_type": "execute_result",
          "data": {
            "text/plain": [
              "dtype('float64')"
            ]
          },
          "metadata": {},
          "execution_count": 18
        }
      ]
    },
    {
      "cell_type": "code",
      "source": [],
      "metadata": {
        "id": "Z-sstLhOXrtn"
      },
      "execution_count": null,
      "outputs": []
    },
    {
      "cell_type": "markdown",
      "source": [
        "###2D array##"
      ],
      "metadata": {
        "id": "si9VL4B3XzWW"
      }
    },
    {
      "cell_type": "code",
      "source": [
        "x = np.array([[1,2,3],[-4,5,-6]])"
      ],
      "metadata": {
        "id": "cGuU9LMeX4rt"
      },
      "execution_count": null,
      "outputs": []
    },
    {
      "cell_type": "code",
      "source": [
        "x.ndim"
      ],
      "metadata": {
        "colab": {
          "base_uri": "https://localhost:8080/"
        },
        "id": "GTgoAWVwYKSG",
        "outputId": "bb9fd2b7-dbd6-41f9-f143-c74c559b9f0e"
      },
      "execution_count": null,
      "outputs": [
        {
          "output_type": "execute_result",
          "data": {
            "text/plain": [
              "2"
            ]
          },
          "metadata": {},
          "execution_count": 21
        }
      ]
    },
    {
      "cell_type": "code",
      "source": [
        "x.shape #wiersze x kol"
      ],
      "metadata": {
        "colab": {
          "base_uri": "https://localhost:8080/"
        },
        "id": "TCJOqOXFYPUl",
        "outputId": "a82f1a19-e39e-41c8-e38c-e53044b08e72"
      },
      "execution_count": null,
      "outputs": [
        {
          "output_type": "execute_result",
          "data": {
            "text/plain": [
              "(2, 3)"
            ]
          },
          "metadata": {},
          "execution_count": 23
        }
      ]
    },
    {
      "cell_type": "markdown",
      "source": [
        "###3D Array###"
      ],
      "metadata": {
        "id": "3krqPvkUZLQv"
      }
    },
    {
      "cell_type": "code",
      "source": [
        "x = np.array([\n",
        "    [[1,2,2] , [3,4,5]],\n",
        "    [[6,7,8] , [9,10,11]],\n",
        "    [[12,13,14] , [15,16,17]],\n",
        "    [[18,19,20] , [21,22,23]]\n",
        "]\n",
        ")"
      ],
      "metadata": {
        "id": "DCOAr3J7Yaem"
      },
      "execution_count": null,
      "outputs": []
    },
    {
      "cell_type": "code",
      "source": [
        "x.ndim"
      ],
      "metadata": {
        "colab": {
          "base_uri": "https://localhost:8080/"
        },
        "id": "PKys3qRlZuk5",
        "outputId": "15842918-9cfe-42e6-f878-0dcb425e0f1c"
      },
      "execution_count": null,
      "outputs": [
        {
          "output_type": "execute_result",
          "data": {
            "text/plain": [
              "3"
            ]
          },
          "metadata": {},
          "execution_count": 28
        }
      ]
    },
    {
      "cell_type": "code",
      "source": [
        "x.shape"
      ],
      "metadata": {
        "colab": {
          "base_uri": "https://localhost:8080/"
        },
        "id": "tqK32lmfZxlE",
        "outputId": "a8f5786c-6160-49cd-acd7-348fddffa949"
      },
      "execution_count": null,
      "outputs": [
        {
          "output_type": "execute_result",
          "data": {
            "text/plain": [
              "(4, 2, 3)"
            ]
          },
          "metadata": {},
          "execution_count": 26
        }
      ]
    },
    {
      "cell_type": "code",
      "source": [],
      "metadata": {
        "id": "V2XZljcRZzYJ"
      },
      "execution_count": null,
      "outputs": []
    },
    {
      "cell_type": "markdown",
      "source": [
        "###Typy danych###"
      ],
      "metadata": {
        "id": "19QF0DU5DVn9"
      }
    },
    {
      "cell_type": "code",
      "source": [
        "A = np.array([1,2.0,3])\n",
        "A.dtype"
      ],
      "metadata": {
        "colab": {
          "base_uri": "https://localhost:8080/"
        },
        "id": "JjNiMKWgDZ2R",
        "outputId": "1b09e1a7-d947-4c30-e65a-830a0ceeb4bd"
      },
      "execution_count": 3,
      "outputs": [
        {
          "output_type": "execute_result",
          "data": {
            "text/plain": [
              "dtype('float64')"
            ]
          },
          "metadata": {},
          "execution_count": 3
        }
      ]
    },
    {
      "cell_type": "code",
      "source": [
        "A = np.array([1,2,3], dtype = 'float')\n",
        "A.dtype\n",
        "A"
      ],
      "metadata": {
        "colab": {
          "base_uri": "https://localhost:8080/"
        },
        "id": "bUUZVcDTFgxb",
        "outputId": "3e0b6b55-de0a-4aca-dd86-a9953756db97"
      },
      "execution_count": 5,
      "outputs": [
        {
          "output_type": "execute_result",
          "data": {
            "text/plain": [
              "array([1., 2., 3.])"
            ]
          },
          "metadata": {},
          "execution_count": 5
        }
      ]
    },
    {
      "cell_type": "code",
      "source": [
        "A = np.array([1,2,3], dtype = 'complex')\n",
        "A.dtype"
      ],
      "metadata": {
        "colab": {
          "base_uri": "https://localhost:8080/"
        },
        "id": "SA9Kwa0RFtwa",
        "outputId": "6d74bf11-f4ec-4951-fca8-656dedc01b96"
      },
      "execution_count": 6,
      "outputs": [
        {
          "output_type": "execute_result",
          "data": {
            "text/plain": [
              "dtype('complex128')"
            ]
          },
          "metadata": {},
          "execution_count": 6
        }
      ]
    },
    {
      "cell_type": "code",
      "source": [
        "A = np.array([1.4984,2.797,3.00000000], dtype = 'int')\n",
        "A.dtype\n",
        "A"
      ],
      "metadata": {
        "colab": {
          "base_uri": "https://localhost:8080/"
        },
        "id": "9SRabVnEF7Qf",
        "outputId": "d5c77090-5d2e-40bc-a70c-e1f6dd5e1731"
      },
      "execution_count": 11,
      "outputs": [
        {
          "output_type": "execute_result",
          "data": {
            "text/plain": [
              "array([1, 2, 3])"
            ]
          },
          "metadata": {},
          "execution_count": 11
        }
      ]
    },
    {
      "cell_type": "markdown",
      "source": [],
      "metadata": {
        "id": "H_BExk-bGtLM"
      }
    },
    {
      "cell_type": "code",
      "source": [
        "A = np.array([146,200,37], dtype = np.int8)\n",
        "A.dtype"
      ],
      "metadata": {
        "colab": {
          "base_uri": "https://localhost:8080/"
        },
        "id": "LY8wjn1FGXop",
        "outputId": "40c2bd4e-5cd3-46b0-ce3b-78afc0181a13"
      },
      "execution_count": 14,
      "outputs": [
        {
          "output_type": "stream",
          "name": "stderr",
          "text": [
            "<ipython-input-14-7a000833eb04>:1: DeprecationWarning: NumPy will stop allowing conversion of out-of-bound Python integers to integer arrays.  The conversion of 146 to int8 will fail in the future.\n",
            "For the old behavior, usually:\n",
            "    np.array(value).astype(dtype)\n",
            "will give the desired result (the cast overflows).\n",
            "  A = np.array([146,200,37], dtype = np.int8)\n",
            "<ipython-input-14-7a000833eb04>:1: DeprecationWarning: NumPy will stop allowing conversion of out-of-bound Python integers to integer arrays.  The conversion of 200 to int8 will fail in the future.\n",
            "For the old behavior, usually:\n",
            "    np.array(value).astype(dtype)\n",
            "will give the desired result (the cast overflows).\n",
            "  A = np.array([146,200,37], dtype = np.int8)\n"
          ]
        },
        {
          "output_type": "execute_result",
          "data": {
            "text/plain": [
              "dtype('int8')"
            ]
          },
          "metadata": {},
          "execution_count": 14
        }
      ]
    },
    {
      "cell_type": "code",
      "source": [
        "A = np.array([146,200,37], dtype = np.uint8)\n",
        "A.dtype"
      ],
      "metadata": {
        "colab": {
          "base_uri": "https://localhost:8080/"
        },
        "id": "XafqT6XIG75a",
        "outputId": "ae036c35-07ef-4646-be8c-90664143733b"
      },
      "execution_count": 15,
      "outputs": [
        {
          "output_type": "execute_result",
          "data": {
            "text/plain": [
              "dtype('uint8')"
            ]
          },
          "metadata": {},
          "execution_count": 15
        }
      ]
    },
    {
      "cell_type": "markdown",
      "source": [
        "###Tworzenie tablic###"
      ],
      "metadata": {
        "id": "KKsKpI5NHDRW"
      }
    },
    {
      "cell_type": "code",
      "source": [
        "A = np.zeros(shape=(4,10))\n",
        "A\n",
        "# np.dtype"
      ],
      "metadata": {
        "colab": {
          "base_uri": "https://localhost:8080/"
        },
        "id": "58HnksfjHHf4",
        "outputId": "cb59c7e7-24d5-409b-8f04-819dd5ee28f7"
      },
      "execution_count": 21,
      "outputs": [
        {
          "output_type": "execute_result",
          "data": {
            "text/plain": [
              "array([[0., 0., 0., 0., 0., 0., 0., 0., 0., 0.],\n",
              "       [0., 0., 0., 0., 0., 0., 0., 0., 0., 0.],\n",
              "       [0., 0., 0., 0., 0., 0., 0., 0., 0., 0.],\n",
              "       [0., 0., 0., 0., 0., 0., 0., 0., 0., 0.]])"
            ]
          },
          "metadata": {},
          "execution_count": 21
        }
      ]
    },
    {
      "cell_type": "code",
      "source": [
        "np.ones(shape = (6,6), dtype='int')"
      ],
      "metadata": {
        "colab": {
          "base_uri": "https://localhost:8080/"
        },
        "id": "Ijt7D5HVHhN0",
        "outputId": "ac45d50f-8467-4942-c0ab-1aba09416c24"
      },
      "execution_count": 22,
      "outputs": [
        {
          "output_type": "execute_result",
          "data": {
            "text/plain": [
              "array([[1, 1, 1, 1, 1, 1, 1],\n",
              "       [1, 1, 1, 1, 1, 1, 1],\n",
              "       [1, 1, 1, 1, 1, 1, 1],\n",
              "       [1, 1, 1, 1, 1, 1, 1],\n",
              "       [1, 1, 1, 1, 1, 1, 1],\n",
              "       [1, 1, 1, 1, 1, 1, 1]])"
            ]
          },
          "metadata": {},
          "execution_count": 22
        }
      ]
    },
    {
      "cell_type": "code",
      "source": [
        "np.full(shape=(3,3), fill_value=4, dtype='int')"
      ],
      "metadata": {
        "colab": {
          "base_uri": "https://localhost:8080/"
        },
        "id": "zGaT7ZsMHwU5",
        "outputId": "8cc93030-f630-494d-89aa-9a2ff6211800"
      },
      "execution_count": 23,
      "outputs": [
        {
          "output_type": "execute_result",
          "data": {
            "text/plain": [
              "array([[4, 4, 4],\n",
              "       [4, 4, 4],\n",
              "       [4, 4, 4]])"
            ]
          },
          "metadata": {},
          "execution_count": 23
        }
      ]
    },
    {
      "cell_type": "code",
      "source": [
        "list(range(10))"
      ],
      "metadata": {
        "colab": {
          "base_uri": "https://localhost:8080/"
        },
        "id": "hKgWoRA1IJLM",
        "outputId": "bd171a38-87b1-400a-b6c9-020b07562ba7"
      },
      "execution_count": 26,
      "outputs": [
        {
          "output_type": "execute_result",
          "data": {
            "text/plain": [
              "[0, 1, 2, 3, 4, 5, 6, 7, 8, 9]"
            ]
          },
          "metadata": {},
          "execution_count": 26
        }
      ]
    },
    {
      "cell_type": "code",
      "source": [
        "np.arrange(10)"
      ],
      "metadata": {
        "id": "IGpBkKAbH-lp"
      },
      "execution_count": null,
      "outputs": []
    },
    {
      "cell_type": "code",
      "source": [
        "np.arange(start=5, stop=26, step=5)"
      ],
      "metadata": {
        "colab": {
          "base_uri": "https://localhost:8080/"
        },
        "id": "UIjBeRB0IcS4",
        "outputId": "58c84f68-2a3c-491c-ec80-62bb7ed3d500"
      },
      "execution_count": 27,
      "outputs": [
        {
          "output_type": "execute_result",
          "data": {
            "text/plain": [
              "array([ 5, 10, 15, 20, 25])"
            ]
          },
          "metadata": {},
          "execution_count": 27
        }
      ]
    },
    {
      "cell_type": "code",
      "source": [
        "np.arange(start=100, stop=20, step=-10)"
      ],
      "metadata": {
        "colab": {
          "base_uri": "https://localhost:8080/"
        },
        "id": "TXigHAu-I2vQ",
        "outputId": "72a68a9b-8a92-4edc-d490-b3fbdb4428f4"
      },
      "execution_count": 28,
      "outputs": [
        {
          "output_type": "execute_result",
          "data": {
            "text/plain": [
              "array([100,  90,  80,  70,  60,  50,  40,  30])"
            ]
          },
          "metadata": {},
          "execution_count": 28
        }
      ]
    },
    {
      "cell_type": "code",
      "source": [
        "np.arange(start=0, stop =1, step=0.05)"
      ],
      "metadata": {
        "colab": {
          "base_uri": "https://localhost:8080/"
        },
        "id": "6L4JuFvXJGZJ",
        "outputId": "bc344983-6cf5-4684-8f47-ceef69c3e39f"
      },
      "execution_count": 31,
      "outputs": [
        {
          "output_type": "execute_result",
          "data": {
            "text/plain": [
              "array([0.  , 0.05, 0.1 , 0.15, 0.2 , 0.25, 0.3 , 0.35, 0.4 , 0.45, 0.5 ,\n",
              "       0.55, 0.6 , 0.65, 0.7 , 0.75, 0.8 , 0.85, 0.9 , 0.95])"
            ]
          },
          "metadata": {},
          "execution_count": 31
        }
      ]
    },
    {
      "cell_type": "markdown",
      "source": [
        "Elementy równo rozłożone w tablicy"
      ],
      "metadata": {
        "id": "omoFFIOtJ2oX"
      }
    },
    {
      "cell_type": "code",
      "source": [
        "np.linspace(start=0, stop=1, num=10)"
      ],
      "metadata": {
        "colab": {
          "base_uri": "https://localhost:8080/"
        },
        "id": "RqdMrROmJcbG",
        "outputId": "47f523d3-7bd7-4bd7-a1f7-5d741e8e908b"
      },
      "execution_count": 32,
      "outputs": [
        {
          "output_type": "execute_result",
          "data": {
            "text/plain": [
              "array([0.        , 0.11111111, 0.22222222, 0.33333333, 0.44444444,\n",
              "       0.55555556, 0.66666667, 0.77777778, 0.88888889, 1.        ])"
            ]
          },
          "metadata": {},
          "execution_count": 32
        }
      ]
    },
    {
      "cell_type": "markdown",
      "source": [
        "Zrobienie macierzy z  tablicy"
      ],
      "metadata": {
        "id": "UzfsbHoCJ6zb"
      }
    },
    {
      "cell_type": "code",
      "source": [
        "A = np.arange(18)\n",
        "A"
      ],
      "metadata": {
        "colab": {
          "base_uri": "https://localhost:8080/"
        },
        "id": "ciI7zdICKAda",
        "outputId": "61e3bcab-b472-4d1f-e404-329c634a7cb7"
      },
      "execution_count": 41,
      "outputs": [
        {
          "output_type": "execute_result",
          "data": {
            "text/plain": [
              "array([ 0,  1,  2,  3,  4,  5,  6,  7,  8,  9, 10, 11, 12, 13, 14, 15, 16,\n",
              "       17])"
            ]
          },
          "metadata": {},
          "execution_count": 41
        }
      ]
    },
    {
      "cell_type": "code",
      "source": [
        "A.reshape(2,9)"
      ],
      "metadata": {
        "colab": {
          "base_uri": "https://localhost:8080/"
        },
        "id": "GmtvlqYzKGwp",
        "outputId": "0a9e3772-c8e6-415d-8652-866d3b14fab7"
      },
      "execution_count": 45,
      "outputs": [
        {
          "output_type": "execute_result",
          "data": {
            "text/plain": [
              "array([[ 0,  1,  2,  3,  4,  5,  6,  7,  8],\n",
              "       [ 9, 10, 11, 12, 13, 14, 15, 16, 17]])"
            ]
          },
          "metadata": {},
          "execution_count": 45
        }
      ]
    },
    {
      "cell_type": "code",
      "source": [
        "A.reshape(3,6)"
      ],
      "metadata": {
        "colab": {
          "base_uri": "https://localhost:8080/"
        },
        "id": "pXfSt7kyKNVX",
        "outputId": "7438413e-48aa-480e-c3e1-6f5ca02cfa8e"
      },
      "execution_count": 46,
      "outputs": [
        {
          "output_type": "execute_result",
          "data": {
            "text/plain": [
              "array([[ 0,  1,  2,  3,  4,  5],\n",
              "       [ 6,  7,  8,  9, 10, 11],\n",
              "       [12, 13, 14, 15, 16, 17]])"
            ]
          },
          "metadata": {},
          "execution_count": 46
        }
      ]
    },
    {
      "cell_type": "markdown",
      "source": [
        "Chcemy mieć 3 wiersze, niech python sam wyliczy ile ma być kolumn --> wstawiamy -1"
      ],
      "metadata": {
        "id": "Zbe_Q18-Kxo9"
      }
    },
    {
      "cell_type": "code",
      "source": [
        "A.reshape((3,-1))\n"
      ],
      "metadata": {
        "colab": {
          "base_uri": "https://localhost:8080/"
        },
        "id": "wPIDzcp5K70R",
        "outputId": "71e10e9b-0b54-4275-a588-5f73e0420238"
      },
      "execution_count": 50,
      "outputs": [
        {
          "output_type": "execute_result",
          "data": {
            "text/plain": [
              "array([[ 0,  1,  2,  3,  4,  5],\n",
              "       [ 6,  7,  8,  9, 10, 11],\n",
              "       [12, 13, 14, 15, 16, 17]])"
            ]
          },
          "metadata": {},
          "execution_count": 50
        }
      ]
    },
    {
      "cell_type": "markdown",
      "source": [
        "Chcemy mieć 6 kolumn, ale nie wiemy ile to wierszy. Niech python to obliczy"
      ],
      "metadata": {
        "id": "GGHh2CDPN8b8"
      }
    },
    {
      "cell_type": "code",
      "source": [
        "A.reshape((-1,6))"
      ],
      "metadata": {
        "colab": {
          "base_uri": "https://localhost:8080/"
        },
        "id": "zh4OS-JdN72Y",
        "outputId": "31f83468-1dc2-4bb7-a992-c4e4a3af2d09"
      },
      "execution_count": 51,
      "outputs": [
        {
          "output_type": "execute_result",
          "data": {
            "text/plain": [
              "array([[ 0,  1,  2,  3,  4,  5],\n",
              "       [ 6,  7,  8,  9, 10, 11],\n",
              "       [12, 13, 14, 15, 16, 17]])"
            ]
          },
          "metadata": {},
          "execution_count": 51
        }
      ]
    },
    {
      "cell_type": "markdown",
      "source": [
        "###Podstawowe operacje na tablicach##"
      ],
      "metadata": {
        "id": "t-hImZwYOMEn"
      }
    },
    {
      "cell_type": "code",
      "source": [
        "A = np.array([3,1,4,2])\n",
        "B = np.array([3,-1,3,2])\n",
        "\n",
        "print(A)\n",
        "print(B)"
      ],
      "metadata": {
        "colab": {
          "base_uri": "https://localhost:8080/"
        },
        "id": "DtFUCC71ORt3",
        "outputId": "55e0fcf6-39fd-4373-95b6-442f1cfa7552"
      },
      "execution_count": 52,
      "outputs": [
        {
          "output_type": "stream",
          "name": "stdout",
          "text": [
            "[3 1 4 2]\n",
            "[ 3 -1  3  2]\n"
          ]
        }
      ]
    },
    {
      "cell_type": "markdown",
      "source": [
        "Dodawanie tablic. Rozmiar tablic musi się zgadzać"
      ],
      "metadata": {
        "id": "SWA-CFraOk_2"
      }
    },
    {
      "cell_type": "code",
      "source": [
        "A + B"
      ],
      "metadata": {
        "colab": {
          "base_uri": "https://localhost:8080/"
        },
        "id": "lm5SxIucOvnM",
        "outputId": "c929c2f7-1b3c-40d5-80f2-a2db92f833ae"
      },
      "execution_count": 53,
      "outputs": [
        {
          "output_type": "execute_result",
          "data": {
            "text/plain": [
              "array([6, 0, 7, 4])"
            ]
          },
          "metadata": {},
          "execution_count": 53
        }
      ]
    },
    {
      "cell_type": "markdown",
      "source": [
        "Inne operacje algebraiczne. Element po elemencie"
      ],
      "metadata": {
        "id": "4ExtmRFCPLd-"
      }
    },
    {
      "cell_type": "markdown",
      "source": [],
      "metadata": {
        "id": "zCyVPJXyQSsX"
      }
    },
    {
      "cell_type": "code",
      "source": [
        "print(A - B)\n",
        "print(A * B)\n",
        "print(A / B)"
      ],
      "metadata": {
        "colab": {
          "base_uri": "https://localhost:8080/"
        },
        "id": "lqHkoEN9O7nu",
        "outputId": "883ec067-6bef-4477-f24d-7b1357a92a21"
      },
      "execution_count": 54,
      "outputs": [
        {
          "output_type": "stream",
          "name": "stdout",
          "text": [
            "[0 2 1 0]\n",
            "[ 9 -1 12  4]\n",
            "[ 1.         -1.          1.33333333  1.        ]\n"
          ]
        }
      ]
    },
    {
      "cell_type": "markdown",
      "source": [
        "Dodawanie stałej do wartości tablicy\n"
      ],
      "metadata": {
        "id": "evEeWdprPPSs"
      }
    },
    {
      "cell_type": "code",
      "source": [
        "A + 3"
      ],
      "metadata": {
        "colab": {
          "base_uri": "https://localhost:8080/"
        },
        "id": "3NSO92ZbPTU0",
        "outputId": "97c26cfa-ac7a-4bdc-c498-9ec6654a842b"
      },
      "execution_count": 55,
      "outputs": [
        {
          "output_type": "execute_result",
          "data": {
            "text/plain": [
              "array([6, 4, 7, 5])"
            ]
          },
          "metadata": {},
          "execution_count": 55
        }
      ]
    },
    {
      "cell_type": "code",
      "source": [
        "A + 3*B"
      ],
      "metadata": {
        "colab": {
          "base_uri": "https://localhost:8080/"
        },
        "id": "lJY7EPMXPhaK",
        "outputId": "c2432164-782f-4952-d5b4-2c5071c7673d"
      },
      "execution_count": 56,
      "outputs": [
        {
          "output_type": "execute_result",
          "data": {
            "text/plain": [
              "array([12, -2, 13,  8])"
            ]
          },
          "metadata": {},
          "execution_count": 56
        }
      ]
    },
    {
      "cell_type": "markdown",
      "source": [
        "Dedykowane metody do prostych działań"
      ],
      "metadata": {
        "id": "fC9PeVCcPww4"
      }
    },
    {
      "cell_type": "code",
      "source": [
        "np.add(A,B)\n",
        "np.subtract(A,B)\n",
        "np.multiply(A,B)\n",
        "np.divide(A,B)"
      ],
      "metadata": {
        "colab": {
          "base_uri": "https://localhost:8080/"
        },
        "id": "2Fnm0RGIP0hL",
        "outputId": "9229e760-bec9-4344-e092-847e39c90757"
      },
      "execution_count": 57,
      "outputs": [
        {
          "output_type": "execute_result",
          "data": {
            "text/plain": [
              "array([ 1.        , -1.        ,  1.33333333,  1.        ])"
            ]
          },
          "metadata": {},
          "execution_count": 57
        }
      ]
    },
    {
      "cell_type": "markdown",
      "source": [
        "Mnożenie macieżowe\n"
      ],
      "metadata": {
        "id": "wdasxrl_QVEN"
      }
    },
    {
      "cell_type": "code",
      "source": [
        "X = np.array([[1,3],[-2,0]])\n",
        "Y = np.array([[6,0],[-1,2]])\n",
        "\n",
        "print(X, '\\n')\n",
        "print(Y)"
      ],
      "metadata": {
        "colab": {
          "base_uri": "https://localhost:8080/"
        },
        "id": "j5GWl0JlQgj5",
        "outputId": "a9418c2a-befd-4b1b-af55-c0689868da15"
      },
      "execution_count": 59,
      "outputs": [
        {
          "output_type": "stream",
          "name": "stdout",
          "text": [
            "[[ 1  3]\n",
            " [-2  0]] \n",
            "\n",
            "[[ 6  0]\n",
            " [-1  2]]\n"
          ]
        }
      ]
    },
    {
      "cell_type": "markdown",
      "source": [
        "Zwykłe mnożenie A * B , to mnożenie element po elemencie. Ale to nie jest mnożenie macieży"
      ],
      "metadata": {
        "id": "t51xiUTtREdG"
      }
    },
    {
      "cell_type": "markdown",
      "source": [],
      "metadata": {
        "id": "Wgnceot-RWZs"
      }
    },
    {
      "cell_type": "code",
      "source": [
        "X*Y"
      ],
      "metadata": {
        "colab": {
          "base_uri": "https://localhost:8080/"
        },
        "id": "JKxYh2hERKve",
        "outputId": "0200daf0-af36-4c8b-96ab-0e15060040a7"
      },
      "execution_count": 60,
      "outputs": [
        {
          "output_type": "execute_result",
          "data": {
            "text/plain": [
              "array([[6, 0],\n",
              "       [2, 0]])"
            ]
          },
          "metadata": {},
          "execution_count": 60
        }
      ]
    },
    {
      "cell_type": "markdown",
      "source": [
        "Żeby wykonać mnożenie macieży należy użyć .dot\n",
        "Mnożymy wiersz razy kolumna i wiersz razy kolumna, tzn piwerwszy wyraz z 1 wiersza mnożymy przez pierwszy wyraz z 1 kolkumny; 2 wyr z pierwszego wiersza z 2 wyrazem z pierwszej kolumny; 3 wyraz z pierwszego rzędu mnożymy  z 3 wrazem z pierwszej kolumny.\n",
        "Następnie wszystkie te iloczyny dodajemy"
      ],
      "metadata": {
        "id": "U90zSuYjRXgy"
      }
    },
    {
      "cell_type": "code",
      "source": [
        "np.dot(X,Y)"
      ],
      "metadata": {
        "colab": {
          "base_uri": "https://localhost:8080/"
        },
        "id": "n-uxLvj5RiCF",
        "outputId": "854bcc80-e54c-4922-98c6-527e197e6d80"
      },
      "execution_count": 61,
      "outputs": [
        {
          "output_type": "execute_result",
          "data": {
            "text/plain": [
              "array([[  3,   6],\n",
              "       [-12,   0]])"
            ]
          },
          "metadata": {},
          "execution_count": 61
        }
      ]
    },
    {
      "cell_type": "markdown",
      "source": [
        "ten sam efekt X.dot(Y)"
      ],
      "metadata": {
        "id": "oxKlLJt8TeEJ"
      }
    },
    {
      "cell_type": "code",
      "source": [
        "X.dot(Y)"
      ],
      "metadata": {
        "colab": {
          "base_uri": "https://localhost:8080/"
        },
        "id": "WRpjM3rtTkWb",
        "outputId": "f8620b70-3230-44b5-9649-c361e1ad176b"
      },
      "execution_count": 62,
      "outputs": [
        {
          "output_type": "execute_result",
          "data": {
            "text/plain": [
              "array([[  3,   6],\n",
              "       [-12,   0]])"
            ]
          },
          "metadata": {},
          "execution_count": 62
        }
      ]
    },
    {
      "cell_type": "markdown",
      "source": [
        "Uwaga, mnożenie macierzy nie jest przemienne!"
      ],
      "metadata": {
        "id": "7kxxy09eTrUF"
      }
    },
    {
      "cell_type": "code",
      "source": [
        "Y.dot(X)"
      ],
      "metadata": {
        "colab": {
          "base_uri": "https://localhost:8080/"
        },
        "id": "5EL4QUYTTu_N",
        "outputId": "33e9e3f2-14f1-4d3a-e6c2-cea7989a2235"
      },
      "execution_count": 63,
      "outputs": [
        {
          "output_type": "execute_result",
          "data": {
            "text/plain": [
              "array([[ 6, 18],\n",
              "       [-5, -3]])"
            ]
          },
          "metadata": {},
          "execution_count": 63
        }
      ]
    },
    {
      "cell_type": "markdown",
      "source": [
        "Trzecia możliwość mnożenia macierzowego to symbol \"@\""
      ],
      "metadata": {
        "id": "blCuX0ExT2Bd"
      }
    },
    {
      "cell_type": "code",
      "source": [
        "X @ Y"
      ],
      "metadata": {
        "colab": {
          "base_uri": "https://localhost:8080/"
        },
        "id": "Zw9dLSHzT6-x",
        "outputId": "ea4407e4-2012-476c-dedc-e70f6109a2f6"
      },
      "execution_count": 64,
      "outputs": [
        {
          "output_type": "execute_result",
          "data": {
            "text/plain": [
              "array([[  3,   6],\n",
              "       [-12,   0]])"
            ]
          },
          "metadata": {},
          "execution_count": 64
        }
      ]
    },
    {
      "cell_type": "markdown",
      "source": [
        "###Liczby pseudolosowe###\n"
      ],
      "metadata": {
        "id": "LJukFBtogIj_"
      }
    },
    {
      "cell_type": "code",
      "source": [
        "np.random.seed(0)"
      ],
      "metadata": {
        "id": "ni20Nxu6gQA9"
      },
      "execution_count": null,
      "outputs": []
    },
    {
      "cell_type": "markdown",
      "source": [
        "Bez parametru to zwraca losową wartość z rozkładu normalnego\n",
        "Średnia 0\n",
        "odchylenie standardowe 1"
      ],
      "metadata": {
        "id": "BE8Q2Rx_gd-o"
      }
    },
    {
      "cell_type": "code",
      "source": [
        "np.random.randn()"
      ],
      "metadata": {
        "colab": {
          "base_uri": "https://localhost:8080/"
        },
        "id": "zyvrxJxKgXdC",
        "outputId": "2a01f8ed-4051-4a6c-eab7-bc7b7b3b5e7a"
      },
      "execution_count": 65,
      "outputs": [
        {
          "output_type": "execute_result",
          "data": {
            "text/plain": [
              "0.8681827216269559"
            ]
          },
          "metadata": {},
          "execution_count": 65
        }
      ]
    },
    {
      "cell_type": "code",
      "source": [
        "np.random.randn(10)"
      ],
      "metadata": {
        "colab": {
          "base_uri": "https://localhost:8080/"
        },
        "id": "4OS0LNtagy-S",
        "outputId": "d98d18dc-9a8a-4768-af3c-64a90c7a6971"
      },
      "execution_count": 66,
      "outputs": [
        {
          "output_type": "execute_result",
          "data": {
            "text/plain": [
              "array([ 0.74363342,  0.90315743,  0.58175172, -0.81764463,  0.01508818,\n",
              "       -0.60544498,  0.8021052 , -0.75589398,  0.69183262, -0.86134743])"
            ]
          },
          "metadata": {},
          "execution_count": 66
        }
      ]
    },
    {
      "cell_type": "markdown",
      "source": [
        "Tablica z rozkładu normalnego\n",
        "10 wierszy\n",
        "4 komumny"
      ],
      "metadata": {
        "id": "w7vQonPsg9Li"
      }
    },
    {
      "cell_type": "code",
      "source": [
        "np.random.randn(10, 4)"
      ],
      "metadata": {
        "colab": {
          "base_uri": "https://localhost:8080/"
        },
        "id": "1m1t31Pzg8sN",
        "outputId": "504a31fa-1624-4ee8-cc56-261a4d5e094b"
      },
      "execution_count": 67,
      "outputs": [
        {
          "output_type": "execute_result",
          "data": {
            "text/plain": [
              "array([[ 0.12908313, -0.71667958, -0.05062551, -0.03792195],\n",
              "       [ 0.11302714,  0.71765318, -0.4869216 ,  1.33228997],\n",
              "       [ 0.04146704, -1.11344932,  0.61009881,  0.11727958],\n",
              "       [ 0.1164376 , -0.24188647,  0.66226936, -0.0520144 ],\n",
              "       [-1.12676867, -0.49510848, -0.42920916,  0.01145625],\n",
              "       [-0.18396779, -0.74013315, -1.12058634, -0.9173355 ],\n",
              "       [-0.02470961, -1.77422233,  0.31713036,  0.6438324 ],\n",
              "       [-0.34215208, -2.14668787,  0.62957404,  0.02374507],\n",
              "       [ 2.09130006,  0.4574268 , -0.23647857, -1.40312672],\n",
              "       [ 0.24470908, -0.21088057, -0.08515287, -0.66936116]])"
            ]
          },
          "metadata": {},
          "execution_count": 67
        }
      ]
    },
    {
      "cell_type": "markdown",
      "source": [
        "Rozkład jednostajny na przedziale,\n",
        "wartość losowa 0-1"
      ],
      "metadata": {
        "id": "ZhXBTiS1h0ie"
      }
    },
    {
      "cell_type": "code",
      "source": [
        "np.random.rand()"
      ],
      "metadata": {
        "colab": {
          "base_uri": "https://localhost:8080/"
        },
        "id": "aDdDXFIQh9lW",
        "outputId": "fb37a664-2e9c-4348-a0b4-796836258f90"
      },
      "execution_count": 68,
      "outputs": [
        {
          "output_type": "execute_result",
          "data": {
            "text/plain": [
              "0.8918128244321337"
            ]
          },
          "metadata": {},
          "execution_count": 68
        }
      ]
    },
    {
      "cell_type": "code",
      "source": [
        "np.random.rand(10)"
      ],
      "metadata": {
        "colab": {
          "base_uri": "https://localhost:8080/"
        },
        "id": "aV5IO9wSiJ7L",
        "outputId": "1c09cb57-62c8-4e8d-c6cf-0144e86793e1"
      },
      "execution_count": 69,
      "outputs": [
        {
          "output_type": "execute_result",
          "data": {
            "text/plain": [
              "array([0.08612755, 0.16311117, 0.15350981, 0.37121847, 0.80128456,\n",
              "       0.94845389, 0.94991501, 0.64900212, 0.04151637, 0.55201301])"
            ]
          },
          "metadata": {},
          "execution_count": 69
        }
      ]
    },
    {
      "cell_type": "code",
      "source": [
        "np.random.rand(10,2)"
      ],
      "metadata": {
        "colab": {
          "base_uri": "https://localhost:8080/"
        },
        "id": "qsnSbimfiNOM",
        "outputId": "2a5d79c0-c585-49e7-ec20-8f757da95e7c"
      },
      "execution_count": 70,
      "outputs": [
        {
          "output_type": "execute_result",
          "data": {
            "text/plain": [
              "array([[0.63186663, 0.24824778],\n",
              "       [0.56339833, 0.90255472],\n",
              "       [0.69740824, 0.51309674],\n",
              "       [0.10394864, 0.69505495],\n",
              "       [0.15415192, 0.96768105],\n",
              "       [0.20630817, 0.67604744],\n",
              "       [0.5305353 , 0.75311728],\n",
              "       [0.6527443 , 0.2077649 ],\n",
              "       [0.90283562, 0.68167947],\n",
              "       [0.88182025, 0.12933729]])"
            ]
          },
          "metadata": {},
          "execution_count": 70
        }
      ]
    },
    {
      "cell_type": "markdown",
      "source": [
        "randint -> zwraca liczbę całkowitą"
      ],
      "metadata": {
        "id": "vEoxAxsUiU3e"
      }
    },
    {
      "cell_type": "code",
      "source": [
        "np.random.randint(10)"
      ],
      "metadata": {
        "colab": {
          "base_uri": "https://localhost:8080/"
        },
        "id": "TOPe-gXYiYcM",
        "outputId": "9ddc9f1f-f932-478d-dda4-38ca0aee8b9d"
      },
      "execution_count": 72,
      "outputs": [
        {
          "output_type": "execute_result",
          "data": {
            "text/plain": [
              "0"
            ]
          },
          "metadata": {},
          "execution_count": 72
        }
      ]
    },
    {
      "cell_type": "code",
      "source": [
        "np.random.randint(low =10 , high = 101)"
      ],
      "metadata": {
        "colab": {
          "base_uri": "https://localhost:8080/"
        },
        "id": "N21zHVmnih4S",
        "outputId": "cafdb6d7-3fe6-4df3-8771-0f803c40cfd3"
      },
      "execution_count": 74,
      "outputs": [
        {
          "output_type": "execute_result",
          "data": {
            "text/plain": [
              "75"
            ]
          },
          "metadata": {},
          "execution_count": 74
        }
      ]
    },
    {
      "cell_type": "code",
      "source": [
        "np.random.randint(low =10 , high = 101, size =3)"
      ],
      "metadata": {
        "colab": {
          "base_uri": "https://localhost:8080/"
        },
        "id": "o9qIXpXMiq1l",
        "outputId": "04f1b0e3-7df8-430b-f81c-84aa9759b4ad"
      },
      "execution_count": 75,
      "outputs": [
        {
          "output_type": "execute_result",
          "data": {
            "text/plain": [
              "array([87, 18, 54])"
            ]
          },
          "metadata": {},
          "execution_count": 75
        }
      ]
    },
    {
      "cell_type": "markdown",
      "source": [
        "choice -> losowo wybiera element z obiektu iterowalnego, który przekażemy"
      ],
      "metadata": {
        "id": "ssR7m-FkixdZ"
      }
    },
    {
      "cell_type": "code",
      "source": [
        "np.random.choice([1,80,468,65,32])"
      ],
      "metadata": {
        "colab": {
          "base_uri": "https://localhost:8080/"
        },
        "id": "RIERkbIri3ob",
        "outputId": "714ac696-1385-458e-c39b-6b133dc71d1c"
      },
      "execution_count": 76,
      "outputs": [
        {
          "output_type": "execute_result",
          "data": {
            "text/plain": [
              "65"
            ]
          },
          "metadata": {},
          "execution_count": 76
        }
      ]
    },
    {
      "cell_type": "code",
      "source": [
        "np.random.choice(['a','b','c'])"
      ],
      "metadata": {
        "colab": {
          "base_uri": "https://localhost:8080/",
          "height": 35
        },
        "id": "dKBu_c1pjKNl",
        "outputId": "230b144d-6383-47f1-f768-070a5f6cb051"
      },
      "execution_count": 78,
      "outputs": [
        {
          "output_type": "execute_result",
          "data": {
            "text/plain": [
              "'c'"
            ],
            "application/vnd.google.colaboratory.intrinsic+json": {
              "type": "string"
            }
          },
          "metadata": {},
          "execution_count": 78
        }
      ]
    },
    {
      "cell_type": "markdown",
      "source": [
        "shufle -> Tasowanie danych\n",
        "Zmiana zachodzi na obiekcie, nie trzeba specjalnie przypisywać"
      ],
      "metadata": {
        "id": "eIsPDR3jjW6Q"
      }
    },
    {
      "cell_type": "markdown",
      "source": [],
      "metadata": {
        "id": "GB75JFv5lpq_"
      }
    },
    {
      "cell_type": "code",
      "source": [
        "data = np.arange(10)\n",
        "data"
      ],
      "metadata": {
        "colab": {
          "base_uri": "https://localhost:8080/"
        },
        "id": "VabQEbz_jd85",
        "outputId": "62f3f12c-c7e6-4738-9740-8d5b9f86092e"
      },
      "execution_count": 79,
      "outputs": [
        {
          "output_type": "execute_result",
          "data": {
            "text/plain": [
              "array([0, 1, 2, 3, 4, 5, 6, 7, 8, 9])"
            ]
          },
          "metadata": {},
          "execution_count": 79
        }
      ]
    },
    {
      "cell_type": "code",
      "source": [
        "np.random.shuffle(data)\n",
        "data"
      ],
      "metadata": {
        "colab": {
          "base_uri": "https://localhost:8080/"
        },
        "id": "mp2dubcNjiGv",
        "outputId": "3fcb8026-570e-4594-93e2-f0231ef0e7a3"
      },
      "execution_count": 80,
      "outputs": [
        {
          "output_type": "execute_result",
          "data": {
            "text/plain": [
              "array([5, 1, 9, 4, 0, 2, 3, 6, 8, 7])"
            ]
          },
          "metadata": {},
          "execution_count": 80
        }
      ]
    },
    {
      "cell_type": "markdown",
      "source": [
        "###Podstawowe funkcje w bibliotece numpy###"
      ],
      "metadata": {
        "id": "YWlwZQDqlq5A"
      }
    },
    {
      "cell_type": "markdown",
      "source": [
        "exponent\n",
        "oblicza wartość funkcji wykładniczej e^x, gdzie e to podstawa logarytmu naturalnego, czyli około 2.71828\n",
        "\n",
        "Logarytm naturalny to logarytm o podstawie ee, gdzie ee jest liczbą Eulera, czyli około 2.71828. Logarytm naturalny liczby xx jest oznaczany jako ln⁡(x)ln(x) i definiowany jako taka liczba yy, dla której zachodzi równość:\n",
        "\n",
        "ey=xey=x\n",
        "\n",
        "Innymi słowy, logarytm naturalny odpowiada na pytanie: do jakiej potęgi trzeba podnieść liczbę ee, aby otrzymać xx?"
      ],
      "metadata": {
        "id": "GWE5ltT6mZyp"
      }
    },
    {
      "cell_type": "code",
      "source": [
        "np.exp(1)"
      ],
      "metadata": {
        "colab": {
          "base_uri": "https://localhost:8080/"
        },
        "id": "8_nHTeEbl0xI",
        "outputId": "704df95d-cb27-4b93-f959-4f669d56cd70"
      },
      "execution_count": 81,
      "outputs": [
        {
          "output_type": "execute_result",
          "data": {
            "text/plain": [
              "2.718281828459045"
            ]
          },
          "metadata": {},
          "execution_count": 81
        }
      ]
    },
    {
      "cell_type": "code",
      "source": [
        "np.exp(10)"
      ],
      "metadata": {
        "colab": {
          "base_uri": "https://localhost:8080/"
        },
        "id": "6X8bPhO-mCAp",
        "outputId": "0df408e3-704d-4001-9a64-e650a6239592"
      },
      "execution_count": 84,
      "outputs": [
        {
          "output_type": "execute_result",
          "data": {
            "text/plain": [
              "22026.465794806718"
            ]
          },
          "metadata": {},
          "execution_count": 84
        }
      ]
    }
  ]
}