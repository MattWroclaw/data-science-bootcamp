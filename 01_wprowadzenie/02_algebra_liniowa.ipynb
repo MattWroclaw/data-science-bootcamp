{
  "nbformat": 4,
  "nbformat_minor": 0,
  "metadata": {
    "colab": {
      "provenance": [],
      "authorship_tag": "ABX9TyM38iZw1zT5cq5SzxGmx2Nq",
      "include_colab_link": true
    },
    "kernelspec": {
      "name": "python3",
      "display_name": "Python 3"
    },
    "language_info": {
      "name": "python"
    }
  },
  "cells": [
    {
      "cell_type": "markdown",
      "metadata": {
        "id": "view-in-github",
        "colab_type": "text"
      },
      "source": [
        "<a href=\"https://colab.research.google.com/github/MattWroclaw/data-science-bootcamp/blob/main/01_wprowadzenie/02_algebra_liniowa.ipynb\" target=\"_parent\"><img src=\"https://colab.research.google.com/assets/colab-badge.svg\" alt=\"Open In Colab\"/></a>"
      ]
    },
    {
      "cell_type": "code",
      "execution_count": 3,
      "metadata": {
        "id": "nvcEv6s4g5Wt"
      },
      "outputs": [],
      "source": [
        "import numpy as np\n"
      ]
    },
    {
      "cell_type": "markdown",
      "source": [
        "###Norma wektora, długość wektora w  przestrzeni R2 (nasza płaszczyzna)\n",
        "\n",
        "Norma wektora to długość wektora, czyli pierwiastek z sumy kwadratów jego wpsółrzędnych"
      ],
      "metadata": {
        "id": "dRNFGkE9hUKk"
      }
    },
    {
      "cell_type": "code",
      "source": [
        "#  tworzenie wektorów w bibliotece numpy\n",
        "v1 = np.array([0,4])\n"
      ],
      "metadata": {
        "id": "Koiqrarv018y"
      },
      "execution_count": null,
      "outputs": []
    },
    {
      "cell_type": "code",
      "source": [
        "np.linalg.norm(v1)"
      ],
      "metadata": {
        "colab": {
          "base_uri": "https://localhost:8080/"
        },
        "id": "nDFXdtav1Epm",
        "outputId": "6c54339b-f921-4505-c172-8d7b06da7f7e"
      },
      "execution_count": null,
      "outputs": [
        {
          "output_type": "execute_result",
          "data": {
            "text/plain": [
              "4.0"
            ]
          },
          "metadata": {},
          "execution_count": 5
        }
      ]
    },
    {
      "cell_type": "code",
      "source": [
        "v2 = np.array([-3,30])\n",
        "np.linalg.norm(v2)"
      ],
      "metadata": {
        "colab": {
          "base_uri": "https://localhost:8080/"
        },
        "id": "uU6p4yGW1UDF",
        "outputId": "28cacfb3-6416-4b2d-d8d1-9064266e401c"
      },
      "execution_count": null,
      "outputs": [
        {
          "output_type": "execute_result",
          "data": {
            "text/plain": [
              "30.14962686336267"
            ]
          },
          "metadata": {},
          "execution_count": 6
        }
      ]
    },
    {
      "cell_type": "markdown",
      "source": [
        "Gdy jest więcej współrzędnych (Rn) to jest pierwiastek z sumy kwadratów wszystkich współrzędnych"
      ],
      "metadata": {
        "id": "TLnO6nNq1oNQ"
      }
    },
    {
      "cell_type": "code",
      "source": [
        "v2 = np.array([-10,10,13])\n",
        "np.linalg.norm(v2)"
      ],
      "metadata": {
        "colab": {
          "base_uri": "https://localhost:8080/"
        },
        "id": "Rhqv4hT02Aat",
        "outputId": "c2e6a1ed-4ffb-473a-f431-10d3f4035709"
      },
      "execution_count": null,
      "outputs": [
        {
          "output_type": "execute_result",
          "data": {
            "text/plain": [
              "19.209372712298546"
            ]
          },
          "metadata": {},
          "execution_count": 7
        }
      ]
    },
    {
      "cell_type": "markdown",
      "source": [
        "###Odległość dwóch punktów na płaszczyźnie\n",
        "\n",
        "Jest to pierwiastek z sumy kwadratów różnic współrzędnych (początku i końca) wektora"
      ],
      "metadata": {
        "id": "FT0FMhbv2e3C"
      }
    },
    {
      "cell_type": "code",
      "source": [
        "# mamy 2 punkty p i q\n",
        "p = np.array([3,0])\n",
        "q = np.array([0,4])\n",
        "\n",
        "\n",
        "# liczymy odległość między tymi punktami\n",
        "odl1 = np.linalg.norm(p-q)\n",
        "odl1\n",
        "odl2 = np.linalg.norm(q-p)\n",
        "odl2"
      ],
      "metadata": {
        "colab": {
          "base_uri": "https://localhost:8080/"
        },
        "id": "dtFabCB625zR",
        "outputId": "c479f676-e230-4d8b-8926-34fef0020b7a"
      },
      "execution_count": null,
      "outputs": [
        {
          "output_type": "execute_result",
          "data": {
            "text/plain": [
              "5.0"
            ]
          },
          "metadata": {},
          "execution_count": 10
        }
      ]
    },
    {
      "cell_type": "code",
      "source": [
        "# mamy 2 punkty p i q w przestrzeni R3\n",
        "p = np.array([3,0, 1])\n",
        "q = np.array([0,4 , 4])\n",
        "\n",
        "np.linalg.norm(p-q)"
      ],
      "metadata": {
        "colab": {
          "base_uri": "https://localhost:8080/"
        },
        "id": "_REopOd-38ku",
        "outputId": "29628496-a802-469c-d31e-add863920f3b"
      },
      "execution_count": null,
      "outputs": [
        {
          "output_type": "execute_result",
          "data": {
            "text/plain": [
              "5.830951894845301"
            ]
          },
          "metadata": {},
          "execution_count": 11
        }
      ]
    },
    {
      "cell_type": "markdown",
      "source": [
        "###Mnożenie macierzy\n",
        "\n",
        "Macierz A\n",
        "m - wierszy\n",
        "n - kolumn\n",
        "\n",
        "Macierz B\n",
        "n - wierszy\n",
        "p - kolumn\n",
        "\n",
        "\n",
        "Wspólny musi być parametr, że kolumny w A to tyle co wiersze w B\n",
        "\n",
        "Liczba kolumn w Lewej macierzy = liczba wierszy w Prawej macierzy\n",
        "\n",
        "NIe jest przemienne\n",
        "\n",
        "X = \\\n",
        "|5,3|\\\n",
        "|3,9|\n",
        "\n",
        "Y=\\\n",
        "| 1|\\\n",
        "|-1|\n",
        "\n",
        "wynik będzie\n",
        "|q|\\\n",
        "|w|\n",
        "\n",
        "q = 5*1 + 3*(-1) =2\\\n",
        "w = 3*1 + 9*(-1) =-6\n",
        "\n",
        "X*Y=\\\n",
        "| 2|\\\n",
        "|-6|\n",
        "\n",
        "\n",
        "\n"
      ],
      "metadata": {
        "id": "NVJ4aZap4SHm"
      }
    },
    {
      "cell_type": "code",
      "source": [
        "X =  np.array([[5,3], [3,9]])\n",
        "Y = np.array([[1] , [-1]])\n",
        "\n",
        "print(X, '\\n')\n",
        "print(Y)"
      ],
      "metadata": {
        "colab": {
          "base_uri": "https://localhost:8080/"
        },
        "id": "tCfBIOU_6o2w",
        "outputId": "b467b77d-9048-4382-9ef9-5f14a645f791"
      },
      "execution_count": null,
      "outputs": [
        {
          "output_type": "stream",
          "name": "stdout",
          "text": [
            "[[5 3]\n",
            " [3 9]] \n",
            "\n",
            "[[ 1]\n",
            " [-1]]\n"
          ]
        }
      ]
    },
    {
      "cell_type": "code",
      "source": [
        "# mnożenie macierzy .dot()\n",
        "\n",
        "Z = np.dot(X,Y)\n",
        "Z"
      ],
      "metadata": {
        "colab": {
          "base_uri": "https://localhost:8080/"
        },
        "id": "A14BLzkR7cnA",
        "outputId": "86c16c38-175c-403c-a43a-d91dd0a45cff"
      },
      "execution_count": null,
      "outputs": [
        {
          "output_type": "execute_result",
          "data": {
            "text/plain": [
              "array([[ 2],\n",
              "       [-6]])"
            ]
          },
          "metadata": {},
          "execution_count": 18
        }
      ]
    },
    {
      "cell_type": "code",
      "source": [
        "Z.shape"
      ],
      "metadata": {
        "colab": {
          "base_uri": "https://localhost:8080/"
        },
        "id": "q6im8pil7vL1",
        "outputId": "6e6818bc-472c-4b56-de88-2d5ea001d525"
      },
      "execution_count": null,
      "outputs": [
        {
          "output_type": "execute_result",
          "data": {
            "text/plain": [
              "(2, 1)"
            ]
          },
          "metadata": {},
          "execution_count": 19
        }
      ]
    },
    {
      "cell_type": "markdown",
      "source": [
        "Mnożenie wiekszych macierzy\n",
        "2x3\n",
        "3x3\n",
        "\n",
        "2 -1  3\\\n",
        "3  1  0\n",
        "\n",
        "\n",
        "2  1  -1\\\n",
        "0 -1   2\\\n",
        "3  2   0\n",
        "\n",
        "Wynik: \\\n",
        "q,w,e \\\n",
        "a,s,d\n",
        "\n",
        "\n",
        "Można, bo liczba kolumn macierzy pierwszej = liczbie kolum macierzy w durgiej\n",
        "\n",
        "Wiersze z lewej x Kolumny z prawej\n"
      ],
      "metadata": {
        "id": "TSXLA67-8LvT"
      }
    },
    {
      "cell_type": "code",
      "source": [
        "X = np.array([[2,-1,3], [3,1,0]])\n",
        "Y = np.array([[2,1,-1], [0,-1,2], [3,2,0]])\n",
        "print(X, '\\n')\n",
        "print(Y)"
      ],
      "metadata": {
        "colab": {
          "base_uri": "https://localhost:8080/"
        },
        "id": "hUwrXvi0-juD",
        "outputId": "ff1a4391-a3ca-4c94-a597-05f3d3564298"
      },
      "execution_count": null,
      "outputs": [
        {
          "output_type": "stream",
          "name": "stdout",
          "text": [
            "[[ 2 -1  3]\n",
            " [ 3  1  0]] \n",
            "\n",
            "[[ 2  1 -1]\n",
            " [ 0 -1  2]\n",
            " [ 3  2  0]]\n"
          ]
        }
      ]
    },
    {
      "cell_type": "markdown",
      "source": [
        "Rozmiar można oszacować: tyle i wierszy w 1 macierzy\n",
        "tyle kolumn co w 2 macierzy"
      ],
      "metadata": {
        "id": "fWmBtDUV_HmS"
      }
    },
    {
      "cell_type": "code",
      "source": [
        "np.dot(X,Y )"
      ],
      "metadata": {
        "colab": {
          "base_uri": "https://localhost:8080/"
        },
        "id": "aMJzoYNh-2F-",
        "outputId": "f5eae846-53f2-4c9f-a86f-ca879f1c68b1"
      },
      "execution_count": null,
      "outputs": [
        {
          "output_type": "execute_result",
          "data": {
            "text/plain": [
              "array([[13,  9, -4],\n",
              "       [ 6,  2, -1]])"
            ]
          },
          "metadata": {},
          "execution_count": 21
        }
      ]
    },
    {
      "cell_type": "markdown",
      "source": [
        "###Wyznacznik macierzy\n",
        "\n",
        "Macierz ma tyle samo kolumn co wierszy,\n",
        "jest n x n\n",
        "\n",
        "|A|  <-- oznaczenie wyznacznika macierzy\n",
        "det A <-- oznaczenie wyznacznika macierzy\n",
        "\n",
        "\n",
        "det A =\n",
        "1 2  \n",
        "3 4\n",
        "\n",
        "= 1*4  - 2*3\n",
        "\n",
        "\n",
        "2. Macierz 3x3\n",
        "\n",
        "Dla macierzy 3x3\n",
        "A=(abcdefghi)\n",
        "A=\n",
        "​adg​beh​cfi​\n",
        "​\n",
        "\n",
        "Wyznacznik det⁡(A)det(A) można obliczyć używając rozwinięcia Laplace’a:\n",
        "det⁡(A)=aei+bfg+cdh−ceg−bdi−afh\n",
        "det(A)=aei+bfg+cdh−ceg−bdi−afh\n",
        "\n"
      ],
      "metadata": {
        "id": "_UygDG_3lHcJ"
      }
    },
    {
      "cell_type": "code",
      "source": [
        "A = np.array([[2,4], [-1,3]])\n",
        "np.linalg.det(A)"
      ],
      "metadata": {
        "colab": {
          "base_uri": "https://localhost:8080/"
        },
        "id": "KoamNCbpoSBK",
        "outputId": "0c24980c-9543-492e-a411-9f4bcec9c31f"
      },
      "execution_count": null,
      "outputs": [
        {
          "output_type": "execute_result",
          "data": {
            "text/plain": [
              "9.999999999999998"
            ]
          },
          "metadata": {},
          "execution_count": 5
        }
      ]
    },
    {
      "cell_type": "markdown",
      "source": [
        "### Ślad macierzy\n",
        "\n",
        "Macierz musi być kwadratowa.\n",
        "Jest to suma elementó na przekątnej (lewy górny róg --> prawy dolny róg)"
      ],
      "metadata": {
        "id": "9o_MGVtKopx2"
      }
    },
    {
      "cell_type": "code",
      "source": [
        "A = np.array([[2,4], [-1,3]])\n",
        "np.trace(A)"
      ],
      "metadata": {
        "colab": {
          "base_uri": "https://localhost:8080/"
        },
        "id": "wOHRQnBTpATB",
        "outputId": "89e32ad5-a2c2-48b7-93c7-23e12479d3c5"
      },
      "execution_count": null,
      "outputs": [
        {
          "output_type": "execute_result",
          "data": {
            "text/plain": [
              "5"
            ]
          },
          "metadata": {},
          "execution_count": 7
        }
      ]
    },
    {
      "cell_type": "markdown",
      "source": [
        "### Macierz jednostokowa\n",
        "\n",
        "Macierz kwadratowa;\n",
        "wartości na przekątnej muszą =1\n",
        "\n",
        "Lewy górny -> prawy dolny\n",
        "\n",
        "Do generowania służy .eye(rozmiar, typ)\n",
        "\n",
        "Domyślnie typ jest float"
      ],
      "metadata": {
        "id": "YVVxotpopNNy"
      }
    },
    {
      "cell_type": "code",
      "source": [
        "np.eye(5 , dtype='int')"
      ],
      "metadata": {
        "colab": {
          "base_uri": "https://localhost:8080/"
        },
        "id": "h-1DHzM1pv5a",
        "outputId": "27a409a1-192a-430d-a48f-19753dcb23a3"
      },
      "execution_count": null,
      "outputs": [
        {
          "output_type": "execute_result",
          "data": {
            "text/plain": [
              "array([[1, 0, 0, 0, 0],\n",
              "       [0, 1, 0, 0, 0],\n",
              "       [0, 0, 1, 0, 0],\n",
              "       [0, 0, 0, 1, 0],\n",
              "       [0, 0, 0, 0, 1]])"
            ]
          },
          "metadata": {},
          "execution_count": 8
        }
      ]
    },
    {
      "cell_type": "code",
      "source": [
        "np.eye(3)"
      ],
      "metadata": {
        "colab": {
          "base_uri": "https://localhost:8080/"
        },
        "id": "yLL2S6jCp84z",
        "outputId": "ac197d7b-9c3e-48f4-c40f-716bbc02fb99"
      },
      "execution_count": null,
      "outputs": [
        {
          "output_type": "execute_result",
          "data": {
            "text/plain": [
              "array([[1., 0., 0.],\n",
              "       [0., 1., 0.],\n",
              "       [0., 0., 1.]])"
            ]
          },
          "metadata": {},
          "execution_count": 9
        }
      ]
    },
    {
      "cell_type": "markdown",
      "source": [
        "### Macierz odwrotna\n",
        "\n",
        "Tylko macierz kwadratowa może mieć macież odwrotną.\n",
        "\n",
        "A- macierz kwadratowa stopnia n. Macierz posiada macierz odwrotną gdy instniej macierz B taka że\n",
        "\n",
        "AB=BA=I (I - macierz jednostkowa)\n",
        "\n",
        "Macierz B nazywamy macierzą odwrotną.\n"
      ],
      "metadata": {
        "id": "VViyBHtwqEAr"
      }
    },
    {
      "cell_type": "code",
      "source": [
        "A"
      ],
      "metadata": {
        "colab": {
          "base_uri": "https://localhost:8080/"
        },
        "id": "o_m9etHTqz0l",
        "outputId": "8cc9e82f-1c90-48f9-c8b3-e3b34df86aca"
      },
      "execution_count": null,
      "outputs": [
        {
          "output_type": "execute_result",
          "data": {
            "text/plain": [
              "array([[ 2,  4],\n",
              "       [-1,  3]])"
            ]
          },
          "metadata": {},
          "execution_count": 10
        }
      ]
    },
    {
      "cell_type": "code",
      "source": [
        "B = np.linalg.inv(A)\n",
        "B"
      ],
      "metadata": {
        "colab": {
          "base_uri": "https://localhost:8080/"
        },
        "id": "JtMT1FHvq4a-",
        "outputId": "5383396f-168b-4b51-a93a-992c4c906330"
      },
      "execution_count": null,
      "outputs": [
        {
          "output_type": "execute_result",
          "data": {
            "text/plain": [
              "array([[ 0.3, -0.4],\n",
              "       [ 0.1,  0.2]])"
            ]
          },
          "metadata": {},
          "execution_count": 11
        }
      ]
    },
    {
      "cell_type": "code",
      "source": [
        "# Sprawdzenie: pomnożenie A*B powinno dać macierz jednostkową\n",
        "np.dot(A,B)"
      ],
      "metadata": {
        "colab": {
          "base_uri": "https://localhost:8080/"
        },
        "id": "Vx6ro5lzrB2t",
        "outputId": "ad0dfc3d-0880-4593-9336-8a5d1b34ef47"
      },
      "execution_count": null,
      "outputs": [
        {
          "output_type": "execute_result",
          "data": {
            "text/plain": [
              "array([[1.00000000e+00, 0.00000000e+00],\n",
              "       [2.77555756e-17, 1.00000000e+00]])"
            ]
          },
          "metadata": {},
          "execution_count": 12
        }
      ]
    },
    {
      "cell_type": "code",
      "source": [
        "np.set_printoptions(precision=4, suppress=True)\n",
        "np.dot(A,B)"
      ],
      "metadata": {
        "colab": {
          "base_uri": "https://localhost:8080/"
        },
        "id": "Ol5GE5B7rSCD",
        "outputId": "56b4f402-2658-4f04-b064-09de026f24f0"
      },
      "execution_count": null,
      "outputs": [
        {
          "output_type": "execute_result",
          "data": {
            "text/plain": [
              "array([[1., 0.],\n",
              "       [0., 1.]])"
            ]
          },
          "metadata": {},
          "execution_count": 13
        }
      ]
    },
    {
      "cell_type": "code",
      "source": [
        "# sprawdzamy drugi warunek, czyli BA\n",
        "\n",
        "np.dot(B,A)"
      ],
      "metadata": {
        "colab": {
          "base_uri": "https://localhost:8080/"
        },
        "id": "aZBaPvrcrgyh",
        "outputId": "96c13586-3407-44bc-9619-9e984052f948"
      },
      "execution_count": null,
      "outputs": [
        {
          "output_type": "execute_result",
          "data": {
            "text/plain": [
              "array([[ 1., -0.],\n",
              "       [ 0.,  1.]])"
            ]
          },
          "metadata": {},
          "execution_count": 14
        }
      ]
    },
    {
      "cell_type": "markdown",
      "source": [
        "### Macierz transponowana\n",
        "\n",
        "Zamiana wierszy na kolumny i kolumn na wiersze"
      ],
      "metadata": {
        "id": "iWlxs6RTsb3d"
      }
    },
    {
      "cell_type": "code",
      "source": [
        "A"
      ],
      "metadata": {
        "colab": {
          "base_uri": "https://localhost:8080/"
        },
        "id": "gl6rbXYtszcE",
        "outputId": "cfb584d1-a3c5-436f-f6a8-06dc68f7f2c7"
      },
      "execution_count": null,
      "outputs": [
        {
          "output_type": "execute_result",
          "data": {
            "text/plain": [
              "array([[ 2,  4],\n",
              "       [-1,  3]])"
            ]
          },
          "metadata": {},
          "execution_count": 15
        }
      ]
    },
    {
      "cell_type": "code",
      "source": [
        "np.transpose(A)"
      ],
      "metadata": {
        "colab": {
          "base_uri": "https://localhost:8080/"
        },
        "id": "hLC2nERcs15J",
        "outputId": "136f067b-4c2c-47bc-f298-0c579730c17f"
      },
      "execution_count": null,
      "outputs": [
        {
          "output_type": "execute_result",
          "data": {
            "text/plain": [
              "array([[ 2, -1],\n",
              "       [ 4,  3]])"
            ]
          },
          "metadata": {},
          "execution_count": 16
        }
      ]
    },
    {
      "cell_type": "code",
      "source": [
        "A.T"
      ],
      "metadata": {
        "id": "AlOStKJFs7Qw",
        "outputId": "e001dce6-b98f-4419-cedd-47c0ed713f38",
        "colab": {
          "base_uri": "https://localhost:8080/"
        }
      },
      "execution_count": null,
      "outputs": [
        {
          "output_type": "execute_result",
          "data": {
            "text/plain": [
              "array([[ 2, -1],\n",
              "       [ 4,  3]])"
            ]
          },
          "metadata": {},
          "execution_count": 17
        }
      ]
    },
    {
      "cell_type": "markdown",
      "source": [
        "###Rozwiązywanie układów równań\n",
        "\n",
        "Mamy układ równań\n",
        "a11 x1 + a12 x2 + ... + a1n xn = b1 \\\n",
        "a21 x1 + a22 x2 + ... + a2x xn = b2 \\\n",
        "...\n",
        "am1 x1 + am2 x2 + ... + amn xn = bn\n",
        "\n",
        "rozdzialamy to równanie na\n",
        "* macierz współczynników\n",
        "* macierz niewiadomych\n",
        "* wektor wyrazów wolnych\n",
        "\n",
        "zapisujemy to AX = B\n",
        "\n",
        "Jeśli macierz układu A jest macierzą kwadratową to oznaczalność układu jest równoważna jej odwracalności, \\\n",
        " AX=B \\\n",
        "A^-1 AX = A^-1B \\\n",
        "X = A^-1B \\\n",
        "\n",
        "\n",
        "Należy znaleźć macierz odwrotną do macierzy współczynników i pomnożyć ją przez wektor wyrazów wolnych."
      ],
      "metadata": {
        "id": "UUuMHYidqboi"
      }
    },
    {
      "cell_type": "code",
      "source": [
        "#  2x + 4y = 10\n",
        "#  x - y = -1\n",
        "\n",
        "# x=1, y=2\n",
        "A = np.array([[2,4], [1,-1]]) #macierz współczynników\n",
        "B = np.array([[10], [-1]]) # wektor wyrazów wolnych\n",
        "print(A, '\\n')\n",
        "print(B)\n"
      ],
      "metadata": {
        "colab": {
          "base_uri": "https://localhost:8080/"
        },
        "id": "2SrAF5sewZHl",
        "outputId": "3243bc51-5c6d-46eb-9e89-e0ff42297cd7"
      },
      "execution_count": 4,
      "outputs": [
        {
          "output_type": "stream",
          "name": "stdout",
          "text": [
            "[[ 2  4]\n",
            " [ 1 -1]] \n",
            "\n",
            "[[10]\n",
            " [-1]]\n"
          ]
        }
      ]
    },
    {
      "cell_type": "code",
      "source": [
        "#  obliczanie macierzy odwrotnej do A\n",
        "A_iverse = np.linalg.inv(A)\n",
        "A_iverse"
      ],
      "metadata": {
        "colab": {
          "base_uri": "https://localhost:8080/"
        },
        "id": "_uAtnleTwpu1",
        "outputId": "378b9b62-3e5b-4a1c-8e84-6105d9f8aa28"
      },
      "execution_count": 5,
      "outputs": [
        {
          "output_type": "execute_result",
          "data": {
            "text/plain": [
              "array([[ 0.16666667,  0.66666667],\n",
              "       [ 0.16666667, -0.33333333]])"
            ]
          },
          "metadata": {},
          "execution_count": 5
        }
      ]
    },
    {
      "cell_type": "code",
      "source": [
        "X  = np.dot(A_iverse, B)\n",
        "X"
      ],
      "metadata": {
        "colab": {
          "base_uri": "https://localhost:8080/"
        },
        "id": "8wwSLZH_xQsi",
        "outputId": "d4d80282-6b9c-4183-afc9-4b19adf61e81"
      },
      "execution_count": 6,
      "outputs": [
        {
          "output_type": "execute_result",
          "data": {
            "text/plain": [
              "array([[1.],\n",
              "       [2.]])"
            ]
          },
          "metadata": {},
          "execution_count": 6
        }
      ]
    }
  ]
}