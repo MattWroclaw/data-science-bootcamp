{
  "nbformat": 4,
  "nbformat_minor": 0,
  "metadata": {
    "colab": {
      "provenance": [],
      "authorship_tag": "ABX9TyNtk3CDl7rObgAXDerE89vt",
      "include_colab_link": true
    },
    "kernelspec": {
      "name": "python3",
      "display_name": "Python 3"
    },
    "language_info": {
      "name": "python"
    }
  },
  "cells": [
    {
      "cell_type": "markdown",
      "metadata": {
        "id": "view-in-github",
        "colab_type": "text"
      },
      "source": [
        "<a href=\"https://colab.research.google.com/github/MattWroclaw/data-science-bootcamp/blob/main/template.ipynb\" target=\"_parent\"><img src=\"https://colab.research.google.com/assets/colab-badge.svg\" alt=\"Open In Colab\"/></a>"
      ]
    },
    {
      "cell_type": "code",
      "execution_count": null,
      "metadata": {
        "id": "Ue3PLGWLDWk5",
        "outputId": "f0a53d69-351b-4077-80d1-3f4e0691dd32",
        "colab": {
          "base_uri": "https://localhost:8080/"
        }
      },
      "outputs": [
        {
          "output_type": "stream",
          "name": "stdout",
          "text": [
            "Hello wroclaw\n"
          ]
        }
      ],
      "source": [
        "print('Hello wroclaw')"
      ]
    },
    {
      "cell_type": "code",
      "source": [
        "print('hello Wroclaw!')"
      ],
      "metadata": {
        "id": "-sDYo59HDZ7a",
        "colab": {
          "base_uri": "https://localhost:8080/"
        },
        "outputId": "a33952a3-d3fa-4da2-e85f-05aa1e1b8460"
      },
      "execution_count": 2,
      "outputs": [
        {
          "output_type": "stream",
          "name": "stdout",
          "text": [
            "hello Wroclaw!\n"
          ]
        }
      ]
    },
    {
      "cell_type": "code",
      "source": [],
      "metadata": {
        "id": "zfvKgExjHY8E"
      },
      "execution_count": null,
      "outputs": []
    }
  ]
}