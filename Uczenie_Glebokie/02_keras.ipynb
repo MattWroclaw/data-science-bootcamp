{
  "nbformat": 4,
  "nbformat_minor": 0,
  "metadata": {
    "colab": {
      "provenance": [],
      "authorship_tag": "ABX9TyOid+TzZ0Ne7qRAlroLQUyZ",
      "include_colab_link": true
    },
    "kernelspec": {
      "name": "python3",
      "display_name": "Python 3"
    },
    "language_info": {
      "name": "python"
    }
  },
  "cells": [
    {
      "cell_type": "markdown",
      "metadata": {
        "id": "view-in-github",
        "colab_type": "text"
      },
      "source": [
        "<a href=\"https://colab.research.google.com/github/MattWroclaw/data-science-bootcamp/blob/main/Uczenie_Glebokie/02_keras.ipynb\" target=\"_parent\"><img src=\"https://colab.research.google.com/assets/colab-badge.svg\" alt=\"Open In Colab\"/></a>"
      ]
    },
    {
      "cell_type": "markdown",
      "source": [
        "### Tensorflow\n",
        ">Strona biblioteki: [https://www.tensorflow.org/](https://www.tensorflow.org/)  \n",
        ">Dokumentacja: [https://www.tensorflow.org/api_docs](https://www.tensorflow.org/api_docs)  \n",
        ">\n",
        ">Szybko rozwijająca się biblioteka do uczenia maszynowego i uczenia głębokiego rozwijana przez Google.\n",
        ">\n",
        ">Aby zainstalować bibliotekę tensorflow, użyj polecenia poniżej:\n",
        "```\n",
        "pip install tensorflow\n",
        "```\n",
        "\n",
        "### Keras\n",
        ">Strona biblioteki: [https://keras.io/](https://keras.io/)  \n",
        ">\n",
        ">Wysokopoziomowy interfejs do budowy sieci neuronowych. Działa zarówno na Tensorflow, Theano oraz CNTK.\n",
        ">\n",
        ">Aby zainstalować bibliotekę keras, użyj polecenia poniżej:\n",
        "```\n",
        "pip install keras\n",
        "```"
      ],
      "metadata": {
        "id": "y5qtzyySvHq4"
      }
    },
    {
      "cell_type": "markdown",
      "source": [
        "### Model sekwencjny (Sequential Model):\n",
        "1. [Wprowadzenie - pierwszy model](#a0)\n",
        "2. [Funkcje aktywacji](#a1)\n",
        "3. [Kompilacja modelu](#a2)\n",
        "4. [Trenowanie modelu](#a3)\n",
        "5. [Przykład - klasyfikacja binarna](#a4)\n",
        "6. [Przykład - klasyfikacja wieloklasowa](#a5)\n",
        "7. [Przykład - regresja](#a6)\n",
        "\n",
        "\n",
        "\n",
        "Załadowanie biblioteki tensorflow\n"
      ],
      "metadata": {
        "id": "LdJK7itXvLRG"
      }
    },
    {
      "cell_type": "code",
      "execution_count": 1,
      "metadata": {
        "colab": {
          "base_uri": "https://localhost:8080/",
          "height": 52
        },
        "id": "FT_W2IltvDJe",
        "outputId": "47a7a8de-a78d-4243-f3b5-6229a91f433c"
      },
      "outputs": [
        {
          "output_type": "stream",
          "name": "stdout",
          "text": [
            "Colab only includes TensorFlow 2.x; %tensorflow_version has no effect.\n"
          ]
        },
        {
          "output_type": "execute_result",
          "data": {
            "text/plain": [
              "'2.17.0'"
            ],
            "application/vnd.google.colaboratory.intrinsic+json": {
              "type": "string"
            }
          },
          "metadata": {},
          "execution_count": 1
        }
      ],
      "source": [
        "%tensorflow_version 2.x\n",
        "import tensorflow as tf\n",
        "import numpy as np\n",
        "import pandas as pd\n",
        "import plotly.express as px\n",
        "tf.__version__"
      ]
    },
    {
      "cell_type": "markdown",
      "source": [
        "### <a name='a0'></a>Wprowadzenie - pierwszy model\n",
        "Model sekwencyjny to nic innego jak liniowy stos warstw.\n"
      ],
      "metadata": {
        "id": "LTfBiUa5vUBV"
      }
    },
    {
      "cell_type": "code",
      "source": [
        "# utworzenie instancji klasy Sequential\n",
        "from tensorflow.keras.models import Sequential\n",
        "\n",
        "model = Sequential()\n",
        "print(model)"
      ],
      "metadata": {
        "colab": {
          "base_uri": "https://localhost:8080/"
        },
        "id": "UmqnUiYmvP5Q",
        "outputId": "36fb8781-bc3b-41eb-cca6-a5ddd348384d"
      },
      "execution_count": 2,
      "outputs": [
        {
          "output_type": "stream",
          "name": "stdout",
          "text": [
            "<Sequential name=sequential, built=False>\n"
          ]
        }
      ]
    },
    {
      "cell_type": "markdown",
      "source": [
        "Podstawowym elementem składowym modelu są warstwy. Aby dodać najbardziej standardową warstwę - warstwę gęsto połączoną należy użyć warstwy **Dense**. Aby dodać warstwę do modelu należy użyć metody *.add()*"
      ],
      "metadata": {
        "id": "nHIvhl2Nveqw"
      }
    },
    {
      "cell_type": "code",
      "source": [
        "from tensorflow.keras.layers import Dense\n",
        "\n",
        "model.add(Dense(units=4, input_shape=(10,)))"
      ],
      "metadata": {
        "colab": {
          "base_uri": "https://localhost:8080/"
        },
        "id": "av39TW1ovayG",
        "outputId": "9e4f9766-374b-4412-c1bd-4daca9733854"
      },
      "execution_count": 3,
      "outputs": [
        {
          "output_type": "stream",
          "name": "stderr",
          "text": [
            "/usr/local/lib/python3.10/dist-packages/keras/src/layers/core/dense.py:87: UserWarning: Do not pass an `input_shape`/`input_dim` argument to a layer. When using Sequential models, prefer using an `Input(shape)` object as the first layer in the model instead.\n",
            "  super().__init__(activity_regularizer=activity_regularizer, **kwargs)\n"
          ]
        }
      ]
    },
    {
      "cell_type": "markdown",
      "source": [
        "Wyświetlenie podsumowania modelu: metoda *.summary()*"
      ],
      "metadata": {
        "id": "C_Gw6xC4voTo"
      }
    },
    {
      "cell_type": "markdown",
      "source": [
        "Kod ten definiuje warstwę w sieci neuronowej z wykorzystaniem biblioteki Keras w TensorFlow. Oto jego szczegóły:\n",
        "\n",
        "### Składnia:\n",
        "```python\n",
        "from tensorflow.keras.layers import Dense\n",
        "\n",
        "model.add(Dense(units=4, input_shape=(10,)))\n",
        "```\n",
        "\n",
        "### Wyjaśnienie:\n",
        "1. **`Dense`**:\n",
        "   - **`Dense`** to rodzaj w pełni połączonej (fully connected) warstwy w sieciach neuronowych. Oznacza to, że każdy neuron w tej warstwie jest połączony z każdym neuronem w poprzedniej warstwie.\n",
        "   - W pełni połączona warstwa oblicza liniową kombinację wartości wejściowych, a następnie stosuje funkcję aktywacji (domyślnie, jest to `linear`, ale można ustawić inną funkcję aktywacji jak np. `relu`).\n",
        "\n",
        "2. **Parametry `Dense`**:\n",
        "   - **`units=4`**:\n",
        "     - Określa liczbę neuronów w tej warstwie. W tym przypadku warstwa ma 4 neurony.\n",
        "     - Każdy neuron w tej warstwie otrzyma połączenie z każdym z neuronów z poprzedniej warstwy.\n",
        "   \n",
        "   - **`input_shape=(10,)`**:\n",
        "     - Określa kształt danych wejściowych do sieci. W tym przypadku, każdy przykładowy wektor danych wejściowych ma 10 cech (wartości).\n",
        "     - `input_shape=(10,)` oznacza, że na wejście tej warstwy trafia 10-wymiarowy wektor (tablica liczb o długości 10).\n",
        "     - To jest wymagane tylko dla pierwszej warstwy w modelu, ponieważ kolejne warstwy automatycznie określą kształt danych wejściowych na podstawie poprzednich warstw.\n",
        "\n",
        "### Przykład działania:\n",
        "Załóżmy, że dane wejściowe do sieci to wektor o 10 elementach, np. `[x1, x2, ..., x10]`. Każdy z tych elementów jest połączony z każdym z 4 neuronów w warstwie. Każdy neuron oblicza liniową kombinację tych 10 wejść i na tej podstawie generuje wynik, który może zostać poddany funkcji aktywacji.\n",
        "\n",
        "### Działanie krok po kroku:\n",
        "1. **Dane wejściowe** mają kształt `(10,)`, co oznacza, że każdy przykład składa się z wektora o 10 liczbach.\n",
        "2. **Warstwa `Dense`** ma 4 neurony. Każdy z tych neuronów połączy się z każdym z 10 wejściowych neuronów, co oznacza, że będzie 40 wag (10 wejść × 4 neurony).\n",
        "3. Wynikiem działania tej warstwy będzie wektor wyjściowy o rozmiarze 4, który zostanie przekazany do kolejnej warstwy sieci lub jako wyjście modelu (jeśli to ostatnia warstwa).\n",
        "\n",
        "W ten sposób, ten fragment kodu definiuje prostą w pełni połączoną warstwę z 4 neuronami, która przyjmuje dane wejściowe w postaci wektora o 10 elementach."
      ],
      "metadata": {
        "id": "YuT2mVoowSFA"
      }
    },
    {
      "cell_type": "code",
      "source": [
        "model.summary()"
      ],
      "metadata": {
        "colab": {
          "base_uri": "https://localhost:8080/",
          "height": 178
        },
        "id": "SGEhdl5Svm1f",
        "outputId": "a81841ac-1729-47b1-aae8-3ea01d787ccb"
      },
      "execution_count": 4,
      "outputs": [
        {
          "output_type": "display_data",
          "data": {
            "text/plain": [
              "\u001b[1mModel: \"sequential\"\u001b[0m\n"
            ],
            "text/html": [
              "<pre style=\"white-space:pre;overflow-x:auto;line-height:normal;font-family:Menlo,'DejaVu Sans Mono',consolas,'Courier New',monospace\"><span style=\"font-weight: bold\">Model: \"sequential\"</span>\n",
              "</pre>\n"
            ]
          },
          "metadata": {}
        },
        {
          "output_type": "display_data",
          "data": {
            "text/plain": [
              "┏━━━━━━━━━━━━━━━━━━━━━━━━━━━━━━━━━━━━━━┳━━━━━━━━━━━━━━━━━━━━━━━━━━━━━┳━━━━━━━━━━━━━━━━━┓\n",
              "┃\u001b[1m \u001b[0m\u001b[1mLayer (type)                        \u001b[0m\u001b[1m \u001b[0m┃\u001b[1m \u001b[0m\u001b[1mOutput Shape               \u001b[0m\u001b[1m \u001b[0m┃\u001b[1m \u001b[0m\u001b[1m        Param #\u001b[0m\u001b[1m \u001b[0m┃\n",
              "┡━━━━━━━━━━━━━━━━━━━━━━━━━━━━━━━━━━━━━━╇━━━━━━━━━━━━━━━━━━━━━━━━━━━━━╇━━━━━━━━━━━━━━━━━┩\n",
              "│ dense (\u001b[38;5;33mDense\u001b[0m)                        │ (\u001b[38;5;45mNone\u001b[0m, \u001b[38;5;34m4\u001b[0m)                   │              \u001b[38;5;34m44\u001b[0m │\n",
              "└──────────────────────────────────────┴─────────────────────────────┴─────────────────┘\n"
            ],
            "text/html": [
              "<pre style=\"white-space:pre;overflow-x:auto;line-height:normal;font-family:Menlo,'DejaVu Sans Mono',consolas,'Courier New',monospace\">┏━━━━━━━━━━━━━━━━━━━━━━━━━━━━━━━━━━━━━━┳━━━━━━━━━━━━━━━━━━━━━━━━━━━━━┳━━━━━━━━━━━━━━━━━┓\n",
              "┃<span style=\"font-weight: bold\"> Layer (type)                         </span>┃<span style=\"font-weight: bold\"> Output Shape                </span>┃<span style=\"font-weight: bold\">         Param # </span>┃\n",
              "┡━━━━━━━━━━━━━━━━━━━━━━━━━━━━━━━━━━━━━━╇━━━━━━━━━━━━━━━━━━━━━━━━━━━━━╇━━━━━━━━━━━━━━━━━┩\n",
              "│ dense (<span style=\"color: #0087ff; text-decoration-color: #0087ff\">Dense</span>)                        │ (<span style=\"color: #00d7ff; text-decoration-color: #00d7ff\">None</span>, <span style=\"color: #00af00; text-decoration-color: #00af00\">4</span>)                   │              <span style=\"color: #00af00; text-decoration-color: #00af00\">44</span> │\n",
              "└──────────────────────────────────────┴─────────────────────────────┴─────────────────┘\n",
              "</pre>\n"
            ]
          },
          "metadata": {}
        },
        {
          "output_type": "display_data",
          "data": {
            "text/plain": [
              "\u001b[1m Total params: \u001b[0m\u001b[38;5;34m44\u001b[0m (176.00 B)\n"
            ],
            "text/html": [
              "<pre style=\"white-space:pre;overflow-x:auto;line-height:normal;font-family:Menlo,'DejaVu Sans Mono',consolas,'Courier New',monospace\"><span style=\"font-weight: bold\"> Total params: </span><span style=\"color: #00af00; text-decoration-color: #00af00\">44</span> (176.00 B)\n",
              "</pre>\n"
            ]
          },
          "metadata": {}
        },
        {
          "output_type": "display_data",
          "data": {
            "text/plain": [
              "\u001b[1m Trainable params: \u001b[0m\u001b[38;5;34m44\u001b[0m (176.00 B)\n"
            ],
            "text/html": [
              "<pre style=\"white-space:pre;overflow-x:auto;line-height:normal;font-family:Menlo,'DejaVu Sans Mono',consolas,'Courier New',monospace\"><span style=\"font-weight: bold\"> Trainable params: </span><span style=\"color: #00af00; text-decoration-color: #00af00\">44</span> (176.00 B)\n",
              "</pre>\n"
            ]
          },
          "metadata": {}
        },
        {
          "output_type": "display_data",
          "data": {
            "text/plain": [
              "\u001b[1m Non-trainable params: \u001b[0m\u001b[38;5;34m0\u001b[0m (0.00 B)\n"
            ],
            "text/html": [
              "<pre style=\"white-space:pre;overflow-x:auto;line-height:normal;font-family:Menlo,'DejaVu Sans Mono',consolas,'Courier New',monospace\"><span style=\"font-weight: bold\"> Non-trainable params: </span><span style=\"color: #00af00; text-decoration-color: #00af00\">0</span> (0.00 B)\n",
              "</pre>\n"
            ]
          },
          "metadata": {}
        }
      ]
    },
    {
      "cell_type": "code",
      "source": [],
      "metadata": {
        "id": "7fXPpjo2vrQY"
      },
      "execution_count": null,
      "outputs": []
    },
    {
      "cell_type": "markdown",
      "source": [
        "### <a name='a1'></a>Funkcje aktywacji\n",
        "Istotnym elemenem sieci neuronowych jest dobór odpowiednich funkcji aktywacji. Funkcje aktywacji jak sama nazwa wskazuje są odpowiedzialne za aktywowanie odpowiednich neuronów podczas procesu uczenia.\n",
        "\n",
        "Jeżeli nie określimy podczas dodawania warstwy funkcji aktywacji, domyślnie stosowana jest liniowa funkcja aktywacji, tzn. $a(x)=x$\n",
        "\n",
        "Warstwa z liniową funkcją aktywacji może uczyć się tylko liniowych przekształceń danych wejściowych. Dlatego stosuje się różne funkcje aktywacji aby rozwiazywać problemy nieliniowe.\n",
        "\n",
        "[Keras: Funkcje aktywacji](https://keras.io/activations/)"
      ],
      "metadata": {
        "id": "_mjDA4ZrwV6A"
      }
    },
    {
      "cell_type": "code",
      "source": [
        "from tensorflow.keras.activations import linear\n",
        "\n",
        "random_data = np.linspace(start=-3, stop=3, num=300)\n",
        "data = pd.DataFrame({'data': random_data, 'linear': linear(random_data)})\n",
        "data.head()"
      ],
      "metadata": {
        "colab": {
          "base_uri": "https://localhost:8080/",
          "height": 206
        },
        "id": "ezUCNGQ7wf-t",
        "outputId": "46791724-258a-465d-eb58-aa818d5685b4"
      },
      "execution_count": 6,
      "outputs": [
        {
          "output_type": "execute_result",
          "data": {
            "text/plain": [
              "       data    linear\n",
              "0 -3.000000 -3.000000\n",
              "1 -2.979933 -2.979933\n",
              "2 -2.959866 -2.959866\n",
              "3 -2.939799 -2.939799\n",
              "4 -2.919732 -2.919732"
            ],
            "text/html": [
              "\n",
              "  <div id=\"df-526fae43-75a7-46b7-8962-99731fb22692\" class=\"colab-df-container\">\n",
              "    <div>\n",
              "<style scoped>\n",
              "    .dataframe tbody tr th:only-of-type {\n",
              "        vertical-align: middle;\n",
              "    }\n",
              "\n",
              "    .dataframe tbody tr th {\n",
              "        vertical-align: top;\n",
              "    }\n",
              "\n",
              "    .dataframe thead th {\n",
              "        text-align: right;\n",
              "    }\n",
              "</style>\n",
              "<table border=\"1\" class=\"dataframe\">\n",
              "  <thead>\n",
              "    <tr style=\"text-align: right;\">\n",
              "      <th></th>\n",
              "      <th>data</th>\n",
              "      <th>linear</th>\n",
              "    </tr>\n",
              "  </thead>\n",
              "  <tbody>\n",
              "    <tr>\n",
              "      <th>0</th>\n",
              "      <td>-3.000000</td>\n",
              "      <td>-3.000000</td>\n",
              "    </tr>\n",
              "    <tr>\n",
              "      <th>1</th>\n",
              "      <td>-2.979933</td>\n",
              "      <td>-2.979933</td>\n",
              "    </tr>\n",
              "    <tr>\n",
              "      <th>2</th>\n",
              "      <td>-2.959866</td>\n",
              "      <td>-2.959866</td>\n",
              "    </tr>\n",
              "    <tr>\n",
              "      <th>3</th>\n",
              "      <td>-2.939799</td>\n",
              "      <td>-2.939799</td>\n",
              "    </tr>\n",
              "    <tr>\n",
              "      <th>4</th>\n",
              "      <td>-2.919732</td>\n",
              "      <td>-2.919732</td>\n",
              "    </tr>\n",
              "  </tbody>\n",
              "</table>\n",
              "</div>\n",
              "    <div class=\"colab-df-buttons\">\n",
              "\n",
              "  <div class=\"colab-df-container\">\n",
              "    <button class=\"colab-df-convert\" onclick=\"convertToInteractive('df-526fae43-75a7-46b7-8962-99731fb22692')\"\n",
              "            title=\"Convert this dataframe to an interactive table.\"\n",
              "            style=\"display:none;\">\n",
              "\n",
              "  <svg xmlns=\"http://www.w3.org/2000/svg\" height=\"24px\" viewBox=\"0 -960 960 960\">\n",
              "    <path d=\"M120-120v-720h720v720H120Zm60-500h600v-160H180v160Zm220 220h160v-160H400v160Zm0 220h160v-160H400v160ZM180-400h160v-160H180v160Zm440 0h160v-160H620v160ZM180-180h160v-160H180v160Zm440 0h160v-160H620v160Z\"/>\n",
              "  </svg>\n",
              "    </button>\n",
              "\n",
              "  <style>\n",
              "    .colab-df-container {\n",
              "      display:flex;\n",
              "      gap: 12px;\n",
              "    }\n",
              "\n",
              "    .colab-df-convert {\n",
              "      background-color: #E8F0FE;\n",
              "      border: none;\n",
              "      border-radius: 50%;\n",
              "      cursor: pointer;\n",
              "      display: none;\n",
              "      fill: #1967D2;\n",
              "      height: 32px;\n",
              "      padding: 0 0 0 0;\n",
              "      width: 32px;\n",
              "    }\n",
              "\n",
              "    .colab-df-convert:hover {\n",
              "      background-color: #E2EBFA;\n",
              "      box-shadow: 0px 1px 2px rgba(60, 64, 67, 0.3), 0px 1px 3px 1px rgba(60, 64, 67, 0.15);\n",
              "      fill: #174EA6;\n",
              "    }\n",
              "\n",
              "    .colab-df-buttons div {\n",
              "      margin-bottom: 4px;\n",
              "    }\n",
              "\n",
              "    [theme=dark] .colab-df-convert {\n",
              "      background-color: #3B4455;\n",
              "      fill: #D2E3FC;\n",
              "    }\n",
              "\n",
              "    [theme=dark] .colab-df-convert:hover {\n",
              "      background-color: #434B5C;\n",
              "      box-shadow: 0px 1px 3px 1px rgba(0, 0, 0, 0.15);\n",
              "      filter: drop-shadow(0px 1px 2px rgba(0, 0, 0, 0.3));\n",
              "      fill: #FFFFFF;\n",
              "    }\n",
              "  </style>\n",
              "\n",
              "    <script>\n",
              "      const buttonEl =\n",
              "        document.querySelector('#df-526fae43-75a7-46b7-8962-99731fb22692 button.colab-df-convert');\n",
              "      buttonEl.style.display =\n",
              "        google.colab.kernel.accessAllowed ? 'block' : 'none';\n",
              "\n",
              "      async function convertToInteractive(key) {\n",
              "        const element = document.querySelector('#df-526fae43-75a7-46b7-8962-99731fb22692');\n",
              "        const dataTable =\n",
              "          await google.colab.kernel.invokeFunction('convertToInteractive',\n",
              "                                                    [key], {});\n",
              "        if (!dataTable) return;\n",
              "\n",
              "        const docLinkHtml = 'Like what you see? Visit the ' +\n",
              "          '<a target=\"_blank\" href=https://colab.research.google.com/notebooks/data_table.ipynb>data table notebook</a>'\n",
              "          + ' to learn more about interactive tables.';\n",
              "        element.innerHTML = '';\n",
              "        dataTable['output_type'] = 'display_data';\n",
              "        await google.colab.output.renderOutput(dataTable, element);\n",
              "        const docLink = document.createElement('div');\n",
              "        docLink.innerHTML = docLinkHtml;\n",
              "        element.appendChild(docLink);\n",
              "      }\n",
              "    </script>\n",
              "  </div>\n",
              "\n",
              "\n",
              "<div id=\"df-2e602b15-6ef6-4b48-a664-f61deabcd4da\">\n",
              "  <button class=\"colab-df-quickchart\" onclick=\"quickchart('df-2e602b15-6ef6-4b48-a664-f61deabcd4da')\"\n",
              "            title=\"Suggest charts\"\n",
              "            style=\"display:none;\">\n",
              "\n",
              "<svg xmlns=\"http://www.w3.org/2000/svg\" height=\"24px\"viewBox=\"0 0 24 24\"\n",
              "     width=\"24px\">\n",
              "    <g>\n",
              "        <path d=\"M19 3H5c-1.1 0-2 .9-2 2v14c0 1.1.9 2 2 2h14c1.1 0 2-.9 2-2V5c0-1.1-.9-2-2-2zM9 17H7v-7h2v7zm4 0h-2V7h2v10zm4 0h-2v-4h2v4z\"/>\n",
              "    </g>\n",
              "</svg>\n",
              "  </button>\n",
              "\n",
              "<style>\n",
              "  .colab-df-quickchart {\n",
              "      --bg-color: #E8F0FE;\n",
              "      --fill-color: #1967D2;\n",
              "      --hover-bg-color: #E2EBFA;\n",
              "      --hover-fill-color: #174EA6;\n",
              "      --disabled-fill-color: #AAA;\n",
              "      --disabled-bg-color: #DDD;\n",
              "  }\n",
              "\n",
              "  [theme=dark] .colab-df-quickchart {\n",
              "      --bg-color: #3B4455;\n",
              "      --fill-color: #D2E3FC;\n",
              "      --hover-bg-color: #434B5C;\n",
              "      --hover-fill-color: #FFFFFF;\n",
              "      --disabled-bg-color: #3B4455;\n",
              "      --disabled-fill-color: #666;\n",
              "  }\n",
              "\n",
              "  .colab-df-quickchart {\n",
              "    background-color: var(--bg-color);\n",
              "    border: none;\n",
              "    border-radius: 50%;\n",
              "    cursor: pointer;\n",
              "    display: none;\n",
              "    fill: var(--fill-color);\n",
              "    height: 32px;\n",
              "    padding: 0;\n",
              "    width: 32px;\n",
              "  }\n",
              "\n",
              "  .colab-df-quickchart:hover {\n",
              "    background-color: var(--hover-bg-color);\n",
              "    box-shadow: 0 1px 2px rgba(60, 64, 67, 0.3), 0 1px 3px 1px rgba(60, 64, 67, 0.15);\n",
              "    fill: var(--button-hover-fill-color);\n",
              "  }\n",
              "\n",
              "  .colab-df-quickchart-complete:disabled,\n",
              "  .colab-df-quickchart-complete:disabled:hover {\n",
              "    background-color: var(--disabled-bg-color);\n",
              "    fill: var(--disabled-fill-color);\n",
              "    box-shadow: none;\n",
              "  }\n",
              "\n",
              "  .colab-df-spinner {\n",
              "    border: 2px solid var(--fill-color);\n",
              "    border-color: transparent;\n",
              "    border-bottom-color: var(--fill-color);\n",
              "    animation:\n",
              "      spin 1s steps(1) infinite;\n",
              "  }\n",
              "\n",
              "  @keyframes spin {\n",
              "    0% {\n",
              "      border-color: transparent;\n",
              "      border-bottom-color: var(--fill-color);\n",
              "      border-left-color: var(--fill-color);\n",
              "    }\n",
              "    20% {\n",
              "      border-color: transparent;\n",
              "      border-left-color: var(--fill-color);\n",
              "      border-top-color: var(--fill-color);\n",
              "    }\n",
              "    30% {\n",
              "      border-color: transparent;\n",
              "      border-left-color: var(--fill-color);\n",
              "      border-top-color: var(--fill-color);\n",
              "      border-right-color: var(--fill-color);\n",
              "    }\n",
              "    40% {\n",
              "      border-color: transparent;\n",
              "      border-right-color: var(--fill-color);\n",
              "      border-top-color: var(--fill-color);\n",
              "    }\n",
              "    60% {\n",
              "      border-color: transparent;\n",
              "      border-right-color: var(--fill-color);\n",
              "    }\n",
              "    80% {\n",
              "      border-color: transparent;\n",
              "      border-right-color: var(--fill-color);\n",
              "      border-bottom-color: var(--fill-color);\n",
              "    }\n",
              "    90% {\n",
              "      border-color: transparent;\n",
              "      border-bottom-color: var(--fill-color);\n",
              "    }\n",
              "  }\n",
              "</style>\n",
              "\n",
              "  <script>\n",
              "    async function quickchart(key) {\n",
              "      const quickchartButtonEl =\n",
              "        document.querySelector('#' + key + ' button');\n",
              "      quickchartButtonEl.disabled = true;  // To prevent multiple clicks.\n",
              "      quickchartButtonEl.classList.add('colab-df-spinner');\n",
              "      try {\n",
              "        const charts = await google.colab.kernel.invokeFunction(\n",
              "            'suggestCharts', [key], {});\n",
              "      } catch (error) {\n",
              "        console.error('Error during call to suggestCharts:', error);\n",
              "      }\n",
              "      quickchartButtonEl.classList.remove('colab-df-spinner');\n",
              "      quickchartButtonEl.classList.add('colab-df-quickchart-complete');\n",
              "    }\n",
              "    (() => {\n",
              "      let quickchartButtonEl =\n",
              "        document.querySelector('#df-2e602b15-6ef6-4b48-a664-f61deabcd4da button');\n",
              "      quickchartButtonEl.style.display =\n",
              "        google.colab.kernel.accessAllowed ? 'block' : 'none';\n",
              "    })();\n",
              "  </script>\n",
              "</div>\n",
              "\n",
              "    </div>\n",
              "  </div>\n"
            ],
            "application/vnd.google.colaboratory.intrinsic+json": {
              "type": "dataframe",
              "variable_name": "data",
              "summary": "{\n  \"name\": \"data\",\n  \"rows\": 300,\n  \"fields\": [\n    {\n      \"column\": \"data\",\n      \"properties\": {\n        \"dtype\": \"number\",\n        \"std\": 1.7407376160097798,\n        \"min\": -3.0,\n        \"max\": 3.0,\n        \"num_unique_values\": 300,\n        \"samples\": [\n          1.0735785953177261,\n          2.3377926421404682,\n          0.05016722408026775\n        ],\n        \"semantic_type\": \"\",\n        \"description\": \"\"\n      }\n    },\n    {\n      \"column\": \"linear\",\n      \"properties\": {\n        \"dtype\": \"number\",\n        \"std\": 1.7407376160097798,\n        \"min\": -3.0,\n        \"max\": 3.0,\n        \"num_unique_values\": 300,\n        \"samples\": [\n          1.0735785953177261,\n          2.3377926421404682,\n          0.05016722408026775\n        ],\n        \"semantic_type\": \"\",\n        \"description\": \"\"\n      }\n    }\n  ]\n}"
            }
          },
          "metadata": {},
          "execution_count": 6
        }
      ]
    },
    {
      "cell_type": "markdown",
      "source": [
        "Ten kod ilustruje, jak działa funkcja aktywacji **`linear`** w Keras i jak dane są przetwarzane i przechowywane w ramce danych (`DataFrame`) przy użyciu Pandas. Oto dokładne wyjaśnienie każdego elementu:\n",
        "\n",
        "### Składnia:\n",
        "\n",
        "```python\n",
        "from tensorflow.keras.activations import linear\n",
        "random_data = np.linspace(start=-3, stop=3, num=300)\n",
        "data = pd.DataFrame({'data': random_data, 'linear': linear(random_data)})\n",
        "data.head()\n",
        "```\n",
        "\n",
        "### Wyjaśnienie:\n",
        "\n",
        "1. **`from tensorflow.keras.activations import linear`**:\n",
        "   - Importuje funkcję aktywacji **`linear`** z Keras. Funkcja `linear` jest bardzo prosta – zwraca wartość wejściową bez żadnych zmian (jest to po prostu funkcja tożsamościowa: \\( f(x) = x \\)).\n",
        "   - W sieciach neuronowych taka funkcja aktywacji nie wprowadza żadnej nieliniowości, więc jest rzadko używana w warstwach ukrytych, ale może być stosowana w warstwach wyjściowych.\n",
        "\n",
        "2. **`random_data = np.linspace(start=-3, stop=3, num=300)`**:\n",
        "   - Używa funkcji **`linspace`** z biblioteki **NumPy**, aby wygenerować 300 równomiernie rozmieszczonych wartości pomiędzy -3 a 3.\n",
        "   - `start=-3` oznacza początkową wartość przedziału, `stop=3` to końcowa wartość, a `num=300` wskazuje, że zostanie wygenerowanych dokładnie 300 liczb.\n",
        "   - Wartości te zostają zapisane w zmiennej **`random_data`**.\n",
        "\n",
        "3. **`data = pd.DataFrame({'data': random_data, 'linear': linear(random_data)})`**:\n",
        "   - Tworzy ramkę danych (**DataFrame**) z biblioteki **Pandas**.\n",
        "   - Kolumna o nazwie **`data`** zawiera wartości z wektora **`random_data`** (czyli 300 wartości z przedziału od -3 do 3).\n",
        "   - Kolumna o nazwie **`linear`** zawiera wyniki zastosowania funkcji aktywacji **`linear`** na tych danych wejściowych. W tym przypadku funkcja `linear` nie zmienia wartości, więc kolumna **`linear`** będzie identyczna jak kolumna **`data`**.\n",
        "\n",
        "4. **`data.head()`**:\n",
        "   - Wyświetla pierwsze 5 wierszy ramki danych (**DataFrame**) przy pomocy funkcji **`head()`**. Pozwala to szybko zobaczyć przykładowe wartości w ramce danych.\n",
        "\n",
        "### Działanie krok po kroku:\n",
        "1. Generujesz 300 liczb z przedziału od -3 do 3 (równo rozłożonych).\n",
        "2. Tworzysz ramkę danych, która zawiera dwie kolumny:\n",
        "   - **`data`** – oryginalne wygenerowane liczby.\n",
        "   - **`linear`** – wynik działania funkcji aktywacji `linear` na tych danych (w tym przypadku będą to te same liczby, ponieważ funkcja `linear` zwraca wartość bez zmian).\n",
        "3. Wyświetlasz pierwsze 5 wierszy, aby zobaczyć, jak wyglądają dane.\n",
        "\n",
        "### Przykładowy wynik:\n",
        "Dla danych z przedziału -3 do 3, przykładowa tabela danych mogłaby wyglądać tak:\n",
        "\n",
        "| data | linear |\n",
        "|------|--------|\n",
        "| -3.0 | -3.0   |\n",
        "| -2.98| -2.98  |\n",
        "| -2.96| -2.96  |\n",
        "| -2.94| -2.94  |\n",
        "| -2.92| -2.92  |\n",
        "\n",
        "Obie kolumny są identyczne, ponieważ funkcja aktywacji **`linear`** nie zmienia wartości wejściowej."
      ],
      "metadata": {
        "id": "V_f4cNphxK9b"
      }
    },
    {
      "cell_type": "code",
      "source": [
        "px.line(data, x='data', y='linear', width=500, height=400, range_y=[-3, 3])"
      ],
      "metadata": {
        "colab": {
          "base_uri": "https://localhost:8080/",
          "height": 417
        },
        "id": "HiMNpDfGwhOR",
        "outputId": "b58b8107-1ea4-411b-c32a-0f41a8db1168"
      },
      "execution_count": 7,
      "outputs": [
        {
          "output_type": "display_data",
          "data": {
            "text/html": [
              "<html>\n",
              "<head><meta charset=\"utf-8\" /></head>\n",
              "<body>\n",
              "    <div>            <script src=\"https://cdnjs.cloudflare.com/ajax/libs/mathjax/2.7.5/MathJax.js?config=TeX-AMS-MML_SVG\"></script><script type=\"text/javascript\">if (window.MathJax && window.MathJax.Hub && window.MathJax.Hub.Config) {window.MathJax.Hub.Config({SVG: {font: \"STIX-Web\"}});}</script>                <script type=\"text/javascript\">window.PlotlyConfig = {MathJaxConfig: 'local'};</script>\n",
              "        <script charset=\"utf-8\" src=\"https://cdn.plot.ly/plotly-2.24.1.min.js\"></script>                <div id=\"aee80d29-1247-4ee6-9063-6159bb179fde\" class=\"plotly-graph-div\" style=\"height:400px; width:500px;\"></div>            <script type=\"text/javascript\">                                    window.PLOTLYENV=window.PLOTLYENV || {};                                    if (document.getElementById(\"aee80d29-1247-4ee6-9063-6159bb179fde\")) {                    Plotly.newPlot(                        \"aee80d29-1247-4ee6-9063-6159bb179fde\",                        [{\"hovertemplate\":\"data=%{x}\\u003cbr\\u003elinear=%{y}\\u003cextra\\u003e\\u003c\\u002fextra\\u003e\",\"legendgroup\":\"\",\"line\":{\"color\":\"#636efa\",\"dash\":\"solid\"},\"marker\":{\"symbol\":\"circle\"},\"mode\":\"lines\",\"name\":\"\",\"orientation\":\"v\",\"showlegend\":false,\"x\":[-3.0,-2.979933110367893,-2.959866220735786,-2.939799331103679,-2.919732441471572,-2.899665551839465,-2.879598662207358,-2.859531772575251,-2.839464882943144,-2.819397993311037,-2.79933110367893,-2.779264214046823,-2.759197324414716,-2.739130434782609,-2.719063545150502,-2.6989966555183944,-2.678929765886288,-2.6588628762541804,-2.638795986622074,-2.6187290969899664,-2.5986622073578594,-2.5785953177257523,-2.5585284280936453,-2.5384615384615383,-2.5183946488294313,-2.4983277591973243,-2.4782608695652173,-2.4581939799331103,-2.4381270903010033,-2.4180602006688963,-2.3979933110367893,-2.3779264214046822,-2.3578595317725752,-2.3377926421404682,-2.317725752508361,-2.297658862876254,-2.277591973244147,-2.25752508361204,-2.237458193979933,-2.217391304347826,-2.197324414715719,-2.177257525083612,-2.157190635451505,-2.137123745819398,-2.1170568561872907,-2.096989966555184,-2.0769230769230766,-2.05685618729097,-2.0367892976588626,-2.016722408026756,-1.9966555183946488,-1.9765886287625418,-1.9565217391304348,-1.9364548494983278,-1.9163879598662208,-1.8963210702341138,-1.8762541806020065,-1.8561872909698995,-1.8361204013377925,-1.8160535117056855,-1.7959866220735785,-1.7759197324414715,-1.7558528428093645,-1.7357859531772575,-1.7157190635451505,-1.6956521739130435,-1.6755852842809364,-1.6555183946488294,-1.6354515050167224,-1.6153846153846154,-1.5953177257525084,-1.5752508361204014,-1.5551839464882944,-1.5351170568561872,-1.5150501672240801,-1.4949832775919731,-1.4749163879598661,-1.4548494983277591,-1.434782608695652,-1.414715719063545,-1.394648829431438,-1.374581939799331,-1.354515050167224,-1.334448160535117,-1.31438127090301,-1.294314381270903,-1.274247491638796,-1.254180602006689,-1.2341137123745818,-1.2140468227424748,-1.1939799331103678,-1.1739130434782608,-1.1538461538461537,-1.1337792642140467,-1.1137123745819397,-1.0936454849498327,-1.0735785953177257,-1.0535117056856187,-1.0334448160535117,-1.0133779264214047,-0.9933110367892977,-0.9732441471571907,-0.9531772575250836,-0.9331103678929766,-0.9130434782608696,-0.8929765886287626,-0.8729096989966556,-0.8528428093645486,-0.8327759197324416,-0.8127090301003346,-0.7926421404682276,-0.7725752508361206,-0.7525083612040131,-0.7324414715719061,-0.7123745819397991,-0.6923076923076921,-0.6722408026755851,-0.652173913043478,-0.632107023411371,-0.612040133779264,-0.591973244147157,-0.57190635451505,-0.551839464882943,-0.531772575250836,-0.511705685618729,-0.49163879598662197,-0.47157190635451496,-0.45150501672240795,-0.43143812709030094,-0.41137123745819393,-0.3913043478260869,-0.3712374581939799,-0.3511705685618729,-0.3311036789297659,-0.3110367892976589,-0.29096989966555187,-0.27090301003344486,-0.25083612040133785,-0.23076923076923084,-0.21070234113712383,-0.19063545150501682,-0.1705685618729098,-0.1505016722408028,-0.1304347826086958,-0.11036789297658878,-0.09030100334448132,-0.07023411371237431,-0.0501672240802673,-0.030100334448160293,-0.010033444816053283,0.010033444816053727,0.030100334448160737,0.05016722408026775,0.07023411371237476,0.09030100334448177,0.11036789297658878,0.1304347826086958,0.1505016722408028,0.1705685618729098,0.19063545150501682,0.21070234113712383,0.23076923076923084,0.25083612040133785,0.27090301003344486,0.29096989966555187,0.3110367892976589,0.3311036789297659,0.3511705685618729,0.3712374581939799,0.3913043478260869,0.41137123745819393,0.43143812709030094,0.45150501672240795,0.47157190635451496,0.49163879598662197,0.511705685618729,0.5317725752508364,0.5518394648829434,0.5719063545150505,0.5919732441471575,0.6120401337792645,0.6321070234113715,0.6521739130434785,0.6722408026755855,0.6923076923076925,0.7123745819397995,0.7324414715719065,0.7525083612040135,0.7725752508361206,0.7926421404682276,0.8127090301003346,0.8327759197324416,0.8528428093645486,0.8729096989966556,0.8929765886287626,0.9130434782608696,0.9331103678929766,0.9531772575250836,0.9732441471571907,0.9933110367892977,1.0133779264214047,1.0334448160535121,1.0535117056856187,1.0735785953177261,1.0936454849498327,1.1137123745819402,1.1337792642140467,1.1538461538461542,1.1739130434782608,1.1939799331103682,1.2140468227424748,1.2341137123745822,1.2541806020066888,1.2742474916387962,1.2943143812709028,1.3143812709030103,1.3344481605351168,1.3545150501672243,1.3745819397993309,1.3946488294314383,1.4147157190635449,1.4347826086956523,1.454849498327759,1.4749163879598663,1.4949832775919738,1.5150501672240804,1.5351170568561878,1.5551839464882944,1.5752508361204018,1.5953177257525084,1.6153846153846159,1.6354515050167224,1.6555183946488299,1.6755852842809364,1.695652173913044,1.7157190635451505,1.735785953177258,1.7558528428093645,1.775919732441472,1.7959866220735785,1.816053511705686,1.8361204013377925,1.8561872909699,1.8762541806020065,1.896321070234114,1.9163879598662206,1.936454849498328,1.9565217391304346,1.976588628762542,1.9966555183946486,2.016722408026756,2.0367892976588626,2.05685618729097,2.0769230769230766,2.096989966555184,2.1170568561872907,2.137123745819398,2.1571906354515056,2.177257525083612,2.1973244147157196,2.217391304347826,2.2374581939799336,2.25752508361204,2.2775919732441476,2.297658862876254,2.3177257525083617,2.3377926421404682,2.3578595317725757,2.3779264214046822,2.3979933110367897,2.4180602006688963,2.4381270903010037,2.4581939799331103,2.4782608695652177,2.4983277591973243,2.5183946488294318,2.5384615384615383,2.558528428093646,2.5785953177257523,2.59866220735786,2.6187290969899664,2.638795986622074,2.6588628762541804,2.678929765886288,2.6989966555183944,2.719063545150502,2.7391304347826084,2.759197324414716,2.7792642140468224,2.79933110367893,2.8193979933110374,2.839464882943144,2.8595317725752514,2.879598662207358,2.8996655518394654,2.919732441471572,2.9397993311036794,2.959866220735786,2.9799331103678934,3.0],\"xaxis\":\"x\",\"y\":[-3.0,-2.979933110367893,-2.959866220735786,-2.939799331103679,-2.919732441471572,-2.899665551839465,-2.879598662207358,-2.859531772575251,-2.839464882943144,-2.819397993311037,-2.79933110367893,-2.779264214046823,-2.759197324414716,-2.739130434782609,-2.719063545150502,-2.6989966555183944,-2.678929765886288,-2.6588628762541804,-2.638795986622074,-2.6187290969899664,-2.5986622073578594,-2.5785953177257523,-2.5585284280936453,-2.5384615384615383,-2.5183946488294313,-2.4983277591973243,-2.4782608695652173,-2.4581939799331103,-2.4381270903010033,-2.4180602006688963,-2.3979933110367893,-2.3779264214046822,-2.3578595317725752,-2.3377926421404682,-2.317725752508361,-2.297658862876254,-2.277591973244147,-2.25752508361204,-2.237458193979933,-2.217391304347826,-2.197324414715719,-2.177257525083612,-2.157190635451505,-2.137123745819398,-2.1170568561872907,-2.096989966555184,-2.0769230769230766,-2.05685618729097,-2.0367892976588626,-2.016722408026756,-1.9966555183946488,-1.9765886287625418,-1.9565217391304348,-1.9364548494983278,-1.9163879598662208,-1.8963210702341138,-1.8762541806020065,-1.8561872909698995,-1.8361204013377925,-1.8160535117056855,-1.7959866220735785,-1.7759197324414715,-1.7558528428093645,-1.7357859531772575,-1.7157190635451505,-1.6956521739130435,-1.6755852842809364,-1.6555183946488294,-1.6354515050167224,-1.6153846153846154,-1.5953177257525084,-1.5752508361204014,-1.5551839464882944,-1.5351170568561872,-1.5150501672240801,-1.4949832775919731,-1.4749163879598661,-1.4548494983277591,-1.434782608695652,-1.414715719063545,-1.394648829431438,-1.374581939799331,-1.354515050167224,-1.334448160535117,-1.31438127090301,-1.294314381270903,-1.274247491638796,-1.254180602006689,-1.2341137123745818,-1.2140468227424748,-1.1939799331103678,-1.1739130434782608,-1.1538461538461537,-1.1337792642140467,-1.1137123745819397,-1.0936454849498327,-1.0735785953177257,-1.0535117056856187,-1.0334448160535117,-1.0133779264214047,-0.9933110367892977,-0.9732441471571907,-0.9531772575250836,-0.9331103678929766,-0.9130434782608696,-0.8929765886287626,-0.8729096989966556,-0.8528428093645486,-0.8327759197324416,-0.8127090301003346,-0.7926421404682276,-0.7725752508361206,-0.7525083612040131,-0.7324414715719061,-0.7123745819397991,-0.6923076923076921,-0.6722408026755851,-0.652173913043478,-0.632107023411371,-0.612040133779264,-0.591973244147157,-0.57190635451505,-0.551839464882943,-0.531772575250836,-0.511705685618729,-0.49163879598662197,-0.47157190635451496,-0.45150501672240795,-0.43143812709030094,-0.41137123745819393,-0.3913043478260869,-0.3712374581939799,-0.3511705685618729,-0.3311036789297659,-0.3110367892976589,-0.29096989966555187,-0.27090301003344486,-0.25083612040133785,-0.23076923076923084,-0.21070234113712383,-0.19063545150501682,-0.1705685618729098,-0.1505016722408028,-0.1304347826086958,-0.11036789297658878,-0.09030100334448132,-0.07023411371237431,-0.0501672240802673,-0.030100334448160293,-0.010033444816053283,0.010033444816053727,0.030100334448160737,0.05016722408026775,0.07023411371237476,0.09030100334448177,0.11036789297658878,0.1304347826086958,0.1505016722408028,0.1705685618729098,0.19063545150501682,0.21070234113712383,0.23076923076923084,0.25083612040133785,0.27090301003344486,0.29096989966555187,0.3110367892976589,0.3311036789297659,0.3511705685618729,0.3712374581939799,0.3913043478260869,0.41137123745819393,0.43143812709030094,0.45150501672240795,0.47157190635451496,0.49163879598662197,0.511705685618729,0.5317725752508364,0.5518394648829434,0.5719063545150505,0.5919732441471575,0.6120401337792645,0.6321070234113715,0.6521739130434785,0.6722408026755855,0.6923076923076925,0.7123745819397995,0.7324414715719065,0.7525083612040135,0.7725752508361206,0.7926421404682276,0.8127090301003346,0.8327759197324416,0.8528428093645486,0.8729096989966556,0.8929765886287626,0.9130434782608696,0.9331103678929766,0.9531772575250836,0.9732441471571907,0.9933110367892977,1.0133779264214047,1.0334448160535121,1.0535117056856187,1.0735785953177261,1.0936454849498327,1.1137123745819402,1.1337792642140467,1.1538461538461542,1.1739130434782608,1.1939799331103682,1.2140468227424748,1.2341137123745822,1.2541806020066888,1.2742474916387962,1.2943143812709028,1.3143812709030103,1.3344481605351168,1.3545150501672243,1.3745819397993309,1.3946488294314383,1.4147157190635449,1.4347826086956523,1.454849498327759,1.4749163879598663,1.4949832775919738,1.5150501672240804,1.5351170568561878,1.5551839464882944,1.5752508361204018,1.5953177257525084,1.6153846153846159,1.6354515050167224,1.6555183946488299,1.6755852842809364,1.695652173913044,1.7157190635451505,1.735785953177258,1.7558528428093645,1.775919732441472,1.7959866220735785,1.816053511705686,1.8361204013377925,1.8561872909699,1.8762541806020065,1.896321070234114,1.9163879598662206,1.936454849498328,1.9565217391304346,1.976588628762542,1.9966555183946486,2.016722408026756,2.0367892976588626,2.05685618729097,2.0769230769230766,2.096989966555184,2.1170568561872907,2.137123745819398,2.1571906354515056,2.177257525083612,2.1973244147157196,2.217391304347826,2.2374581939799336,2.25752508361204,2.2775919732441476,2.297658862876254,2.3177257525083617,2.3377926421404682,2.3578595317725757,2.3779264214046822,2.3979933110367897,2.4180602006688963,2.4381270903010037,2.4581939799331103,2.4782608695652177,2.4983277591973243,2.5183946488294318,2.5384615384615383,2.558528428093646,2.5785953177257523,2.59866220735786,2.6187290969899664,2.638795986622074,2.6588628762541804,2.678929765886288,2.6989966555183944,2.719063545150502,2.7391304347826084,2.759197324414716,2.7792642140468224,2.79933110367893,2.8193979933110374,2.839464882943144,2.8595317725752514,2.879598662207358,2.8996655518394654,2.919732441471572,2.9397993311036794,2.959866220735786,2.9799331103678934,3.0],\"yaxis\":\"y\",\"type\":\"scatter\"}],                        {\"template\":{\"data\":{\"histogram2dcontour\":[{\"type\":\"histogram2dcontour\",\"colorbar\":{\"outlinewidth\":0,\"ticks\":\"\"},\"colorscale\":[[0.0,\"#0d0887\"],[0.1111111111111111,\"#46039f\"],[0.2222222222222222,\"#7201a8\"],[0.3333333333333333,\"#9c179e\"],[0.4444444444444444,\"#bd3786\"],[0.5555555555555556,\"#d8576b\"],[0.6666666666666666,\"#ed7953\"],[0.7777777777777778,\"#fb9f3a\"],[0.8888888888888888,\"#fdca26\"],[1.0,\"#f0f921\"]]}],\"choropleth\":[{\"type\":\"choropleth\",\"colorbar\":{\"outlinewidth\":0,\"ticks\":\"\"}}],\"histogram2d\":[{\"type\":\"histogram2d\",\"colorbar\":{\"outlinewidth\":0,\"ticks\":\"\"},\"colorscale\":[[0.0,\"#0d0887\"],[0.1111111111111111,\"#46039f\"],[0.2222222222222222,\"#7201a8\"],[0.3333333333333333,\"#9c179e\"],[0.4444444444444444,\"#bd3786\"],[0.5555555555555556,\"#d8576b\"],[0.6666666666666666,\"#ed7953\"],[0.7777777777777778,\"#fb9f3a\"],[0.8888888888888888,\"#fdca26\"],[1.0,\"#f0f921\"]]}],\"heatmap\":[{\"type\":\"heatmap\",\"colorbar\":{\"outlinewidth\":0,\"ticks\":\"\"},\"colorscale\":[[0.0,\"#0d0887\"],[0.1111111111111111,\"#46039f\"],[0.2222222222222222,\"#7201a8\"],[0.3333333333333333,\"#9c179e\"],[0.4444444444444444,\"#bd3786\"],[0.5555555555555556,\"#d8576b\"],[0.6666666666666666,\"#ed7953\"],[0.7777777777777778,\"#fb9f3a\"],[0.8888888888888888,\"#fdca26\"],[1.0,\"#f0f921\"]]}],\"heatmapgl\":[{\"type\":\"heatmapgl\",\"colorbar\":{\"outlinewidth\":0,\"ticks\":\"\"},\"colorscale\":[[0.0,\"#0d0887\"],[0.1111111111111111,\"#46039f\"],[0.2222222222222222,\"#7201a8\"],[0.3333333333333333,\"#9c179e\"],[0.4444444444444444,\"#bd3786\"],[0.5555555555555556,\"#d8576b\"],[0.6666666666666666,\"#ed7953\"],[0.7777777777777778,\"#fb9f3a\"],[0.8888888888888888,\"#fdca26\"],[1.0,\"#f0f921\"]]}],\"contourcarpet\":[{\"type\":\"contourcarpet\",\"colorbar\":{\"outlinewidth\":0,\"ticks\":\"\"}}],\"contour\":[{\"type\":\"contour\",\"colorbar\":{\"outlinewidth\":0,\"ticks\":\"\"},\"colorscale\":[[0.0,\"#0d0887\"],[0.1111111111111111,\"#46039f\"],[0.2222222222222222,\"#7201a8\"],[0.3333333333333333,\"#9c179e\"],[0.4444444444444444,\"#bd3786\"],[0.5555555555555556,\"#d8576b\"],[0.6666666666666666,\"#ed7953\"],[0.7777777777777778,\"#fb9f3a\"],[0.8888888888888888,\"#fdca26\"],[1.0,\"#f0f921\"]]}],\"surface\":[{\"type\":\"surface\",\"colorbar\":{\"outlinewidth\":0,\"ticks\":\"\"},\"colorscale\":[[0.0,\"#0d0887\"],[0.1111111111111111,\"#46039f\"],[0.2222222222222222,\"#7201a8\"],[0.3333333333333333,\"#9c179e\"],[0.4444444444444444,\"#bd3786\"],[0.5555555555555556,\"#d8576b\"],[0.6666666666666666,\"#ed7953\"],[0.7777777777777778,\"#fb9f3a\"],[0.8888888888888888,\"#fdca26\"],[1.0,\"#f0f921\"]]}],\"mesh3d\":[{\"type\":\"mesh3d\",\"colorbar\":{\"outlinewidth\":0,\"ticks\":\"\"}}],\"scatter\":[{\"fillpattern\":{\"fillmode\":\"overlay\",\"size\":10,\"solidity\":0.2},\"type\":\"scatter\"}],\"parcoords\":[{\"type\":\"parcoords\",\"line\":{\"colorbar\":{\"outlinewidth\":0,\"ticks\":\"\"}}}],\"scatterpolargl\":[{\"type\":\"scatterpolargl\",\"marker\":{\"colorbar\":{\"outlinewidth\":0,\"ticks\":\"\"}}}],\"bar\":[{\"error_x\":{\"color\":\"#2a3f5f\"},\"error_y\":{\"color\":\"#2a3f5f\"},\"marker\":{\"line\":{\"color\":\"#E5ECF6\",\"width\":0.5},\"pattern\":{\"fillmode\":\"overlay\",\"size\":10,\"solidity\":0.2}},\"type\":\"bar\"}],\"scattergeo\":[{\"type\":\"scattergeo\",\"marker\":{\"colorbar\":{\"outlinewidth\":0,\"ticks\":\"\"}}}],\"scatterpolar\":[{\"type\":\"scatterpolar\",\"marker\":{\"colorbar\":{\"outlinewidth\":0,\"ticks\":\"\"}}}],\"histogram\":[{\"marker\":{\"pattern\":{\"fillmode\":\"overlay\",\"size\":10,\"solidity\":0.2}},\"type\":\"histogram\"}],\"scattergl\":[{\"type\":\"scattergl\",\"marker\":{\"colorbar\":{\"outlinewidth\":0,\"ticks\":\"\"}}}],\"scatter3d\":[{\"type\":\"scatter3d\",\"line\":{\"colorbar\":{\"outlinewidth\":0,\"ticks\":\"\"}},\"marker\":{\"colorbar\":{\"outlinewidth\":0,\"ticks\":\"\"}}}],\"scattermapbox\":[{\"type\":\"scattermapbox\",\"marker\":{\"colorbar\":{\"outlinewidth\":0,\"ticks\":\"\"}}}],\"scatterternary\":[{\"type\":\"scatterternary\",\"marker\":{\"colorbar\":{\"outlinewidth\":0,\"ticks\":\"\"}}}],\"scattercarpet\":[{\"type\":\"scattercarpet\",\"marker\":{\"colorbar\":{\"outlinewidth\":0,\"ticks\":\"\"}}}],\"carpet\":[{\"aaxis\":{\"endlinecolor\":\"#2a3f5f\",\"gridcolor\":\"white\",\"linecolor\":\"white\",\"minorgridcolor\":\"white\",\"startlinecolor\":\"#2a3f5f\"},\"baxis\":{\"endlinecolor\":\"#2a3f5f\",\"gridcolor\":\"white\",\"linecolor\":\"white\",\"minorgridcolor\":\"white\",\"startlinecolor\":\"#2a3f5f\"},\"type\":\"carpet\"}],\"table\":[{\"cells\":{\"fill\":{\"color\":\"#EBF0F8\"},\"line\":{\"color\":\"white\"}},\"header\":{\"fill\":{\"color\":\"#C8D4E3\"},\"line\":{\"color\":\"white\"}},\"type\":\"table\"}],\"barpolar\":[{\"marker\":{\"line\":{\"color\":\"#E5ECF6\",\"width\":0.5},\"pattern\":{\"fillmode\":\"overlay\",\"size\":10,\"solidity\":0.2}},\"type\":\"barpolar\"}],\"pie\":[{\"automargin\":true,\"type\":\"pie\"}]},\"layout\":{\"autotypenumbers\":\"strict\",\"colorway\":[\"#636efa\",\"#EF553B\",\"#00cc96\",\"#ab63fa\",\"#FFA15A\",\"#19d3f3\",\"#FF6692\",\"#B6E880\",\"#FF97FF\",\"#FECB52\"],\"font\":{\"color\":\"#2a3f5f\"},\"hovermode\":\"closest\",\"hoverlabel\":{\"align\":\"left\"},\"paper_bgcolor\":\"white\",\"plot_bgcolor\":\"#E5ECF6\",\"polar\":{\"bgcolor\":\"#E5ECF6\",\"angularaxis\":{\"gridcolor\":\"white\",\"linecolor\":\"white\",\"ticks\":\"\"},\"radialaxis\":{\"gridcolor\":\"white\",\"linecolor\":\"white\",\"ticks\":\"\"}},\"ternary\":{\"bgcolor\":\"#E5ECF6\",\"aaxis\":{\"gridcolor\":\"white\",\"linecolor\":\"white\",\"ticks\":\"\"},\"baxis\":{\"gridcolor\":\"white\",\"linecolor\":\"white\",\"ticks\":\"\"},\"caxis\":{\"gridcolor\":\"white\",\"linecolor\":\"white\",\"ticks\":\"\"}},\"coloraxis\":{\"colorbar\":{\"outlinewidth\":0,\"ticks\":\"\"}},\"colorscale\":{\"sequential\":[[0.0,\"#0d0887\"],[0.1111111111111111,\"#46039f\"],[0.2222222222222222,\"#7201a8\"],[0.3333333333333333,\"#9c179e\"],[0.4444444444444444,\"#bd3786\"],[0.5555555555555556,\"#d8576b\"],[0.6666666666666666,\"#ed7953\"],[0.7777777777777778,\"#fb9f3a\"],[0.8888888888888888,\"#fdca26\"],[1.0,\"#f0f921\"]],\"sequentialminus\":[[0.0,\"#0d0887\"],[0.1111111111111111,\"#46039f\"],[0.2222222222222222,\"#7201a8\"],[0.3333333333333333,\"#9c179e\"],[0.4444444444444444,\"#bd3786\"],[0.5555555555555556,\"#d8576b\"],[0.6666666666666666,\"#ed7953\"],[0.7777777777777778,\"#fb9f3a\"],[0.8888888888888888,\"#fdca26\"],[1.0,\"#f0f921\"]],\"diverging\":[[0,\"#8e0152\"],[0.1,\"#c51b7d\"],[0.2,\"#de77ae\"],[0.3,\"#f1b6da\"],[0.4,\"#fde0ef\"],[0.5,\"#f7f7f7\"],[0.6,\"#e6f5d0\"],[0.7,\"#b8e186\"],[0.8,\"#7fbc41\"],[0.9,\"#4d9221\"],[1,\"#276419\"]]},\"xaxis\":{\"gridcolor\":\"white\",\"linecolor\":\"white\",\"ticks\":\"\",\"title\":{\"standoff\":15},\"zerolinecolor\":\"white\",\"automargin\":true,\"zerolinewidth\":2},\"yaxis\":{\"gridcolor\":\"white\",\"linecolor\":\"white\",\"ticks\":\"\",\"title\":{\"standoff\":15},\"zerolinecolor\":\"white\",\"automargin\":true,\"zerolinewidth\":2},\"scene\":{\"xaxis\":{\"backgroundcolor\":\"#E5ECF6\",\"gridcolor\":\"white\",\"linecolor\":\"white\",\"showbackground\":true,\"ticks\":\"\",\"zerolinecolor\":\"white\",\"gridwidth\":2},\"yaxis\":{\"backgroundcolor\":\"#E5ECF6\",\"gridcolor\":\"white\",\"linecolor\":\"white\",\"showbackground\":true,\"ticks\":\"\",\"zerolinecolor\":\"white\",\"gridwidth\":2},\"zaxis\":{\"backgroundcolor\":\"#E5ECF6\",\"gridcolor\":\"white\",\"linecolor\":\"white\",\"showbackground\":true,\"ticks\":\"\",\"zerolinecolor\":\"white\",\"gridwidth\":2}},\"shapedefaults\":{\"line\":{\"color\":\"#2a3f5f\"}},\"annotationdefaults\":{\"arrowcolor\":\"#2a3f5f\",\"arrowhead\":0,\"arrowwidth\":1},\"geo\":{\"bgcolor\":\"white\",\"landcolor\":\"#E5ECF6\",\"subunitcolor\":\"white\",\"showland\":true,\"showlakes\":true,\"lakecolor\":\"white\"},\"title\":{\"x\":0.05},\"mapbox\":{\"style\":\"light\"}}},\"xaxis\":{\"anchor\":\"y\",\"domain\":[0.0,1.0],\"title\":{\"text\":\"data\"}},\"yaxis\":{\"anchor\":\"x\",\"domain\":[0.0,1.0],\"title\":{\"text\":\"linear\"},\"range\":[-3,3]},\"legend\":{\"tracegroupgap\":0},\"margin\":{\"t\":60},\"height\":400,\"width\":500},                        {\"responsive\": true}                    ).then(function(){\n",
              "                            \n",
              "var gd = document.getElementById('aee80d29-1247-4ee6-9063-6159bb179fde');\n",
              "var x = new MutationObserver(function (mutations, observer) {{\n",
              "        var display = window.getComputedStyle(gd).display;\n",
              "        if (!display || display === 'none') {{\n",
              "            console.log([gd, 'removed!']);\n",
              "            Plotly.purge(gd);\n",
              "            observer.disconnect();\n",
              "        }}\n",
              "}});\n",
              "\n",
              "// Listen for the removal of the full notebook cells\n",
              "var notebookContainer = gd.closest('#notebook-container');\n",
              "if (notebookContainer) {{\n",
              "    x.observe(notebookContainer, {childList: true});\n",
              "}}\n",
              "\n",
              "// Listen for the clearing of the current output cell\n",
              "var outputEl = gd.closest('.output');\n",
              "if (outputEl) {{\n",
              "    x.observe(outputEl, {childList: true});\n",
              "}}\n",
              "\n",
              "                        })                };                            </script>        </div>\n",
              "</body>\n",
              "</html>"
            ]
          },
          "metadata": {}
        }
      ]
    },
    {
      "cell_type": "code",
      "source": [
        "from tensorflow.keras.activations import sigmoid\n",
        "\n",
        "data = pd.DataFrame({'data': random_data, 'sigmoid': sigmoid(random_data)})\n",
        "data.head()"
      ],
      "metadata": {
        "colab": {
          "base_uri": "https://localhost:8080/",
          "height": 206
        },
        "id": "d26JSBty3Wij",
        "outputId": "552181c8-15fe-4741-dd0d-aae43e7b79e7"
      },
      "execution_count": 8,
      "outputs": [
        {
          "output_type": "execute_result",
          "data": {
            "text/plain": [
              "       data   sigmoid\n",
              "0 -3.000000  0.047426\n",
              "1 -2.979933  0.048341\n",
              "2 -2.959866  0.049272\n",
              "3 -2.939799  0.050221\n",
              "4 -2.919732  0.051187"
            ],
            "text/html": [
              "\n",
              "  <div id=\"df-6324d148-b674-4ff2-a33e-3ba82798e3e7\" class=\"colab-df-container\">\n",
              "    <div>\n",
              "<style scoped>\n",
              "    .dataframe tbody tr th:only-of-type {\n",
              "        vertical-align: middle;\n",
              "    }\n",
              "\n",
              "    .dataframe tbody tr th {\n",
              "        vertical-align: top;\n",
              "    }\n",
              "\n",
              "    .dataframe thead th {\n",
              "        text-align: right;\n",
              "    }\n",
              "</style>\n",
              "<table border=\"1\" class=\"dataframe\">\n",
              "  <thead>\n",
              "    <tr style=\"text-align: right;\">\n",
              "      <th></th>\n",
              "      <th>data</th>\n",
              "      <th>sigmoid</th>\n",
              "    </tr>\n",
              "  </thead>\n",
              "  <tbody>\n",
              "    <tr>\n",
              "      <th>0</th>\n",
              "      <td>-3.000000</td>\n",
              "      <td>0.047426</td>\n",
              "    </tr>\n",
              "    <tr>\n",
              "      <th>1</th>\n",
              "      <td>-2.979933</td>\n",
              "      <td>0.048341</td>\n",
              "    </tr>\n",
              "    <tr>\n",
              "      <th>2</th>\n",
              "      <td>-2.959866</td>\n",
              "      <td>0.049272</td>\n",
              "    </tr>\n",
              "    <tr>\n",
              "      <th>3</th>\n",
              "      <td>-2.939799</td>\n",
              "      <td>0.050221</td>\n",
              "    </tr>\n",
              "    <tr>\n",
              "      <th>4</th>\n",
              "      <td>-2.919732</td>\n",
              "      <td>0.051187</td>\n",
              "    </tr>\n",
              "  </tbody>\n",
              "</table>\n",
              "</div>\n",
              "    <div class=\"colab-df-buttons\">\n",
              "\n",
              "  <div class=\"colab-df-container\">\n",
              "    <button class=\"colab-df-convert\" onclick=\"convertToInteractive('df-6324d148-b674-4ff2-a33e-3ba82798e3e7')\"\n",
              "            title=\"Convert this dataframe to an interactive table.\"\n",
              "            style=\"display:none;\">\n",
              "\n",
              "  <svg xmlns=\"http://www.w3.org/2000/svg\" height=\"24px\" viewBox=\"0 -960 960 960\">\n",
              "    <path d=\"M120-120v-720h720v720H120Zm60-500h600v-160H180v160Zm220 220h160v-160H400v160Zm0 220h160v-160H400v160ZM180-400h160v-160H180v160Zm440 0h160v-160H620v160ZM180-180h160v-160H180v160Zm440 0h160v-160H620v160Z\"/>\n",
              "  </svg>\n",
              "    </button>\n",
              "\n",
              "  <style>\n",
              "    .colab-df-container {\n",
              "      display:flex;\n",
              "      gap: 12px;\n",
              "    }\n",
              "\n",
              "    .colab-df-convert {\n",
              "      background-color: #E8F0FE;\n",
              "      border: none;\n",
              "      border-radius: 50%;\n",
              "      cursor: pointer;\n",
              "      display: none;\n",
              "      fill: #1967D2;\n",
              "      height: 32px;\n",
              "      padding: 0 0 0 0;\n",
              "      width: 32px;\n",
              "    }\n",
              "\n",
              "    .colab-df-convert:hover {\n",
              "      background-color: #E2EBFA;\n",
              "      box-shadow: 0px 1px 2px rgba(60, 64, 67, 0.3), 0px 1px 3px 1px rgba(60, 64, 67, 0.15);\n",
              "      fill: #174EA6;\n",
              "    }\n",
              "\n",
              "    .colab-df-buttons div {\n",
              "      margin-bottom: 4px;\n",
              "    }\n",
              "\n",
              "    [theme=dark] .colab-df-convert {\n",
              "      background-color: #3B4455;\n",
              "      fill: #D2E3FC;\n",
              "    }\n",
              "\n",
              "    [theme=dark] .colab-df-convert:hover {\n",
              "      background-color: #434B5C;\n",
              "      box-shadow: 0px 1px 3px 1px rgba(0, 0, 0, 0.15);\n",
              "      filter: drop-shadow(0px 1px 2px rgba(0, 0, 0, 0.3));\n",
              "      fill: #FFFFFF;\n",
              "    }\n",
              "  </style>\n",
              "\n",
              "    <script>\n",
              "      const buttonEl =\n",
              "        document.querySelector('#df-6324d148-b674-4ff2-a33e-3ba82798e3e7 button.colab-df-convert');\n",
              "      buttonEl.style.display =\n",
              "        google.colab.kernel.accessAllowed ? 'block' : 'none';\n",
              "\n",
              "      async function convertToInteractive(key) {\n",
              "        const element = document.querySelector('#df-6324d148-b674-4ff2-a33e-3ba82798e3e7');\n",
              "        const dataTable =\n",
              "          await google.colab.kernel.invokeFunction('convertToInteractive',\n",
              "                                                    [key], {});\n",
              "        if (!dataTable) return;\n",
              "\n",
              "        const docLinkHtml = 'Like what you see? Visit the ' +\n",
              "          '<a target=\"_blank\" href=https://colab.research.google.com/notebooks/data_table.ipynb>data table notebook</a>'\n",
              "          + ' to learn more about interactive tables.';\n",
              "        element.innerHTML = '';\n",
              "        dataTable['output_type'] = 'display_data';\n",
              "        await google.colab.output.renderOutput(dataTable, element);\n",
              "        const docLink = document.createElement('div');\n",
              "        docLink.innerHTML = docLinkHtml;\n",
              "        element.appendChild(docLink);\n",
              "      }\n",
              "    </script>\n",
              "  </div>\n",
              "\n",
              "\n",
              "<div id=\"df-d8aad19f-38fb-44b2-8d97-fc54ecfc2947\">\n",
              "  <button class=\"colab-df-quickchart\" onclick=\"quickchart('df-d8aad19f-38fb-44b2-8d97-fc54ecfc2947')\"\n",
              "            title=\"Suggest charts\"\n",
              "            style=\"display:none;\">\n",
              "\n",
              "<svg xmlns=\"http://www.w3.org/2000/svg\" height=\"24px\"viewBox=\"0 0 24 24\"\n",
              "     width=\"24px\">\n",
              "    <g>\n",
              "        <path d=\"M19 3H5c-1.1 0-2 .9-2 2v14c0 1.1.9 2 2 2h14c1.1 0 2-.9 2-2V5c0-1.1-.9-2-2-2zM9 17H7v-7h2v7zm4 0h-2V7h2v10zm4 0h-2v-4h2v4z\"/>\n",
              "    </g>\n",
              "</svg>\n",
              "  </button>\n",
              "\n",
              "<style>\n",
              "  .colab-df-quickchart {\n",
              "      --bg-color: #E8F0FE;\n",
              "      --fill-color: #1967D2;\n",
              "      --hover-bg-color: #E2EBFA;\n",
              "      --hover-fill-color: #174EA6;\n",
              "      --disabled-fill-color: #AAA;\n",
              "      --disabled-bg-color: #DDD;\n",
              "  }\n",
              "\n",
              "  [theme=dark] .colab-df-quickchart {\n",
              "      --bg-color: #3B4455;\n",
              "      --fill-color: #D2E3FC;\n",
              "      --hover-bg-color: #434B5C;\n",
              "      --hover-fill-color: #FFFFFF;\n",
              "      --disabled-bg-color: #3B4455;\n",
              "      --disabled-fill-color: #666;\n",
              "  }\n",
              "\n",
              "  .colab-df-quickchart {\n",
              "    background-color: var(--bg-color);\n",
              "    border: none;\n",
              "    border-radius: 50%;\n",
              "    cursor: pointer;\n",
              "    display: none;\n",
              "    fill: var(--fill-color);\n",
              "    height: 32px;\n",
              "    padding: 0;\n",
              "    width: 32px;\n",
              "  }\n",
              "\n",
              "  .colab-df-quickchart:hover {\n",
              "    background-color: var(--hover-bg-color);\n",
              "    box-shadow: 0 1px 2px rgba(60, 64, 67, 0.3), 0 1px 3px 1px rgba(60, 64, 67, 0.15);\n",
              "    fill: var(--button-hover-fill-color);\n",
              "  }\n",
              "\n",
              "  .colab-df-quickchart-complete:disabled,\n",
              "  .colab-df-quickchart-complete:disabled:hover {\n",
              "    background-color: var(--disabled-bg-color);\n",
              "    fill: var(--disabled-fill-color);\n",
              "    box-shadow: none;\n",
              "  }\n",
              "\n",
              "  .colab-df-spinner {\n",
              "    border: 2px solid var(--fill-color);\n",
              "    border-color: transparent;\n",
              "    border-bottom-color: var(--fill-color);\n",
              "    animation:\n",
              "      spin 1s steps(1) infinite;\n",
              "  }\n",
              "\n",
              "  @keyframes spin {\n",
              "    0% {\n",
              "      border-color: transparent;\n",
              "      border-bottom-color: var(--fill-color);\n",
              "      border-left-color: var(--fill-color);\n",
              "    }\n",
              "    20% {\n",
              "      border-color: transparent;\n",
              "      border-left-color: var(--fill-color);\n",
              "      border-top-color: var(--fill-color);\n",
              "    }\n",
              "    30% {\n",
              "      border-color: transparent;\n",
              "      border-left-color: var(--fill-color);\n",
              "      border-top-color: var(--fill-color);\n",
              "      border-right-color: var(--fill-color);\n",
              "    }\n",
              "    40% {\n",
              "      border-color: transparent;\n",
              "      border-right-color: var(--fill-color);\n",
              "      border-top-color: var(--fill-color);\n",
              "    }\n",
              "    60% {\n",
              "      border-color: transparent;\n",
              "      border-right-color: var(--fill-color);\n",
              "    }\n",
              "    80% {\n",
              "      border-color: transparent;\n",
              "      border-right-color: var(--fill-color);\n",
              "      border-bottom-color: var(--fill-color);\n",
              "    }\n",
              "    90% {\n",
              "      border-color: transparent;\n",
              "      border-bottom-color: var(--fill-color);\n",
              "    }\n",
              "  }\n",
              "</style>\n",
              "\n",
              "  <script>\n",
              "    async function quickchart(key) {\n",
              "      const quickchartButtonEl =\n",
              "        document.querySelector('#' + key + ' button');\n",
              "      quickchartButtonEl.disabled = true;  // To prevent multiple clicks.\n",
              "      quickchartButtonEl.classList.add('colab-df-spinner');\n",
              "      try {\n",
              "        const charts = await google.colab.kernel.invokeFunction(\n",
              "            'suggestCharts', [key], {});\n",
              "      } catch (error) {\n",
              "        console.error('Error during call to suggestCharts:', error);\n",
              "      }\n",
              "      quickchartButtonEl.classList.remove('colab-df-spinner');\n",
              "      quickchartButtonEl.classList.add('colab-df-quickchart-complete');\n",
              "    }\n",
              "    (() => {\n",
              "      let quickchartButtonEl =\n",
              "        document.querySelector('#df-d8aad19f-38fb-44b2-8d97-fc54ecfc2947 button');\n",
              "      quickchartButtonEl.style.display =\n",
              "        google.colab.kernel.accessAllowed ? 'block' : 'none';\n",
              "    })();\n",
              "  </script>\n",
              "</div>\n",
              "\n",
              "    </div>\n",
              "  </div>\n"
            ],
            "application/vnd.google.colaboratory.intrinsic+json": {
              "type": "dataframe",
              "variable_name": "data",
              "summary": "{\n  \"name\": \"data\",\n  \"rows\": 300,\n  \"fields\": [\n    {\n      \"column\": \"data\",\n      \"properties\": {\n        \"dtype\": \"number\",\n        \"std\": 1.7407376160097798,\n        \"min\": -3.0,\n        \"max\": 3.0,\n        \"num_unique_values\": 300,\n        \"samples\": [\n          1.0735785953177261,\n          2.3377926421404682,\n          0.05016722408026775\n        ],\n        \"semantic_type\": \"\",\n        \"description\": \"\"\n      }\n    },\n    {\n      \"column\": \"sigmoid\",\n      \"properties\": {\n        \"dtype\": \"number\",\n        \"std\": 0.31595481166358946,\n        \"min\": 0.04742587317756679,\n        \"max\": 0.9525741268224333,\n        \"num_unique_values\": 300,\n        \"samples\": [\n          0.7452768698058798,\n          0.9119590180077296,\n          0.5125391762989863\n        ],\n        \"semantic_type\": \"\",\n        \"description\": \"\"\n      }\n    }\n  ]\n}"
            }
          },
          "metadata": {},
          "execution_count": 8
        }
      ]
    },
    {
      "cell_type": "code",
      "source": [
        "px.line(data, x='data', y='sigmoid', width=500, height=400, range_y=[-0.5, 1.5])"
      ],
      "metadata": {
        "colab": {
          "base_uri": "https://localhost:8080/",
          "height": 417
        },
        "id": "Kzsstmd_3XMO",
        "outputId": "68b90c2e-efe4-4b4c-fa1e-680bee007a9a"
      },
      "execution_count": 9,
      "outputs": [
        {
          "output_type": "display_data",
          "data": {
            "text/html": [
              "<html>\n",
              "<head><meta charset=\"utf-8\" /></head>\n",
              "<body>\n",
              "    <div>            <script src=\"https://cdnjs.cloudflare.com/ajax/libs/mathjax/2.7.5/MathJax.js?config=TeX-AMS-MML_SVG\"></script><script type=\"text/javascript\">if (window.MathJax && window.MathJax.Hub && window.MathJax.Hub.Config) {window.MathJax.Hub.Config({SVG: {font: \"STIX-Web\"}});}</script>                <script type=\"text/javascript\">window.PlotlyConfig = {MathJaxConfig: 'local'};</script>\n",
              "        <script charset=\"utf-8\" src=\"https://cdn.plot.ly/plotly-2.24.1.min.js\"></script>                <div id=\"b1b32aef-80f4-472d-981c-aea77bb4549e\" class=\"plotly-graph-div\" style=\"height:400px; width:500px;\"></div>            <script type=\"text/javascript\">                                    window.PLOTLYENV=window.PLOTLYENV || {};                                    if (document.getElementById(\"b1b32aef-80f4-472d-981c-aea77bb4549e\")) {                    Plotly.newPlot(                        \"b1b32aef-80f4-472d-981c-aea77bb4549e\",                        [{\"hovertemplate\":\"data=%{x}\\u003cbr\\u003esigmoid=%{y}\\u003cextra\\u003e\\u003c\\u002fextra\\u003e\",\"legendgroup\":\"\",\"line\":{\"color\":\"#636efa\",\"dash\":\"solid\"},\"marker\":{\"symbol\":\"circle\"},\"mode\":\"lines\",\"name\":\"\",\"orientation\":\"v\",\"showlegend\":false,\"x\":[-3.0,-2.979933110367893,-2.959866220735786,-2.939799331103679,-2.919732441471572,-2.899665551839465,-2.879598662207358,-2.859531772575251,-2.839464882943144,-2.819397993311037,-2.79933110367893,-2.779264214046823,-2.759197324414716,-2.739130434782609,-2.719063545150502,-2.6989966555183944,-2.678929765886288,-2.6588628762541804,-2.638795986622074,-2.6187290969899664,-2.5986622073578594,-2.5785953177257523,-2.5585284280936453,-2.5384615384615383,-2.5183946488294313,-2.4983277591973243,-2.4782608695652173,-2.4581939799331103,-2.4381270903010033,-2.4180602006688963,-2.3979933110367893,-2.3779264214046822,-2.3578595317725752,-2.3377926421404682,-2.317725752508361,-2.297658862876254,-2.277591973244147,-2.25752508361204,-2.237458193979933,-2.217391304347826,-2.197324414715719,-2.177257525083612,-2.157190635451505,-2.137123745819398,-2.1170568561872907,-2.096989966555184,-2.0769230769230766,-2.05685618729097,-2.0367892976588626,-2.016722408026756,-1.9966555183946488,-1.9765886287625418,-1.9565217391304348,-1.9364548494983278,-1.9163879598662208,-1.8963210702341138,-1.8762541806020065,-1.8561872909698995,-1.8361204013377925,-1.8160535117056855,-1.7959866220735785,-1.7759197324414715,-1.7558528428093645,-1.7357859531772575,-1.7157190635451505,-1.6956521739130435,-1.6755852842809364,-1.6555183946488294,-1.6354515050167224,-1.6153846153846154,-1.5953177257525084,-1.5752508361204014,-1.5551839464882944,-1.5351170568561872,-1.5150501672240801,-1.4949832775919731,-1.4749163879598661,-1.4548494983277591,-1.434782608695652,-1.414715719063545,-1.394648829431438,-1.374581939799331,-1.354515050167224,-1.334448160535117,-1.31438127090301,-1.294314381270903,-1.274247491638796,-1.254180602006689,-1.2341137123745818,-1.2140468227424748,-1.1939799331103678,-1.1739130434782608,-1.1538461538461537,-1.1337792642140467,-1.1137123745819397,-1.0936454849498327,-1.0735785953177257,-1.0535117056856187,-1.0334448160535117,-1.0133779264214047,-0.9933110367892977,-0.9732441471571907,-0.9531772575250836,-0.9331103678929766,-0.9130434782608696,-0.8929765886287626,-0.8729096989966556,-0.8528428093645486,-0.8327759197324416,-0.8127090301003346,-0.7926421404682276,-0.7725752508361206,-0.7525083612040131,-0.7324414715719061,-0.7123745819397991,-0.6923076923076921,-0.6722408026755851,-0.652173913043478,-0.632107023411371,-0.612040133779264,-0.591973244147157,-0.57190635451505,-0.551839464882943,-0.531772575250836,-0.511705685618729,-0.49163879598662197,-0.47157190635451496,-0.45150501672240795,-0.43143812709030094,-0.41137123745819393,-0.3913043478260869,-0.3712374581939799,-0.3511705685618729,-0.3311036789297659,-0.3110367892976589,-0.29096989966555187,-0.27090301003344486,-0.25083612040133785,-0.23076923076923084,-0.21070234113712383,-0.19063545150501682,-0.1705685618729098,-0.1505016722408028,-0.1304347826086958,-0.11036789297658878,-0.09030100334448132,-0.07023411371237431,-0.0501672240802673,-0.030100334448160293,-0.010033444816053283,0.010033444816053727,0.030100334448160737,0.05016722408026775,0.07023411371237476,0.09030100334448177,0.11036789297658878,0.1304347826086958,0.1505016722408028,0.1705685618729098,0.19063545150501682,0.21070234113712383,0.23076923076923084,0.25083612040133785,0.27090301003344486,0.29096989966555187,0.3110367892976589,0.3311036789297659,0.3511705685618729,0.3712374581939799,0.3913043478260869,0.41137123745819393,0.43143812709030094,0.45150501672240795,0.47157190635451496,0.49163879598662197,0.511705685618729,0.5317725752508364,0.5518394648829434,0.5719063545150505,0.5919732441471575,0.6120401337792645,0.6321070234113715,0.6521739130434785,0.6722408026755855,0.6923076923076925,0.7123745819397995,0.7324414715719065,0.7525083612040135,0.7725752508361206,0.7926421404682276,0.8127090301003346,0.8327759197324416,0.8528428093645486,0.8729096989966556,0.8929765886287626,0.9130434782608696,0.9331103678929766,0.9531772575250836,0.9732441471571907,0.9933110367892977,1.0133779264214047,1.0334448160535121,1.0535117056856187,1.0735785953177261,1.0936454849498327,1.1137123745819402,1.1337792642140467,1.1538461538461542,1.1739130434782608,1.1939799331103682,1.2140468227424748,1.2341137123745822,1.2541806020066888,1.2742474916387962,1.2943143812709028,1.3143812709030103,1.3344481605351168,1.3545150501672243,1.3745819397993309,1.3946488294314383,1.4147157190635449,1.4347826086956523,1.454849498327759,1.4749163879598663,1.4949832775919738,1.5150501672240804,1.5351170568561878,1.5551839464882944,1.5752508361204018,1.5953177257525084,1.6153846153846159,1.6354515050167224,1.6555183946488299,1.6755852842809364,1.695652173913044,1.7157190635451505,1.735785953177258,1.7558528428093645,1.775919732441472,1.7959866220735785,1.816053511705686,1.8361204013377925,1.8561872909699,1.8762541806020065,1.896321070234114,1.9163879598662206,1.936454849498328,1.9565217391304346,1.976588628762542,1.9966555183946486,2.016722408026756,2.0367892976588626,2.05685618729097,2.0769230769230766,2.096989966555184,2.1170568561872907,2.137123745819398,2.1571906354515056,2.177257525083612,2.1973244147157196,2.217391304347826,2.2374581939799336,2.25752508361204,2.2775919732441476,2.297658862876254,2.3177257525083617,2.3377926421404682,2.3578595317725757,2.3779264214046822,2.3979933110367897,2.4180602006688963,2.4381270903010037,2.4581939799331103,2.4782608695652177,2.4983277591973243,2.5183946488294318,2.5384615384615383,2.558528428093646,2.5785953177257523,2.59866220735786,2.6187290969899664,2.638795986622074,2.6588628762541804,2.678929765886288,2.6989966555183944,2.719063545150502,2.7391304347826084,2.759197324414716,2.7792642140468224,2.79933110367893,2.8193979933110374,2.839464882943144,2.8595317725752514,2.879598662207358,2.8996655518394654,2.919732441471572,2.9397993311036794,2.959866220735786,2.9799331103678934,3.0],\"xaxis\":\"x\",\"y\":[0.04742587317756679,0.048340705809681674,0.04927227253100449,0.05022084397406027,0.05118669376913059,0.05217009852116519,0.05317133778377139,0.05419069403017183,0.05522845262101941,0.05628490176895615,0.057360332499801235,0.0584550386102517,0.059569316621977564,0.06070346573199204,0.06185778775917564,0.0630325870868323,0.06422817060115395,0.06544484762546998,0.06668292985015552,0.06794273125807446,0.06922456804542951,0.07052875853789459,0.07185562310190226,0.07320548405096042,0.0745786655468728,0.07597549349573797,0.07739629543860309,0.07884140043664953,0.08031113895078917,0.08180584271555183,0.08332584460714686,0.08487147850558377,0.08644307915074052,0.08804098199227044,0.08966552303324322,0.09131703866741864,0.09299586551005688,0.094702340222174,0.09643679932815588,0.09819957902665112,0.09999101499466823,0.10181144218481032,0.10366119461558734,0.1055406051547542,0.10745000529563078,0.10938972492636984,0.11136009209214778,0.11336143275026259,0.11539407051813644,0.11745832641422789,0.11955451859187528,0.12168296206610014,0.12384396843341766,0.12603784558471107,0.1282648974112431,0.1305254235038923,0.13281971884571703,0.1351480734979668,0.13751077227967676,0.13990809444099878,0.14234031333043995,0.14480769605619864,0.14731050314180635,0.14984898817630302,0.15242339745919414,0.1550339696404574,0.15768093535588806,0.16036451685809297,0.16308492764346447,0.16584237207548816,0.16863704500475898,0.1714691313861033,0.1743388058932271,0.1772462325313315,0.18019156424816118,0.1831749425439719,0.18619649708092617,0.18925634529244867,0.19235459199309404,0.19549132898950097,0.19866663469302867,0.20188057373469068,0.2051331965830219,0.20842453916553327,0.2117546224944275,0.21512345229726554,0.21853101865329141,0.22197729563613694,0.22546224096364312,0.2289857956555469,0.23254788369979437,0.23614841172825077,0.23978726870258607,0.24346432561112225,0.24717943517743174,0.25093243158148215,0.25472313019412024,0.25855132732568903,0.26241679998956935,0.2663193056814292,0.27025858217495907,0.27423434733486024,0.2782462989478413,0.282294114572361,0.2863774514078418,0.2904959461840557,0.29464921507136166,0.2988368536124498,0.30305843667622046,0.3073135184343916,0.3116016323614029,0.31592229125814075,0.320274987299977,0.3246591921095709,0.3290743568548415,0.3335199123724729,0.3379952693172676,0.3424998183376125,0.34703293027727333,0.3515939564036772,0.35618222866278915,0.36079705996063294,0.36543774447144606,0.3701035579724016,0.37479375820476785,0.379507585261317,0.38424426199972905,0.38900299448167935,0.39378297243723015,0.39858336975408887,0.403403344991229,0.40824204191631036,0.4130985900662718,0.417972105330411,0.4228616905552035,0.4277664361700588,0.4326854208331506,0.43761771209640726,0.4425623670886926,0.4475184332161591,0.45248494887870644,0.4574609442014324,0.4624454417799226,0.46743745743818327,0.47243600099798777,0.4774400770583734,0.4824486857839941,0.4874608237010138,0.4924754844991968,0.4974916598388382,0.502508340161162,0.5075245155008034,0.5125391762989863,0.517551314216006,0.5225599229416268,0.5275639990020122,0.5325625425618168,0.5375545582200774,0.5425390557985675,0.5475150511212936,0.552481566783841,0.5574376329113074,0.5623822879035927,0.5673145791668494,0.5722335638299413,0.5771383094447964,0.5820278946695889,0.5869014099337281,0.5917579580836896,0.596596655008771,0.6014166302459112,0.6062170275627699,0.6109970055183207,0.615755738000271,0.620492414738683,0.6252062417952321,0.6298964420275985,0.634562255528554,0.6392029400393672,0.643817771337211,0.6484060435963229,0.6529670697227268,0.6575001816623876,0.6620047306827325,0.6664800876275272,0.6709256431451586,0.6753408078904292,0.6797250127000231,0.6840777087418592,0.6883983676385971,0.6926864815656084,0.6969415633237795,0.7011631463875502,0.7053507849286383,0.7095040538159443,0.7136225485921582,0.717705885427639,0.7217537010521586,0.7257656526651397,0.729741417825041,0.7336806943185707,0.7375832000104307,0.7414486726743109,0.7452768698058798,0.7490675684185178,0.7528205648225684,0.7565356743888778,0.760212731297414,0.7638515882717493,0.7674521163002057,0.7710142043444531,0.7745377590363569,0.778022704363863,0.7814689813467086,0.7848765477027345,0.7882453775055726,0.7915754608344666,0.7948668034169782,0.7981194262653093,0.8013333653069714,0.8045086710104989,0.807645408006906,0.8107436547075513,0.8138035029190739,0.8168250574560282,0.8198084357518388,0.8227537674686686,0.825661194106773,0.8285308686138968,0.831362954995241,0.8341576279245119,0.8369150723565355,0.8396354831419071,0.8423190646441119,0.8449660303595427,0.8475766025408059,0.850151011823697,0.8526894968581936,0.8551923039438014,0.85765968666956,0.8600919055590013,0.8624892277203232,0.8648519265020332,0.867180281154283,0.8694745764961077,0.8717351025887569,0.8739621544152889,0.8761560315665822,0.8783170379339,0.8804454814081247,0.8825416735857722,0.8846059294818635,0.8866385672497374,0.8886399079078521,0.8906102750736302,0.8925499947043692,0.8944593948452458,0.8963388053844127,0.8981885578151897,0.9000089850053318,0.9018004209733489,0.9035632006718441,0.905297659777826,0.9070041344899431,0.9086829613325814,0.9103344769667568,0.9119590180077296,0.9135569208492595,0.9151285214944163,0.9166741553928531,0.9181941572844482,0.9196888610492109,0.9211585995633504,0.922603704561397,0.924024506504262,0.9254213344531272,0.9267945159490396,0.9281443768980978,0.9294712414621055,0.9307754319545706,0.9320572687419255,0.9333170701498444,0.93455515237453,0.9357718293988461,0.9369674129131677,0.9381422122408245,0.9392965342680079,0.9404306833780224,0.9415449613897483,0.9426396675001988,0.9437150982310438,0.9447715473789806,0.9458093059698282,0.9468286622162286,0.9478299014788348,0.9488133062308695,0.9497791560259398,0.9507277274689955,0.9516592941903184,0.9525741268224333],\"yaxis\":\"y\",\"type\":\"scatter\"}],                        {\"template\":{\"data\":{\"histogram2dcontour\":[{\"type\":\"histogram2dcontour\",\"colorbar\":{\"outlinewidth\":0,\"ticks\":\"\"},\"colorscale\":[[0.0,\"#0d0887\"],[0.1111111111111111,\"#46039f\"],[0.2222222222222222,\"#7201a8\"],[0.3333333333333333,\"#9c179e\"],[0.4444444444444444,\"#bd3786\"],[0.5555555555555556,\"#d8576b\"],[0.6666666666666666,\"#ed7953\"],[0.7777777777777778,\"#fb9f3a\"],[0.8888888888888888,\"#fdca26\"],[1.0,\"#f0f921\"]]}],\"choropleth\":[{\"type\":\"choropleth\",\"colorbar\":{\"outlinewidth\":0,\"ticks\":\"\"}}],\"histogram2d\":[{\"type\":\"histogram2d\",\"colorbar\":{\"outlinewidth\":0,\"ticks\":\"\"},\"colorscale\":[[0.0,\"#0d0887\"],[0.1111111111111111,\"#46039f\"],[0.2222222222222222,\"#7201a8\"],[0.3333333333333333,\"#9c179e\"],[0.4444444444444444,\"#bd3786\"],[0.5555555555555556,\"#d8576b\"],[0.6666666666666666,\"#ed7953\"],[0.7777777777777778,\"#fb9f3a\"],[0.8888888888888888,\"#fdca26\"],[1.0,\"#f0f921\"]]}],\"heatmap\":[{\"type\":\"heatmap\",\"colorbar\":{\"outlinewidth\":0,\"ticks\":\"\"},\"colorscale\":[[0.0,\"#0d0887\"],[0.1111111111111111,\"#46039f\"],[0.2222222222222222,\"#7201a8\"],[0.3333333333333333,\"#9c179e\"],[0.4444444444444444,\"#bd3786\"],[0.5555555555555556,\"#d8576b\"],[0.6666666666666666,\"#ed7953\"],[0.7777777777777778,\"#fb9f3a\"],[0.8888888888888888,\"#fdca26\"],[1.0,\"#f0f921\"]]}],\"heatmapgl\":[{\"type\":\"heatmapgl\",\"colorbar\":{\"outlinewidth\":0,\"ticks\":\"\"},\"colorscale\":[[0.0,\"#0d0887\"],[0.1111111111111111,\"#46039f\"],[0.2222222222222222,\"#7201a8\"],[0.3333333333333333,\"#9c179e\"],[0.4444444444444444,\"#bd3786\"],[0.5555555555555556,\"#d8576b\"],[0.6666666666666666,\"#ed7953\"],[0.7777777777777778,\"#fb9f3a\"],[0.8888888888888888,\"#fdca26\"],[1.0,\"#f0f921\"]]}],\"contourcarpet\":[{\"type\":\"contourcarpet\",\"colorbar\":{\"outlinewidth\":0,\"ticks\":\"\"}}],\"contour\":[{\"type\":\"contour\",\"colorbar\":{\"outlinewidth\":0,\"ticks\":\"\"},\"colorscale\":[[0.0,\"#0d0887\"],[0.1111111111111111,\"#46039f\"],[0.2222222222222222,\"#7201a8\"],[0.3333333333333333,\"#9c179e\"],[0.4444444444444444,\"#bd3786\"],[0.5555555555555556,\"#d8576b\"],[0.6666666666666666,\"#ed7953\"],[0.7777777777777778,\"#fb9f3a\"],[0.8888888888888888,\"#fdca26\"],[1.0,\"#f0f921\"]]}],\"surface\":[{\"type\":\"surface\",\"colorbar\":{\"outlinewidth\":0,\"ticks\":\"\"},\"colorscale\":[[0.0,\"#0d0887\"],[0.1111111111111111,\"#46039f\"],[0.2222222222222222,\"#7201a8\"],[0.3333333333333333,\"#9c179e\"],[0.4444444444444444,\"#bd3786\"],[0.5555555555555556,\"#d8576b\"],[0.6666666666666666,\"#ed7953\"],[0.7777777777777778,\"#fb9f3a\"],[0.8888888888888888,\"#fdca26\"],[1.0,\"#f0f921\"]]}],\"mesh3d\":[{\"type\":\"mesh3d\",\"colorbar\":{\"outlinewidth\":0,\"ticks\":\"\"}}],\"scatter\":[{\"fillpattern\":{\"fillmode\":\"overlay\",\"size\":10,\"solidity\":0.2},\"type\":\"scatter\"}],\"parcoords\":[{\"type\":\"parcoords\",\"line\":{\"colorbar\":{\"outlinewidth\":0,\"ticks\":\"\"}}}],\"scatterpolargl\":[{\"type\":\"scatterpolargl\",\"marker\":{\"colorbar\":{\"outlinewidth\":0,\"ticks\":\"\"}}}],\"bar\":[{\"error_x\":{\"color\":\"#2a3f5f\"},\"error_y\":{\"color\":\"#2a3f5f\"},\"marker\":{\"line\":{\"color\":\"#E5ECF6\",\"width\":0.5},\"pattern\":{\"fillmode\":\"overlay\",\"size\":10,\"solidity\":0.2}},\"type\":\"bar\"}],\"scattergeo\":[{\"type\":\"scattergeo\",\"marker\":{\"colorbar\":{\"outlinewidth\":0,\"ticks\":\"\"}}}],\"scatterpolar\":[{\"type\":\"scatterpolar\",\"marker\":{\"colorbar\":{\"outlinewidth\":0,\"ticks\":\"\"}}}],\"histogram\":[{\"marker\":{\"pattern\":{\"fillmode\":\"overlay\",\"size\":10,\"solidity\":0.2}},\"type\":\"histogram\"}],\"scattergl\":[{\"type\":\"scattergl\",\"marker\":{\"colorbar\":{\"outlinewidth\":0,\"ticks\":\"\"}}}],\"scatter3d\":[{\"type\":\"scatter3d\",\"line\":{\"colorbar\":{\"outlinewidth\":0,\"ticks\":\"\"}},\"marker\":{\"colorbar\":{\"outlinewidth\":0,\"ticks\":\"\"}}}],\"scattermapbox\":[{\"type\":\"scattermapbox\",\"marker\":{\"colorbar\":{\"outlinewidth\":0,\"ticks\":\"\"}}}],\"scatterternary\":[{\"type\":\"scatterternary\",\"marker\":{\"colorbar\":{\"outlinewidth\":0,\"ticks\":\"\"}}}],\"scattercarpet\":[{\"type\":\"scattercarpet\",\"marker\":{\"colorbar\":{\"outlinewidth\":0,\"ticks\":\"\"}}}],\"carpet\":[{\"aaxis\":{\"endlinecolor\":\"#2a3f5f\",\"gridcolor\":\"white\",\"linecolor\":\"white\",\"minorgridcolor\":\"white\",\"startlinecolor\":\"#2a3f5f\"},\"baxis\":{\"endlinecolor\":\"#2a3f5f\",\"gridcolor\":\"white\",\"linecolor\":\"white\",\"minorgridcolor\":\"white\",\"startlinecolor\":\"#2a3f5f\"},\"type\":\"carpet\"}],\"table\":[{\"cells\":{\"fill\":{\"color\":\"#EBF0F8\"},\"line\":{\"color\":\"white\"}},\"header\":{\"fill\":{\"color\":\"#C8D4E3\"},\"line\":{\"color\":\"white\"}},\"type\":\"table\"}],\"barpolar\":[{\"marker\":{\"line\":{\"color\":\"#E5ECF6\",\"width\":0.5},\"pattern\":{\"fillmode\":\"overlay\",\"size\":10,\"solidity\":0.2}},\"type\":\"barpolar\"}],\"pie\":[{\"automargin\":true,\"type\":\"pie\"}]},\"layout\":{\"autotypenumbers\":\"strict\",\"colorway\":[\"#636efa\",\"#EF553B\",\"#00cc96\",\"#ab63fa\",\"#FFA15A\",\"#19d3f3\",\"#FF6692\",\"#B6E880\",\"#FF97FF\",\"#FECB52\"],\"font\":{\"color\":\"#2a3f5f\"},\"hovermode\":\"closest\",\"hoverlabel\":{\"align\":\"left\"},\"paper_bgcolor\":\"white\",\"plot_bgcolor\":\"#E5ECF6\",\"polar\":{\"bgcolor\":\"#E5ECF6\",\"angularaxis\":{\"gridcolor\":\"white\",\"linecolor\":\"white\",\"ticks\":\"\"},\"radialaxis\":{\"gridcolor\":\"white\",\"linecolor\":\"white\",\"ticks\":\"\"}},\"ternary\":{\"bgcolor\":\"#E5ECF6\",\"aaxis\":{\"gridcolor\":\"white\",\"linecolor\":\"white\",\"ticks\":\"\"},\"baxis\":{\"gridcolor\":\"white\",\"linecolor\":\"white\",\"ticks\":\"\"},\"caxis\":{\"gridcolor\":\"white\",\"linecolor\":\"white\",\"ticks\":\"\"}},\"coloraxis\":{\"colorbar\":{\"outlinewidth\":0,\"ticks\":\"\"}},\"colorscale\":{\"sequential\":[[0.0,\"#0d0887\"],[0.1111111111111111,\"#46039f\"],[0.2222222222222222,\"#7201a8\"],[0.3333333333333333,\"#9c179e\"],[0.4444444444444444,\"#bd3786\"],[0.5555555555555556,\"#d8576b\"],[0.6666666666666666,\"#ed7953\"],[0.7777777777777778,\"#fb9f3a\"],[0.8888888888888888,\"#fdca26\"],[1.0,\"#f0f921\"]],\"sequentialminus\":[[0.0,\"#0d0887\"],[0.1111111111111111,\"#46039f\"],[0.2222222222222222,\"#7201a8\"],[0.3333333333333333,\"#9c179e\"],[0.4444444444444444,\"#bd3786\"],[0.5555555555555556,\"#d8576b\"],[0.6666666666666666,\"#ed7953\"],[0.7777777777777778,\"#fb9f3a\"],[0.8888888888888888,\"#fdca26\"],[1.0,\"#f0f921\"]],\"diverging\":[[0,\"#8e0152\"],[0.1,\"#c51b7d\"],[0.2,\"#de77ae\"],[0.3,\"#f1b6da\"],[0.4,\"#fde0ef\"],[0.5,\"#f7f7f7\"],[0.6,\"#e6f5d0\"],[0.7,\"#b8e186\"],[0.8,\"#7fbc41\"],[0.9,\"#4d9221\"],[1,\"#276419\"]]},\"xaxis\":{\"gridcolor\":\"white\",\"linecolor\":\"white\",\"ticks\":\"\",\"title\":{\"standoff\":15},\"zerolinecolor\":\"white\",\"automargin\":true,\"zerolinewidth\":2},\"yaxis\":{\"gridcolor\":\"white\",\"linecolor\":\"white\",\"ticks\":\"\",\"title\":{\"standoff\":15},\"zerolinecolor\":\"white\",\"automargin\":true,\"zerolinewidth\":2},\"scene\":{\"xaxis\":{\"backgroundcolor\":\"#E5ECF6\",\"gridcolor\":\"white\",\"linecolor\":\"white\",\"showbackground\":true,\"ticks\":\"\",\"zerolinecolor\":\"white\",\"gridwidth\":2},\"yaxis\":{\"backgroundcolor\":\"#E5ECF6\",\"gridcolor\":\"white\",\"linecolor\":\"white\",\"showbackground\":true,\"ticks\":\"\",\"zerolinecolor\":\"white\",\"gridwidth\":2},\"zaxis\":{\"backgroundcolor\":\"#E5ECF6\",\"gridcolor\":\"white\",\"linecolor\":\"white\",\"showbackground\":true,\"ticks\":\"\",\"zerolinecolor\":\"white\",\"gridwidth\":2}},\"shapedefaults\":{\"line\":{\"color\":\"#2a3f5f\"}},\"annotationdefaults\":{\"arrowcolor\":\"#2a3f5f\",\"arrowhead\":0,\"arrowwidth\":1},\"geo\":{\"bgcolor\":\"white\",\"landcolor\":\"#E5ECF6\",\"subunitcolor\":\"white\",\"showland\":true,\"showlakes\":true,\"lakecolor\":\"white\"},\"title\":{\"x\":0.05},\"mapbox\":{\"style\":\"light\"}}},\"xaxis\":{\"anchor\":\"y\",\"domain\":[0.0,1.0],\"title\":{\"text\":\"data\"}},\"yaxis\":{\"anchor\":\"x\",\"domain\":[0.0,1.0],\"title\":{\"text\":\"sigmoid\"},\"range\":[-0.5,1.5]},\"legend\":{\"tracegroupgap\":0},\"margin\":{\"t\":60},\"height\":400,\"width\":500},                        {\"responsive\": true}                    ).then(function(){\n",
              "                            \n",
              "var gd = document.getElementById('b1b32aef-80f4-472d-981c-aea77bb4549e');\n",
              "var x = new MutationObserver(function (mutations, observer) {{\n",
              "        var display = window.getComputedStyle(gd).display;\n",
              "        if (!display || display === 'none') {{\n",
              "            console.log([gd, 'removed!']);\n",
              "            Plotly.purge(gd);\n",
              "            observer.disconnect();\n",
              "        }}\n",
              "}});\n",
              "\n",
              "// Listen for the removal of the full notebook cells\n",
              "var notebookContainer = gd.closest('#notebook-container');\n",
              "if (notebookContainer) {{\n",
              "    x.observe(notebookContainer, {childList: true});\n",
              "}}\n",
              "\n",
              "// Listen for the clearing of the current output cell\n",
              "var outputEl = gd.closest('.output');\n",
              "if (outputEl) {{\n",
              "    x.observe(outputEl, {childList: true});\n",
              "}}\n",
              "\n",
              "                        })                };                            </script>        </div>\n",
              "</body>\n",
              "</html>"
            ]
          },
          "metadata": {}
        }
      ]
    },
    {
      "cell_type": "code",
      "source": [
        "from tensorflow.keras.activations import relu\n",
        "\n",
        "data = pd.DataFrame({'data': random_data, 'relu': relu(random_data)})\n",
        "data.head()"
      ],
      "metadata": {
        "colab": {
          "base_uri": "https://localhost:8080/",
          "height": 206
        },
        "id": "-AxoUzN13hNa",
        "outputId": "1dce237b-1e53-4936-8b54-ca0c60aa417a"
      },
      "execution_count": 10,
      "outputs": [
        {
          "output_type": "execute_result",
          "data": {
            "text/plain": [
              "       data  relu\n",
              "0 -3.000000   0.0\n",
              "1 -2.979933   0.0\n",
              "2 -2.959866   0.0\n",
              "3 -2.939799   0.0\n",
              "4 -2.919732   0.0"
            ],
            "text/html": [
              "\n",
              "  <div id=\"df-48dae819-b6ec-48f8-b615-7835973b481a\" class=\"colab-df-container\">\n",
              "    <div>\n",
              "<style scoped>\n",
              "    .dataframe tbody tr th:only-of-type {\n",
              "        vertical-align: middle;\n",
              "    }\n",
              "\n",
              "    .dataframe tbody tr th {\n",
              "        vertical-align: top;\n",
              "    }\n",
              "\n",
              "    .dataframe thead th {\n",
              "        text-align: right;\n",
              "    }\n",
              "</style>\n",
              "<table border=\"1\" class=\"dataframe\">\n",
              "  <thead>\n",
              "    <tr style=\"text-align: right;\">\n",
              "      <th></th>\n",
              "      <th>data</th>\n",
              "      <th>relu</th>\n",
              "    </tr>\n",
              "  </thead>\n",
              "  <tbody>\n",
              "    <tr>\n",
              "      <th>0</th>\n",
              "      <td>-3.000000</td>\n",
              "      <td>0.0</td>\n",
              "    </tr>\n",
              "    <tr>\n",
              "      <th>1</th>\n",
              "      <td>-2.979933</td>\n",
              "      <td>0.0</td>\n",
              "    </tr>\n",
              "    <tr>\n",
              "      <th>2</th>\n",
              "      <td>-2.959866</td>\n",
              "      <td>0.0</td>\n",
              "    </tr>\n",
              "    <tr>\n",
              "      <th>3</th>\n",
              "      <td>-2.939799</td>\n",
              "      <td>0.0</td>\n",
              "    </tr>\n",
              "    <tr>\n",
              "      <th>4</th>\n",
              "      <td>-2.919732</td>\n",
              "      <td>0.0</td>\n",
              "    </tr>\n",
              "  </tbody>\n",
              "</table>\n",
              "</div>\n",
              "    <div class=\"colab-df-buttons\">\n",
              "\n",
              "  <div class=\"colab-df-container\">\n",
              "    <button class=\"colab-df-convert\" onclick=\"convertToInteractive('df-48dae819-b6ec-48f8-b615-7835973b481a')\"\n",
              "            title=\"Convert this dataframe to an interactive table.\"\n",
              "            style=\"display:none;\">\n",
              "\n",
              "  <svg xmlns=\"http://www.w3.org/2000/svg\" height=\"24px\" viewBox=\"0 -960 960 960\">\n",
              "    <path d=\"M120-120v-720h720v720H120Zm60-500h600v-160H180v160Zm220 220h160v-160H400v160Zm0 220h160v-160H400v160ZM180-400h160v-160H180v160Zm440 0h160v-160H620v160ZM180-180h160v-160H180v160Zm440 0h160v-160H620v160Z\"/>\n",
              "  </svg>\n",
              "    </button>\n",
              "\n",
              "  <style>\n",
              "    .colab-df-container {\n",
              "      display:flex;\n",
              "      gap: 12px;\n",
              "    }\n",
              "\n",
              "    .colab-df-convert {\n",
              "      background-color: #E8F0FE;\n",
              "      border: none;\n",
              "      border-radius: 50%;\n",
              "      cursor: pointer;\n",
              "      display: none;\n",
              "      fill: #1967D2;\n",
              "      height: 32px;\n",
              "      padding: 0 0 0 0;\n",
              "      width: 32px;\n",
              "    }\n",
              "\n",
              "    .colab-df-convert:hover {\n",
              "      background-color: #E2EBFA;\n",
              "      box-shadow: 0px 1px 2px rgba(60, 64, 67, 0.3), 0px 1px 3px 1px rgba(60, 64, 67, 0.15);\n",
              "      fill: #174EA6;\n",
              "    }\n",
              "\n",
              "    .colab-df-buttons div {\n",
              "      margin-bottom: 4px;\n",
              "    }\n",
              "\n",
              "    [theme=dark] .colab-df-convert {\n",
              "      background-color: #3B4455;\n",
              "      fill: #D2E3FC;\n",
              "    }\n",
              "\n",
              "    [theme=dark] .colab-df-convert:hover {\n",
              "      background-color: #434B5C;\n",
              "      box-shadow: 0px 1px 3px 1px rgba(0, 0, 0, 0.15);\n",
              "      filter: drop-shadow(0px 1px 2px rgba(0, 0, 0, 0.3));\n",
              "      fill: #FFFFFF;\n",
              "    }\n",
              "  </style>\n",
              "\n",
              "    <script>\n",
              "      const buttonEl =\n",
              "        document.querySelector('#df-48dae819-b6ec-48f8-b615-7835973b481a button.colab-df-convert');\n",
              "      buttonEl.style.display =\n",
              "        google.colab.kernel.accessAllowed ? 'block' : 'none';\n",
              "\n",
              "      async function convertToInteractive(key) {\n",
              "        const element = document.querySelector('#df-48dae819-b6ec-48f8-b615-7835973b481a');\n",
              "        const dataTable =\n",
              "          await google.colab.kernel.invokeFunction('convertToInteractive',\n",
              "                                                    [key], {});\n",
              "        if (!dataTable) return;\n",
              "\n",
              "        const docLinkHtml = 'Like what you see? Visit the ' +\n",
              "          '<a target=\"_blank\" href=https://colab.research.google.com/notebooks/data_table.ipynb>data table notebook</a>'\n",
              "          + ' to learn more about interactive tables.';\n",
              "        element.innerHTML = '';\n",
              "        dataTable['output_type'] = 'display_data';\n",
              "        await google.colab.output.renderOutput(dataTable, element);\n",
              "        const docLink = document.createElement('div');\n",
              "        docLink.innerHTML = docLinkHtml;\n",
              "        element.appendChild(docLink);\n",
              "      }\n",
              "    </script>\n",
              "  </div>\n",
              "\n",
              "\n",
              "<div id=\"df-c785537e-9f65-4740-b108-f77cb709009c\">\n",
              "  <button class=\"colab-df-quickchart\" onclick=\"quickchart('df-c785537e-9f65-4740-b108-f77cb709009c')\"\n",
              "            title=\"Suggest charts\"\n",
              "            style=\"display:none;\">\n",
              "\n",
              "<svg xmlns=\"http://www.w3.org/2000/svg\" height=\"24px\"viewBox=\"0 0 24 24\"\n",
              "     width=\"24px\">\n",
              "    <g>\n",
              "        <path d=\"M19 3H5c-1.1 0-2 .9-2 2v14c0 1.1.9 2 2 2h14c1.1 0 2-.9 2-2V5c0-1.1-.9-2-2-2zM9 17H7v-7h2v7zm4 0h-2V7h2v10zm4 0h-2v-4h2v4z\"/>\n",
              "    </g>\n",
              "</svg>\n",
              "  </button>\n",
              "\n",
              "<style>\n",
              "  .colab-df-quickchart {\n",
              "      --bg-color: #E8F0FE;\n",
              "      --fill-color: #1967D2;\n",
              "      --hover-bg-color: #E2EBFA;\n",
              "      --hover-fill-color: #174EA6;\n",
              "      --disabled-fill-color: #AAA;\n",
              "      --disabled-bg-color: #DDD;\n",
              "  }\n",
              "\n",
              "  [theme=dark] .colab-df-quickchart {\n",
              "      --bg-color: #3B4455;\n",
              "      --fill-color: #D2E3FC;\n",
              "      --hover-bg-color: #434B5C;\n",
              "      --hover-fill-color: #FFFFFF;\n",
              "      --disabled-bg-color: #3B4455;\n",
              "      --disabled-fill-color: #666;\n",
              "  }\n",
              "\n",
              "  .colab-df-quickchart {\n",
              "    background-color: var(--bg-color);\n",
              "    border: none;\n",
              "    border-radius: 50%;\n",
              "    cursor: pointer;\n",
              "    display: none;\n",
              "    fill: var(--fill-color);\n",
              "    height: 32px;\n",
              "    padding: 0;\n",
              "    width: 32px;\n",
              "  }\n",
              "\n",
              "  .colab-df-quickchart:hover {\n",
              "    background-color: var(--hover-bg-color);\n",
              "    box-shadow: 0 1px 2px rgba(60, 64, 67, 0.3), 0 1px 3px 1px rgba(60, 64, 67, 0.15);\n",
              "    fill: var(--button-hover-fill-color);\n",
              "  }\n",
              "\n",
              "  .colab-df-quickchart-complete:disabled,\n",
              "  .colab-df-quickchart-complete:disabled:hover {\n",
              "    background-color: var(--disabled-bg-color);\n",
              "    fill: var(--disabled-fill-color);\n",
              "    box-shadow: none;\n",
              "  }\n",
              "\n",
              "  .colab-df-spinner {\n",
              "    border: 2px solid var(--fill-color);\n",
              "    border-color: transparent;\n",
              "    border-bottom-color: var(--fill-color);\n",
              "    animation:\n",
              "      spin 1s steps(1) infinite;\n",
              "  }\n",
              "\n",
              "  @keyframes spin {\n",
              "    0% {\n",
              "      border-color: transparent;\n",
              "      border-bottom-color: var(--fill-color);\n",
              "      border-left-color: var(--fill-color);\n",
              "    }\n",
              "    20% {\n",
              "      border-color: transparent;\n",
              "      border-left-color: var(--fill-color);\n",
              "      border-top-color: var(--fill-color);\n",
              "    }\n",
              "    30% {\n",
              "      border-color: transparent;\n",
              "      border-left-color: var(--fill-color);\n",
              "      border-top-color: var(--fill-color);\n",
              "      border-right-color: var(--fill-color);\n",
              "    }\n",
              "    40% {\n",
              "      border-color: transparent;\n",
              "      border-right-color: var(--fill-color);\n",
              "      border-top-color: var(--fill-color);\n",
              "    }\n",
              "    60% {\n",
              "      border-color: transparent;\n",
              "      border-right-color: var(--fill-color);\n",
              "    }\n",
              "    80% {\n",
              "      border-color: transparent;\n",
              "      border-right-color: var(--fill-color);\n",
              "      border-bottom-color: var(--fill-color);\n",
              "    }\n",
              "    90% {\n",
              "      border-color: transparent;\n",
              "      border-bottom-color: var(--fill-color);\n",
              "    }\n",
              "  }\n",
              "</style>\n",
              "\n",
              "  <script>\n",
              "    async function quickchart(key) {\n",
              "      const quickchartButtonEl =\n",
              "        document.querySelector('#' + key + ' button');\n",
              "      quickchartButtonEl.disabled = true;  // To prevent multiple clicks.\n",
              "      quickchartButtonEl.classList.add('colab-df-spinner');\n",
              "      try {\n",
              "        const charts = await google.colab.kernel.invokeFunction(\n",
              "            'suggestCharts', [key], {});\n",
              "      } catch (error) {\n",
              "        console.error('Error during call to suggestCharts:', error);\n",
              "      }\n",
              "      quickchartButtonEl.classList.remove('colab-df-spinner');\n",
              "      quickchartButtonEl.classList.add('colab-df-quickchart-complete');\n",
              "    }\n",
              "    (() => {\n",
              "      let quickchartButtonEl =\n",
              "        document.querySelector('#df-c785537e-9f65-4740-b108-f77cb709009c button');\n",
              "      quickchartButtonEl.style.display =\n",
              "        google.colab.kernel.accessAllowed ? 'block' : 'none';\n",
              "    })();\n",
              "  </script>\n",
              "</div>\n",
              "\n",
              "    </div>\n",
              "  </div>\n"
            ],
            "application/vnd.google.colaboratory.intrinsic+json": {
              "type": "dataframe",
              "variable_name": "data",
              "summary": "{\n  \"name\": \"data\",\n  \"rows\": 300,\n  \"fields\": [\n    {\n      \"column\": \"data\",\n      \"properties\": {\n        \"dtype\": \"number\",\n        \"std\": 1.7407376160097798,\n        \"min\": -3.0,\n        \"max\": 3.0,\n        \"num_unique_values\": 300,\n        \"samples\": [\n          1.0735785953177261,\n          2.3377926421404682,\n          0.05016722408026775\n        ],\n        \"semantic_type\": \"\",\n        \"description\": \"\"\n      }\n    },\n    {\n      \"column\": \"relu\",\n      \"properties\": {\n        \"dtype\": \"number\",\n        \"std\": 0.9730986663827175,\n        \"min\": 0.0,\n        \"max\": 3.0,\n        \"num_unique_values\": 151,\n        \"samples\": [\n          1.5150501672240804,\n          0.3511705685618729,\n          1.6354515050167224\n        ],\n        \"semantic_type\": \"\",\n        \"description\": \"\"\n      }\n    }\n  ]\n}"
            }
          },
          "metadata": {},
          "execution_count": 10
        }
      ]
    },
    {
      "cell_type": "code",
      "source": [
        "px.line(data, x='data', y='relu', width=500, height=400, range_y=[-0.5, 1.5])"
      ],
      "metadata": {
        "colab": {
          "base_uri": "https://localhost:8080/",
          "height": 417
        },
        "id": "mwzu9Zuu3oBB",
        "outputId": "a36331b0-8b97-45a4-cc8f-231a7659f1ff"
      },
      "execution_count": 11,
      "outputs": [
        {
          "output_type": "display_data",
          "data": {
            "text/html": [
              "<html>\n",
              "<head><meta charset=\"utf-8\" /></head>\n",
              "<body>\n",
              "    <div>            <script src=\"https://cdnjs.cloudflare.com/ajax/libs/mathjax/2.7.5/MathJax.js?config=TeX-AMS-MML_SVG\"></script><script type=\"text/javascript\">if (window.MathJax && window.MathJax.Hub && window.MathJax.Hub.Config) {window.MathJax.Hub.Config({SVG: {font: \"STIX-Web\"}});}</script>                <script type=\"text/javascript\">window.PlotlyConfig = {MathJaxConfig: 'local'};</script>\n",
              "        <script charset=\"utf-8\" src=\"https://cdn.plot.ly/plotly-2.24.1.min.js\"></script>                <div id=\"cc75a2fe-763e-4b8b-b61a-c136c474b92f\" class=\"plotly-graph-div\" style=\"height:400px; width:500px;\"></div>            <script type=\"text/javascript\">                                    window.PLOTLYENV=window.PLOTLYENV || {};                                    if (document.getElementById(\"cc75a2fe-763e-4b8b-b61a-c136c474b92f\")) {                    Plotly.newPlot(                        \"cc75a2fe-763e-4b8b-b61a-c136c474b92f\",                        [{\"hovertemplate\":\"data=%{x}\\u003cbr\\u003erelu=%{y}\\u003cextra\\u003e\\u003c\\u002fextra\\u003e\",\"legendgroup\":\"\",\"line\":{\"color\":\"#636efa\",\"dash\":\"solid\"},\"marker\":{\"symbol\":\"circle\"},\"mode\":\"lines\",\"name\":\"\",\"orientation\":\"v\",\"showlegend\":false,\"x\":[-3.0,-2.979933110367893,-2.959866220735786,-2.939799331103679,-2.919732441471572,-2.899665551839465,-2.879598662207358,-2.859531772575251,-2.839464882943144,-2.819397993311037,-2.79933110367893,-2.779264214046823,-2.759197324414716,-2.739130434782609,-2.719063545150502,-2.6989966555183944,-2.678929765886288,-2.6588628762541804,-2.638795986622074,-2.6187290969899664,-2.5986622073578594,-2.5785953177257523,-2.5585284280936453,-2.5384615384615383,-2.5183946488294313,-2.4983277591973243,-2.4782608695652173,-2.4581939799331103,-2.4381270903010033,-2.4180602006688963,-2.3979933110367893,-2.3779264214046822,-2.3578595317725752,-2.3377926421404682,-2.317725752508361,-2.297658862876254,-2.277591973244147,-2.25752508361204,-2.237458193979933,-2.217391304347826,-2.197324414715719,-2.177257525083612,-2.157190635451505,-2.137123745819398,-2.1170568561872907,-2.096989966555184,-2.0769230769230766,-2.05685618729097,-2.0367892976588626,-2.016722408026756,-1.9966555183946488,-1.9765886287625418,-1.9565217391304348,-1.9364548494983278,-1.9163879598662208,-1.8963210702341138,-1.8762541806020065,-1.8561872909698995,-1.8361204013377925,-1.8160535117056855,-1.7959866220735785,-1.7759197324414715,-1.7558528428093645,-1.7357859531772575,-1.7157190635451505,-1.6956521739130435,-1.6755852842809364,-1.6555183946488294,-1.6354515050167224,-1.6153846153846154,-1.5953177257525084,-1.5752508361204014,-1.5551839464882944,-1.5351170568561872,-1.5150501672240801,-1.4949832775919731,-1.4749163879598661,-1.4548494983277591,-1.434782608695652,-1.414715719063545,-1.394648829431438,-1.374581939799331,-1.354515050167224,-1.334448160535117,-1.31438127090301,-1.294314381270903,-1.274247491638796,-1.254180602006689,-1.2341137123745818,-1.2140468227424748,-1.1939799331103678,-1.1739130434782608,-1.1538461538461537,-1.1337792642140467,-1.1137123745819397,-1.0936454849498327,-1.0735785953177257,-1.0535117056856187,-1.0334448160535117,-1.0133779264214047,-0.9933110367892977,-0.9732441471571907,-0.9531772575250836,-0.9331103678929766,-0.9130434782608696,-0.8929765886287626,-0.8729096989966556,-0.8528428093645486,-0.8327759197324416,-0.8127090301003346,-0.7926421404682276,-0.7725752508361206,-0.7525083612040131,-0.7324414715719061,-0.7123745819397991,-0.6923076923076921,-0.6722408026755851,-0.652173913043478,-0.632107023411371,-0.612040133779264,-0.591973244147157,-0.57190635451505,-0.551839464882943,-0.531772575250836,-0.511705685618729,-0.49163879598662197,-0.47157190635451496,-0.45150501672240795,-0.43143812709030094,-0.41137123745819393,-0.3913043478260869,-0.3712374581939799,-0.3511705685618729,-0.3311036789297659,-0.3110367892976589,-0.29096989966555187,-0.27090301003344486,-0.25083612040133785,-0.23076923076923084,-0.21070234113712383,-0.19063545150501682,-0.1705685618729098,-0.1505016722408028,-0.1304347826086958,-0.11036789297658878,-0.09030100334448132,-0.07023411371237431,-0.0501672240802673,-0.030100334448160293,-0.010033444816053283,0.010033444816053727,0.030100334448160737,0.05016722408026775,0.07023411371237476,0.09030100334448177,0.11036789297658878,0.1304347826086958,0.1505016722408028,0.1705685618729098,0.19063545150501682,0.21070234113712383,0.23076923076923084,0.25083612040133785,0.27090301003344486,0.29096989966555187,0.3110367892976589,0.3311036789297659,0.3511705685618729,0.3712374581939799,0.3913043478260869,0.41137123745819393,0.43143812709030094,0.45150501672240795,0.47157190635451496,0.49163879598662197,0.511705685618729,0.5317725752508364,0.5518394648829434,0.5719063545150505,0.5919732441471575,0.6120401337792645,0.6321070234113715,0.6521739130434785,0.6722408026755855,0.6923076923076925,0.7123745819397995,0.7324414715719065,0.7525083612040135,0.7725752508361206,0.7926421404682276,0.8127090301003346,0.8327759197324416,0.8528428093645486,0.8729096989966556,0.8929765886287626,0.9130434782608696,0.9331103678929766,0.9531772575250836,0.9732441471571907,0.9933110367892977,1.0133779264214047,1.0334448160535121,1.0535117056856187,1.0735785953177261,1.0936454849498327,1.1137123745819402,1.1337792642140467,1.1538461538461542,1.1739130434782608,1.1939799331103682,1.2140468227424748,1.2341137123745822,1.2541806020066888,1.2742474916387962,1.2943143812709028,1.3143812709030103,1.3344481605351168,1.3545150501672243,1.3745819397993309,1.3946488294314383,1.4147157190635449,1.4347826086956523,1.454849498327759,1.4749163879598663,1.4949832775919738,1.5150501672240804,1.5351170568561878,1.5551839464882944,1.5752508361204018,1.5953177257525084,1.6153846153846159,1.6354515050167224,1.6555183946488299,1.6755852842809364,1.695652173913044,1.7157190635451505,1.735785953177258,1.7558528428093645,1.775919732441472,1.7959866220735785,1.816053511705686,1.8361204013377925,1.8561872909699,1.8762541806020065,1.896321070234114,1.9163879598662206,1.936454849498328,1.9565217391304346,1.976588628762542,1.9966555183946486,2.016722408026756,2.0367892976588626,2.05685618729097,2.0769230769230766,2.096989966555184,2.1170568561872907,2.137123745819398,2.1571906354515056,2.177257525083612,2.1973244147157196,2.217391304347826,2.2374581939799336,2.25752508361204,2.2775919732441476,2.297658862876254,2.3177257525083617,2.3377926421404682,2.3578595317725757,2.3779264214046822,2.3979933110367897,2.4180602006688963,2.4381270903010037,2.4581939799331103,2.4782608695652177,2.4983277591973243,2.5183946488294318,2.5384615384615383,2.558528428093646,2.5785953177257523,2.59866220735786,2.6187290969899664,2.638795986622074,2.6588628762541804,2.678929765886288,2.6989966555183944,2.719063545150502,2.7391304347826084,2.759197324414716,2.7792642140468224,2.79933110367893,2.8193979933110374,2.839464882943144,2.8595317725752514,2.879598662207358,2.8996655518394654,2.919732441471572,2.9397993311036794,2.959866220735786,2.9799331103678934,3.0],\"xaxis\":\"x\",\"y\":[0.0,0.0,0.0,0.0,0.0,0.0,0.0,0.0,0.0,0.0,0.0,0.0,0.0,0.0,0.0,0.0,0.0,0.0,0.0,0.0,0.0,0.0,0.0,0.0,0.0,0.0,0.0,0.0,0.0,0.0,0.0,0.0,0.0,0.0,0.0,0.0,0.0,0.0,0.0,0.0,0.0,0.0,0.0,0.0,0.0,0.0,0.0,0.0,0.0,0.0,0.0,0.0,0.0,0.0,0.0,0.0,0.0,0.0,0.0,0.0,0.0,0.0,0.0,0.0,0.0,0.0,0.0,0.0,0.0,0.0,0.0,0.0,0.0,0.0,0.0,0.0,0.0,0.0,0.0,0.0,0.0,0.0,0.0,0.0,0.0,0.0,0.0,0.0,0.0,0.0,0.0,0.0,0.0,0.0,0.0,0.0,0.0,0.0,0.0,0.0,0.0,0.0,0.0,0.0,0.0,0.0,0.0,0.0,0.0,0.0,0.0,0.0,0.0,0.0,0.0,0.0,0.0,0.0,0.0,0.0,0.0,0.0,0.0,0.0,0.0,0.0,0.0,0.0,0.0,0.0,0.0,0.0,0.0,0.0,0.0,0.0,0.0,0.0,0.0,0.0,0.0,0.0,0.0,0.0,0.0,0.0,0.0,0.0,0.0,0.0,0.010033444816053727,0.030100334448160737,0.05016722408026775,0.07023411371237476,0.09030100334448177,0.11036789297658878,0.1304347826086958,0.1505016722408028,0.1705685618729098,0.19063545150501682,0.21070234113712383,0.23076923076923084,0.25083612040133785,0.27090301003344486,0.29096989966555187,0.3110367892976589,0.3311036789297659,0.3511705685618729,0.3712374581939799,0.3913043478260869,0.41137123745819393,0.43143812709030094,0.45150501672240795,0.47157190635451496,0.49163879598662197,0.511705685618729,0.5317725752508364,0.5518394648829434,0.5719063545150505,0.5919732441471575,0.6120401337792645,0.6321070234113715,0.6521739130434785,0.6722408026755855,0.6923076923076925,0.7123745819397995,0.7324414715719065,0.7525083612040135,0.7725752508361206,0.7926421404682276,0.8127090301003346,0.8327759197324416,0.8528428093645486,0.8729096989966556,0.8929765886287626,0.9130434782608696,0.9331103678929766,0.9531772575250836,0.9732441471571907,0.9933110367892977,1.0133779264214047,1.0334448160535121,1.0535117056856187,1.0735785953177261,1.0936454849498327,1.1137123745819402,1.1337792642140467,1.1538461538461542,1.1739130434782608,1.1939799331103682,1.2140468227424748,1.2341137123745822,1.2541806020066888,1.2742474916387962,1.2943143812709028,1.3143812709030103,1.3344481605351168,1.3545150501672243,1.3745819397993309,1.3946488294314383,1.4147157190635449,1.4347826086956523,1.454849498327759,1.4749163879598663,1.4949832775919738,1.5150501672240804,1.5351170568561878,1.5551839464882944,1.5752508361204018,1.5953177257525084,1.6153846153846159,1.6354515050167224,1.6555183946488299,1.6755852842809364,1.695652173913044,1.7157190635451505,1.735785953177258,1.7558528428093645,1.775919732441472,1.7959866220735785,1.816053511705686,1.8361204013377925,1.8561872909699,1.8762541806020065,1.896321070234114,1.9163879598662206,1.936454849498328,1.9565217391304346,1.976588628762542,1.9966555183946486,2.016722408026756,2.0367892976588626,2.05685618729097,2.0769230769230766,2.096989966555184,2.1170568561872907,2.137123745819398,2.1571906354515056,2.177257525083612,2.1973244147157196,2.217391304347826,2.2374581939799336,2.25752508361204,2.2775919732441476,2.297658862876254,2.3177257525083617,2.3377926421404682,2.3578595317725757,2.3779264214046822,2.3979933110367897,2.4180602006688963,2.4381270903010037,2.4581939799331103,2.4782608695652177,2.4983277591973243,2.5183946488294318,2.5384615384615383,2.558528428093646,2.5785953177257523,2.59866220735786,2.6187290969899664,2.638795986622074,2.6588628762541804,2.678929765886288,2.6989966555183944,2.719063545150502,2.7391304347826084,2.759197324414716,2.7792642140468224,2.79933110367893,2.8193979933110374,2.839464882943144,2.8595317725752514,2.879598662207358,2.8996655518394654,2.919732441471572,2.9397993311036794,2.959866220735786,2.9799331103678934,3.0],\"yaxis\":\"y\",\"type\":\"scatter\"}],                        {\"template\":{\"data\":{\"histogram2dcontour\":[{\"type\":\"histogram2dcontour\",\"colorbar\":{\"outlinewidth\":0,\"ticks\":\"\"},\"colorscale\":[[0.0,\"#0d0887\"],[0.1111111111111111,\"#46039f\"],[0.2222222222222222,\"#7201a8\"],[0.3333333333333333,\"#9c179e\"],[0.4444444444444444,\"#bd3786\"],[0.5555555555555556,\"#d8576b\"],[0.6666666666666666,\"#ed7953\"],[0.7777777777777778,\"#fb9f3a\"],[0.8888888888888888,\"#fdca26\"],[1.0,\"#f0f921\"]]}],\"choropleth\":[{\"type\":\"choropleth\",\"colorbar\":{\"outlinewidth\":0,\"ticks\":\"\"}}],\"histogram2d\":[{\"type\":\"histogram2d\",\"colorbar\":{\"outlinewidth\":0,\"ticks\":\"\"},\"colorscale\":[[0.0,\"#0d0887\"],[0.1111111111111111,\"#46039f\"],[0.2222222222222222,\"#7201a8\"],[0.3333333333333333,\"#9c179e\"],[0.4444444444444444,\"#bd3786\"],[0.5555555555555556,\"#d8576b\"],[0.6666666666666666,\"#ed7953\"],[0.7777777777777778,\"#fb9f3a\"],[0.8888888888888888,\"#fdca26\"],[1.0,\"#f0f921\"]]}],\"heatmap\":[{\"type\":\"heatmap\",\"colorbar\":{\"outlinewidth\":0,\"ticks\":\"\"},\"colorscale\":[[0.0,\"#0d0887\"],[0.1111111111111111,\"#46039f\"],[0.2222222222222222,\"#7201a8\"],[0.3333333333333333,\"#9c179e\"],[0.4444444444444444,\"#bd3786\"],[0.5555555555555556,\"#d8576b\"],[0.6666666666666666,\"#ed7953\"],[0.7777777777777778,\"#fb9f3a\"],[0.8888888888888888,\"#fdca26\"],[1.0,\"#f0f921\"]]}],\"heatmapgl\":[{\"type\":\"heatmapgl\",\"colorbar\":{\"outlinewidth\":0,\"ticks\":\"\"},\"colorscale\":[[0.0,\"#0d0887\"],[0.1111111111111111,\"#46039f\"],[0.2222222222222222,\"#7201a8\"],[0.3333333333333333,\"#9c179e\"],[0.4444444444444444,\"#bd3786\"],[0.5555555555555556,\"#d8576b\"],[0.6666666666666666,\"#ed7953\"],[0.7777777777777778,\"#fb9f3a\"],[0.8888888888888888,\"#fdca26\"],[1.0,\"#f0f921\"]]}],\"contourcarpet\":[{\"type\":\"contourcarpet\",\"colorbar\":{\"outlinewidth\":0,\"ticks\":\"\"}}],\"contour\":[{\"type\":\"contour\",\"colorbar\":{\"outlinewidth\":0,\"ticks\":\"\"},\"colorscale\":[[0.0,\"#0d0887\"],[0.1111111111111111,\"#46039f\"],[0.2222222222222222,\"#7201a8\"],[0.3333333333333333,\"#9c179e\"],[0.4444444444444444,\"#bd3786\"],[0.5555555555555556,\"#d8576b\"],[0.6666666666666666,\"#ed7953\"],[0.7777777777777778,\"#fb9f3a\"],[0.8888888888888888,\"#fdca26\"],[1.0,\"#f0f921\"]]}],\"surface\":[{\"type\":\"surface\",\"colorbar\":{\"outlinewidth\":0,\"ticks\":\"\"},\"colorscale\":[[0.0,\"#0d0887\"],[0.1111111111111111,\"#46039f\"],[0.2222222222222222,\"#7201a8\"],[0.3333333333333333,\"#9c179e\"],[0.4444444444444444,\"#bd3786\"],[0.5555555555555556,\"#d8576b\"],[0.6666666666666666,\"#ed7953\"],[0.7777777777777778,\"#fb9f3a\"],[0.8888888888888888,\"#fdca26\"],[1.0,\"#f0f921\"]]}],\"mesh3d\":[{\"type\":\"mesh3d\",\"colorbar\":{\"outlinewidth\":0,\"ticks\":\"\"}}],\"scatter\":[{\"fillpattern\":{\"fillmode\":\"overlay\",\"size\":10,\"solidity\":0.2},\"type\":\"scatter\"}],\"parcoords\":[{\"type\":\"parcoords\",\"line\":{\"colorbar\":{\"outlinewidth\":0,\"ticks\":\"\"}}}],\"scatterpolargl\":[{\"type\":\"scatterpolargl\",\"marker\":{\"colorbar\":{\"outlinewidth\":0,\"ticks\":\"\"}}}],\"bar\":[{\"error_x\":{\"color\":\"#2a3f5f\"},\"error_y\":{\"color\":\"#2a3f5f\"},\"marker\":{\"line\":{\"color\":\"#E5ECF6\",\"width\":0.5},\"pattern\":{\"fillmode\":\"overlay\",\"size\":10,\"solidity\":0.2}},\"type\":\"bar\"}],\"scattergeo\":[{\"type\":\"scattergeo\",\"marker\":{\"colorbar\":{\"outlinewidth\":0,\"ticks\":\"\"}}}],\"scatterpolar\":[{\"type\":\"scatterpolar\",\"marker\":{\"colorbar\":{\"outlinewidth\":0,\"ticks\":\"\"}}}],\"histogram\":[{\"marker\":{\"pattern\":{\"fillmode\":\"overlay\",\"size\":10,\"solidity\":0.2}},\"type\":\"histogram\"}],\"scattergl\":[{\"type\":\"scattergl\",\"marker\":{\"colorbar\":{\"outlinewidth\":0,\"ticks\":\"\"}}}],\"scatter3d\":[{\"type\":\"scatter3d\",\"line\":{\"colorbar\":{\"outlinewidth\":0,\"ticks\":\"\"}},\"marker\":{\"colorbar\":{\"outlinewidth\":0,\"ticks\":\"\"}}}],\"scattermapbox\":[{\"type\":\"scattermapbox\",\"marker\":{\"colorbar\":{\"outlinewidth\":0,\"ticks\":\"\"}}}],\"scatterternary\":[{\"type\":\"scatterternary\",\"marker\":{\"colorbar\":{\"outlinewidth\":0,\"ticks\":\"\"}}}],\"scattercarpet\":[{\"type\":\"scattercarpet\",\"marker\":{\"colorbar\":{\"outlinewidth\":0,\"ticks\":\"\"}}}],\"carpet\":[{\"aaxis\":{\"endlinecolor\":\"#2a3f5f\",\"gridcolor\":\"white\",\"linecolor\":\"white\",\"minorgridcolor\":\"white\",\"startlinecolor\":\"#2a3f5f\"},\"baxis\":{\"endlinecolor\":\"#2a3f5f\",\"gridcolor\":\"white\",\"linecolor\":\"white\",\"minorgridcolor\":\"white\",\"startlinecolor\":\"#2a3f5f\"},\"type\":\"carpet\"}],\"table\":[{\"cells\":{\"fill\":{\"color\":\"#EBF0F8\"},\"line\":{\"color\":\"white\"}},\"header\":{\"fill\":{\"color\":\"#C8D4E3\"},\"line\":{\"color\":\"white\"}},\"type\":\"table\"}],\"barpolar\":[{\"marker\":{\"line\":{\"color\":\"#E5ECF6\",\"width\":0.5},\"pattern\":{\"fillmode\":\"overlay\",\"size\":10,\"solidity\":0.2}},\"type\":\"barpolar\"}],\"pie\":[{\"automargin\":true,\"type\":\"pie\"}]},\"layout\":{\"autotypenumbers\":\"strict\",\"colorway\":[\"#636efa\",\"#EF553B\",\"#00cc96\",\"#ab63fa\",\"#FFA15A\",\"#19d3f3\",\"#FF6692\",\"#B6E880\",\"#FF97FF\",\"#FECB52\"],\"font\":{\"color\":\"#2a3f5f\"},\"hovermode\":\"closest\",\"hoverlabel\":{\"align\":\"left\"},\"paper_bgcolor\":\"white\",\"plot_bgcolor\":\"#E5ECF6\",\"polar\":{\"bgcolor\":\"#E5ECF6\",\"angularaxis\":{\"gridcolor\":\"white\",\"linecolor\":\"white\",\"ticks\":\"\"},\"radialaxis\":{\"gridcolor\":\"white\",\"linecolor\":\"white\",\"ticks\":\"\"}},\"ternary\":{\"bgcolor\":\"#E5ECF6\",\"aaxis\":{\"gridcolor\":\"white\",\"linecolor\":\"white\",\"ticks\":\"\"},\"baxis\":{\"gridcolor\":\"white\",\"linecolor\":\"white\",\"ticks\":\"\"},\"caxis\":{\"gridcolor\":\"white\",\"linecolor\":\"white\",\"ticks\":\"\"}},\"coloraxis\":{\"colorbar\":{\"outlinewidth\":0,\"ticks\":\"\"}},\"colorscale\":{\"sequential\":[[0.0,\"#0d0887\"],[0.1111111111111111,\"#46039f\"],[0.2222222222222222,\"#7201a8\"],[0.3333333333333333,\"#9c179e\"],[0.4444444444444444,\"#bd3786\"],[0.5555555555555556,\"#d8576b\"],[0.6666666666666666,\"#ed7953\"],[0.7777777777777778,\"#fb9f3a\"],[0.8888888888888888,\"#fdca26\"],[1.0,\"#f0f921\"]],\"sequentialminus\":[[0.0,\"#0d0887\"],[0.1111111111111111,\"#46039f\"],[0.2222222222222222,\"#7201a8\"],[0.3333333333333333,\"#9c179e\"],[0.4444444444444444,\"#bd3786\"],[0.5555555555555556,\"#d8576b\"],[0.6666666666666666,\"#ed7953\"],[0.7777777777777778,\"#fb9f3a\"],[0.8888888888888888,\"#fdca26\"],[1.0,\"#f0f921\"]],\"diverging\":[[0,\"#8e0152\"],[0.1,\"#c51b7d\"],[0.2,\"#de77ae\"],[0.3,\"#f1b6da\"],[0.4,\"#fde0ef\"],[0.5,\"#f7f7f7\"],[0.6,\"#e6f5d0\"],[0.7,\"#b8e186\"],[0.8,\"#7fbc41\"],[0.9,\"#4d9221\"],[1,\"#276419\"]]},\"xaxis\":{\"gridcolor\":\"white\",\"linecolor\":\"white\",\"ticks\":\"\",\"title\":{\"standoff\":15},\"zerolinecolor\":\"white\",\"automargin\":true,\"zerolinewidth\":2},\"yaxis\":{\"gridcolor\":\"white\",\"linecolor\":\"white\",\"ticks\":\"\",\"title\":{\"standoff\":15},\"zerolinecolor\":\"white\",\"automargin\":true,\"zerolinewidth\":2},\"scene\":{\"xaxis\":{\"backgroundcolor\":\"#E5ECF6\",\"gridcolor\":\"white\",\"linecolor\":\"white\",\"showbackground\":true,\"ticks\":\"\",\"zerolinecolor\":\"white\",\"gridwidth\":2},\"yaxis\":{\"backgroundcolor\":\"#E5ECF6\",\"gridcolor\":\"white\",\"linecolor\":\"white\",\"showbackground\":true,\"ticks\":\"\",\"zerolinecolor\":\"white\",\"gridwidth\":2},\"zaxis\":{\"backgroundcolor\":\"#E5ECF6\",\"gridcolor\":\"white\",\"linecolor\":\"white\",\"showbackground\":true,\"ticks\":\"\",\"zerolinecolor\":\"white\",\"gridwidth\":2}},\"shapedefaults\":{\"line\":{\"color\":\"#2a3f5f\"}},\"annotationdefaults\":{\"arrowcolor\":\"#2a3f5f\",\"arrowhead\":0,\"arrowwidth\":1},\"geo\":{\"bgcolor\":\"white\",\"landcolor\":\"#E5ECF6\",\"subunitcolor\":\"white\",\"showland\":true,\"showlakes\":true,\"lakecolor\":\"white\"},\"title\":{\"x\":0.05},\"mapbox\":{\"style\":\"light\"}}},\"xaxis\":{\"anchor\":\"y\",\"domain\":[0.0,1.0],\"title\":{\"text\":\"data\"}},\"yaxis\":{\"anchor\":\"x\",\"domain\":[0.0,1.0],\"title\":{\"text\":\"relu\"},\"range\":[-0.5,1.5]},\"legend\":{\"tracegroupgap\":0},\"margin\":{\"t\":60},\"height\":400,\"width\":500},                        {\"responsive\": true}                    ).then(function(){\n",
              "                            \n",
              "var gd = document.getElementById('cc75a2fe-763e-4b8b-b61a-c136c474b92f');\n",
              "var x = new MutationObserver(function (mutations, observer) {{\n",
              "        var display = window.getComputedStyle(gd).display;\n",
              "        if (!display || display === 'none') {{\n",
              "            console.log([gd, 'removed!']);\n",
              "            Plotly.purge(gd);\n",
              "            observer.disconnect();\n",
              "        }}\n",
              "}});\n",
              "\n",
              "// Listen for the removal of the full notebook cells\n",
              "var notebookContainer = gd.closest('#notebook-container');\n",
              "if (notebookContainer) {{\n",
              "    x.observe(notebookContainer, {childList: true});\n",
              "}}\n",
              "\n",
              "// Listen for the clearing of the current output cell\n",
              "var outputEl = gd.closest('.output');\n",
              "if (outputEl) {{\n",
              "    x.observe(outputEl, {childList: true});\n",
              "}}\n",
              "\n",
              "                        })                };                            </script>        </div>\n",
              "</body>\n",
              "</html>"
            ]
          },
          "metadata": {}
        }
      ]
    },
    {
      "cell_type": "code",
      "source": [
        "from tensorflow.keras.activations import tanh\n",
        "\n",
        "data = pd.DataFrame({'data': random_data, 'tanh': tanh(random_data)})\n",
        "data.head()"
      ],
      "metadata": {
        "colab": {
          "base_uri": "https://localhost:8080/",
          "height": 206
        },
        "id": "_AHT-sQo3q_-",
        "outputId": "781e1f26-f963-44b5-da25-9759ad9b7206"
      },
      "execution_count": 12,
      "outputs": [
        {
          "output_type": "execute_result",
          "data": {
            "text/plain": [
              "       data      tanh\n",
              "0 -3.000000 -0.995055\n",
              "1 -2.979933 -0.994853\n",
              "2 -2.959866 -0.994643\n",
              "3 -2.939799 -0.994424\n",
              "4 -2.919732 -0.994196"
            ],
            "text/html": [
              "\n",
              "  <div id=\"df-c16290bb-931e-4f5e-ac61-1cacb36a777a\" class=\"colab-df-container\">\n",
              "    <div>\n",
              "<style scoped>\n",
              "    .dataframe tbody tr th:only-of-type {\n",
              "        vertical-align: middle;\n",
              "    }\n",
              "\n",
              "    .dataframe tbody tr th {\n",
              "        vertical-align: top;\n",
              "    }\n",
              "\n",
              "    .dataframe thead th {\n",
              "        text-align: right;\n",
              "    }\n",
              "</style>\n",
              "<table border=\"1\" class=\"dataframe\">\n",
              "  <thead>\n",
              "    <tr style=\"text-align: right;\">\n",
              "      <th></th>\n",
              "      <th>data</th>\n",
              "      <th>tanh</th>\n",
              "    </tr>\n",
              "  </thead>\n",
              "  <tbody>\n",
              "    <tr>\n",
              "      <th>0</th>\n",
              "      <td>-3.000000</td>\n",
              "      <td>-0.995055</td>\n",
              "    </tr>\n",
              "    <tr>\n",
              "      <th>1</th>\n",
              "      <td>-2.979933</td>\n",
              "      <td>-0.994853</td>\n",
              "    </tr>\n",
              "    <tr>\n",
              "      <th>2</th>\n",
              "      <td>-2.959866</td>\n",
              "      <td>-0.994643</td>\n",
              "    </tr>\n",
              "    <tr>\n",
              "      <th>3</th>\n",
              "      <td>-2.939799</td>\n",
              "      <td>-0.994424</td>\n",
              "    </tr>\n",
              "    <tr>\n",
              "      <th>4</th>\n",
              "      <td>-2.919732</td>\n",
              "      <td>-0.994196</td>\n",
              "    </tr>\n",
              "  </tbody>\n",
              "</table>\n",
              "</div>\n",
              "    <div class=\"colab-df-buttons\">\n",
              "\n",
              "  <div class=\"colab-df-container\">\n",
              "    <button class=\"colab-df-convert\" onclick=\"convertToInteractive('df-c16290bb-931e-4f5e-ac61-1cacb36a777a')\"\n",
              "            title=\"Convert this dataframe to an interactive table.\"\n",
              "            style=\"display:none;\">\n",
              "\n",
              "  <svg xmlns=\"http://www.w3.org/2000/svg\" height=\"24px\" viewBox=\"0 -960 960 960\">\n",
              "    <path d=\"M120-120v-720h720v720H120Zm60-500h600v-160H180v160Zm220 220h160v-160H400v160Zm0 220h160v-160H400v160ZM180-400h160v-160H180v160Zm440 0h160v-160H620v160ZM180-180h160v-160H180v160Zm440 0h160v-160H620v160Z\"/>\n",
              "  </svg>\n",
              "    </button>\n",
              "\n",
              "  <style>\n",
              "    .colab-df-container {\n",
              "      display:flex;\n",
              "      gap: 12px;\n",
              "    }\n",
              "\n",
              "    .colab-df-convert {\n",
              "      background-color: #E8F0FE;\n",
              "      border: none;\n",
              "      border-radius: 50%;\n",
              "      cursor: pointer;\n",
              "      display: none;\n",
              "      fill: #1967D2;\n",
              "      height: 32px;\n",
              "      padding: 0 0 0 0;\n",
              "      width: 32px;\n",
              "    }\n",
              "\n",
              "    .colab-df-convert:hover {\n",
              "      background-color: #E2EBFA;\n",
              "      box-shadow: 0px 1px 2px rgba(60, 64, 67, 0.3), 0px 1px 3px 1px rgba(60, 64, 67, 0.15);\n",
              "      fill: #174EA6;\n",
              "    }\n",
              "\n",
              "    .colab-df-buttons div {\n",
              "      margin-bottom: 4px;\n",
              "    }\n",
              "\n",
              "    [theme=dark] .colab-df-convert {\n",
              "      background-color: #3B4455;\n",
              "      fill: #D2E3FC;\n",
              "    }\n",
              "\n",
              "    [theme=dark] .colab-df-convert:hover {\n",
              "      background-color: #434B5C;\n",
              "      box-shadow: 0px 1px 3px 1px rgba(0, 0, 0, 0.15);\n",
              "      filter: drop-shadow(0px 1px 2px rgba(0, 0, 0, 0.3));\n",
              "      fill: #FFFFFF;\n",
              "    }\n",
              "  </style>\n",
              "\n",
              "    <script>\n",
              "      const buttonEl =\n",
              "        document.querySelector('#df-c16290bb-931e-4f5e-ac61-1cacb36a777a button.colab-df-convert');\n",
              "      buttonEl.style.display =\n",
              "        google.colab.kernel.accessAllowed ? 'block' : 'none';\n",
              "\n",
              "      async function convertToInteractive(key) {\n",
              "        const element = document.querySelector('#df-c16290bb-931e-4f5e-ac61-1cacb36a777a');\n",
              "        const dataTable =\n",
              "          await google.colab.kernel.invokeFunction('convertToInteractive',\n",
              "                                                    [key], {});\n",
              "        if (!dataTable) return;\n",
              "\n",
              "        const docLinkHtml = 'Like what you see? Visit the ' +\n",
              "          '<a target=\"_blank\" href=https://colab.research.google.com/notebooks/data_table.ipynb>data table notebook</a>'\n",
              "          + ' to learn more about interactive tables.';\n",
              "        element.innerHTML = '';\n",
              "        dataTable['output_type'] = 'display_data';\n",
              "        await google.colab.output.renderOutput(dataTable, element);\n",
              "        const docLink = document.createElement('div');\n",
              "        docLink.innerHTML = docLinkHtml;\n",
              "        element.appendChild(docLink);\n",
              "      }\n",
              "    </script>\n",
              "  </div>\n",
              "\n",
              "\n",
              "<div id=\"df-1cff860d-0429-4da7-9269-745efb6e0ff4\">\n",
              "  <button class=\"colab-df-quickchart\" onclick=\"quickchart('df-1cff860d-0429-4da7-9269-745efb6e0ff4')\"\n",
              "            title=\"Suggest charts\"\n",
              "            style=\"display:none;\">\n",
              "\n",
              "<svg xmlns=\"http://www.w3.org/2000/svg\" height=\"24px\"viewBox=\"0 0 24 24\"\n",
              "     width=\"24px\">\n",
              "    <g>\n",
              "        <path d=\"M19 3H5c-1.1 0-2 .9-2 2v14c0 1.1.9 2 2 2h14c1.1 0 2-.9 2-2V5c0-1.1-.9-2-2-2zM9 17H7v-7h2v7zm4 0h-2V7h2v10zm4 0h-2v-4h2v4z\"/>\n",
              "    </g>\n",
              "</svg>\n",
              "  </button>\n",
              "\n",
              "<style>\n",
              "  .colab-df-quickchart {\n",
              "      --bg-color: #E8F0FE;\n",
              "      --fill-color: #1967D2;\n",
              "      --hover-bg-color: #E2EBFA;\n",
              "      --hover-fill-color: #174EA6;\n",
              "      --disabled-fill-color: #AAA;\n",
              "      --disabled-bg-color: #DDD;\n",
              "  }\n",
              "\n",
              "  [theme=dark] .colab-df-quickchart {\n",
              "      --bg-color: #3B4455;\n",
              "      --fill-color: #D2E3FC;\n",
              "      --hover-bg-color: #434B5C;\n",
              "      --hover-fill-color: #FFFFFF;\n",
              "      --disabled-bg-color: #3B4455;\n",
              "      --disabled-fill-color: #666;\n",
              "  }\n",
              "\n",
              "  .colab-df-quickchart {\n",
              "    background-color: var(--bg-color);\n",
              "    border: none;\n",
              "    border-radius: 50%;\n",
              "    cursor: pointer;\n",
              "    display: none;\n",
              "    fill: var(--fill-color);\n",
              "    height: 32px;\n",
              "    padding: 0;\n",
              "    width: 32px;\n",
              "  }\n",
              "\n",
              "  .colab-df-quickchart:hover {\n",
              "    background-color: var(--hover-bg-color);\n",
              "    box-shadow: 0 1px 2px rgba(60, 64, 67, 0.3), 0 1px 3px 1px rgba(60, 64, 67, 0.15);\n",
              "    fill: var(--button-hover-fill-color);\n",
              "  }\n",
              "\n",
              "  .colab-df-quickchart-complete:disabled,\n",
              "  .colab-df-quickchart-complete:disabled:hover {\n",
              "    background-color: var(--disabled-bg-color);\n",
              "    fill: var(--disabled-fill-color);\n",
              "    box-shadow: none;\n",
              "  }\n",
              "\n",
              "  .colab-df-spinner {\n",
              "    border: 2px solid var(--fill-color);\n",
              "    border-color: transparent;\n",
              "    border-bottom-color: var(--fill-color);\n",
              "    animation:\n",
              "      spin 1s steps(1) infinite;\n",
              "  }\n",
              "\n",
              "  @keyframes spin {\n",
              "    0% {\n",
              "      border-color: transparent;\n",
              "      border-bottom-color: var(--fill-color);\n",
              "      border-left-color: var(--fill-color);\n",
              "    }\n",
              "    20% {\n",
              "      border-color: transparent;\n",
              "      border-left-color: var(--fill-color);\n",
              "      border-top-color: var(--fill-color);\n",
              "    }\n",
              "    30% {\n",
              "      border-color: transparent;\n",
              "      border-left-color: var(--fill-color);\n",
              "      border-top-color: var(--fill-color);\n",
              "      border-right-color: var(--fill-color);\n",
              "    }\n",
              "    40% {\n",
              "      border-color: transparent;\n",
              "      border-right-color: var(--fill-color);\n",
              "      border-top-color: var(--fill-color);\n",
              "    }\n",
              "    60% {\n",
              "      border-color: transparent;\n",
              "      border-right-color: var(--fill-color);\n",
              "    }\n",
              "    80% {\n",
              "      border-color: transparent;\n",
              "      border-right-color: var(--fill-color);\n",
              "      border-bottom-color: var(--fill-color);\n",
              "    }\n",
              "    90% {\n",
              "      border-color: transparent;\n",
              "      border-bottom-color: var(--fill-color);\n",
              "    }\n",
              "  }\n",
              "</style>\n",
              "\n",
              "  <script>\n",
              "    async function quickchart(key) {\n",
              "      const quickchartButtonEl =\n",
              "        document.querySelector('#' + key + ' button');\n",
              "      quickchartButtonEl.disabled = true;  // To prevent multiple clicks.\n",
              "      quickchartButtonEl.classList.add('colab-df-spinner');\n",
              "      try {\n",
              "        const charts = await google.colab.kernel.invokeFunction(\n",
              "            'suggestCharts', [key], {});\n",
              "      } catch (error) {\n",
              "        console.error('Error during call to suggestCharts:', error);\n",
              "      }\n",
              "      quickchartButtonEl.classList.remove('colab-df-spinner');\n",
              "      quickchartButtonEl.classList.add('colab-df-quickchart-complete');\n",
              "    }\n",
              "    (() => {\n",
              "      let quickchartButtonEl =\n",
              "        document.querySelector('#df-1cff860d-0429-4da7-9269-745efb6e0ff4 button');\n",
              "      quickchartButtonEl.style.display =\n",
              "        google.colab.kernel.accessAllowed ? 'block' : 'none';\n",
              "    })();\n",
              "  </script>\n",
              "</div>\n",
              "\n",
              "    </div>\n",
              "  </div>\n"
            ],
            "application/vnd.google.colaboratory.intrinsic+json": {
              "type": "dataframe",
              "variable_name": "data",
              "summary": "{\n  \"name\": \"data\",\n  \"rows\": 300,\n  \"fields\": [\n    {\n      \"column\": \"data\",\n      \"properties\": {\n        \"dtype\": \"number\",\n        \"std\": 1.7407376160097798,\n        \"min\": -3.0,\n        \"max\": 3.0,\n        \"num_unique_values\": 300,\n        \"samples\": [\n          1.0735785953177261,\n          2.3377926421404682,\n          0.05016722408026775\n        ],\n        \"semantic_type\": \"\",\n        \"description\": \"\"\n      }\n    },\n    {\n      \"column\": \"tanh\",\n      \"properties\": {\n        \"dtype\": \"number\",\n        \"std\": 0.8195283927643969,\n        \"min\": -0.9950547536867305,\n        \"max\": 0.9950547536867305,\n        \"num_unique_values\": 300,\n        \"samples\": [\n          0.7908056562631864,\n          0.9815319858568546,\n          0.05012518027864118\n        ],\n        \"semantic_type\": \"\",\n        \"description\": \"\"\n      }\n    }\n  ]\n}"
            }
          },
          "metadata": {},
          "execution_count": 12
        }
      ]
    },
    {
      "cell_type": "code",
      "source": [
        "px.line(data, x='data', y='tanh', width=500, height=400, range_y=[-1.5, 1.5])"
      ],
      "metadata": {
        "colab": {
          "base_uri": "https://localhost:8080/",
          "height": 417
        },
        "id": "WvOwAqBH3tjY",
        "outputId": "1df4edeb-8569-4e40-8ecc-2e1fddf655f1"
      },
      "execution_count": 13,
      "outputs": [
        {
          "output_type": "display_data",
          "data": {
            "text/html": [
              "<html>\n",
              "<head><meta charset=\"utf-8\" /></head>\n",
              "<body>\n",
              "    <div>            <script src=\"https://cdnjs.cloudflare.com/ajax/libs/mathjax/2.7.5/MathJax.js?config=TeX-AMS-MML_SVG\"></script><script type=\"text/javascript\">if (window.MathJax && window.MathJax.Hub && window.MathJax.Hub.Config) {window.MathJax.Hub.Config({SVG: {font: \"STIX-Web\"}});}</script>                <script type=\"text/javascript\">window.PlotlyConfig = {MathJaxConfig: 'local'};</script>\n",
              "        <script charset=\"utf-8\" src=\"https://cdn.plot.ly/plotly-2.24.1.min.js\"></script>                <div id=\"8c8b2db3-930d-474c-9660-7b6fb38760df\" class=\"plotly-graph-div\" style=\"height:400px; width:500px;\"></div>            <script type=\"text/javascript\">                                    window.PLOTLYENV=window.PLOTLYENV || {};                                    if (document.getElementById(\"8c8b2db3-930d-474c-9660-7b6fb38760df\")) {                    Plotly.newPlot(                        \"8c8b2db3-930d-474c-9660-7b6fb38760df\",                        [{\"hovertemplate\":\"data=%{x}\\u003cbr\\u003etanh=%{y}\\u003cextra\\u003e\\u003c\\u002fextra\\u003e\",\"legendgroup\":\"\",\"line\":{\"color\":\"#636efa\",\"dash\":\"solid\"},\"marker\":{\"symbol\":\"circle\"},\"mode\":\"lines\",\"name\":\"\",\"orientation\":\"v\",\"showlegend\":false,\"x\":[-3.0,-2.979933110367893,-2.959866220735786,-2.939799331103679,-2.919732441471572,-2.899665551839465,-2.879598662207358,-2.859531772575251,-2.839464882943144,-2.819397993311037,-2.79933110367893,-2.779264214046823,-2.759197324414716,-2.739130434782609,-2.719063545150502,-2.6989966555183944,-2.678929765886288,-2.6588628762541804,-2.638795986622074,-2.6187290969899664,-2.5986622073578594,-2.5785953177257523,-2.5585284280936453,-2.5384615384615383,-2.5183946488294313,-2.4983277591973243,-2.4782608695652173,-2.4581939799331103,-2.4381270903010033,-2.4180602006688963,-2.3979933110367893,-2.3779264214046822,-2.3578595317725752,-2.3377926421404682,-2.317725752508361,-2.297658862876254,-2.277591973244147,-2.25752508361204,-2.237458193979933,-2.217391304347826,-2.197324414715719,-2.177257525083612,-2.157190635451505,-2.137123745819398,-2.1170568561872907,-2.096989966555184,-2.0769230769230766,-2.05685618729097,-2.0367892976588626,-2.016722408026756,-1.9966555183946488,-1.9765886287625418,-1.9565217391304348,-1.9364548494983278,-1.9163879598662208,-1.8963210702341138,-1.8762541806020065,-1.8561872909698995,-1.8361204013377925,-1.8160535117056855,-1.7959866220735785,-1.7759197324414715,-1.7558528428093645,-1.7357859531772575,-1.7157190635451505,-1.6956521739130435,-1.6755852842809364,-1.6555183946488294,-1.6354515050167224,-1.6153846153846154,-1.5953177257525084,-1.5752508361204014,-1.5551839464882944,-1.5351170568561872,-1.5150501672240801,-1.4949832775919731,-1.4749163879598661,-1.4548494983277591,-1.434782608695652,-1.414715719063545,-1.394648829431438,-1.374581939799331,-1.354515050167224,-1.334448160535117,-1.31438127090301,-1.294314381270903,-1.274247491638796,-1.254180602006689,-1.2341137123745818,-1.2140468227424748,-1.1939799331103678,-1.1739130434782608,-1.1538461538461537,-1.1337792642140467,-1.1137123745819397,-1.0936454849498327,-1.0735785953177257,-1.0535117056856187,-1.0334448160535117,-1.0133779264214047,-0.9933110367892977,-0.9732441471571907,-0.9531772575250836,-0.9331103678929766,-0.9130434782608696,-0.8929765886287626,-0.8729096989966556,-0.8528428093645486,-0.8327759197324416,-0.8127090301003346,-0.7926421404682276,-0.7725752508361206,-0.7525083612040131,-0.7324414715719061,-0.7123745819397991,-0.6923076923076921,-0.6722408026755851,-0.652173913043478,-0.632107023411371,-0.612040133779264,-0.591973244147157,-0.57190635451505,-0.551839464882943,-0.531772575250836,-0.511705685618729,-0.49163879598662197,-0.47157190635451496,-0.45150501672240795,-0.43143812709030094,-0.41137123745819393,-0.3913043478260869,-0.3712374581939799,-0.3511705685618729,-0.3311036789297659,-0.3110367892976589,-0.29096989966555187,-0.27090301003344486,-0.25083612040133785,-0.23076923076923084,-0.21070234113712383,-0.19063545150501682,-0.1705685618729098,-0.1505016722408028,-0.1304347826086958,-0.11036789297658878,-0.09030100334448132,-0.07023411371237431,-0.0501672240802673,-0.030100334448160293,-0.010033444816053283,0.010033444816053727,0.030100334448160737,0.05016722408026775,0.07023411371237476,0.09030100334448177,0.11036789297658878,0.1304347826086958,0.1505016722408028,0.1705685618729098,0.19063545150501682,0.21070234113712383,0.23076923076923084,0.25083612040133785,0.27090301003344486,0.29096989966555187,0.3110367892976589,0.3311036789297659,0.3511705685618729,0.3712374581939799,0.3913043478260869,0.41137123745819393,0.43143812709030094,0.45150501672240795,0.47157190635451496,0.49163879598662197,0.511705685618729,0.5317725752508364,0.5518394648829434,0.5719063545150505,0.5919732441471575,0.6120401337792645,0.6321070234113715,0.6521739130434785,0.6722408026755855,0.6923076923076925,0.7123745819397995,0.7324414715719065,0.7525083612040135,0.7725752508361206,0.7926421404682276,0.8127090301003346,0.8327759197324416,0.8528428093645486,0.8729096989966556,0.8929765886287626,0.9130434782608696,0.9331103678929766,0.9531772575250836,0.9732441471571907,0.9933110367892977,1.0133779264214047,1.0334448160535121,1.0535117056856187,1.0735785953177261,1.0936454849498327,1.1137123745819402,1.1337792642140467,1.1538461538461542,1.1739130434782608,1.1939799331103682,1.2140468227424748,1.2341137123745822,1.2541806020066888,1.2742474916387962,1.2943143812709028,1.3143812709030103,1.3344481605351168,1.3545150501672243,1.3745819397993309,1.3946488294314383,1.4147157190635449,1.4347826086956523,1.454849498327759,1.4749163879598663,1.4949832775919738,1.5150501672240804,1.5351170568561878,1.5551839464882944,1.5752508361204018,1.5953177257525084,1.6153846153846159,1.6354515050167224,1.6555183946488299,1.6755852842809364,1.695652173913044,1.7157190635451505,1.735785953177258,1.7558528428093645,1.775919732441472,1.7959866220735785,1.816053511705686,1.8361204013377925,1.8561872909699,1.8762541806020065,1.896321070234114,1.9163879598662206,1.936454849498328,1.9565217391304346,1.976588628762542,1.9966555183946486,2.016722408026756,2.0367892976588626,2.05685618729097,2.0769230769230766,2.096989966555184,2.1170568561872907,2.137123745819398,2.1571906354515056,2.177257525083612,2.1973244147157196,2.217391304347826,2.2374581939799336,2.25752508361204,2.2775919732441476,2.297658862876254,2.3177257525083617,2.3377926421404682,2.3578595317725757,2.3779264214046822,2.3979933110367897,2.4180602006688963,2.4381270903010037,2.4581939799331103,2.4782608695652177,2.4983277591973243,2.5183946488294318,2.5384615384615383,2.558528428093646,2.5785953177257523,2.59866220735786,2.6187290969899664,2.638795986622074,2.6588628762541804,2.678929765886288,2.6989966555183944,2.719063545150502,2.7391304347826084,2.759197324414716,2.7792642140468224,2.79933110367893,2.8193979933110374,2.839464882943144,2.8595317725752514,2.879598662207358,2.8996655518394654,2.919732441471572,2.9397993311036794,2.959866220735786,2.9799331103678934,3.0],\"xaxis\":\"x\",\"y\":[-0.9950547536867305,-0.9948527669172019,-0.9946425522267051,-0.994423776297535,-0.9941960924629225,-0.9939591401852469,-0.993712544514928,-0.9934559155293734,-0.9931888477513459,-0.9929109195461022,-0.9926216924966457,-0.9923207107564234,-0.992007500378792,-0.9916815686225645,-0.9913424032329462,-0.9909894716971636,-0.9906222204740811,-0.9902400741971044,-0.9898424348496637,-0.9894286809125766,-0.9889981664825909,-0.9885502203614155,-0.9880841451145616,-0.9875992160993223,-0.9870946804612433,-0.9865697560984518,-0.9860236305932417,-0.9854554601103395,-0.9848643682613105,-0.9842494449346114,-0.9836097450908345,-0.9829442875227499,-0.9822520535798103,-0.9815319858568546,-0.9807829868468221,-0.9800039175573794,-0.9791935960914603,-0.9783507961918256,-0.9774742457498723,-0.9765626252790548,-0.9756145663534286,-0.9746286500119874,-0.9736034051296419,-0.9725373067558863,-0.9714287744224057,-0.970276170421113,-0.9690777980543531,-0.9678318998592871,-0.9665366558087639,-0.9651901814913084,-0.9637905262731981,-0.9623356714459788,-0.9608235283631639,-0.9592519365702975,-0.9576186619330226,-0.9559213947682872,-0.9541577479843528,-0.9523252552358308,-0.950421369100568,-0.9484434592858475,-0.9463888108720336,-0.9442546226025116,-0.9420380052295202,-0.93973597992627,-0.937345476776567,-0.9348633333540388,-0.9322862934039639,-0.9296110056416541,-0.9268340226823264,-0.9239518001184096,-0.9209606957612899,-0.9178569690655645,-0.9146367807549807,-0.91129619267035,-0.9078311678608592,-0.9042375709413338,-0.9005111687391469,-0.8966476312555784,-0.8926425329675369,-0.8884913544966132,-0.8841894846734503,-0.8797322230263696,-0.8751147827240607,-0.8703322940029194,-0.8653798081102724,-0.8602523017952435,-0.8549446823793725,-0.8494517934392571,-0.8437684211334437,-0.8378893012054976,-0.8318091266946153,-0.8255225563842759,-0.8190242240182181,-0.8123087483114577,-0.8053707437820843,-0.7982048324271617,-0.7908056562631862,-0.7831678907481722,-0.7752862590985365,-0.7671555475094944,-0.7587706212826381,-0.7501264418587388,-0.7412180847475635,-0.7320407583396266,-0.7225898235773113,-0.7128608144546854,-0.7028494593066384,-0.6925517028386885,-0.6819637288390039,-0.6710819835038989,-0.6599031992973586,-0.6484244192541062,-0.636643021624451,-0.6245567447477276,-0.6121637120297193,-0.5994624568881576,-0.586451947519378,-0.5731316113286531,-0.5595013588567878,-0.5455616070264638,-0.5313133015237221,-0.5167579381231105,-0.5018975827595883,-0.4867348901464721,-0.47127312073673044,-0.45551615582497623,-0.43946851058973274,-0.42313534488011584,-0.4065224715581034,-0.3896363622171569,-0.372484150110168,-0.3550736301345537,-0.3374132557397956,-0.3195121326427289,-0.3013800092583366,-0.28302726377850707,-0.2644648878579551,-0.2457044668950239,-0.22675815692505183,-0.2076386581750479,-0.18835918536017857,-0.16893343483458756,-0.14937554874089864,-0.1297000763339206,-0.1099219326840967,-0.09005635499465306,-0.0701188567927362,-0.050125180278640734,-0.03009124713814669,-0.01003310814059756,0.010033108140598004,0.030091247138147134,0.05012518027864118,0.07011885679273665,0.09005635499465349,0.1099219326840967,0.1297000763339206,0.14937554874089864,0.16893343483458756,0.18835918536017857,0.2076386581750479,0.22675815692505183,0.2457044668950239,0.2644648878579551,0.28302726377850707,0.3013800092583366,0.3195121326427289,0.3374132557397956,0.3550736301345537,0.372484150110168,0.3896363622171569,0.4065224715581034,0.42313534488011584,0.43946851058973274,0.45551615582497623,0.47127312073673044,0.48673489014647253,0.5018975827595886,0.5167579381231109,0.5313133015237225,0.5455616070264643,0.5595013588567881,0.5731316113286534,0.5864519475193785,0.5994624568881579,0.6121637120297196,0.6245567447477279,0.6366430216244513,0.6484244192541062,0.6599031992973586,0.6710819835038989,0.6819637288390039,0.6925517028386885,0.7028494593066384,0.7128608144546854,0.7225898235773113,0.7320407583396266,0.7412180847475635,0.7501264418587388,0.7587706212826381,0.7671555475094944,0.7752862590985367,0.7831678907481722,0.7908056562631864,0.7982048324271617,0.8053707437820844,0.8123087483114577,0.8190242240182182,0.8255225563842759,0.8318091266946155,0.8378893012054976,0.8437684211334439,0.849451793439257,0.8549446823793726,0.8602523017952435,0.8653798081102724,0.8703322940029194,0.8751147827240607,0.8797322230263696,0.8841894846734503,0.8884913544966131,0.8926425329675369,0.8966476312555783,0.9005111687391469,0.904237570941334,0.9078311678608592,0.9112961926703501,0.9146367807549807,0.9178569690655645,0.9209606957612899,0.9239518001184097,0.9268340226823264,0.9296110056416542,0.9322862934039639,0.9348633333540389,0.937345476776567,0.93973597992627,0.9420380052295202,0.9442546226025116,0.9463888108720336,0.9484434592858476,0.950421369100568,0.9523252552358308,0.9541577479843528,0.9559213947682872,0.9576186619330226,0.9592519365702975,0.9608235283631639,0.9623356714459789,0.9637905262731981,0.9651901814913084,0.9665366558087639,0.9678318998592871,0.9690777980543531,0.970276170421113,0.9714287744224057,0.9725373067558863,0.9736034051296419,0.9746286500119874,0.9756145663534287,0.9765626252790548,0.9774742457498723,0.9783507961918256,0.9791935960914604,0.9800039175573794,0.9807829868468221,0.9815319858568546,0.9822520535798103,0.9829442875227499,0.9836097450908345,0.9842494449346114,0.9848643682613105,0.9854554601103395,0.9860236305932417,0.9865697560984518,0.9870946804612433,0.9875992160993223,0.9880841451145616,0.9885502203614155,0.9889981664825909,0.9894286809125766,0.9898424348496637,0.9902400741971044,0.9906222204740811,0.9909894716971636,0.9913424032329462,0.9916815686225644,0.992007500378792,0.9923207107564234,0.9926216924966457,0.9929109195461022,0.9931888477513459,0.9934559155293734,0.993712544514928,0.9939591401852469,0.9941960924629225,0.994423776297535,0.9946425522267051,0.9948527669172019,0.9950547536867305],\"yaxis\":\"y\",\"type\":\"scatter\"}],                        {\"template\":{\"data\":{\"histogram2dcontour\":[{\"type\":\"histogram2dcontour\",\"colorbar\":{\"outlinewidth\":0,\"ticks\":\"\"},\"colorscale\":[[0.0,\"#0d0887\"],[0.1111111111111111,\"#46039f\"],[0.2222222222222222,\"#7201a8\"],[0.3333333333333333,\"#9c179e\"],[0.4444444444444444,\"#bd3786\"],[0.5555555555555556,\"#d8576b\"],[0.6666666666666666,\"#ed7953\"],[0.7777777777777778,\"#fb9f3a\"],[0.8888888888888888,\"#fdca26\"],[1.0,\"#f0f921\"]]}],\"choropleth\":[{\"type\":\"choropleth\",\"colorbar\":{\"outlinewidth\":0,\"ticks\":\"\"}}],\"histogram2d\":[{\"type\":\"histogram2d\",\"colorbar\":{\"outlinewidth\":0,\"ticks\":\"\"},\"colorscale\":[[0.0,\"#0d0887\"],[0.1111111111111111,\"#46039f\"],[0.2222222222222222,\"#7201a8\"],[0.3333333333333333,\"#9c179e\"],[0.4444444444444444,\"#bd3786\"],[0.5555555555555556,\"#d8576b\"],[0.6666666666666666,\"#ed7953\"],[0.7777777777777778,\"#fb9f3a\"],[0.8888888888888888,\"#fdca26\"],[1.0,\"#f0f921\"]]}],\"heatmap\":[{\"type\":\"heatmap\",\"colorbar\":{\"outlinewidth\":0,\"ticks\":\"\"},\"colorscale\":[[0.0,\"#0d0887\"],[0.1111111111111111,\"#46039f\"],[0.2222222222222222,\"#7201a8\"],[0.3333333333333333,\"#9c179e\"],[0.4444444444444444,\"#bd3786\"],[0.5555555555555556,\"#d8576b\"],[0.6666666666666666,\"#ed7953\"],[0.7777777777777778,\"#fb9f3a\"],[0.8888888888888888,\"#fdca26\"],[1.0,\"#f0f921\"]]}],\"heatmapgl\":[{\"type\":\"heatmapgl\",\"colorbar\":{\"outlinewidth\":0,\"ticks\":\"\"},\"colorscale\":[[0.0,\"#0d0887\"],[0.1111111111111111,\"#46039f\"],[0.2222222222222222,\"#7201a8\"],[0.3333333333333333,\"#9c179e\"],[0.4444444444444444,\"#bd3786\"],[0.5555555555555556,\"#d8576b\"],[0.6666666666666666,\"#ed7953\"],[0.7777777777777778,\"#fb9f3a\"],[0.8888888888888888,\"#fdca26\"],[1.0,\"#f0f921\"]]}],\"contourcarpet\":[{\"type\":\"contourcarpet\",\"colorbar\":{\"outlinewidth\":0,\"ticks\":\"\"}}],\"contour\":[{\"type\":\"contour\",\"colorbar\":{\"outlinewidth\":0,\"ticks\":\"\"},\"colorscale\":[[0.0,\"#0d0887\"],[0.1111111111111111,\"#46039f\"],[0.2222222222222222,\"#7201a8\"],[0.3333333333333333,\"#9c179e\"],[0.4444444444444444,\"#bd3786\"],[0.5555555555555556,\"#d8576b\"],[0.6666666666666666,\"#ed7953\"],[0.7777777777777778,\"#fb9f3a\"],[0.8888888888888888,\"#fdca26\"],[1.0,\"#f0f921\"]]}],\"surface\":[{\"type\":\"surface\",\"colorbar\":{\"outlinewidth\":0,\"ticks\":\"\"},\"colorscale\":[[0.0,\"#0d0887\"],[0.1111111111111111,\"#46039f\"],[0.2222222222222222,\"#7201a8\"],[0.3333333333333333,\"#9c179e\"],[0.4444444444444444,\"#bd3786\"],[0.5555555555555556,\"#d8576b\"],[0.6666666666666666,\"#ed7953\"],[0.7777777777777778,\"#fb9f3a\"],[0.8888888888888888,\"#fdca26\"],[1.0,\"#f0f921\"]]}],\"mesh3d\":[{\"type\":\"mesh3d\",\"colorbar\":{\"outlinewidth\":0,\"ticks\":\"\"}}],\"scatter\":[{\"fillpattern\":{\"fillmode\":\"overlay\",\"size\":10,\"solidity\":0.2},\"type\":\"scatter\"}],\"parcoords\":[{\"type\":\"parcoords\",\"line\":{\"colorbar\":{\"outlinewidth\":0,\"ticks\":\"\"}}}],\"scatterpolargl\":[{\"type\":\"scatterpolargl\",\"marker\":{\"colorbar\":{\"outlinewidth\":0,\"ticks\":\"\"}}}],\"bar\":[{\"error_x\":{\"color\":\"#2a3f5f\"},\"error_y\":{\"color\":\"#2a3f5f\"},\"marker\":{\"line\":{\"color\":\"#E5ECF6\",\"width\":0.5},\"pattern\":{\"fillmode\":\"overlay\",\"size\":10,\"solidity\":0.2}},\"type\":\"bar\"}],\"scattergeo\":[{\"type\":\"scattergeo\",\"marker\":{\"colorbar\":{\"outlinewidth\":0,\"ticks\":\"\"}}}],\"scatterpolar\":[{\"type\":\"scatterpolar\",\"marker\":{\"colorbar\":{\"outlinewidth\":0,\"ticks\":\"\"}}}],\"histogram\":[{\"marker\":{\"pattern\":{\"fillmode\":\"overlay\",\"size\":10,\"solidity\":0.2}},\"type\":\"histogram\"}],\"scattergl\":[{\"type\":\"scattergl\",\"marker\":{\"colorbar\":{\"outlinewidth\":0,\"ticks\":\"\"}}}],\"scatter3d\":[{\"type\":\"scatter3d\",\"line\":{\"colorbar\":{\"outlinewidth\":0,\"ticks\":\"\"}},\"marker\":{\"colorbar\":{\"outlinewidth\":0,\"ticks\":\"\"}}}],\"scattermapbox\":[{\"type\":\"scattermapbox\",\"marker\":{\"colorbar\":{\"outlinewidth\":0,\"ticks\":\"\"}}}],\"scatterternary\":[{\"type\":\"scatterternary\",\"marker\":{\"colorbar\":{\"outlinewidth\":0,\"ticks\":\"\"}}}],\"scattercarpet\":[{\"type\":\"scattercarpet\",\"marker\":{\"colorbar\":{\"outlinewidth\":0,\"ticks\":\"\"}}}],\"carpet\":[{\"aaxis\":{\"endlinecolor\":\"#2a3f5f\",\"gridcolor\":\"white\",\"linecolor\":\"white\",\"minorgridcolor\":\"white\",\"startlinecolor\":\"#2a3f5f\"},\"baxis\":{\"endlinecolor\":\"#2a3f5f\",\"gridcolor\":\"white\",\"linecolor\":\"white\",\"minorgridcolor\":\"white\",\"startlinecolor\":\"#2a3f5f\"},\"type\":\"carpet\"}],\"table\":[{\"cells\":{\"fill\":{\"color\":\"#EBF0F8\"},\"line\":{\"color\":\"white\"}},\"header\":{\"fill\":{\"color\":\"#C8D4E3\"},\"line\":{\"color\":\"white\"}},\"type\":\"table\"}],\"barpolar\":[{\"marker\":{\"line\":{\"color\":\"#E5ECF6\",\"width\":0.5},\"pattern\":{\"fillmode\":\"overlay\",\"size\":10,\"solidity\":0.2}},\"type\":\"barpolar\"}],\"pie\":[{\"automargin\":true,\"type\":\"pie\"}]},\"layout\":{\"autotypenumbers\":\"strict\",\"colorway\":[\"#636efa\",\"#EF553B\",\"#00cc96\",\"#ab63fa\",\"#FFA15A\",\"#19d3f3\",\"#FF6692\",\"#B6E880\",\"#FF97FF\",\"#FECB52\"],\"font\":{\"color\":\"#2a3f5f\"},\"hovermode\":\"closest\",\"hoverlabel\":{\"align\":\"left\"},\"paper_bgcolor\":\"white\",\"plot_bgcolor\":\"#E5ECF6\",\"polar\":{\"bgcolor\":\"#E5ECF6\",\"angularaxis\":{\"gridcolor\":\"white\",\"linecolor\":\"white\",\"ticks\":\"\"},\"radialaxis\":{\"gridcolor\":\"white\",\"linecolor\":\"white\",\"ticks\":\"\"}},\"ternary\":{\"bgcolor\":\"#E5ECF6\",\"aaxis\":{\"gridcolor\":\"white\",\"linecolor\":\"white\",\"ticks\":\"\"},\"baxis\":{\"gridcolor\":\"white\",\"linecolor\":\"white\",\"ticks\":\"\"},\"caxis\":{\"gridcolor\":\"white\",\"linecolor\":\"white\",\"ticks\":\"\"}},\"coloraxis\":{\"colorbar\":{\"outlinewidth\":0,\"ticks\":\"\"}},\"colorscale\":{\"sequential\":[[0.0,\"#0d0887\"],[0.1111111111111111,\"#46039f\"],[0.2222222222222222,\"#7201a8\"],[0.3333333333333333,\"#9c179e\"],[0.4444444444444444,\"#bd3786\"],[0.5555555555555556,\"#d8576b\"],[0.6666666666666666,\"#ed7953\"],[0.7777777777777778,\"#fb9f3a\"],[0.8888888888888888,\"#fdca26\"],[1.0,\"#f0f921\"]],\"sequentialminus\":[[0.0,\"#0d0887\"],[0.1111111111111111,\"#46039f\"],[0.2222222222222222,\"#7201a8\"],[0.3333333333333333,\"#9c179e\"],[0.4444444444444444,\"#bd3786\"],[0.5555555555555556,\"#d8576b\"],[0.6666666666666666,\"#ed7953\"],[0.7777777777777778,\"#fb9f3a\"],[0.8888888888888888,\"#fdca26\"],[1.0,\"#f0f921\"]],\"diverging\":[[0,\"#8e0152\"],[0.1,\"#c51b7d\"],[0.2,\"#de77ae\"],[0.3,\"#f1b6da\"],[0.4,\"#fde0ef\"],[0.5,\"#f7f7f7\"],[0.6,\"#e6f5d0\"],[0.7,\"#b8e186\"],[0.8,\"#7fbc41\"],[0.9,\"#4d9221\"],[1,\"#276419\"]]},\"xaxis\":{\"gridcolor\":\"white\",\"linecolor\":\"white\",\"ticks\":\"\",\"title\":{\"standoff\":15},\"zerolinecolor\":\"white\",\"automargin\":true,\"zerolinewidth\":2},\"yaxis\":{\"gridcolor\":\"white\",\"linecolor\":\"white\",\"ticks\":\"\",\"title\":{\"standoff\":15},\"zerolinecolor\":\"white\",\"automargin\":true,\"zerolinewidth\":2},\"scene\":{\"xaxis\":{\"backgroundcolor\":\"#E5ECF6\",\"gridcolor\":\"white\",\"linecolor\":\"white\",\"showbackground\":true,\"ticks\":\"\",\"zerolinecolor\":\"white\",\"gridwidth\":2},\"yaxis\":{\"backgroundcolor\":\"#E5ECF6\",\"gridcolor\":\"white\",\"linecolor\":\"white\",\"showbackground\":true,\"ticks\":\"\",\"zerolinecolor\":\"white\",\"gridwidth\":2},\"zaxis\":{\"backgroundcolor\":\"#E5ECF6\",\"gridcolor\":\"white\",\"linecolor\":\"white\",\"showbackground\":true,\"ticks\":\"\",\"zerolinecolor\":\"white\",\"gridwidth\":2}},\"shapedefaults\":{\"line\":{\"color\":\"#2a3f5f\"}},\"annotationdefaults\":{\"arrowcolor\":\"#2a3f5f\",\"arrowhead\":0,\"arrowwidth\":1},\"geo\":{\"bgcolor\":\"white\",\"landcolor\":\"#E5ECF6\",\"subunitcolor\":\"white\",\"showland\":true,\"showlakes\":true,\"lakecolor\":\"white\"},\"title\":{\"x\":0.05},\"mapbox\":{\"style\":\"light\"}}},\"xaxis\":{\"anchor\":\"y\",\"domain\":[0.0,1.0],\"title\":{\"text\":\"data\"}},\"yaxis\":{\"anchor\":\"x\",\"domain\":[0.0,1.0],\"title\":{\"text\":\"tanh\"},\"range\":[-1.5,1.5]},\"legend\":{\"tracegroupgap\":0},\"margin\":{\"t\":60},\"height\":400,\"width\":500},                        {\"responsive\": true}                    ).then(function(){\n",
              "                            \n",
              "var gd = document.getElementById('8c8b2db3-930d-474c-9660-7b6fb38760df');\n",
              "var x = new MutationObserver(function (mutations, observer) {{\n",
              "        var display = window.getComputedStyle(gd).display;\n",
              "        if (!display || display === 'none') {{\n",
              "            console.log([gd, 'removed!']);\n",
              "            Plotly.purge(gd);\n",
              "            observer.disconnect();\n",
              "        }}\n",
              "}});\n",
              "\n",
              "// Listen for the removal of the full notebook cells\n",
              "var notebookContainer = gd.closest('#notebook-container');\n",
              "if (notebookContainer) {{\n",
              "    x.observe(notebookContainer, {childList: true});\n",
              "}}\n",
              "\n",
              "// Listen for the clearing of the current output cell\n",
              "var outputEl = gd.closest('.output');\n",
              "if (outputEl) {{\n",
              "    x.observe(outputEl, {childList: true});\n",
              "}}\n",
              "\n",
              "                        })                };                            </script>        </div>\n",
              "</body>\n",
              "</html>"
            ]
          },
          "metadata": {}
        }
      ]
    },
    {
      "cell_type": "code",
      "source": [
        "model = Sequential()\n",
        "model.add(Dense(units=8, activation='relu', input_shape=(10,)))\n",
        "model.add(Dense(units=1, activation='sigmoid'))\n",
        "model.summary()"
      ],
      "metadata": {
        "colab": {
          "base_uri": "https://localhost:8080/",
          "height": 299
        },
        "id": "RywvQ5F43yH7",
        "outputId": "9284597a-6a55-432e-fc9a-ad33a4365e3c"
      },
      "execution_count": 14,
      "outputs": [
        {
          "output_type": "stream",
          "name": "stderr",
          "text": [
            "/usr/local/lib/python3.10/dist-packages/keras/src/layers/core/dense.py:87: UserWarning:\n",
            "\n",
            "Do not pass an `input_shape`/`input_dim` argument to a layer. When using Sequential models, prefer using an `Input(shape)` object as the first layer in the model instead.\n",
            "\n"
          ]
        },
        {
          "output_type": "display_data",
          "data": {
            "text/plain": [
              "\u001b[1mModel: \"sequential_1\"\u001b[0m\n"
            ],
            "text/html": [
              "<pre style=\"white-space:pre;overflow-x:auto;line-height:normal;font-family:Menlo,'DejaVu Sans Mono',consolas,'Courier New',monospace\"><span style=\"font-weight: bold\">Model: \"sequential_1\"</span>\n",
              "</pre>\n"
            ]
          },
          "metadata": {}
        },
        {
          "output_type": "display_data",
          "data": {
            "text/plain": [
              "┏━━━━━━━━━━━━━━━━━━━━━━━━━━━━━━━━━━━━━━┳━━━━━━━━━━━━━━━━━━━━━━━━━━━━━┳━━━━━━━━━━━━━━━━━┓\n",
              "┃\u001b[1m \u001b[0m\u001b[1mLayer (type)                        \u001b[0m\u001b[1m \u001b[0m┃\u001b[1m \u001b[0m\u001b[1mOutput Shape               \u001b[0m\u001b[1m \u001b[0m┃\u001b[1m \u001b[0m\u001b[1m        Param #\u001b[0m\u001b[1m \u001b[0m┃\n",
              "┡━━━━━━━━━━━━━━━━━━━━━━━━━━━━━━━━━━━━━━╇━━━━━━━━━━━━━━━━━━━━━━━━━━━━━╇━━━━━━━━━━━━━━━━━┩\n",
              "│ dense_1 (\u001b[38;5;33mDense\u001b[0m)                      │ (\u001b[38;5;45mNone\u001b[0m, \u001b[38;5;34m8\u001b[0m)                   │              \u001b[38;5;34m88\u001b[0m │\n",
              "├──────────────────────────────────────┼─────────────────────────────┼─────────────────┤\n",
              "│ dense_2 (\u001b[38;5;33mDense\u001b[0m)                      │ (\u001b[38;5;45mNone\u001b[0m, \u001b[38;5;34m1\u001b[0m)                   │               \u001b[38;5;34m9\u001b[0m │\n",
              "└──────────────────────────────────────┴─────────────────────────────┴─────────────────┘\n"
            ],
            "text/html": [
              "<pre style=\"white-space:pre;overflow-x:auto;line-height:normal;font-family:Menlo,'DejaVu Sans Mono',consolas,'Courier New',monospace\">┏━━━━━━━━━━━━━━━━━━━━━━━━━━━━━━━━━━━━━━┳━━━━━━━━━━━━━━━━━━━━━━━━━━━━━┳━━━━━━━━━━━━━━━━━┓\n",
              "┃<span style=\"font-weight: bold\"> Layer (type)                         </span>┃<span style=\"font-weight: bold\"> Output Shape                </span>┃<span style=\"font-weight: bold\">         Param # </span>┃\n",
              "┡━━━━━━━━━━━━━━━━━━━━━━━━━━━━━━━━━━━━━━╇━━━━━━━━━━━━━━━━━━━━━━━━━━━━━╇━━━━━━━━━━━━━━━━━┩\n",
              "│ dense_1 (<span style=\"color: #0087ff; text-decoration-color: #0087ff\">Dense</span>)                      │ (<span style=\"color: #00d7ff; text-decoration-color: #00d7ff\">None</span>, <span style=\"color: #00af00; text-decoration-color: #00af00\">8</span>)                   │              <span style=\"color: #00af00; text-decoration-color: #00af00\">88</span> │\n",
              "├──────────────────────────────────────┼─────────────────────────────┼─────────────────┤\n",
              "│ dense_2 (<span style=\"color: #0087ff; text-decoration-color: #0087ff\">Dense</span>)                      │ (<span style=\"color: #00d7ff; text-decoration-color: #00d7ff\">None</span>, <span style=\"color: #00af00; text-decoration-color: #00af00\">1</span>)                   │               <span style=\"color: #00af00; text-decoration-color: #00af00\">9</span> │\n",
              "└──────────────────────────────────────┴─────────────────────────────┴─────────────────┘\n",
              "</pre>\n"
            ]
          },
          "metadata": {}
        },
        {
          "output_type": "display_data",
          "data": {
            "text/plain": [
              "\u001b[1m Total params: \u001b[0m\u001b[38;5;34m97\u001b[0m (388.00 B)\n"
            ],
            "text/html": [
              "<pre style=\"white-space:pre;overflow-x:auto;line-height:normal;font-family:Menlo,'DejaVu Sans Mono',consolas,'Courier New',monospace\"><span style=\"font-weight: bold\"> Total params: </span><span style=\"color: #00af00; text-decoration-color: #00af00\">97</span> (388.00 B)\n",
              "</pre>\n"
            ]
          },
          "metadata": {}
        },
        {
          "output_type": "display_data",
          "data": {
            "text/plain": [
              "\u001b[1m Trainable params: \u001b[0m\u001b[38;5;34m97\u001b[0m (388.00 B)\n"
            ],
            "text/html": [
              "<pre style=\"white-space:pre;overflow-x:auto;line-height:normal;font-family:Menlo,'DejaVu Sans Mono',consolas,'Courier New',monospace\"><span style=\"font-weight: bold\"> Trainable params: </span><span style=\"color: #00af00; text-decoration-color: #00af00\">97</span> (388.00 B)\n",
              "</pre>\n"
            ]
          },
          "metadata": {}
        },
        {
          "output_type": "display_data",
          "data": {
            "text/plain": [
              "\u001b[1m Non-trainable params: \u001b[0m\u001b[38;5;34m0\u001b[0m (0.00 B)\n"
            ],
            "text/html": [
              "<pre style=\"white-space:pre;overflow-x:auto;line-height:normal;font-family:Menlo,'DejaVu Sans Mono',consolas,'Courier New',monospace\"><span style=\"font-weight: bold\"> Non-trainable params: </span><span style=\"color: #00af00; text-decoration-color: #00af00\">0</span> (0.00 B)\n",
              "</pre>\n"
            ]
          },
          "metadata": {}
        }
      ]
    },
    {
      "cell_type": "markdown",
      "source": [
        "### <a name='a2'></a>Kompilacja modelu\n",
        "Przed rozpoczęciem trenowania sieci należy odpowiednio skonfigurować proces uczenia. W tym kroku określamy:\n",
        "* rodzaj optymalizatora ([Keras - Optymalizatory](https://keras.io/optimizers/))\n",
        "* funkcję straty ([Keras - Funkcje Straty](https://keras.io/losses/))\n",
        "* metryki, które będziemy obserwować podczas trenowania sieci ([Keras - Metryki](https://keras.io/metrics/))"
      ],
      "metadata": {
        "id": "iLwEfT1R397c"
      }
    },
    {
      "cell_type": "code",
      "source": [
        "\n",
        "# klasyfikacja binarna\n",
        "model.compile(optimizer='rmsprop',\n",
        "              loss='binary_crossentropy',\n",
        "              metrics=['accuracy'])\n",
        "\n",
        "# klasyfikacja wieloklasowa\n",
        "model.compile(optimizer='rmsprop',\n",
        "              loss='categorical_crossentropy',\n",
        "              metrics=['accuracy'])\n",
        "\n",
        "# regresja\n",
        "model.compile(optimizer='rmsprop',\n",
        "              loss='mse')"
      ],
      "metadata": {
        "id": "QgseFHy630hC"
      },
      "execution_count": 15,
      "outputs": []
    },
    {
      "cell_type": "markdown",
      "source": [
        "### <a name='a3'></a>Trenowanie modelu\n",
        "Za dane wejściowe do modelu należy przekazać Numpy arrays:\n",
        "* **epochs** - krotność przejścia danych przez sieć w procesie uczenia\n",
        "* **batch_size** - rozmiar wsadu po którym następuje aktualizacja wag\n",
        "* **validation_split** - część danych treningowych, które zostaną wykorzystane jako zbiór walidacyjny\n",
        "* **validation_data** - (x_val, y_val) - dane wykorzystane do walidacji modelu"
      ],
      "metadata": {
        "id": "w7E_ZTJJ4L4b"
      }
    },
    {
      "cell_type": "code",
      "source": [
        "# model.fit(data, labels, epochs=10, batch_size=32)\n",
        "# model.fit(data, labels, epochs=10, batch_size=32, validation_split=0.2)\n",
        "# model.fit(data, labels, epochs=10, batch_size=32, validation_data=(x_val, y_val))"
      ],
      "metadata": {
        "id": "T0d9IRiw4GP2"
      },
      "execution_count": null,
      "outputs": []
    },
    {
      "cell_type": "markdown",
      "source": [
        "### <a name='a4'></a> Przykład - klasyfikacja binarna"
      ],
      "metadata": {
        "id": "4_v784EK4WRr"
      }
    },
    {
      "cell_type": "code",
      "source": [
        "data = np.random.randn(10000, 150)\n",
        "labels = np.random.randint(2, size=(10000, 1))\n",
        "\n",
        "print(data.shape)\n",
        "print(labels.shape)"
      ],
      "metadata": {
        "colab": {
          "base_uri": "https://localhost:8080/"
        },
        "id": "lok7BRi94ZIb",
        "outputId": "f1d9526e-2240-411a-aa77-da1c5b51c889"
      },
      "execution_count": 16,
      "outputs": [
        {
          "output_type": "stream",
          "name": "stdout",
          "text": [
            "(10000, 150)\n",
            "(10000, 1)\n"
          ]
        }
      ]
    },
    {
      "cell_type": "markdown",
      "source": [
        "Ten kod generuje losowe dane oraz etykiety i drukuje ich rozmiary (wymiary). Oto dokładne wyjaśnienie:\n",
        "\n",
        "### Składnia:\n",
        "\n",
        "```python\n",
        "data = np.random.randn(10000, 150)\n",
        "labels = np.random.randint(2, size=(10000, 1))\n",
        "\n",
        "print(data.shape)\n",
        "print(labels.shape)\n",
        "```\n",
        "\n",
        "### Wyjaśnienie:\n",
        "\n",
        "1. **`data = np.random.randn(10000, 150)`**:\n",
        "   - **`np.random.randn`** generuje losowe liczby z rozkładu normalnego (ze średnią 0 i odchyleniem standardowym 1).\n",
        "   - Tworzy macierz o wymiarach **(10000, 150)**, czyli 10 tysięcy próbek, z których każda ma 150 cech (wartości).\n",
        "     - **10000**: Liczba próbek.\n",
        "     - **150**: Liczba cech (kolumn) dla każdej próbki.\n",
        "   - Wynikiem jest macierz **`data`** o wymiarze **(10000, 150)**, w której każda komórka zawiera losową liczbę zgodną z rozkładem normalnym.\n",
        "\n",
        "2. **`labels = np.random.randint(2, size=(10000, 1))`**:\n",
        "   - **`np.random.randint(2, size=(10000, 1))`** generuje losowe liczby całkowite z przedziału **[0, 2)** (czyli wartości 0 lub 1).\n",
        "   - Tworzy macierz etykiet **`labels`** o wymiarze **(10000, 1)**, gdzie każda próbka ma przypisaną jedną etykietę. Etykiety te to liczby 0 lub 1, co sugeruje, że mogą być to etykiety dla problemu binarnej klasyfikacji (np. klasyfikacja na dwie kategorie).\n",
        "     - **10000**: Liczba etykiet, jedna dla każdej próbki.\n",
        "     - **1**: Oznacza, że każda próbka ma przypisaną pojedynczą etykietę (dla problemu binarnej klasyfikacji).\n",
        "\n",
        "3. **`print(data.shape)`**:\n",
        "   - Funkcja **`data.shape`** zwraca kształt (wymiary) macierzy **`data`**.\n",
        "   - W tym przypadku wynik to **`(10000, 150)`**, co oznacza, że macierz **`data`** ma 10 tysięcy wierszy (próbek) i 150 kolumn (cech).\n",
        "\n",
        "4. **`print(labels.shape)`**:\n",
        "   - Funkcja **`labels.shape`** zwraca kształt macierzy **`labels`**.\n",
        "   - W tym przypadku wynik to **`(10000, 1)`**, co oznacza, że macierz **`labels`** ma 10 tysięcy wierszy (próbek) i 1 kolumnę (etykietę dla każdej próbki).\n",
        "\n",
        "### Co ten kod robi:\n",
        "- Tworzy dane wejściowe **`data`** składające się z 10 tysięcy próbek, gdzie każda próbka ma 150 cech.\n",
        "- Tworzy macierz etykiet **`labels`**, która zawiera 10 tysięcy etykiet binarnych (0 lub 1) przypisanych do każdej próbki.\n",
        "- Wydrukuje rozmiary macierzy, co pozwala upewnić się, że dane mają odpowiednie wymiary.\n",
        "\n",
        "### Przykładowy wynik:\n",
        "\n",
        "```python\n",
        "(10000, 150)\n",
        "(10000, 1)\n",
        "```\n",
        "\n",
        "Ten wynik oznacza, że:\n",
        "- Macierz danych wejściowych **`data`** ma 10000 wierszy (próbek) i 150 kolumn (cech).\n",
        "- Macierz etykiet **`labels`** ma 10000 wierszy (próbek) i 1 kolumnę (etykieta dla każdej próbki).\n"
      ],
      "metadata": {
        "id": "MPP3c4XL5AzU"
      }
    },
    {
      "cell_type": "code",
      "source": [
        "data[:3]"
      ],
      "metadata": {
        "colab": {
          "base_uri": "https://localhost:8080/"
        },
        "collapsed": true,
        "id": "fHk9qOgm5IFc",
        "outputId": "1bf08422-8b6a-4c82-d727-353ad25be2da"
      },
      "execution_count": 17,
      "outputs": [
        {
          "output_type": "execute_result",
          "data": {
            "text/plain": [
              "array([[ 1.98685439,  0.06183068,  0.41524232,  0.10279082,  1.48984523,\n",
              "        -0.3518733 , -0.46992647,  0.95910458,  0.59321826,  0.21345723,\n",
              "        -0.1325323 , -0.09570502,  0.54615412, -0.40148914,  0.98583442,\n",
              "        -0.17648368, -0.26242034,  1.00594788,  0.58117512,  1.69219103,\n",
              "        -0.54380344, -0.04875768,  1.04856737, -0.06867317,  0.59989487,\n",
              "         0.68942122,  0.3327151 , -0.8034428 , -0.02898505,  0.35960612,\n",
              "         0.09994916,  0.48776806,  0.50011631, -1.71114287, -0.63225123,\n",
              "        -0.19252555, -0.82082148, -1.07710525,  2.10236367,  0.94876457,\n",
              "         0.75921207, -0.63001697,  1.45178822, -0.59122484, -0.13301484,\n",
              "        -0.55574995,  0.18249052,  0.77440486, -1.06291581,  0.67155827,\n",
              "         0.60960832,  1.49231952,  0.57640813,  0.60196296, -0.80741091,\n",
              "         0.94131281,  1.16328725,  0.82703347, -2.40142117, -0.21650208,\n",
              "         0.95286682, -0.8792608 , -0.37362774,  0.1055718 , -0.86450995,\n",
              "         1.45251974,  1.34363345,  1.33592289,  0.20070129,  0.99417183,\n",
              "         0.91315436,  0.69816131,  0.14079939,  0.05822294,  1.92689247,\n",
              "        -0.60676478, -0.98396453,  0.07802497, -0.17869119,  0.94942241,\n",
              "         0.1422582 , -0.80741188, -0.79061174, -1.07974318, -1.74390651,\n",
              "        -0.0884667 , -0.89514549, -0.06857491, -0.48127486,  0.40196797,\n",
              "        -1.33996591, -2.02339485, -0.06222304,  0.03274478, -0.37465955,\n",
              "        -0.12569884,  1.66402443, -0.8829876 ,  0.63194556, -0.16868334,\n",
              "         0.81640202, -0.5834448 ,  0.77734777,  0.43363589,  0.4062899 ,\n",
              "         1.00642444,  0.40220954, -0.90383003, -0.82242094, -0.36397932,\n",
              "        -0.04839857, -0.39014798,  0.18866811, -1.24860021,  0.1794651 ,\n",
              "        -1.41099594,  0.2556059 ,  0.38911801,  1.70112089, -0.21022519,\n",
              "        -0.16978405,  0.96164524,  2.00452182,  0.99824362, -0.73254287,\n",
              "         0.01324615,  0.94745752, -0.91969561, -0.5352758 ,  0.68273011,\n",
              "        -1.89030736, -0.93435864, -0.18951285, -0.26922948, -0.71055801,\n",
              "        -0.51814916,  0.47665919, -0.79431027, -1.36555246,  0.7566699 ,\n",
              "        -0.11359627, -0.30649265, -0.14883227, -0.42919837, -0.80097413,\n",
              "         0.20145387,  0.1695253 , -1.54761113, -1.19944031, -1.76967967],\n",
              "       [-1.77833361,  0.2284587 ,  1.32928942, -1.70598807,  0.80570583,\n",
              "         0.93947291,  0.6189134 , -0.46526717,  1.179067  , -1.61028775,\n",
              "         1.07671655,  0.69354212, -1.74743515, -0.89884684, -0.12981978,\n",
              "         0.62720593,  0.07178452,  0.22886256,  1.14790457, -0.18194611,\n",
              "         1.64196879, -1.22466815,  0.46454998, -0.26513554,  1.10347546,\n",
              "         0.37695727, -0.51976482, -1.00033804, -0.71691309, -0.39425585,\n",
              "         0.90760081, -1.1284816 , -0.7043938 ,  2.22307087, -0.66531816,\n",
              "        -0.79298415,  0.29658746, -1.42925695, -2.6380561 , -0.08135024,\n",
              "         0.51314938, -0.33825265, -0.41859274, -0.21928677, -0.88917055,\n",
              "         2.72106921,  1.06301164, -1.73385146,  0.2496596 ,  0.81350132,\n",
              "        -1.23432762, -0.30575036, -1.31670223,  0.54804363, -0.95280871,\n",
              "         0.97171786,  0.42615934, -0.30383503,  1.08954544, -1.3579828 ,\n",
              "         0.8282476 ,  1.55653727,  0.25398435,  0.23174638, -0.83553691,\n",
              "         0.60539097, -0.66997088,  0.7786754 , -0.7260263 , -0.76093351,\n",
              "        -0.9764077 , -0.49696646,  0.05564512,  1.08520631,  1.83749951,\n",
              "        -1.26564596, -1.19725161,  0.03860641, -1.66388782,  0.66027533,\n",
              "         0.52056834, -0.95582658,  2.23029112, -0.37478964, -2.60552574,\n",
              "        -0.17039321,  0.06155633, -0.2270296 ,  0.2646176 , -2.89545032,\n",
              "         0.04237813, -0.752943  , -0.18527065, -0.02139999,  0.1913989 ,\n",
              "         0.084699  ,  0.2083274 , -0.6079571 ,  0.61879622,  0.56480333,\n",
              "         1.58465553, -0.65702696,  0.00359659,  2.28386923,  0.25012889,\n",
              "         1.0332261 ,  0.10664747, -0.81205414, -0.25673139, -1.22692536,\n",
              "         0.186648  ,  0.74096087, -0.91803319, -1.53180279,  0.35045424,\n",
              "         0.53202886,  0.23949776, -0.31042612, -0.45150916,  1.24600765,\n",
              "         0.68597621, -0.42222833,  0.79293192, -0.2327181 , -0.4595165 ,\n",
              "         0.11549887, -0.53439249, -0.08066319, -1.18451844, -0.49688566,\n",
              "        -1.26654464,  0.27065681,  0.28172787, -0.07161773, -0.82460785,\n",
              "         1.037746  ,  0.84560987,  0.82356111,  1.05742988,  1.46554793,\n",
              "         0.42782494,  1.06322525, -0.17851978,  0.8568106 ,  1.56804879,\n",
              "         0.17674982, -0.65154526, -0.57482394, -0.0724992 ,  0.33713271],\n",
              "       [-1.69762595,  1.24421845, -0.83501538, -1.23520809,  0.07902067,\n",
              "        -0.97831312,  1.16560785,  1.57693958,  0.8472745 , -1.39745874,\n",
              "         1.38735965,  0.10704815, -1.00650783,  0.3904315 ,  0.50417289,\n",
              "         1.23324416, -0.17157258, -1.07236221, -0.35188098, -0.11697431,\n",
              "        -0.64374485, -0.82306827,  0.64348503, -1.07496483, -1.31866538,\n",
              "        -0.40754813, -0.94623273,  0.04521511, -0.23060349, -1.92798306,\n",
              "        -0.1505752 , -0.74612122,  0.63178347,  0.59418683,  1.80013617,\n",
              "        -0.1695782 , -0.43182506, -1.11595988,  0.06412828, -2.24060405,\n",
              "         1.7857495 ,  3.1988801 , -0.43995786, -1.18687449, -1.48291862,\n",
              "        -0.27146843,  0.84466518,  1.1981715 , -1.61007868, -1.8659902 ,\n",
              "         2.20317831,  0.78574783,  0.2461765 , -0.90650299,  0.35202179,\n",
              "         0.31757578, -0.50761902, -0.41845824,  1.06962201, -0.48075422,\n",
              "        -1.11829851, -1.19748324, -0.03431052,  0.06038087, -0.12275167,\n",
              "        -1.13041463, -1.40544054, -0.47888322,  0.74521396, -1.03801771,\n",
              "         1.27439167,  0.29139016,  0.69382005,  0.34552981, -1.10970295,\n",
              "        -1.30564818,  1.73364951,  0.39194689, -0.50211922,  0.73330715,\n",
              "        -1.25177356,  0.05970319, -0.57939661, -0.31866448, -0.63197365,\n",
              "         0.06322033, -1.08812103, -0.23581454,  0.99118317,  0.01271635,\n",
              "         1.21679037, -0.11306358,  0.21384671,  0.48669088,  0.54251976,\n",
              "        -0.01626729,  2.93927157, -1.09594638,  0.99619326,  0.03781914,\n",
              "        -0.12576908, -1.87790993,  0.88347868,  0.20526558,  1.76013874,\n",
              "         1.46202201,  1.28416554, -0.37357969,  0.61892677, -0.65980028,\n",
              "         0.34241785,  0.20310239, -0.46835231,  1.19735495,  1.44240691,\n",
              "        -0.62317037,  1.68090201, -0.06590559, -1.31515553, -0.40693064,\n",
              "         1.00283021, -0.58887746, -0.27508204,  0.70893088, -1.04278754,\n",
              "         0.44171994,  0.66398248, -1.21413252,  0.4292039 ,  0.93439115,\n",
              "        -0.90696314,  1.718315  ,  0.93000662, -0.63006228,  1.54070695,\n",
              "        -1.25806489, -1.11976279,  0.85837342,  0.21834471,  0.89636891,\n",
              "        -0.0108766 , -2.75658742,  0.36430321, -0.59261898,  1.62970183,\n",
              "         0.59817612, -1.51847334,  0.51906058, -2.04080467, -0.64123816]])"
            ]
          },
          "metadata": {},
          "execution_count": 17
        }
      ]
    },
    {
      "cell_type": "code",
      "source": [
        "labels[:10]"
      ],
      "metadata": {
        "colab": {
          "base_uri": "https://localhost:8080/"
        },
        "id": "avarotM45kGc",
        "outputId": "8af6f577-7b55-4f83-bae9-9ab3bc72013d"
      },
      "execution_count": 18,
      "outputs": [
        {
          "output_type": "execute_result",
          "data": {
            "text/plain": [
              "array([[0],\n",
              "       [1],\n",
              "       [1],\n",
              "       [1],\n",
              "       [0],\n",
              "       [0],\n",
              "       [0],\n",
              "       [1],\n",
              "       [1],\n",
              "       [0]])"
            ]
          },
          "metadata": {},
          "execution_count": 18
        }
      ]
    },
    {
      "cell_type": "code",
      "source": [
        "model = Sequential()\n",
        "model.add(Dense(units=32, activation='relu', input_shape=(150,)))\n",
        "model.add(Dense(1, activation='sigmoid'))\n",
        "\n",
        "model.compile(optimizer='rmsprop',\n",
        "              loss='binary_crossentropy',\n",
        "              metrics=['accuracy'])\n",
        "\n",
        "model.fit(data, labels, epochs=20)"
      ],
      "metadata": {
        "colab": {
          "base_uri": "https://localhost:8080/"
        },
        "id": "DbKldGsa5nA0",
        "outputId": "a75ab427-bb39-468f-c751-ee560e2aa277"
      },
      "execution_count": 19,
      "outputs": [
        {
          "output_type": "stream",
          "name": "stdout",
          "text": [
            "Epoch 1/20\n",
            "\u001b[1m313/313\u001b[0m \u001b[32m━━━━━━━━━━━━━━━━━━━━\u001b[0m\u001b[37m\u001b[0m \u001b[1m2s\u001b[0m 2ms/step - accuracy: 0.5014 - loss: 0.7666\n",
            "Epoch 2/20\n",
            "\u001b[1m313/313\u001b[0m \u001b[32m━━━━━━━━━━━━━━━━━━━━\u001b[0m\u001b[37m\u001b[0m \u001b[1m1s\u001b[0m 2ms/step - accuracy: 0.5445 - loss: 0.6948\n",
            "Epoch 3/20\n",
            "\u001b[1m313/313\u001b[0m \u001b[32m━━━━━━━━━━━━━━━━━━━━\u001b[0m\u001b[37m\u001b[0m \u001b[1m1s\u001b[0m 1ms/step - accuracy: 0.5722 - loss: 0.6764\n",
            "Epoch 4/20\n",
            "\u001b[1m313/313\u001b[0m \u001b[32m━━━━━━━━━━━━━━━━━━━━\u001b[0m\u001b[37m\u001b[0m \u001b[1m1s\u001b[0m 1ms/step - accuracy: 0.5992 - loss: 0.6578\n",
            "Epoch 5/20\n",
            "\u001b[1m313/313\u001b[0m \u001b[32m━━━━━━━━━━━━━━━━━━━━\u001b[0m\u001b[37m\u001b[0m \u001b[1m1s\u001b[0m 1ms/step - accuracy: 0.6287 - loss: 0.6450\n",
            "Epoch 6/20\n",
            "\u001b[1m313/313\u001b[0m \u001b[32m━━━━━━━━━━━━━━━━━━━━\u001b[0m\u001b[37m\u001b[0m \u001b[1m1s\u001b[0m 1ms/step - accuracy: 0.6580 - loss: 0.6279\n",
            "Epoch 7/20\n",
            "\u001b[1m313/313\u001b[0m \u001b[32m━━━━━━━━━━━━━━━━━━━━\u001b[0m\u001b[37m\u001b[0m \u001b[1m1s\u001b[0m 1ms/step - accuracy: 0.6705 - loss: 0.6169\n",
            "Epoch 8/20\n",
            "\u001b[1m313/313\u001b[0m \u001b[32m━━━━━━━━━━━━━━━━━━━━\u001b[0m\u001b[37m\u001b[0m \u001b[1m1s\u001b[0m 1ms/step - accuracy: 0.6899 - loss: 0.6029\n",
            "Epoch 9/20\n",
            "\u001b[1m313/313\u001b[0m \u001b[32m━━━━━━━━━━━━━━━━━━━━\u001b[0m\u001b[37m\u001b[0m \u001b[1m0s\u001b[0m 1ms/step - accuracy: 0.7038 - loss: 0.5862\n",
            "Epoch 10/20\n",
            "\u001b[1m313/313\u001b[0m \u001b[32m━━━━━━━━━━━━━━━━━━━━\u001b[0m\u001b[37m\u001b[0m \u001b[1m1s\u001b[0m 1ms/step - accuracy: 0.7045 - loss: 0.5789\n",
            "Epoch 11/20\n",
            "\u001b[1m313/313\u001b[0m \u001b[32m━━━━━━━━━━━━━━━━━━━━\u001b[0m\u001b[37m\u001b[0m \u001b[1m0s\u001b[0m 1ms/step - accuracy: 0.7195 - loss: 0.5651\n",
            "Epoch 12/20\n",
            "\u001b[1m313/313\u001b[0m \u001b[32m━━━━━━━━━━━━━━━━━━━━\u001b[0m\u001b[37m\u001b[0m \u001b[1m1s\u001b[0m 1ms/step - accuracy: 0.7336 - loss: 0.5496\n",
            "Epoch 13/20\n",
            "\u001b[1m313/313\u001b[0m \u001b[32m━━━━━━━━━━━━━━━━━━━━\u001b[0m\u001b[37m\u001b[0m \u001b[1m1s\u001b[0m 1ms/step - accuracy: 0.7336 - loss: 0.5433\n",
            "Epoch 14/20\n",
            "\u001b[1m313/313\u001b[0m \u001b[32m━━━━━━━━━━━━━━━━━━━━\u001b[0m\u001b[37m\u001b[0m \u001b[1m1s\u001b[0m 1ms/step - accuracy: 0.7415 - loss: 0.5264\n",
            "Epoch 15/20\n",
            "\u001b[1m313/313\u001b[0m \u001b[32m━━━━━━━━━━━━━━━━━━━━\u001b[0m\u001b[37m\u001b[0m \u001b[1m1s\u001b[0m 1ms/step - accuracy: 0.7520 - loss: 0.5166\n",
            "Epoch 16/20\n",
            "\u001b[1m313/313\u001b[0m \u001b[32m━━━━━━━━━━━━━━━━━━━━\u001b[0m\u001b[37m\u001b[0m \u001b[1m1s\u001b[0m 1ms/step - accuracy: 0.7501 - loss: 0.5101\n",
            "Epoch 17/20\n",
            "\u001b[1m313/313\u001b[0m \u001b[32m━━━━━━━━━━━━━━━━━━━━\u001b[0m\u001b[37m\u001b[0m \u001b[1m0s\u001b[0m 1ms/step - accuracy: 0.7633 - loss: 0.4961\n",
            "Epoch 18/20\n",
            "\u001b[1m313/313\u001b[0m \u001b[32m━━━━━━━━━━━━━━━━━━━━\u001b[0m\u001b[37m\u001b[0m \u001b[1m0s\u001b[0m 1ms/step - accuracy: 0.7747 - loss: 0.4892\n",
            "Epoch 19/20\n",
            "\u001b[1m313/313\u001b[0m \u001b[32m━━━━━━━━━━━━━━━━━━━━\u001b[0m\u001b[37m\u001b[0m \u001b[1m1s\u001b[0m 1ms/step - accuracy: 0.7811 - loss: 0.4744\n",
            "Epoch 20/20\n",
            "\u001b[1m313/313\u001b[0m \u001b[32m━━━━━━━━━━━━━━━━━━━━\u001b[0m\u001b[37m\u001b[0m \u001b[1m1s\u001b[0m 2ms/step - accuracy: 0.7777 - loss: 0.4752\n"
          ]
        },
        {
          "output_type": "execute_result",
          "data": {
            "text/plain": [
              "<keras.src.callbacks.history.History at 0x785d3be75b10>"
            ]
          },
          "metadata": {},
          "execution_count": 19
        }
      ]
    },
    {
      "cell_type": "code",
      "source": [
        "model = Sequential()\n",
        "model.add(Dense(units=32, activation='relu', input_shape=(150,)))\n",
        "model.add(Dense(1, activation='sigmoid'))\n",
        "\n",
        "model.compile(optimizer='rmsprop',\n",
        "              loss='binary_crossentropy',\n",
        "              metrics=['accuracy'])\n",
        "\n",
        "model.fit(data, labels, epochs=20, batch_size=64)\n",
        "# zmiana model.fit(data, labels, epochs=20, batch_size=64)"
      ],
      "metadata": {
        "colab": {
          "base_uri": "https://localhost:8080/"
        },
        "id": "LrmtB8Q256rR",
        "outputId": "5eeadec8-88ec-4634-bcc8-03d822e8354c"
      },
      "execution_count": 21,
      "outputs": [
        {
          "output_type": "stream",
          "name": "stdout",
          "text": [
            "Epoch 1/20\n",
            "\u001b[1m157/157\u001b[0m \u001b[32m━━━━━━━━━━━━━━━━━━━━\u001b[0m\u001b[37m\u001b[0m \u001b[1m1s\u001b[0m 1ms/step - accuracy: 0.4897 - loss: 0.7746\n",
            "Epoch 2/20\n",
            "\u001b[1m157/157\u001b[0m \u001b[32m━━━━━━━━━━━━━━━━━━━━\u001b[0m\u001b[37m\u001b[0m \u001b[1m0s\u001b[0m 1ms/step - accuracy: 0.5366 - loss: 0.7012\n",
            "Epoch 3/20\n",
            "\u001b[1m157/157\u001b[0m \u001b[32m━━━━━━━━━━━━━━━━━━━━\u001b[0m\u001b[37m\u001b[0m \u001b[1m0s\u001b[0m 2ms/step - accuracy: 0.5679 - loss: 0.6816\n",
            "Epoch 4/20\n",
            "\u001b[1m157/157\u001b[0m \u001b[32m━━━━━━━━━━━━━━━━━━━━\u001b[0m\u001b[37m\u001b[0m \u001b[1m0s\u001b[0m 1ms/step - accuracy: 0.5937 - loss: 0.6697\n",
            "Epoch 5/20\n",
            "\u001b[1m157/157\u001b[0m \u001b[32m━━━━━━━━━━━━━━━━━━━━\u001b[0m\u001b[37m\u001b[0m \u001b[1m0s\u001b[0m 1ms/step - accuracy: 0.6171 - loss: 0.6570\n",
            "Epoch 6/20\n",
            "\u001b[1m157/157\u001b[0m \u001b[32m━━━━━━━━━━━━━━━━━━━━\u001b[0m\u001b[37m\u001b[0m \u001b[1m0s\u001b[0m 1ms/step - accuracy: 0.6359 - loss: 0.6437\n",
            "Epoch 7/20\n",
            "\u001b[1m157/157\u001b[0m \u001b[32m━━━━━━━━━━━━━━━━━━━━\u001b[0m\u001b[37m\u001b[0m \u001b[1m0s\u001b[0m 2ms/step - accuracy: 0.6465 - loss: 0.6357\n",
            "Epoch 8/20\n",
            "\u001b[1m157/157\u001b[0m \u001b[32m━━━━━━━━━━━━━━━━━━━━\u001b[0m\u001b[37m\u001b[0m \u001b[1m0s\u001b[0m 1ms/step - accuracy: 0.6520 - loss: 0.6267\n",
            "Epoch 9/20\n",
            "\u001b[1m157/157\u001b[0m \u001b[32m━━━━━━━━━━━━━━━━━━━━\u001b[0m\u001b[37m\u001b[0m \u001b[1m0s\u001b[0m 1ms/step - accuracy: 0.6774 - loss: 0.6137\n",
            "Epoch 10/20\n",
            "\u001b[1m157/157\u001b[0m \u001b[32m━━━━━━━━━━━━━━━━━━━━\u001b[0m\u001b[37m\u001b[0m \u001b[1m0s\u001b[0m 2ms/step - accuracy: 0.6792 - loss: 0.6055\n",
            "Epoch 11/20\n",
            "\u001b[1m157/157\u001b[0m \u001b[32m━━━━━━━━━━━━━━━━━━━━\u001b[0m\u001b[37m\u001b[0m \u001b[1m0s\u001b[0m 1ms/step - accuracy: 0.6939 - loss: 0.5956\n",
            "Epoch 12/20\n",
            "\u001b[1m157/157\u001b[0m \u001b[32m━━━━━━━━━━━━━━━━━━━━\u001b[0m\u001b[37m\u001b[0m \u001b[1m0s\u001b[0m 1ms/step - accuracy: 0.7019 - loss: 0.5830\n",
            "Epoch 13/20\n",
            "\u001b[1m157/157\u001b[0m \u001b[32m━━━━━━━━━━━━━━━━━━━━\u001b[0m\u001b[37m\u001b[0m \u001b[1m0s\u001b[0m 2ms/step - accuracy: 0.7023 - loss: 0.5730\n",
            "Epoch 14/20\n",
            "\u001b[1m157/157\u001b[0m \u001b[32m━━━━━━━━━━━━━━━━━━━━\u001b[0m\u001b[37m\u001b[0m \u001b[1m1s\u001b[0m 3ms/step - accuracy: 0.7254 - loss: 0.5601\n",
            "Epoch 15/20\n",
            "\u001b[1m157/157\u001b[0m \u001b[32m━━━━━━━━━━━━━━━━━━━━\u001b[0m\u001b[37m\u001b[0m \u001b[1m0s\u001b[0m 1ms/step - accuracy: 0.7363 - loss: 0.5468\n",
            "Epoch 16/20\n",
            "\u001b[1m157/157\u001b[0m \u001b[32m━━━━━━━━━━━━━━━━━━━━\u001b[0m\u001b[37m\u001b[0m \u001b[1m0s\u001b[0m 1ms/step - accuracy: 0.7388 - loss: 0.5415\n",
            "Epoch 17/20\n",
            "\u001b[1m157/157\u001b[0m \u001b[32m━━━━━━━━━━━━━━━━━━━━\u001b[0m\u001b[37m\u001b[0m \u001b[1m0s\u001b[0m 1ms/step - accuracy: 0.7384 - loss: 0.5356\n",
            "Epoch 18/20\n",
            "\u001b[1m157/157\u001b[0m \u001b[32m━━━━━━━━━━━━━━━━━━━━\u001b[0m\u001b[37m\u001b[0m \u001b[1m0s\u001b[0m 2ms/step - accuracy: 0.7427 - loss: 0.5289\n",
            "Epoch 19/20\n",
            "\u001b[1m157/157\u001b[0m \u001b[32m━━━━━━━━━━━━━━━━━━━━\u001b[0m\u001b[37m\u001b[0m \u001b[1m1s\u001b[0m 2ms/step - accuracy: 0.7503 - loss: 0.5204\n",
            "Epoch 20/20\n",
            "\u001b[1m157/157\u001b[0m \u001b[32m━━━━━━━━━━━━━━━━━━━━\u001b[0m\u001b[37m\u001b[0m \u001b[1m1s\u001b[0m 2ms/step - accuracy: 0.7614 - loss: 0.5077\n"
          ]
        },
        {
          "output_type": "execute_result",
          "data": {
            "text/plain": [
              "<keras.src.callbacks.history.History at 0x785d3a9b6e30>"
            ]
          },
          "metadata": {},
          "execution_count": 21
        }
      ]
    },
    {
      "cell_type": "code",
      "source": [
        "model = Sequential()\n",
        "model.add(Dense(units=32, activation='relu', input_shape=(150,)))\n",
        "model.add(Dense(1, activation='sigmoid'))\n",
        "\n",
        "model.compile(optimizer='rmsprop',\n",
        "              loss='binary_crossentropy',\n",
        "              metrics=['accuracy'])\n",
        "\n",
        "model.fit(data, labels, epochs=20, batch_size=32, validation_split=0.2)"
      ],
      "metadata": {
        "colab": {
          "base_uri": "https://localhost:8080/"
        },
        "id": "W2apG2Gr57by",
        "outputId": "e955cbbd-022c-44da-f837-36dd38e12590"
      },
      "execution_count": 22,
      "outputs": [
        {
          "output_type": "stream",
          "name": "stdout",
          "text": [
            "Epoch 1/20\n",
            "\u001b[1m250/250\u001b[0m \u001b[32m━━━━━━━━━━━━━━━━━━━━\u001b[0m\u001b[37m\u001b[0m \u001b[1m3s\u001b[0m 2ms/step - accuracy: 0.4954 - loss: 0.8217 - val_accuracy: 0.4910 - val_loss: 0.7330\n",
            "Epoch 2/20\n",
            "\u001b[1m250/250\u001b[0m \u001b[32m━━━━━━━━━━━━━━━━━━━━\u001b[0m\u001b[37m\u001b[0m \u001b[1m0s\u001b[0m 2ms/step - accuracy: 0.5539 - loss: 0.6963 - val_accuracy: 0.4905 - val_loss: 0.7294\n",
            "Epoch 3/20\n",
            "\u001b[1m250/250\u001b[0m \u001b[32m━━━━━━━━━━━━━━━━━━━━\u001b[0m\u001b[37m\u001b[0m \u001b[1m1s\u001b[0m 2ms/step - accuracy: 0.5989 - loss: 0.6663 - val_accuracy: 0.4930 - val_loss: 0.7316\n",
            "Epoch 4/20\n",
            "\u001b[1m250/250\u001b[0m \u001b[32m━━━━━━━━━━━━━━━━━━━━\u001b[0m\u001b[37m\u001b[0m \u001b[1m1s\u001b[0m 2ms/step - accuracy: 0.6115 - loss: 0.6537 - val_accuracy: 0.4840 - val_loss: 0.7385\n",
            "Epoch 5/20\n",
            "\u001b[1m250/250\u001b[0m \u001b[32m━━━━━━━━━━━━━━━━━━━━\u001b[0m\u001b[37m\u001b[0m \u001b[1m1s\u001b[0m 2ms/step - accuracy: 0.6350 - loss: 0.6397 - val_accuracy: 0.4860 - val_loss: 0.7410\n",
            "Epoch 6/20\n",
            "\u001b[1m250/250\u001b[0m \u001b[32m━━━━━━━━━━━━━━━━━━━━\u001b[0m\u001b[37m\u001b[0m \u001b[1m1s\u001b[0m 2ms/step - accuracy: 0.6651 - loss: 0.6236 - val_accuracy: 0.4900 - val_loss: 0.7441\n",
            "Epoch 7/20\n",
            "\u001b[1m250/250\u001b[0m \u001b[32m━━━━━━━━━━━━━━━━━━━━\u001b[0m\u001b[37m\u001b[0m \u001b[1m1s\u001b[0m 2ms/step - accuracy: 0.6852 - loss: 0.6061 - val_accuracy: 0.4830 - val_loss: 0.7507\n",
            "Epoch 8/20\n",
            "\u001b[1m250/250\u001b[0m \u001b[32m━━━━━━━━━━━━━━━━━━━━\u001b[0m\u001b[37m\u001b[0m \u001b[1m1s\u001b[0m 2ms/step - accuracy: 0.6988 - loss: 0.5867 - val_accuracy: 0.4920 - val_loss: 0.7650\n",
            "Epoch 9/20\n",
            "\u001b[1m250/250\u001b[0m \u001b[32m━━━━━━━━━━━━━━━━━━━━\u001b[0m\u001b[37m\u001b[0m \u001b[1m1s\u001b[0m 2ms/step - accuracy: 0.7096 - loss: 0.5784 - val_accuracy: 0.4900 - val_loss: 0.7753\n",
            "Epoch 10/20\n",
            "\u001b[1m250/250\u001b[0m \u001b[32m━━━━━━━━━━━━━━━━━━━━\u001b[0m\u001b[37m\u001b[0m \u001b[1m1s\u001b[0m 2ms/step - accuracy: 0.7304 - loss: 0.5594 - val_accuracy: 0.4945 - val_loss: 0.7930\n",
            "Epoch 11/20\n",
            "\u001b[1m250/250\u001b[0m \u001b[32m━━━━━━━━━━━━━━━━━━━━\u001b[0m\u001b[37m\u001b[0m \u001b[1m1s\u001b[0m 2ms/step - accuracy: 0.7404 - loss: 0.5437 - val_accuracy: 0.4795 - val_loss: 0.8093\n",
            "Epoch 12/20\n",
            "\u001b[1m250/250\u001b[0m \u001b[32m━━━━━━━━━━━━━━━━━━━━\u001b[0m\u001b[37m\u001b[0m \u001b[1m1s\u001b[0m 2ms/step - accuracy: 0.7590 - loss: 0.5265 - val_accuracy: 0.4735 - val_loss: 0.8169\n",
            "Epoch 13/20\n",
            "\u001b[1m250/250\u001b[0m \u001b[32m━━━━━━━━━━━━━━━━━━━━\u001b[0m\u001b[37m\u001b[0m \u001b[1m1s\u001b[0m 2ms/step - accuracy: 0.7645 - loss: 0.5156 - val_accuracy: 0.4850 - val_loss: 0.8354\n",
            "Epoch 14/20\n",
            "\u001b[1m250/250\u001b[0m \u001b[32m━━━━━━━━━━━━━━━━━━━━\u001b[0m\u001b[37m\u001b[0m \u001b[1m1s\u001b[0m 2ms/step - accuracy: 0.7789 - loss: 0.5003 - val_accuracy: 0.4920 - val_loss: 0.8490\n",
            "Epoch 15/20\n",
            "\u001b[1m250/250\u001b[0m \u001b[32m━━━━━━━━━━━━━━━━━━━━\u001b[0m\u001b[37m\u001b[0m \u001b[1m1s\u001b[0m 2ms/step - accuracy: 0.7790 - loss: 0.4903 - val_accuracy: 0.4790 - val_loss: 0.8687\n",
            "Epoch 16/20\n",
            "\u001b[1m250/250\u001b[0m \u001b[32m━━━━━━━━━━━━━━━━━━━━\u001b[0m\u001b[37m\u001b[0m \u001b[1m1s\u001b[0m 2ms/step - accuracy: 0.7966 - loss: 0.4701 - val_accuracy: 0.4810 - val_loss: 0.8941\n",
            "Epoch 17/20\n",
            "\u001b[1m250/250\u001b[0m \u001b[32m━━━━━━━━━━━━━━━━━━━━\u001b[0m\u001b[37m\u001b[0m \u001b[1m1s\u001b[0m 3ms/step - accuracy: 0.8058 - loss: 0.4631 - val_accuracy: 0.4820 - val_loss: 0.9118\n",
            "Epoch 18/20\n",
            "\u001b[1m250/250\u001b[0m \u001b[32m━━━━━━━━━━━━━━━━━━━━\u001b[0m\u001b[37m\u001b[0m \u001b[1m1s\u001b[0m 3ms/step - accuracy: 0.8182 - loss: 0.4396 - val_accuracy: 0.4790 - val_loss: 0.9344\n",
            "Epoch 19/20\n",
            "\u001b[1m250/250\u001b[0m \u001b[32m━━━━━━━━━━━━━━━━━━━━\u001b[0m\u001b[37m\u001b[0m \u001b[1m1s\u001b[0m 2ms/step - accuracy: 0.8215 - loss: 0.4353 - val_accuracy: 0.4815 - val_loss: 0.9513\n",
            "Epoch 20/20\n",
            "\u001b[1m250/250\u001b[0m \u001b[32m━━━━━━━━━━━━━━━━━━━━\u001b[0m\u001b[37m\u001b[0m \u001b[1m1s\u001b[0m 2ms/step - accuracy: 0.8277 - loss: 0.4251 - val_accuracy: 0.4830 - val_loss: 0.9676\n"
          ]
        },
        {
          "output_type": "execute_result",
          "data": {
            "text/plain": [
              "<keras.src.callbacks.history.History at 0x785d380455a0>"
            ]
          },
          "metadata": {},
          "execution_count": 22
        }
      ]
    },
    {
      "cell_type": "code",
      "source": [
        "model = Sequential()\n",
        "model.add(Dense(units=32, activation='relu', input_shape=(150,)))\n",
        "model.add(Dense(1, activation='sigmoid'))\n",
        "\n",
        "model.compile(optimizer='rmsprop',\n",
        "              loss='binary_crossentropy',\n",
        "              metrics=['accuracy'])\n",
        "\n",
        "history = model.fit(data, labels, epochs=20, batch_size=32, validation_split=0.2, verbose=0)"
      ],
      "metadata": {
        "id": "RF_OTftU6ePc"
      },
      "execution_count": 23,
      "outputs": []
    },
    {
      "cell_type": "code",
      "source": [
        "metrics = history.history\n",
        "metrics.keys()"
      ],
      "metadata": {
        "colab": {
          "base_uri": "https://localhost:8080/"
        },
        "id": "aBRTBf6l6mW-",
        "outputId": "1defeadd-06de-4ed5-b4e3-9fbf60ce0bf1"
      },
      "execution_count": 24,
      "outputs": [
        {
          "output_type": "execute_result",
          "data": {
            "text/plain": [
              "dict_keys(['accuracy', 'loss', 'val_accuracy', 'val_loss'])"
            ]
          },
          "metadata": {},
          "execution_count": 24
        }
      ]
    },
    {
      "cell_type": "code",
      "source": [
        "model = Sequential()\n",
        "model.add(Dense(units=32, activation='relu', input_shape=(150,)))\n",
        "model.add(Dense(1, activation='sigmoid'))\n",
        "\n",
        "model.compile(optimizer='rmsprop',\n",
        "              loss='binary_crossentropy',\n",
        "              metrics=['accuracy'])\n",
        "\n",
        "history = model.fit(data, labels, epochs=20, batch_size=32, validation_split=0.2, verbose=1)"
      ],
      "metadata": {
        "colab": {
          "base_uri": "https://localhost:8080/"
        },
        "id": "q25fyL056sJ7",
        "outputId": "841422f9-45b7-4274-d41b-eb4869b7ef63"
      },
      "execution_count": 25,
      "outputs": [
        {
          "output_type": "stream",
          "name": "stdout",
          "text": [
            "Epoch 1/20\n",
            "\u001b[1m250/250\u001b[0m \u001b[32m━━━━━━━━━━━━━━━━━━━━\u001b[0m\u001b[37m\u001b[0m \u001b[1m1s\u001b[0m 2ms/step - accuracy: 0.5072 - loss: 0.7737 - val_accuracy: 0.4950 - val_loss: 0.7243\n",
            "Epoch 2/20\n",
            "\u001b[1m250/250\u001b[0m \u001b[32m━━━━━━━━━━━━━━━━━━━━\u001b[0m\u001b[37m\u001b[0m \u001b[1m1s\u001b[0m 2ms/step - accuracy: 0.5502 - loss: 0.6900 - val_accuracy: 0.4950 - val_loss: 0.7215\n",
            "Epoch 3/20\n",
            "\u001b[1m250/250\u001b[0m \u001b[32m━━━━━━━━━━━━━━━━━━━━\u001b[0m\u001b[37m\u001b[0m \u001b[1m1s\u001b[0m 2ms/step - accuracy: 0.5884 - loss: 0.6701 - val_accuracy: 0.5050 - val_loss: 0.7206\n",
            "Epoch 4/20\n",
            "\u001b[1m250/250\u001b[0m \u001b[32m━━━━━━━━━━━━━━━━━━━━\u001b[0m\u001b[37m\u001b[0m \u001b[1m1s\u001b[0m 2ms/step - accuracy: 0.6086 - loss: 0.6582 - val_accuracy: 0.5050 - val_loss: 0.7246\n",
            "Epoch 5/20\n",
            "\u001b[1m250/250\u001b[0m \u001b[32m━━━━━━━━━━━━━━━━━━━━\u001b[0m\u001b[37m\u001b[0m \u001b[1m1s\u001b[0m 2ms/step - accuracy: 0.6417 - loss: 0.6378 - val_accuracy: 0.5005 - val_loss: 0.7305\n",
            "Epoch 6/20\n",
            "\u001b[1m250/250\u001b[0m \u001b[32m━━━━━━━━━━━━━━━━━━━━\u001b[0m\u001b[37m\u001b[0m \u001b[1m1s\u001b[0m 2ms/step - accuracy: 0.6575 - loss: 0.6282 - val_accuracy: 0.5040 - val_loss: 0.7342\n",
            "Epoch 7/20\n",
            "\u001b[1m250/250\u001b[0m \u001b[32m━━━━━━━━━━━━━━━━━━━━\u001b[0m\u001b[37m\u001b[0m \u001b[1m1s\u001b[0m 2ms/step - accuracy: 0.6756 - loss: 0.6118 - val_accuracy: 0.5045 - val_loss: 0.7417\n",
            "Epoch 8/20\n",
            "\u001b[1m250/250\u001b[0m \u001b[32m━━━━━━━━━━━━━━━━━━━━\u001b[0m\u001b[37m\u001b[0m \u001b[1m1s\u001b[0m 2ms/step - accuracy: 0.7004 - loss: 0.5969 - val_accuracy: 0.4970 - val_loss: 0.7504\n",
            "Epoch 9/20\n",
            "\u001b[1m250/250\u001b[0m \u001b[32m━━━━━━━━━━━━━━━━━━━━\u001b[0m\u001b[37m\u001b[0m \u001b[1m1s\u001b[0m 3ms/step - accuracy: 0.7093 - loss: 0.5817 - val_accuracy: 0.4985 - val_loss: 0.7606\n",
            "Epoch 10/20\n",
            "\u001b[1m250/250\u001b[0m \u001b[32m━━━━━━━━━━━━━━━━━━━━\u001b[0m\u001b[37m\u001b[0m \u001b[1m1s\u001b[0m 3ms/step - accuracy: 0.7268 - loss: 0.5664 - val_accuracy: 0.4955 - val_loss: 0.7698\n",
            "Epoch 11/20\n",
            "\u001b[1m250/250\u001b[0m \u001b[32m━━━━━━━━━━━━━━━━━━━━\u001b[0m\u001b[37m\u001b[0m \u001b[1m1s\u001b[0m 3ms/step - accuracy: 0.7431 - loss: 0.5498 - val_accuracy: 0.4915 - val_loss: 0.7863\n",
            "Epoch 12/20\n",
            "\u001b[1m250/250\u001b[0m \u001b[32m━━━━━━━━━━━━━━━━━━━━\u001b[0m\u001b[37m\u001b[0m \u001b[1m1s\u001b[0m 2ms/step - accuracy: 0.7488 - loss: 0.5343 - val_accuracy: 0.5000 - val_loss: 0.7963\n",
            "Epoch 13/20\n",
            "\u001b[1m250/250\u001b[0m \u001b[32m━━━━━━━━━━━━━━━━━━━━\u001b[0m\u001b[37m\u001b[0m \u001b[1m1s\u001b[0m 3ms/step - accuracy: 0.7679 - loss: 0.5159 - val_accuracy: 0.4935 - val_loss: 0.8167\n",
            "Epoch 14/20\n",
            "\u001b[1m250/250\u001b[0m \u001b[32m━━━━━━━━━━━━━━━━━━━━\u001b[0m\u001b[37m\u001b[0m \u001b[1m1s\u001b[0m 2ms/step - accuracy: 0.7721 - loss: 0.5021 - val_accuracy: 0.4950 - val_loss: 0.8296\n",
            "Epoch 15/20\n",
            "\u001b[1m250/250\u001b[0m \u001b[32m━━━━━━━━━━━━━━━━━━━━\u001b[0m\u001b[37m\u001b[0m \u001b[1m1s\u001b[0m 3ms/step - accuracy: 0.7704 - loss: 0.4980 - val_accuracy: 0.4910 - val_loss: 0.8505\n",
            "Epoch 16/20\n",
            "\u001b[1m250/250\u001b[0m \u001b[32m━━━━━━━━━━━━━━━━━━━━\u001b[0m\u001b[37m\u001b[0m \u001b[1m1s\u001b[0m 3ms/step - accuracy: 0.7875 - loss: 0.4791 - val_accuracy: 0.4825 - val_loss: 0.8663\n",
            "Epoch 17/20\n",
            "\u001b[1m250/250\u001b[0m \u001b[32m━━━━━━━━━━━━━━━━━━━━\u001b[0m\u001b[37m\u001b[0m \u001b[1m1s\u001b[0m 3ms/step - accuracy: 0.7993 - loss: 0.4578 - val_accuracy: 0.4905 - val_loss: 0.8917\n",
            "Epoch 18/20\n",
            "\u001b[1m250/250\u001b[0m \u001b[32m━━━━━━━━━━━━━━━━━━━━\u001b[0m\u001b[37m\u001b[0m \u001b[1m1s\u001b[0m 2ms/step - accuracy: 0.8031 - loss: 0.4497 - val_accuracy: 0.4890 - val_loss: 0.9056\n",
            "Epoch 19/20\n",
            "\u001b[1m250/250\u001b[0m \u001b[32m━━━━━━━━━━━━━━━━━━━━\u001b[0m\u001b[37m\u001b[0m \u001b[1m1s\u001b[0m 2ms/step - accuracy: 0.8057 - loss: 0.4465 - val_accuracy: 0.4950 - val_loss: 0.9272\n",
            "Epoch 20/20\n",
            "\u001b[1m250/250\u001b[0m \u001b[32m━━━━━━━━━━━━━━━━━━━━\u001b[0m\u001b[37m\u001b[0m \u001b[1m1s\u001b[0m 2ms/step - accuracy: 0.8059 - loss: 0.4405 - val_accuracy: 0.4945 - val_loss: 0.9511\n"
          ]
        }
      ]
    },
    {
      "cell_type": "code",
      "source": [
        "test_data = np.random.randn(5, 150)\n",
        "test_labels = np.random.randint(2, size=(5, 1))"
      ],
      "metadata": {
        "id": "2K-WVXnL63pI"
      },
      "execution_count": 26,
      "outputs": []
    },
    {
      "cell_type": "code",
      "source": [
        "model.predict(test_data)"
      ],
      "metadata": {
        "colab": {
          "base_uri": "https://localhost:8080/"
        },
        "id": "3ir7xBqz7T5t",
        "outputId": "1d0b268f-5f31-48b0-953e-d4acaf2df650"
      },
      "execution_count": 27,
      "outputs": [
        {
          "output_type": "stream",
          "name": "stdout",
          "text": [
            "\u001b[1m1/1\u001b[0m \u001b[32m━━━━━━━━━━━━━━━━━━━━\u001b[0m\u001b[37m\u001b[0m \u001b[1m0s\u001b[0m 77ms/step\n"
          ]
        },
        {
          "output_type": "execute_result",
          "data": {
            "text/plain": [
              "array([[0.3847248 ],\n",
              "       [0.32524294],\n",
              "       [0.85316056],\n",
              "       [0.21549998],\n",
              "       [0.72550935]], dtype=float32)"
            ]
          },
          "metadata": {},
          "execution_count": 27
        }
      ]
    },
    {
      "cell_type": "code",
      "source": [
        "model.predict_proba(test_data)"
      ],
      "metadata": {
        "colab": {
          "base_uri": "https://localhost:8080/",
          "height": 141
        },
        "id": "HD0fw_-z7Y3u",
        "outputId": "8e22ac5b-fff7-4ec0-a29b-94b3540f40c6"
      },
      "execution_count": 28,
      "outputs": [
        {
          "output_type": "error",
          "ename": "AttributeError",
          "evalue": "'Sequential' object has no attribute 'predict_proba'",
          "traceback": [
            "\u001b[0;31m---------------------------------------------------------------------------\u001b[0m",
            "\u001b[0;31mAttributeError\u001b[0m                            Traceback (most recent call last)",
            "\u001b[0;32m<ipython-input-28-179dbf9460b3>\u001b[0m in \u001b[0;36m<cell line: 1>\u001b[0;34m()\u001b[0m\n\u001b[0;32m----> 1\u001b[0;31m \u001b[0mmodel\u001b[0m\u001b[0;34m.\u001b[0m\u001b[0mpredict_proba\u001b[0m\u001b[0;34m(\u001b[0m\u001b[0mtest_data\u001b[0m\u001b[0;34m)\u001b[0m\u001b[0;34m\u001b[0m\u001b[0;34m\u001b[0m\u001b[0m\n\u001b[0m",
            "\u001b[0;31mAttributeError\u001b[0m: 'Sequential' object has no attribute 'predict_proba'"
          ]
        }
      ]
    },
    {
      "cell_type": "code",
      "source": [
        "model.predict_classes(test_data)"
      ],
      "metadata": {
        "colab": {
          "base_uri": "https://localhost:8080/",
          "height": 141
        },
        "id": "W5eAJc9C7gGO",
        "outputId": "7591f1a1-59cc-4b2e-e9d0-2ba402d4c799"
      },
      "execution_count": 29,
      "outputs": [
        {
          "output_type": "error",
          "ename": "AttributeError",
          "evalue": "'Sequential' object has no attribute 'predict_classes'",
          "traceback": [
            "\u001b[0;31m---------------------------------------------------------------------------\u001b[0m",
            "\u001b[0;31mAttributeError\u001b[0m                            Traceback (most recent call last)",
            "\u001b[0;32m<ipython-input-29-873120e67cf4>\u001b[0m in \u001b[0;36m<cell line: 1>\u001b[0;34m()\u001b[0m\n\u001b[0;32m----> 1\u001b[0;31m \u001b[0mmodel\u001b[0m\u001b[0;34m.\u001b[0m\u001b[0mpredict_classes\u001b[0m\u001b[0;34m(\u001b[0m\u001b[0mtest_data\u001b[0m\u001b[0;34m)\u001b[0m\u001b[0;34m\u001b[0m\u001b[0;34m\u001b[0m\u001b[0m\n\u001b[0m",
            "\u001b[0;31mAttributeError\u001b[0m: 'Sequential' object has no attribute 'predict_classes'"
          ]
        }
      ]
    },
    {
      "cell_type": "markdown",
      "source": [
        "### <a name='a5'></a> Przykład - klasyfikacja wieloklasowa"
      ],
      "metadata": {
        "id": "0dPP8U8k76m-"
      }
    },
    {
      "cell_type": "code",
      "source": [
        "data = np.random.random((10000, 150))\n",
        "labels = np.random.randint(10, size=(10000, 1))"
      ],
      "metadata": {
        "id": "uelklDtZ74y0"
      },
      "execution_count": 30,
      "outputs": []
    },
    {
      "cell_type": "code",
      "source": [
        "data = np.random.random((10000, 150))\n",
        "labels = np.random.randint(10, size=(10000, 1))"
      ],
      "metadata": {
        "id": "GSCxpqTc8A3j"
      },
      "execution_count": 31,
      "outputs": []
    },
    {
      "cell_type": "code",
      "source": [
        "labels[:10]\n"
      ],
      "metadata": {
        "colab": {
          "base_uri": "https://localhost:8080/"
        },
        "id": "Duz6FFpo8ECc",
        "outputId": "5e96d218-540a-48b0-9978-57097e91cf18"
      },
      "execution_count": 32,
      "outputs": [
        {
          "output_type": "execute_result",
          "data": {
            "text/plain": [
              "array([[1],\n",
              "       [8],\n",
              "       [1],\n",
              "       [6],\n",
              "       [9],\n",
              "       [8],\n",
              "       [3],\n",
              "       [0],\n",
              "       [4],\n",
              "       [0]])"
            ]
          },
          "metadata": {},
          "execution_count": 32
        }
      ]
    },
    {
      "cell_type": "code",
      "source": [
        "from tensorflow.keras.utils import to_categorical\n",
        "labels = to_categorical(labels, num_classes=10)\n",
        "labels"
      ],
      "metadata": {
        "colab": {
          "base_uri": "https://localhost:8080/"
        },
        "id": "rZ-pUM7D8K_h",
        "outputId": "10116e65-27ca-4c9c-8971-bd7b367d7d72"
      },
      "execution_count": 33,
      "outputs": [
        {
          "output_type": "execute_result",
          "data": {
            "text/plain": [
              "array([[0., 1., 0., ..., 0., 0., 0.],\n",
              "       [0., 0., 0., ..., 0., 1., 0.],\n",
              "       [0., 1., 0., ..., 0., 0., 0.],\n",
              "       ...,\n",
              "       [0., 0., 0., ..., 1., 0., 0.],\n",
              "       [0., 0., 0., ..., 0., 0., 0.],\n",
              "       [0., 0., 0., ..., 0., 0., 1.]])"
            ]
          },
          "metadata": {},
          "execution_count": 33
        }
      ]
    },
    {
      "cell_type": "markdown",
      "source": [
        "Ten kod wykorzystuje funkcję **`to_categorical`** z Keras do przekształcenia etykiet w format \"one-hot encoding\", co jest powszechnie stosowane w zadaniach klasyfikacji wieloklasowej.\n",
        "\n",
        "### Składnia:\n",
        "\n",
        "```python\n",
        "from tensorflow.keras.utils import to_categorical\n",
        "labels = to_categorical(labels, num_classes=10)\n",
        "```\n",
        "\n",
        "### Wyjaśnienie:\n",
        "\n",
        "1. **`from tensorflow.keras.utils import to_categorical`**:\n",
        "   - Importuje funkcję **`to_categorical`** z Keras, która służy do przekształcania wektora etykiet całkowitych (np. 0, 1, 2, ...) na macierz z reprezentacją \"one-hot encoding\".\n",
        "\n",
        "2. **`to_categorical(labels, num_classes=10)`**:\n",
        "   - **`labels`** to tablica lub wektor zawierający etykiety, które są liczbami całkowitymi reprezentującymi klasy. Funkcja przekształca te liczby w format \"one-hot encoding\".\n",
        "   - **`num_classes=10`** określa, że mamy 10 możliwych klas (0-9). Każda etykieta będzie zamieniona na wektor o długości 10, gdzie odpowiednia pozycja odpowiadająca danej klasie jest ustawiona na 1, a pozostałe pozycje na 0.\n",
        "   \n",
        "   Przykładowo, jeśli etykieta to **2**, to po przekształceniu będzie wyglądała tak:\n",
        "   ```\n",
        "   [0, 0, 1, 0, 0, 0, 0, 0, 0, 0]\n",
        "   ```\n",
        "   A etykieta **5** zostanie zamieniona na:\n",
        "   ```\n",
        "   [0, 0, 0, 0, 0, 1, 0, 0, 0, 0]\n",
        "   ```\n",
        "\n",
        "3. **Zastosowanie \"one-hot encoding\"**:\n",
        "   - **One-hot encoding** jest często używany w sieciach neuronowych do reprezentacji etykiet klasowych, ponieważ model zwykle przewiduje prawdopodobieństwo przynależności do każdej klasy. One-hot encoding zamienia liczby całkowite (które mogą reprezentować klasy) na binarne wektory, co jest bardziej odpowiednie do pracy z algorytmami uczenia maszynowego, szczególnie w warstwach wyjściowych sieci neuronowych.\n",
        "\n",
        "### Działanie krok po kroku:\n",
        "1. **Przed przekształceniem**:\n",
        "   - Załóżmy, że masz etykiety w formie liczb całkowitych, np.: `[0, 1, 2, 3, 4, 5, 6, 7, 8, 9]`.\n",
        "\n",
        "2. **Po zastosowaniu `to_categorical(labels, num_classes=10)`**:\n",
        "   - Etykiety zostaną przekształcone w tablicę o rozmiarze **(liczba próbek, 10)**, gdzie każda próbka będzie reprezentowana jako wektor one-hot:\n",
        "   ```python\n",
        "   [\n",
        "     [1, 0, 0, 0, 0, 0, 0, 0, 0, 0],  # Etykieta 0\n",
        "     [0, 1, 0, 0, 0, 0, 0, 0, 0, 0],  # Etykieta 1\n",
        "     [0, 0, 1, 0, 0, 0, 0, 0, 0, 0],  # Etykieta 2\n",
        "     [0, 0, 0, 1, 0, 0, 0, 0, 0, 0],  # Etykieta 3\n",
        "     ...\n",
        "     [0, 0, 0, 0, 0, 0, 0, 0, 0, 1]   # Etykieta 9\n",
        "   ]\n",
        "   ```\n",
        "\n",
        "3. **Po przekształceniu**:\n",
        "   - W wyniku działania funkcji **`to_categorical`**, każda etykieta jest teraz reprezentowana jako wektor o długości 10, co umożliwia sieci neuronowej przewidywanie prawdopodobieństw dla każdej z 10 klas.\n",
        "\n",
        "### Dlaczego to jest ważne?\n",
        "W sieciach neuronowych, w szczególności w problemach klasyfikacji wieloklasowej, model często używa funkcji aktywacji **softmax** na warstwie wyjściowej, która zwraca prawdopodobieństwo przynależności do każdej z klas. **One-hot encoding** pomaga w porównywaniu przewidywań modelu z rzeczywistymi etykietami podczas obliczania funkcji kosztu."
      ],
      "metadata": {
        "id": "n05ZEGXG9BUW"
      }
    },
    {
      "cell_type": "code",
      "source": [
        "labels[1]"
      ],
      "metadata": {
        "colab": {
          "base_uri": "https://localhost:8080/"
        },
        "id": "ofLf7AER9E11",
        "outputId": "9a515f22-a3d6-4a88-f9cb-76bbe831d20c"
      },
      "execution_count": 34,
      "outputs": [
        {
          "output_type": "execute_result",
          "data": {
            "text/plain": [
              "array([0., 0., 0., 0., 0., 0., 0., 0., 1., 0.])"
            ]
          },
          "metadata": {},
          "execution_count": 34
        }
      ]
    },
    {
      "cell_type": "code",
      "source": [
        "model = Sequential()\n",
        "model.add(Dense(units=32, activation='relu', input_shape=(150,)))\n",
        "model.add(Dense(units=10, activation='softmax'))\n",
        "\n",
        "model.compile(optimizer='rmsprop',\n",
        "              loss='categorical_crossentropy',\n",
        "              metrics=['accuracy'])\n",
        "\n",
        "model.fit(data, labels, batch_size=32, epochs=30, validation_split=0.2)"
      ],
      "metadata": {
        "colab": {
          "base_uri": "https://localhost:8080/"
        },
        "id": "SxKK1Y899Jhn",
        "outputId": "d6971092-2166-4939-c3b9-3bd53c2d8984"
      },
      "execution_count": 35,
      "outputs": [
        {
          "output_type": "stream",
          "name": "stdout",
          "text": [
            "Epoch 1/30\n"
          ]
        },
        {
          "output_type": "stream",
          "name": "stderr",
          "text": [
            "/usr/local/lib/python3.10/dist-packages/keras/src/layers/core/dense.py:87: UserWarning:\n",
            "\n",
            "Do not pass an `input_shape`/`input_dim` argument to a layer. When using Sequential models, prefer using an `Input(shape)` object as the first layer in the model instead.\n",
            "\n"
          ]
        },
        {
          "output_type": "stream",
          "name": "stdout",
          "text": [
            "\u001b[1m250/250\u001b[0m \u001b[32m━━━━━━━━━━━━━━━━━━━━\u001b[0m\u001b[37m\u001b[0m \u001b[1m1s\u001b[0m 3ms/step - accuracy: 0.0983 - loss: 2.3410 - val_accuracy: 0.0955 - val_loss: 2.3097\n",
            "Epoch 2/30\n",
            "\u001b[1m250/250\u001b[0m \u001b[32m━━━━━━━━━━━━━━━━━━━━\u001b[0m\u001b[37m\u001b[0m \u001b[1m1s\u001b[0m 2ms/step - accuracy: 0.0990 - loss: 2.3048 - val_accuracy: 0.0905 - val_loss: 2.3070\n",
            "Epoch 3/30\n",
            "\u001b[1m250/250\u001b[0m \u001b[32m━━━━━━━━━━━━━━━━━━━━\u001b[0m\u001b[37m\u001b[0m \u001b[1m1s\u001b[0m 3ms/step - accuracy: 0.1121 - loss: 2.3004 - val_accuracy: 0.0955 - val_loss: 2.3063\n",
            "Epoch 4/30\n",
            "\u001b[1m250/250\u001b[0m \u001b[32m━━━━━━━━━━━━━━━━━━━━\u001b[0m\u001b[37m\u001b[0m \u001b[1m1s\u001b[0m 3ms/step - accuracy: 0.1217 - loss: 2.2961 - val_accuracy: 0.0870 - val_loss: 2.3084\n",
            "Epoch 5/30\n",
            "\u001b[1m250/250\u001b[0m \u001b[32m━━━━━━━━━━━━━━━━━━━━\u001b[0m\u001b[37m\u001b[0m \u001b[1m1s\u001b[0m 3ms/step - accuracy: 0.1157 - loss: 2.2950 - val_accuracy: 0.0860 - val_loss: 2.3176\n",
            "Epoch 6/30\n",
            "\u001b[1m250/250\u001b[0m \u001b[32m━━━━━━━━━━━━━━━━━━━━\u001b[0m\u001b[37m\u001b[0m \u001b[1m1s\u001b[0m 2ms/step - accuracy: 0.1189 - loss: 2.2916 - val_accuracy: 0.0870 - val_loss: 2.3224\n",
            "Epoch 7/30\n",
            "\u001b[1m250/250\u001b[0m \u001b[32m━━━━━━━━━━━━━━━━━━━━\u001b[0m\u001b[37m\u001b[0m \u001b[1m1s\u001b[0m 2ms/step - accuracy: 0.1283 - loss: 2.2866 - val_accuracy: 0.0915 - val_loss: 2.3203\n",
            "Epoch 8/30\n",
            "\u001b[1m250/250\u001b[0m \u001b[32m━━━━━━━━━━━━━━━━━━━━\u001b[0m\u001b[37m\u001b[0m \u001b[1m1s\u001b[0m 2ms/step - accuracy: 0.1321 - loss: 2.2792 - val_accuracy: 0.0930 - val_loss: 2.3296\n",
            "Epoch 9/30\n",
            "\u001b[1m250/250\u001b[0m \u001b[32m━━━━━━━━━━━━━━━━━━━━\u001b[0m\u001b[37m\u001b[0m \u001b[1m1s\u001b[0m 2ms/step - accuracy: 0.1346 - loss: 2.2763 - val_accuracy: 0.0910 - val_loss: 2.3299\n",
            "Epoch 10/30\n",
            "\u001b[1m250/250\u001b[0m \u001b[32m━━━━━━━━━━━━━━━━━━━━\u001b[0m\u001b[37m\u001b[0m \u001b[1m1s\u001b[0m 2ms/step - accuracy: 0.1383 - loss: 2.2742 - val_accuracy: 0.0905 - val_loss: 2.3315\n",
            "Epoch 11/30\n",
            "\u001b[1m250/250\u001b[0m \u001b[32m━━━━━━━━━━━━━━━━━━━━\u001b[0m\u001b[37m\u001b[0m \u001b[1m1s\u001b[0m 2ms/step - accuracy: 0.1561 - loss: 2.2639 - val_accuracy: 0.0945 - val_loss: 2.3373\n",
            "Epoch 12/30\n",
            "\u001b[1m250/250\u001b[0m \u001b[32m━━━━━━━━━━━━━━━━━━━━\u001b[0m\u001b[37m\u001b[0m \u001b[1m1s\u001b[0m 2ms/step - accuracy: 0.1560 - loss: 2.2631 - val_accuracy: 0.1010 - val_loss: 2.3419\n",
            "Epoch 13/30\n",
            "\u001b[1m250/250\u001b[0m \u001b[32m━━━━━━━━━━━━━━━━━━━━\u001b[0m\u001b[37m\u001b[0m \u001b[1m1s\u001b[0m 2ms/step - accuracy: 0.1568 - loss: 2.2565 - val_accuracy: 0.0890 - val_loss: 2.3471\n",
            "Epoch 14/30\n",
            "\u001b[1m250/250\u001b[0m \u001b[32m━━━━━━━━━━━━━━━━━━━━\u001b[0m\u001b[37m\u001b[0m \u001b[1m1s\u001b[0m 2ms/step - accuracy: 0.1633 - loss: 2.2523 - val_accuracy: 0.0975 - val_loss: 2.3580\n",
            "Epoch 15/30\n",
            "\u001b[1m250/250\u001b[0m \u001b[32m━━━━━━━━━━━━━━━━━━━━\u001b[0m\u001b[37m\u001b[0m \u001b[1m1s\u001b[0m 2ms/step - accuracy: 0.1654 - loss: 2.2410 - val_accuracy: 0.0910 - val_loss: 2.3446\n",
            "Epoch 16/30\n",
            "\u001b[1m250/250\u001b[0m \u001b[32m━━━━━━━━━━━━━━━━━━━━\u001b[0m\u001b[37m\u001b[0m \u001b[1m1s\u001b[0m 2ms/step - accuracy: 0.1690 - loss: 2.2381 - val_accuracy: 0.0925 - val_loss: 2.3580\n",
            "Epoch 17/30\n",
            "\u001b[1m250/250\u001b[0m \u001b[32m━━━━━━━━━━━━━━━━━━━━\u001b[0m\u001b[37m\u001b[0m \u001b[1m1s\u001b[0m 2ms/step - accuracy: 0.1717 - loss: 2.2287 - val_accuracy: 0.0910 - val_loss: 2.3671\n",
            "Epoch 18/30\n",
            "\u001b[1m250/250\u001b[0m \u001b[32m━━━━━━━━━━━━━━━━━━━━\u001b[0m\u001b[37m\u001b[0m \u001b[1m0s\u001b[0m 2ms/step - accuracy: 0.1746 - loss: 2.2257 - val_accuracy: 0.1055 - val_loss: 2.3700\n",
            "Epoch 19/30\n",
            "\u001b[1m250/250\u001b[0m \u001b[32m━━━━━━━━━━━━━━━━━━━━\u001b[0m\u001b[37m\u001b[0m \u001b[1m1s\u001b[0m 2ms/step - accuracy: 0.1900 - loss: 2.2217 - val_accuracy: 0.0960 - val_loss: 2.3708\n",
            "Epoch 20/30\n",
            "\u001b[1m250/250\u001b[0m \u001b[32m━━━━━━━━━━━━━━━━━━━━\u001b[0m\u001b[37m\u001b[0m \u001b[1m1s\u001b[0m 2ms/step - accuracy: 0.1851 - loss: 2.2140 - val_accuracy: 0.0985 - val_loss: 2.3774\n",
            "Epoch 21/30\n",
            "\u001b[1m250/250\u001b[0m \u001b[32m━━━━━━━━━━━━━━━━━━━━\u001b[0m\u001b[37m\u001b[0m \u001b[1m1s\u001b[0m 2ms/step - accuracy: 0.1944 - loss: 2.2061 - val_accuracy: 0.0980 - val_loss: 2.3708\n",
            "Epoch 22/30\n",
            "\u001b[1m250/250\u001b[0m \u001b[32m━━━━━━━━━━━━━━━━━━━━\u001b[0m\u001b[37m\u001b[0m \u001b[1m1s\u001b[0m 2ms/step - accuracy: 0.1953 - loss: 2.1998 - val_accuracy: 0.0980 - val_loss: 2.3917\n",
            "Epoch 23/30\n",
            "\u001b[1m250/250\u001b[0m \u001b[32m━━━━━━━━━━━━━━━━━━━━\u001b[0m\u001b[37m\u001b[0m \u001b[1m1s\u001b[0m 3ms/step - accuracy: 0.1937 - loss: 2.1982 - val_accuracy: 0.1005 - val_loss: 2.3859\n",
            "Epoch 24/30\n",
            "\u001b[1m250/250\u001b[0m \u001b[32m━━━━━━━━━━━━━━━━━━━━\u001b[0m\u001b[37m\u001b[0m \u001b[1m1s\u001b[0m 3ms/step - accuracy: 0.2040 - loss: 2.1913 - val_accuracy: 0.1010 - val_loss: 2.3916\n",
            "Epoch 25/30\n",
            "\u001b[1m250/250\u001b[0m \u001b[32m━━━━━━━━━━━━━━━━━━━━\u001b[0m\u001b[37m\u001b[0m \u001b[1m1s\u001b[0m 3ms/step - accuracy: 0.1967 - loss: 2.1873 - val_accuracy: 0.0940 - val_loss: 2.3926\n",
            "Epoch 26/30\n",
            "\u001b[1m250/250\u001b[0m \u001b[32m━━━━━━━━━━━━━━━━━━━━\u001b[0m\u001b[37m\u001b[0m \u001b[1m1s\u001b[0m 2ms/step - accuracy: 0.2079 - loss: 2.1761 - val_accuracy: 0.1015 - val_loss: 2.4122\n",
            "Epoch 27/30\n",
            "\u001b[1m250/250\u001b[0m \u001b[32m━━━━━━━━━━━━━━━━━━━━\u001b[0m\u001b[37m\u001b[0m \u001b[1m1s\u001b[0m 2ms/step - accuracy: 0.2089 - loss: 2.1738 - val_accuracy: 0.0990 - val_loss: 2.4155\n",
            "Epoch 28/30\n",
            "\u001b[1m250/250\u001b[0m \u001b[32m━━━━━━━━━━━━━━━━━━━━\u001b[0m\u001b[37m\u001b[0m \u001b[1m1s\u001b[0m 2ms/step - accuracy: 0.2099 - loss: 2.1677 - val_accuracy: 0.1070 - val_loss: 2.4156\n",
            "Epoch 29/30\n",
            "\u001b[1m250/250\u001b[0m \u001b[32m━━━━━━━━━━━━━━━━━━━━\u001b[0m\u001b[37m\u001b[0m \u001b[1m1s\u001b[0m 2ms/step - accuracy: 0.2109 - loss: 2.1660 - val_accuracy: 0.0990 - val_loss: 2.4184\n",
            "Epoch 30/30\n",
            "\u001b[1m250/250\u001b[0m \u001b[32m━━━━━━━━━━━━━━━━━━━━\u001b[0m\u001b[37m\u001b[0m \u001b[1m1s\u001b[0m 2ms/step - accuracy: 0.2085 - loss: 2.1602 - val_accuracy: 0.1035 - val_loss: 2.4210\n"
          ]
        },
        {
          "output_type": "execute_result",
          "data": {
            "text/plain": [
              "<keras.src.callbacks.history.History at 0x785d3a62f130>"
            ]
          },
          "metadata": {},
          "execution_count": 35
        }
      ]
    },
    {
      "cell_type": "code",
      "source": [
        "test_data = np.random.random((10, 150))\n",
        "\n",
        "model.predict(test_data)"
      ],
      "metadata": {
        "colab": {
          "base_uri": "https://localhost:8080/"
        },
        "id": "ZVNkK2ku9VDo",
        "outputId": "c8078430-1a07-4375-9b66-e2bd560b7e33"
      },
      "execution_count": 36,
      "outputs": [
        {
          "output_type": "stream",
          "name": "stdout",
          "text": [
            "\u001b[1m1/1\u001b[0m \u001b[32m━━━━━━━━━━━━━━━━━━━━\u001b[0m\u001b[37m\u001b[0m \u001b[1m0s\u001b[0m 43ms/step\n"
          ]
        },
        {
          "output_type": "execute_result",
          "data": {
            "text/plain": [
              "array([[0.10719407, 0.1035215 , 0.14556146, 0.02840328, 0.23529303,\n",
              "        0.09801079, 0.11303296, 0.0471069 , 0.03415169, 0.08772424],\n",
              "       [0.08823883, 0.06079516, 0.13821141, 0.04690433, 0.21948771,\n",
              "        0.04699683, 0.07606985, 0.10547666, 0.06830394, 0.1495152 ],\n",
              "       [0.11025117, 0.05138603, 0.14514637, 0.10930527, 0.10172184,\n",
              "        0.08792102, 0.12745748, 0.084739  , 0.10639901, 0.07567275],\n",
              "       [0.12600973, 0.02791144, 0.34069645, 0.07058702, 0.06469314,\n",
              "        0.06865855, 0.10706916, 0.06802886, 0.07188276, 0.05446288],\n",
              "       [0.13953291, 0.03260254, 0.2079232 , 0.08324022, 0.12952396,\n",
              "        0.09240351, 0.10984238, 0.07128226, 0.08482215, 0.04882689],\n",
              "       [0.10791879, 0.05993644, 0.10183918, 0.10043182, 0.08946417,\n",
              "        0.06675646, 0.07164737, 0.10470901, 0.18751511, 0.10978165],\n",
              "       [0.23099135, 0.03995658, 0.17065649, 0.03380148, 0.06173046,\n",
              "        0.04754536, 0.17414835, 0.13093701, 0.06639566, 0.04383725],\n",
              "       [0.14466253, 0.02581259, 0.19878383, 0.12707756, 0.05908205,\n",
              "        0.11626875, 0.11645497, 0.08083495, 0.08040287, 0.05061989],\n",
              "       [0.16527589, 0.19232632, 0.08117903, 0.10664884, 0.04289135,\n",
              "        0.10112276, 0.04588039, 0.12694162, 0.05086791, 0.08686586],\n",
              "       [0.10253236, 0.05579317, 0.08952259, 0.02763325, 0.0920155 ,\n",
              "        0.06365395, 0.37567917, 0.04637069, 0.03638146, 0.11041788]],\n",
              "      dtype=float32)"
            ]
          },
          "metadata": {},
          "execution_count": 36
        }
      ]
    },
    {
      "cell_type": "code",
      "source": [
        "model.predict_classes(test_data)"
      ],
      "metadata": {
        "colab": {
          "base_uri": "https://localhost:8080/",
          "height": 141
        },
        "id": "SsCaf2Ed9ajQ",
        "outputId": "ecfd8f61-5f1c-4fd0-e33b-f6d37ed23997"
      },
      "execution_count": 37,
      "outputs": [
        {
          "output_type": "error",
          "ename": "AttributeError",
          "evalue": "'Sequential' object has no attribute 'predict_classes'",
          "traceback": [
            "\u001b[0;31m---------------------------------------------------------------------------\u001b[0m",
            "\u001b[0;31mAttributeError\u001b[0m                            Traceback (most recent call last)",
            "\u001b[0;32m<ipython-input-37-873120e67cf4>\u001b[0m in \u001b[0;36m<cell line: 1>\u001b[0;34m()\u001b[0m\n\u001b[0;32m----> 1\u001b[0;31m \u001b[0mmodel\u001b[0m\u001b[0;34m.\u001b[0m\u001b[0mpredict_classes\u001b[0m\u001b[0;34m(\u001b[0m\u001b[0mtest_data\u001b[0m\u001b[0;34m)\u001b[0m\u001b[0;34m\u001b[0m\u001b[0;34m\u001b[0m\u001b[0m\n\u001b[0m",
            "\u001b[0;31mAttributeError\u001b[0m: 'Sequential' object has no attribute 'predict_classes'"
          ]
        }
      ]
    }
  ]
}