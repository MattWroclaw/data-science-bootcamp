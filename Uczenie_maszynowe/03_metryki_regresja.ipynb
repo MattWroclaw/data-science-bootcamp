{
  "nbformat": 4,
  "nbformat_minor": 0,
  "metadata": {
    "colab": {
      "provenance": [],
      "authorship_tag": "ABX9TyO5t5FXnPTowZo8tWuKVX1m",
      "include_colab_link": true
    },
    "kernelspec": {
      "name": "python3",
      "display_name": "Python 3"
    },
    "language_info": {
      "name": "python"
    }
  },
  "cells": [
    {
      "cell_type": "markdown",
      "metadata": {
        "id": "view-in-github",
        "colab_type": "text"
      },
      "source": [
        "<a href=\"https://colab.research.google.com/github/MattWroclaw/data-science-bootcamp/blob/main/Uczenie_maszynowe/03_metryki_regresja.ipynb\" target=\"_parent\"><img src=\"https://colab.research.google.com/assets/colab-badge.svg\" alt=\"Open In Colab\"/></a>"
      ]
    },
    {
      "cell_type": "markdown",
      "source": [
        "#Metody oceny modeli regresyjnych\n",
        "\n",
        "*Model regresyjny* (przewidzenie ciągłej zmiennej) : ma on za zadanie przewidzieć ciągłą wartość naszej zmiennej. Np. cena akcji na giełdzie, liczba klientów w danym dni, miesiącu.."
      ],
      "metadata": {
        "id": "JfZpKstqGcQ5"
      }
    },
    {
      "cell_type": "markdown",
      "source": [
        "## Metryki Problem regresji\n",
        "\n",
        "\n",
        "1.  Import blibliotek `pip install scikit-learn`\n",
        "2.  Interpretacja graficzna\n",
        "3.  [Mean Absolute Error - MAE - Średni bład bezwzględny](#a3)\n",
        "4.  [Mean Squared Error - MSE - Błądśredniokwadratowy](#a4)\n",
        "5.  [Root Mean Squared Error - RMSE - pierwiastek błędu śreniokwadratowego](#a5)\n",
        "6.  [Max Error - Błąd maksymalny](#a6)\n",
        "7.  [R2 soruce -współczynnik determinacji](#a7)\n",
        "\n",
        "\n"
      ],
      "metadata": {
        "id": "evK38vVWG6hU"
      }
    },
    {
      "cell_type": "code",
      "execution_count": 1,
      "metadata": {
        "id": "D2cMQvmqGNb7"
      },
      "outputs": [],
      "source": [
        "import numpy as np\n",
        "import pandas as pd\n",
        "import plotly.express as px\n",
        "import plotly.graph_objects as go"
      ]
    },
    {
      "cell_type": "code",
      "source": [
        "# generujemy dane \"prawdziwe\"\n",
        "y_true = 100 + 20 * np.random.randn(50)\n",
        "y_true"
      ],
      "metadata": {
        "colab": {
          "base_uri": "https://localhost:8080/"
        },
        "id": "rK-Ze8gmI0Ww",
        "outputId": "881dbbe5-8c99-4713-833e-2335c0c27792"
      },
      "execution_count": 2,
      "outputs": [
        {
          "output_type": "execute_result",
          "data": {
            "text/plain": [
              "array([ 51.86865032, 139.28719827,  60.4063477 ,  79.28367365,\n",
              "       133.32081446, 120.43436484, 131.23733011,  67.68234215,\n",
              "        69.7839212 ,  94.22032113,  63.01227304, 110.91164086,\n",
              "       110.2693364 ,  94.28049412, 119.9893985 ,  91.59382815,\n",
              "        95.09721001, 108.15699432,  68.81827974,  91.32308968,\n",
              "       124.36710229, 104.66986408,  97.95164432,  71.94634939,\n",
              "       132.53053872, 136.12763626, 116.49762433, 109.75481596,\n",
              "       118.03362514, 109.8555594 ,  96.75254431,  93.12432197,\n",
              "       109.39475373, 131.4053201 , 114.9301534 ,  97.22205547,\n",
              "       117.07552472,  96.97347284,  97.8073768 , 122.52634898,\n",
              "        98.32649432, 112.55275311, 127.78568002, 100.05969652,\n",
              "       104.98410333,  88.89042711,  78.76056765,  78.3346076 ,\n",
              "       114.37642314,  56.09995338])"
            ]
          },
          "metadata": {},
          "execution_count": 2
        }
      ]
    },
    {
      "cell_type": "code",
      "source": [
        "# generujemy dane przewidywane, zależe + szum (50 -> 50 liczb)\n",
        "\n",
        "y_pred = y_true + 10 * np.random.randn(50)\n",
        "y_pred"
      ],
      "metadata": {
        "colab": {
          "base_uri": "https://localhost:8080/"
        },
        "id": "iIJ3d3PpJOJl",
        "outputId": "56576b89-7007-4755-f708-2a72b0f646b1"
      },
      "execution_count": 3,
      "outputs": [
        {
          "output_type": "execute_result",
          "data": {
            "text/plain": [
              "array([ 46.25664562, 130.71602655,  62.01797877,  66.6398914 ,\n",
              "       133.63228726, 118.31831661, 141.96519622,  53.42495959,\n",
              "        70.62864606, 103.12028718,  49.10179232, 121.27509625,\n",
              "       112.7789572 , 107.05621175, 116.30839489, 102.27980777,\n",
              "       106.75112044, 115.60496493,  83.4705005 ,  90.35747897,\n",
              "       128.6159185 , 101.46042476, 102.68385983,  57.53261697,\n",
              "       120.69651411, 118.46098488, 124.19910994, 121.47117188,\n",
              "       111.00699709,  95.09864994,  88.80128415,  90.82034894,\n",
              "       101.48200358, 124.70496001, 120.66470008,  97.75654248,\n",
              "       118.4546571 , 102.37989408,  81.85638312, 128.84296513,\n",
              "        85.62158562, 114.91043561, 123.55497429, 101.91678551,\n",
              "       109.09691766,  96.37477955,  71.33471658,  74.28827568,\n",
              "       119.34248428,  46.00990499])"
            ]
          },
          "metadata": {},
          "execution_count": 3
        }
      ]
    },
    {
      "cell_type": "code",
      "source": [
        "# Tworzymy ramke danych, która pozwoli nam pokazać graficznie wykres danych\n",
        "\n",
        "results = pd.DataFrame({'y_true': y_true, 'y_pred':y_pred})\n",
        "results.head()"
      ],
      "metadata": {
        "colab": {
          "base_uri": "https://localhost:8080/",
          "height": 206
        },
        "id": "LE0uYnarKPpR",
        "outputId": "09c20284-0612-4086-fc9a-a8ca99d84a74"
      },
      "execution_count": 6,
      "outputs": [
        {
          "output_type": "execute_result",
          "data": {
            "text/plain": [
              "       y_true      y_pred\n",
              "0   51.868650   46.256646\n",
              "1  139.287198  130.716027\n",
              "2   60.406348   62.017979\n",
              "3   79.283674   66.639891\n",
              "4  133.320814  133.632287"
            ],
            "text/html": [
              "\n",
              "  <div id=\"df-b59023d3-a0bb-4091-9701-5099a9f317fd\" class=\"colab-df-container\">\n",
              "    <div>\n",
              "<style scoped>\n",
              "    .dataframe tbody tr th:only-of-type {\n",
              "        vertical-align: middle;\n",
              "    }\n",
              "\n",
              "    .dataframe tbody tr th {\n",
              "        vertical-align: top;\n",
              "    }\n",
              "\n",
              "    .dataframe thead th {\n",
              "        text-align: right;\n",
              "    }\n",
              "</style>\n",
              "<table border=\"1\" class=\"dataframe\">\n",
              "  <thead>\n",
              "    <tr style=\"text-align: right;\">\n",
              "      <th></th>\n",
              "      <th>y_true</th>\n",
              "      <th>y_pred</th>\n",
              "    </tr>\n",
              "  </thead>\n",
              "  <tbody>\n",
              "    <tr>\n",
              "      <th>0</th>\n",
              "      <td>51.868650</td>\n",
              "      <td>46.256646</td>\n",
              "    </tr>\n",
              "    <tr>\n",
              "      <th>1</th>\n",
              "      <td>139.287198</td>\n",
              "      <td>130.716027</td>\n",
              "    </tr>\n",
              "    <tr>\n",
              "      <th>2</th>\n",
              "      <td>60.406348</td>\n",
              "      <td>62.017979</td>\n",
              "    </tr>\n",
              "    <tr>\n",
              "      <th>3</th>\n",
              "      <td>79.283674</td>\n",
              "      <td>66.639891</td>\n",
              "    </tr>\n",
              "    <tr>\n",
              "      <th>4</th>\n",
              "      <td>133.320814</td>\n",
              "      <td>133.632287</td>\n",
              "    </tr>\n",
              "  </tbody>\n",
              "</table>\n",
              "</div>\n",
              "    <div class=\"colab-df-buttons\">\n",
              "\n",
              "  <div class=\"colab-df-container\">\n",
              "    <button class=\"colab-df-convert\" onclick=\"convertToInteractive('df-b59023d3-a0bb-4091-9701-5099a9f317fd')\"\n",
              "            title=\"Convert this dataframe to an interactive table.\"\n",
              "            style=\"display:none;\">\n",
              "\n",
              "  <svg xmlns=\"http://www.w3.org/2000/svg\" height=\"24px\" viewBox=\"0 -960 960 960\">\n",
              "    <path d=\"M120-120v-720h720v720H120Zm60-500h600v-160H180v160Zm220 220h160v-160H400v160Zm0 220h160v-160H400v160ZM180-400h160v-160H180v160Zm440 0h160v-160H620v160ZM180-180h160v-160H180v160Zm440 0h160v-160H620v160Z\"/>\n",
              "  </svg>\n",
              "    </button>\n",
              "\n",
              "  <style>\n",
              "    .colab-df-container {\n",
              "      display:flex;\n",
              "      gap: 12px;\n",
              "    }\n",
              "\n",
              "    .colab-df-convert {\n",
              "      background-color: #E8F0FE;\n",
              "      border: none;\n",
              "      border-radius: 50%;\n",
              "      cursor: pointer;\n",
              "      display: none;\n",
              "      fill: #1967D2;\n",
              "      height: 32px;\n",
              "      padding: 0 0 0 0;\n",
              "      width: 32px;\n",
              "    }\n",
              "\n",
              "    .colab-df-convert:hover {\n",
              "      background-color: #E2EBFA;\n",
              "      box-shadow: 0px 1px 2px rgba(60, 64, 67, 0.3), 0px 1px 3px 1px rgba(60, 64, 67, 0.15);\n",
              "      fill: #174EA6;\n",
              "    }\n",
              "\n",
              "    .colab-df-buttons div {\n",
              "      margin-bottom: 4px;\n",
              "    }\n",
              "\n",
              "    [theme=dark] .colab-df-convert {\n",
              "      background-color: #3B4455;\n",
              "      fill: #D2E3FC;\n",
              "    }\n",
              "\n",
              "    [theme=dark] .colab-df-convert:hover {\n",
              "      background-color: #434B5C;\n",
              "      box-shadow: 0px 1px 3px 1px rgba(0, 0, 0, 0.15);\n",
              "      filter: drop-shadow(0px 1px 2px rgba(0, 0, 0, 0.3));\n",
              "      fill: #FFFFFF;\n",
              "    }\n",
              "  </style>\n",
              "\n",
              "    <script>\n",
              "      const buttonEl =\n",
              "        document.querySelector('#df-b59023d3-a0bb-4091-9701-5099a9f317fd button.colab-df-convert');\n",
              "      buttonEl.style.display =\n",
              "        google.colab.kernel.accessAllowed ? 'block' : 'none';\n",
              "\n",
              "      async function convertToInteractive(key) {\n",
              "        const element = document.querySelector('#df-b59023d3-a0bb-4091-9701-5099a9f317fd');\n",
              "        const dataTable =\n",
              "          await google.colab.kernel.invokeFunction('convertToInteractive',\n",
              "                                                    [key], {});\n",
              "        if (!dataTable) return;\n",
              "\n",
              "        const docLinkHtml = 'Like what you see? Visit the ' +\n",
              "          '<a target=\"_blank\" href=https://colab.research.google.com/notebooks/data_table.ipynb>data table notebook</a>'\n",
              "          + ' to learn more about interactive tables.';\n",
              "        element.innerHTML = '';\n",
              "        dataTable['output_type'] = 'display_data';\n",
              "        await google.colab.output.renderOutput(dataTable, element);\n",
              "        const docLink = document.createElement('div');\n",
              "        docLink.innerHTML = docLinkHtml;\n",
              "        element.appendChild(docLink);\n",
              "      }\n",
              "    </script>\n",
              "  </div>\n",
              "\n",
              "\n",
              "<div id=\"df-d151c7d7-a41c-4567-b413-e4431d8500bc\">\n",
              "  <button class=\"colab-df-quickchart\" onclick=\"quickchart('df-d151c7d7-a41c-4567-b413-e4431d8500bc')\"\n",
              "            title=\"Suggest charts\"\n",
              "            style=\"display:none;\">\n",
              "\n",
              "<svg xmlns=\"http://www.w3.org/2000/svg\" height=\"24px\"viewBox=\"0 0 24 24\"\n",
              "     width=\"24px\">\n",
              "    <g>\n",
              "        <path d=\"M19 3H5c-1.1 0-2 .9-2 2v14c0 1.1.9 2 2 2h14c1.1 0 2-.9 2-2V5c0-1.1-.9-2-2-2zM9 17H7v-7h2v7zm4 0h-2V7h2v10zm4 0h-2v-4h2v4z\"/>\n",
              "    </g>\n",
              "</svg>\n",
              "  </button>\n",
              "\n",
              "<style>\n",
              "  .colab-df-quickchart {\n",
              "      --bg-color: #E8F0FE;\n",
              "      --fill-color: #1967D2;\n",
              "      --hover-bg-color: #E2EBFA;\n",
              "      --hover-fill-color: #174EA6;\n",
              "      --disabled-fill-color: #AAA;\n",
              "      --disabled-bg-color: #DDD;\n",
              "  }\n",
              "\n",
              "  [theme=dark] .colab-df-quickchart {\n",
              "      --bg-color: #3B4455;\n",
              "      --fill-color: #D2E3FC;\n",
              "      --hover-bg-color: #434B5C;\n",
              "      --hover-fill-color: #FFFFFF;\n",
              "      --disabled-bg-color: #3B4455;\n",
              "      --disabled-fill-color: #666;\n",
              "  }\n",
              "\n",
              "  .colab-df-quickchart {\n",
              "    background-color: var(--bg-color);\n",
              "    border: none;\n",
              "    border-radius: 50%;\n",
              "    cursor: pointer;\n",
              "    display: none;\n",
              "    fill: var(--fill-color);\n",
              "    height: 32px;\n",
              "    padding: 0;\n",
              "    width: 32px;\n",
              "  }\n",
              "\n",
              "  .colab-df-quickchart:hover {\n",
              "    background-color: var(--hover-bg-color);\n",
              "    box-shadow: 0 1px 2px rgba(60, 64, 67, 0.3), 0 1px 3px 1px rgba(60, 64, 67, 0.15);\n",
              "    fill: var(--button-hover-fill-color);\n",
              "  }\n",
              "\n",
              "  .colab-df-quickchart-complete:disabled,\n",
              "  .colab-df-quickchart-complete:disabled:hover {\n",
              "    background-color: var(--disabled-bg-color);\n",
              "    fill: var(--disabled-fill-color);\n",
              "    box-shadow: none;\n",
              "  }\n",
              "\n",
              "  .colab-df-spinner {\n",
              "    border: 2px solid var(--fill-color);\n",
              "    border-color: transparent;\n",
              "    border-bottom-color: var(--fill-color);\n",
              "    animation:\n",
              "      spin 1s steps(1) infinite;\n",
              "  }\n",
              "\n",
              "  @keyframes spin {\n",
              "    0% {\n",
              "      border-color: transparent;\n",
              "      border-bottom-color: var(--fill-color);\n",
              "      border-left-color: var(--fill-color);\n",
              "    }\n",
              "    20% {\n",
              "      border-color: transparent;\n",
              "      border-left-color: var(--fill-color);\n",
              "      border-top-color: var(--fill-color);\n",
              "    }\n",
              "    30% {\n",
              "      border-color: transparent;\n",
              "      border-left-color: var(--fill-color);\n",
              "      border-top-color: var(--fill-color);\n",
              "      border-right-color: var(--fill-color);\n",
              "    }\n",
              "    40% {\n",
              "      border-color: transparent;\n",
              "      border-right-color: var(--fill-color);\n",
              "      border-top-color: var(--fill-color);\n",
              "    }\n",
              "    60% {\n",
              "      border-color: transparent;\n",
              "      border-right-color: var(--fill-color);\n",
              "    }\n",
              "    80% {\n",
              "      border-color: transparent;\n",
              "      border-right-color: var(--fill-color);\n",
              "      border-bottom-color: var(--fill-color);\n",
              "    }\n",
              "    90% {\n",
              "      border-color: transparent;\n",
              "      border-bottom-color: var(--fill-color);\n",
              "    }\n",
              "  }\n",
              "</style>\n",
              "\n",
              "  <script>\n",
              "    async function quickchart(key) {\n",
              "      const quickchartButtonEl =\n",
              "        document.querySelector('#' + key + ' button');\n",
              "      quickchartButtonEl.disabled = true;  // To prevent multiple clicks.\n",
              "      quickchartButtonEl.classList.add('colab-df-spinner');\n",
              "      try {\n",
              "        const charts = await google.colab.kernel.invokeFunction(\n",
              "            'suggestCharts', [key], {});\n",
              "      } catch (error) {\n",
              "        console.error('Error during call to suggestCharts:', error);\n",
              "      }\n",
              "      quickchartButtonEl.classList.remove('colab-df-spinner');\n",
              "      quickchartButtonEl.classList.add('colab-df-quickchart-complete');\n",
              "    }\n",
              "    (() => {\n",
              "      let quickchartButtonEl =\n",
              "        document.querySelector('#df-d151c7d7-a41c-4567-b413-e4431d8500bc button');\n",
              "      quickchartButtonEl.style.display =\n",
              "        google.colab.kernel.accessAllowed ? 'block' : 'none';\n",
              "    })();\n",
              "  </script>\n",
              "</div>\n",
              "\n",
              "    </div>\n",
              "  </div>\n"
            ],
            "application/vnd.google.colaboratory.intrinsic+json": {
              "type": "dataframe",
              "variable_name": "results",
              "summary": "{\n  \"name\": \"results\",\n  \"rows\": 50,\n  \"fields\": [\n    {\n      \"column\": \"y_true\",\n      \"properties\": {\n        \"dtype\": \"number\",\n        \"std\": 22.307606834896752,\n        \"min\": 51.86865032469251,\n        \"max\": 139.28719827090163,\n        \"num_unique_values\": 50,\n        \"samples\": [\n          94.2804941219337,\n          122.52634898330041,\n          96.75254430771085\n        ],\n        \"semantic_type\": \"\",\n        \"description\": \"\"\n      }\n    },\n    {\n      \"column\": \"y_pred\",\n      \"properties\": {\n        \"dtype\": \"number\",\n        \"std\": 24.76281460591029,\n        \"min\": 46.00990499201009,\n        \"max\": 141.9651962188431,\n        \"num_unique_values\": 50,\n        \"samples\": [\n          107.05621175313377,\n          128.8429651289324,\n          88.80128414934559\n        ],\n        \"semantic_type\": \"\",\n        \"description\": \"\"\n      }\n    }\n  ]\n}"
            }
          },
          "metadata": {},
          "execution_count": 6
        }
      ]
    },
    {
      "cell_type": "code",
      "source": [
        "# zbadamy błąd, czyli różnicę prawda - wartość przwidziana\n",
        "\n",
        "results['error'] = results['y_true'] - results['y_pred']\n",
        "results.head()"
      ],
      "metadata": {
        "colab": {
          "base_uri": "https://localhost:8080/",
          "height": 206
        },
        "id": "s3fUTL-bKtgm",
        "outputId": "da80f105-4123-45e0-b491-42a771cf1aca"
      },
      "execution_count": 7,
      "outputs": [
        {
          "output_type": "execute_result",
          "data": {
            "text/plain": [
              "       y_true      y_pred      error\n",
              "0   51.868650   46.256646   5.612005\n",
              "1  139.287198  130.716027   8.571172\n",
              "2   60.406348   62.017979  -1.611631\n",
              "3   79.283674   66.639891  12.643782\n",
              "4  133.320814  133.632287  -0.311473"
            ],
            "text/html": [
              "\n",
              "  <div id=\"df-056a195f-a673-4bc9-bc6f-25a4a3e0422a\" class=\"colab-df-container\">\n",
              "    <div>\n",
              "<style scoped>\n",
              "    .dataframe tbody tr th:only-of-type {\n",
              "        vertical-align: middle;\n",
              "    }\n",
              "\n",
              "    .dataframe tbody tr th {\n",
              "        vertical-align: top;\n",
              "    }\n",
              "\n",
              "    .dataframe thead th {\n",
              "        text-align: right;\n",
              "    }\n",
              "</style>\n",
              "<table border=\"1\" class=\"dataframe\">\n",
              "  <thead>\n",
              "    <tr style=\"text-align: right;\">\n",
              "      <th></th>\n",
              "      <th>y_true</th>\n",
              "      <th>y_pred</th>\n",
              "      <th>error</th>\n",
              "    </tr>\n",
              "  </thead>\n",
              "  <tbody>\n",
              "    <tr>\n",
              "      <th>0</th>\n",
              "      <td>51.868650</td>\n",
              "      <td>46.256646</td>\n",
              "      <td>5.612005</td>\n",
              "    </tr>\n",
              "    <tr>\n",
              "      <th>1</th>\n",
              "      <td>139.287198</td>\n",
              "      <td>130.716027</td>\n",
              "      <td>8.571172</td>\n",
              "    </tr>\n",
              "    <tr>\n",
              "      <th>2</th>\n",
              "      <td>60.406348</td>\n",
              "      <td>62.017979</td>\n",
              "      <td>-1.611631</td>\n",
              "    </tr>\n",
              "    <tr>\n",
              "      <th>3</th>\n",
              "      <td>79.283674</td>\n",
              "      <td>66.639891</td>\n",
              "      <td>12.643782</td>\n",
              "    </tr>\n",
              "    <tr>\n",
              "      <th>4</th>\n",
              "      <td>133.320814</td>\n",
              "      <td>133.632287</td>\n",
              "      <td>-0.311473</td>\n",
              "    </tr>\n",
              "  </tbody>\n",
              "</table>\n",
              "</div>\n",
              "    <div class=\"colab-df-buttons\">\n",
              "\n",
              "  <div class=\"colab-df-container\">\n",
              "    <button class=\"colab-df-convert\" onclick=\"convertToInteractive('df-056a195f-a673-4bc9-bc6f-25a4a3e0422a')\"\n",
              "            title=\"Convert this dataframe to an interactive table.\"\n",
              "            style=\"display:none;\">\n",
              "\n",
              "  <svg xmlns=\"http://www.w3.org/2000/svg\" height=\"24px\" viewBox=\"0 -960 960 960\">\n",
              "    <path d=\"M120-120v-720h720v720H120Zm60-500h600v-160H180v160Zm220 220h160v-160H400v160Zm0 220h160v-160H400v160ZM180-400h160v-160H180v160Zm440 0h160v-160H620v160ZM180-180h160v-160H180v160Zm440 0h160v-160H620v160Z\"/>\n",
              "  </svg>\n",
              "    </button>\n",
              "\n",
              "  <style>\n",
              "    .colab-df-container {\n",
              "      display:flex;\n",
              "      gap: 12px;\n",
              "    }\n",
              "\n",
              "    .colab-df-convert {\n",
              "      background-color: #E8F0FE;\n",
              "      border: none;\n",
              "      border-radius: 50%;\n",
              "      cursor: pointer;\n",
              "      display: none;\n",
              "      fill: #1967D2;\n",
              "      height: 32px;\n",
              "      padding: 0 0 0 0;\n",
              "      width: 32px;\n",
              "    }\n",
              "\n",
              "    .colab-df-convert:hover {\n",
              "      background-color: #E2EBFA;\n",
              "      box-shadow: 0px 1px 2px rgba(60, 64, 67, 0.3), 0px 1px 3px 1px rgba(60, 64, 67, 0.15);\n",
              "      fill: #174EA6;\n",
              "    }\n",
              "\n",
              "    .colab-df-buttons div {\n",
              "      margin-bottom: 4px;\n",
              "    }\n",
              "\n",
              "    [theme=dark] .colab-df-convert {\n",
              "      background-color: #3B4455;\n",
              "      fill: #D2E3FC;\n",
              "    }\n",
              "\n",
              "    [theme=dark] .colab-df-convert:hover {\n",
              "      background-color: #434B5C;\n",
              "      box-shadow: 0px 1px 3px 1px rgba(0, 0, 0, 0.15);\n",
              "      filter: drop-shadow(0px 1px 2px rgba(0, 0, 0, 0.3));\n",
              "      fill: #FFFFFF;\n",
              "    }\n",
              "  </style>\n",
              "\n",
              "    <script>\n",
              "      const buttonEl =\n",
              "        document.querySelector('#df-056a195f-a673-4bc9-bc6f-25a4a3e0422a button.colab-df-convert');\n",
              "      buttonEl.style.display =\n",
              "        google.colab.kernel.accessAllowed ? 'block' : 'none';\n",
              "\n",
              "      async function convertToInteractive(key) {\n",
              "        const element = document.querySelector('#df-056a195f-a673-4bc9-bc6f-25a4a3e0422a');\n",
              "        const dataTable =\n",
              "          await google.colab.kernel.invokeFunction('convertToInteractive',\n",
              "                                                    [key], {});\n",
              "        if (!dataTable) return;\n",
              "\n",
              "        const docLinkHtml = 'Like what you see? Visit the ' +\n",
              "          '<a target=\"_blank\" href=https://colab.research.google.com/notebooks/data_table.ipynb>data table notebook</a>'\n",
              "          + ' to learn more about interactive tables.';\n",
              "        element.innerHTML = '';\n",
              "        dataTable['output_type'] = 'display_data';\n",
              "        await google.colab.output.renderOutput(dataTable, element);\n",
              "        const docLink = document.createElement('div');\n",
              "        docLink.innerHTML = docLinkHtml;\n",
              "        element.appendChild(docLink);\n",
              "      }\n",
              "    </script>\n",
              "  </div>\n",
              "\n",
              "\n",
              "<div id=\"df-82f477ad-bd70-4a50-b487-b5243d354d36\">\n",
              "  <button class=\"colab-df-quickchart\" onclick=\"quickchart('df-82f477ad-bd70-4a50-b487-b5243d354d36')\"\n",
              "            title=\"Suggest charts\"\n",
              "            style=\"display:none;\">\n",
              "\n",
              "<svg xmlns=\"http://www.w3.org/2000/svg\" height=\"24px\"viewBox=\"0 0 24 24\"\n",
              "     width=\"24px\">\n",
              "    <g>\n",
              "        <path d=\"M19 3H5c-1.1 0-2 .9-2 2v14c0 1.1.9 2 2 2h14c1.1 0 2-.9 2-2V5c0-1.1-.9-2-2-2zM9 17H7v-7h2v7zm4 0h-2V7h2v10zm4 0h-2v-4h2v4z\"/>\n",
              "    </g>\n",
              "</svg>\n",
              "  </button>\n",
              "\n",
              "<style>\n",
              "  .colab-df-quickchart {\n",
              "      --bg-color: #E8F0FE;\n",
              "      --fill-color: #1967D2;\n",
              "      --hover-bg-color: #E2EBFA;\n",
              "      --hover-fill-color: #174EA6;\n",
              "      --disabled-fill-color: #AAA;\n",
              "      --disabled-bg-color: #DDD;\n",
              "  }\n",
              "\n",
              "  [theme=dark] .colab-df-quickchart {\n",
              "      --bg-color: #3B4455;\n",
              "      --fill-color: #D2E3FC;\n",
              "      --hover-bg-color: #434B5C;\n",
              "      --hover-fill-color: #FFFFFF;\n",
              "      --disabled-bg-color: #3B4455;\n",
              "      --disabled-fill-color: #666;\n",
              "  }\n",
              "\n",
              "  .colab-df-quickchart {\n",
              "    background-color: var(--bg-color);\n",
              "    border: none;\n",
              "    border-radius: 50%;\n",
              "    cursor: pointer;\n",
              "    display: none;\n",
              "    fill: var(--fill-color);\n",
              "    height: 32px;\n",
              "    padding: 0;\n",
              "    width: 32px;\n",
              "  }\n",
              "\n",
              "  .colab-df-quickchart:hover {\n",
              "    background-color: var(--hover-bg-color);\n",
              "    box-shadow: 0 1px 2px rgba(60, 64, 67, 0.3), 0 1px 3px 1px rgba(60, 64, 67, 0.15);\n",
              "    fill: var(--button-hover-fill-color);\n",
              "  }\n",
              "\n",
              "  .colab-df-quickchart-complete:disabled,\n",
              "  .colab-df-quickchart-complete:disabled:hover {\n",
              "    background-color: var(--disabled-bg-color);\n",
              "    fill: var(--disabled-fill-color);\n",
              "    box-shadow: none;\n",
              "  }\n",
              "\n",
              "  .colab-df-spinner {\n",
              "    border: 2px solid var(--fill-color);\n",
              "    border-color: transparent;\n",
              "    border-bottom-color: var(--fill-color);\n",
              "    animation:\n",
              "      spin 1s steps(1) infinite;\n",
              "  }\n",
              "\n",
              "  @keyframes spin {\n",
              "    0% {\n",
              "      border-color: transparent;\n",
              "      border-bottom-color: var(--fill-color);\n",
              "      border-left-color: var(--fill-color);\n",
              "    }\n",
              "    20% {\n",
              "      border-color: transparent;\n",
              "      border-left-color: var(--fill-color);\n",
              "      border-top-color: var(--fill-color);\n",
              "    }\n",
              "    30% {\n",
              "      border-color: transparent;\n",
              "      border-left-color: var(--fill-color);\n",
              "      border-top-color: var(--fill-color);\n",
              "      border-right-color: var(--fill-color);\n",
              "    }\n",
              "    40% {\n",
              "      border-color: transparent;\n",
              "      border-right-color: var(--fill-color);\n",
              "      border-top-color: var(--fill-color);\n",
              "    }\n",
              "    60% {\n",
              "      border-color: transparent;\n",
              "      border-right-color: var(--fill-color);\n",
              "    }\n",
              "    80% {\n",
              "      border-color: transparent;\n",
              "      border-right-color: var(--fill-color);\n",
              "      border-bottom-color: var(--fill-color);\n",
              "    }\n",
              "    90% {\n",
              "      border-color: transparent;\n",
              "      border-bottom-color: var(--fill-color);\n",
              "    }\n",
              "  }\n",
              "</style>\n",
              "\n",
              "  <script>\n",
              "    async function quickchart(key) {\n",
              "      const quickchartButtonEl =\n",
              "        document.querySelector('#' + key + ' button');\n",
              "      quickchartButtonEl.disabled = true;  // To prevent multiple clicks.\n",
              "      quickchartButtonEl.classList.add('colab-df-spinner');\n",
              "      try {\n",
              "        const charts = await google.colab.kernel.invokeFunction(\n",
              "            'suggestCharts', [key], {});\n",
              "      } catch (error) {\n",
              "        console.error('Error during call to suggestCharts:', error);\n",
              "      }\n",
              "      quickchartButtonEl.classList.remove('colab-df-spinner');\n",
              "      quickchartButtonEl.classList.add('colab-df-quickchart-complete');\n",
              "    }\n",
              "    (() => {\n",
              "      let quickchartButtonEl =\n",
              "        document.querySelector('#df-82f477ad-bd70-4a50-b487-b5243d354d36 button');\n",
              "      quickchartButtonEl.style.display =\n",
              "        google.colab.kernel.accessAllowed ? 'block' : 'none';\n",
              "    })();\n",
              "  </script>\n",
              "</div>\n",
              "\n",
              "    </div>\n",
              "  </div>\n"
            ],
            "application/vnd.google.colaboratory.intrinsic+json": {
              "type": "dataframe",
              "variable_name": "results",
              "summary": "{\n  \"name\": \"results\",\n  \"rows\": 50,\n  \"fields\": [\n    {\n      \"column\": \"y_true\",\n      \"properties\": {\n        \"dtype\": \"number\",\n        \"std\": 22.307606834896752,\n        \"min\": 51.86865032469251,\n        \"max\": 139.28719827090163,\n        \"num_unique_values\": 50,\n        \"samples\": [\n          94.2804941219337,\n          122.52634898330041,\n          96.75254430771085\n        ],\n        \"semantic_type\": \"\",\n        \"description\": \"\"\n      }\n    },\n    {\n      \"column\": \"y_pred\",\n      \"properties\": {\n        \"dtype\": \"number\",\n        \"std\": 24.76281460591029,\n        \"min\": 46.00990499201009,\n        \"max\": 141.9651962188431,\n        \"num_unique_values\": 50,\n        \"samples\": [\n          107.05621175313377,\n          128.8429651289324,\n          88.80128414934559\n        ],\n        \"semantic_type\": \"\",\n        \"description\": \"\"\n      }\n    },\n    {\n      \"column\": \"error\",\n      \"properties\": {\n        \"dtype\": \"number\",\n        \"std\": 8.801344319564977,\n        \"min\": -14.652220763905177,\n        \"max\": 17.66665138138221,\n        \"num_unique_values\": 50,\n        \"samples\": [\n          -12.775717631200067,\n          -6.316616145631997,\n          7.951260158365258\n        ],\n        \"semantic_type\": \"\",\n        \"description\": \"\"\n      }\n    }\n  ]\n}"
            }
          },
          "metadata": {},
          "execution_count": 7
        }
      ]
    },
    {
      "cell_type": "markdown",
      "source": [
        "# Interpretacja graficzna"
      ],
      "metadata": {
        "id": "jV-jVYxoLGK_"
      }
    },
    {
      "cell_type": "code",
      "source": [
        "def plot_regression_results(y_true, y_pred):\n",
        "  results = pd.DataFrame({'y_true': y_true, 'y_pred':y_pred})\n",
        "  min = results[['y_true', 'y_pred']].min().min()\n",
        "  max = results[['y_true', 'y_pred']].max().max()\n",
        "\n",
        "  fig = go.Figure(data=[go.Scatter(x=results['y_true'], y=results['y_pred'], mode='markers' ),\n",
        "                        go.Scatter(x=[min, max], y=[min, max])], #to jest ten czerwony ślad\n",
        "                  layout=go.Layout(width=800,\n",
        "                                  xaxis_title='y_true',\n",
        "                                  yaxis_title='y_pred',\n",
        "                                  title='Regression results'))\n",
        "  fig.show()\n",
        "\n",
        "plot_regression_results(y_true, y_pred)"
      ],
      "metadata": {
        "colab": {
          "base_uri": "https://localhost:8080/",
          "height": 542
        },
        "id": "zN3c_3pCK5Xe",
        "outputId": "8bcb551a-8f17-47b3-b36f-d05b73f52ca8"
      },
      "execution_count": 9,
      "outputs": [
        {
          "output_type": "display_data",
          "data": {
            "text/html": [
              "<html>\n",
              "<head><meta charset=\"utf-8\" /></head>\n",
              "<body>\n",
              "    <div>            <script src=\"https://cdnjs.cloudflare.com/ajax/libs/mathjax/2.7.5/MathJax.js?config=TeX-AMS-MML_SVG\"></script><script type=\"text/javascript\">if (window.MathJax && window.MathJax.Hub && window.MathJax.Hub.Config) {window.MathJax.Hub.Config({SVG: {font: \"STIX-Web\"}});}</script>                <script type=\"text/javascript\">window.PlotlyConfig = {MathJaxConfig: 'local'};</script>\n",
              "        <script charset=\"utf-8\" src=\"https://cdn.plot.ly/plotly-2.24.1.min.js\"></script>                <div id=\"b473d0f3-cee1-44c6-ba62-6657a00678a4\" class=\"plotly-graph-div\" style=\"height:525px; width:800px;\"></div>            <script type=\"text/javascript\">                                    window.PLOTLYENV=window.PLOTLYENV || {};                                    if (document.getElementById(\"b473d0f3-cee1-44c6-ba62-6657a00678a4\")) {                    Plotly.newPlot(                        \"b473d0f3-cee1-44c6-ba62-6657a00678a4\",                        [{\"mode\":\"markers\",\"x\":[51.86865032469251,139.28719827090163,60.406347699142124,79.28367365071874,133.32081445889162,120.43436483637818,131.23733011308482,67.68234214699643,69.78392120032815,94.22032113069659,63.01227303746128,110.91164085753753,110.26933640489403,94.2804941219337,119.98939849856019,91.59382815369503,95.09721000640643,108.15699431908996,68.81827973981845,91.32308968122976,124.36710228662031,104.66986408242485,97.95164432172764,71.94634939448693,132.53053871778673,136.12763626120895,116.49762433378254,109.75481596309037,118.03362514071378,109.85555940244154,96.75254430771085,93.12432196603358,109.39475372515415,131.40532010404792,114.93015339772606,97.22205547232043,117.07552471708252,96.97347283661361,97.80737679534674,122.52634898330041,98.32649431792159,112.55275311233133,127.78568001627026,100.05969651879548,104.98410333284055,88.89042711045084,78.76056765398559,78.3346075995289,114.3764231369459,56.099953382045335],\"y\":[46.25664561601092,130.7160265506051,62.0179787743462,66.63989140182164,133.6322872636845,118.31831661263578,141.9651962188431,53.42495958574902,70.62864606274998,103.12028717984967,49.10179231779901,121.27509624520314,112.77895719642666,107.05621175313377,116.3083948942422,102.27980776916003,106.7511204385864,115.60496493303805,83.47050050372363,90.3574789702001,128.61591849611477,101.46042476019848,102.68385983291303,57.532616965829135,120.69651410667613,118.46098487982674,124.19910993528205,121.47117188451767,111.0069970911218,95.09864994296626,88.80128414934559,90.82034893912528,101.48200358025542,124.70496000591807,120.66470008086262,97.75654247839825,118.45465710374393,102.37989408195182,81.85638312048155,128.8429651289324,85.62158562035947,114.91043560674285,123.55497428783826,101.91678550584993,109.09691765537802,96.37477954851019,71.33471658025508,74.28827568359439,119.34248428179404,46.00990499201009],\"type\":\"scatter\"},{\"x\":[46.00990499201009,141.9651962188431],\"y\":[46.00990499201009,141.9651962188431],\"type\":\"scatter\"}],                        {\"title\":{\"text\":\"Regression results\"},\"width\":800,\"xaxis\":{\"title\":{\"text\":\"y_true\"}},\"yaxis\":{\"title\":{\"text\":\"y_pred\"}},\"template\":{\"data\":{\"histogram2dcontour\":[{\"type\":\"histogram2dcontour\",\"colorbar\":{\"outlinewidth\":0,\"ticks\":\"\"},\"colorscale\":[[0.0,\"#0d0887\"],[0.1111111111111111,\"#46039f\"],[0.2222222222222222,\"#7201a8\"],[0.3333333333333333,\"#9c179e\"],[0.4444444444444444,\"#bd3786\"],[0.5555555555555556,\"#d8576b\"],[0.6666666666666666,\"#ed7953\"],[0.7777777777777778,\"#fb9f3a\"],[0.8888888888888888,\"#fdca26\"],[1.0,\"#f0f921\"]]}],\"choropleth\":[{\"type\":\"choropleth\",\"colorbar\":{\"outlinewidth\":0,\"ticks\":\"\"}}],\"histogram2d\":[{\"type\":\"histogram2d\",\"colorbar\":{\"outlinewidth\":0,\"ticks\":\"\"},\"colorscale\":[[0.0,\"#0d0887\"],[0.1111111111111111,\"#46039f\"],[0.2222222222222222,\"#7201a8\"],[0.3333333333333333,\"#9c179e\"],[0.4444444444444444,\"#bd3786\"],[0.5555555555555556,\"#d8576b\"],[0.6666666666666666,\"#ed7953\"],[0.7777777777777778,\"#fb9f3a\"],[0.8888888888888888,\"#fdca26\"],[1.0,\"#f0f921\"]]}],\"heatmap\":[{\"type\":\"heatmap\",\"colorbar\":{\"outlinewidth\":0,\"ticks\":\"\"},\"colorscale\":[[0.0,\"#0d0887\"],[0.1111111111111111,\"#46039f\"],[0.2222222222222222,\"#7201a8\"],[0.3333333333333333,\"#9c179e\"],[0.4444444444444444,\"#bd3786\"],[0.5555555555555556,\"#d8576b\"],[0.6666666666666666,\"#ed7953\"],[0.7777777777777778,\"#fb9f3a\"],[0.8888888888888888,\"#fdca26\"],[1.0,\"#f0f921\"]]}],\"heatmapgl\":[{\"type\":\"heatmapgl\",\"colorbar\":{\"outlinewidth\":0,\"ticks\":\"\"},\"colorscale\":[[0.0,\"#0d0887\"],[0.1111111111111111,\"#46039f\"],[0.2222222222222222,\"#7201a8\"],[0.3333333333333333,\"#9c179e\"],[0.4444444444444444,\"#bd3786\"],[0.5555555555555556,\"#d8576b\"],[0.6666666666666666,\"#ed7953\"],[0.7777777777777778,\"#fb9f3a\"],[0.8888888888888888,\"#fdca26\"],[1.0,\"#f0f921\"]]}],\"contourcarpet\":[{\"type\":\"contourcarpet\",\"colorbar\":{\"outlinewidth\":0,\"ticks\":\"\"}}],\"contour\":[{\"type\":\"contour\",\"colorbar\":{\"outlinewidth\":0,\"ticks\":\"\"},\"colorscale\":[[0.0,\"#0d0887\"],[0.1111111111111111,\"#46039f\"],[0.2222222222222222,\"#7201a8\"],[0.3333333333333333,\"#9c179e\"],[0.4444444444444444,\"#bd3786\"],[0.5555555555555556,\"#d8576b\"],[0.6666666666666666,\"#ed7953\"],[0.7777777777777778,\"#fb9f3a\"],[0.8888888888888888,\"#fdca26\"],[1.0,\"#f0f921\"]]}],\"surface\":[{\"type\":\"surface\",\"colorbar\":{\"outlinewidth\":0,\"ticks\":\"\"},\"colorscale\":[[0.0,\"#0d0887\"],[0.1111111111111111,\"#46039f\"],[0.2222222222222222,\"#7201a8\"],[0.3333333333333333,\"#9c179e\"],[0.4444444444444444,\"#bd3786\"],[0.5555555555555556,\"#d8576b\"],[0.6666666666666666,\"#ed7953\"],[0.7777777777777778,\"#fb9f3a\"],[0.8888888888888888,\"#fdca26\"],[1.0,\"#f0f921\"]]}],\"mesh3d\":[{\"type\":\"mesh3d\",\"colorbar\":{\"outlinewidth\":0,\"ticks\":\"\"}}],\"scatter\":[{\"fillpattern\":{\"fillmode\":\"overlay\",\"size\":10,\"solidity\":0.2},\"type\":\"scatter\"}],\"parcoords\":[{\"type\":\"parcoords\",\"line\":{\"colorbar\":{\"outlinewidth\":0,\"ticks\":\"\"}}}],\"scatterpolargl\":[{\"type\":\"scatterpolargl\",\"marker\":{\"colorbar\":{\"outlinewidth\":0,\"ticks\":\"\"}}}],\"bar\":[{\"error_x\":{\"color\":\"#2a3f5f\"},\"error_y\":{\"color\":\"#2a3f5f\"},\"marker\":{\"line\":{\"color\":\"#E5ECF6\",\"width\":0.5},\"pattern\":{\"fillmode\":\"overlay\",\"size\":10,\"solidity\":0.2}},\"type\":\"bar\"}],\"scattergeo\":[{\"type\":\"scattergeo\",\"marker\":{\"colorbar\":{\"outlinewidth\":0,\"ticks\":\"\"}}}],\"scatterpolar\":[{\"type\":\"scatterpolar\",\"marker\":{\"colorbar\":{\"outlinewidth\":0,\"ticks\":\"\"}}}],\"histogram\":[{\"marker\":{\"pattern\":{\"fillmode\":\"overlay\",\"size\":10,\"solidity\":0.2}},\"type\":\"histogram\"}],\"scattergl\":[{\"type\":\"scattergl\",\"marker\":{\"colorbar\":{\"outlinewidth\":0,\"ticks\":\"\"}}}],\"scatter3d\":[{\"type\":\"scatter3d\",\"line\":{\"colorbar\":{\"outlinewidth\":0,\"ticks\":\"\"}},\"marker\":{\"colorbar\":{\"outlinewidth\":0,\"ticks\":\"\"}}}],\"scattermapbox\":[{\"type\":\"scattermapbox\",\"marker\":{\"colorbar\":{\"outlinewidth\":0,\"ticks\":\"\"}}}],\"scatterternary\":[{\"type\":\"scatterternary\",\"marker\":{\"colorbar\":{\"outlinewidth\":0,\"ticks\":\"\"}}}],\"scattercarpet\":[{\"type\":\"scattercarpet\",\"marker\":{\"colorbar\":{\"outlinewidth\":0,\"ticks\":\"\"}}}],\"carpet\":[{\"aaxis\":{\"endlinecolor\":\"#2a3f5f\",\"gridcolor\":\"white\",\"linecolor\":\"white\",\"minorgridcolor\":\"white\",\"startlinecolor\":\"#2a3f5f\"},\"baxis\":{\"endlinecolor\":\"#2a3f5f\",\"gridcolor\":\"white\",\"linecolor\":\"white\",\"minorgridcolor\":\"white\",\"startlinecolor\":\"#2a3f5f\"},\"type\":\"carpet\"}],\"table\":[{\"cells\":{\"fill\":{\"color\":\"#EBF0F8\"},\"line\":{\"color\":\"white\"}},\"header\":{\"fill\":{\"color\":\"#C8D4E3\"},\"line\":{\"color\":\"white\"}},\"type\":\"table\"}],\"barpolar\":[{\"marker\":{\"line\":{\"color\":\"#E5ECF6\",\"width\":0.5},\"pattern\":{\"fillmode\":\"overlay\",\"size\":10,\"solidity\":0.2}},\"type\":\"barpolar\"}],\"pie\":[{\"automargin\":true,\"type\":\"pie\"}]},\"layout\":{\"autotypenumbers\":\"strict\",\"colorway\":[\"#636efa\",\"#EF553B\",\"#00cc96\",\"#ab63fa\",\"#FFA15A\",\"#19d3f3\",\"#FF6692\",\"#B6E880\",\"#FF97FF\",\"#FECB52\"],\"font\":{\"color\":\"#2a3f5f\"},\"hovermode\":\"closest\",\"hoverlabel\":{\"align\":\"left\"},\"paper_bgcolor\":\"white\",\"plot_bgcolor\":\"#E5ECF6\",\"polar\":{\"bgcolor\":\"#E5ECF6\",\"angularaxis\":{\"gridcolor\":\"white\",\"linecolor\":\"white\",\"ticks\":\"\"},\"radialaxis\":{\"gridcolor\":\"white\",\"linecolor\":\"white\",\"ticks\":\"\"}},\"ternary\":{\"bgcolor\":\"#E5ECF6\",\"aaxis\":{\"gridcolor\":\"white\",\"linecolor\":\"white\",\"ticks\":\"\"},\"baxis\":{\"gridcolor\":\"white\",\"linecolor\":\"white\",\"ticks\":\"\"},\"caxis\":{\"gridcolor\":\"white\",\"linecolor\":\"white\",\"ticks\":\"\"}},\"coloraxis\":{\"colorbar\":{\"outlinewidth\":0,\"ticks\":\"\"}},\"colorscale\":{\"sequential\":[[0.0,\"#0d0887\"],[0.1111111111111111,\"#46039f\"],[0.2222222222222222,\"#7201a8\"],[0.3333333333333333,\"#9c179e\"],[0.4444444444444444,\"#bd3786\"],[0.5555555555555556,\"#d8576b\"],[0.6666666666666666,\"#ed7953\"],[0.7777777777777778,\"#fb9f3a\"],[0.8888888888888888,\"#fdca26\"],[1.0,\"#f0f921\"]],\"sequentialminus\":[[0.0,\"#0d0887\"],[0.1111111111111111,\"#46039f\"],[0.2222222222222222,\"#7201a8\"],[0.3333333333333333,\"#9c179e\"],[0.4444444444444444,\"#bd3786\"],[0.5555555555555556,\"#d8576b\"],[0.6666666666666666,\"#ed7953\"],[0.7777777777777778,\"#fb9f3a\"],[0.8888888888888888,\"#fdca26\"],[1.0,\"#f0f921\"]],\"diverging\":[[0,\"#8e0152\"],[0.1,\"#c51b7d\"],[0.2,\"#de77ae\"],[0.3,\"#f1b6da\"],[0.4,\"#fde0ef\"],[0.5,\"#f7f7f7\"],[0.6,\"#e6f5d0\"],[0.7,\"#b8e186\"],[0.8,\"#7fbc41\"],[0.9,\"#4d9221\"],[1,\"#276419\"]]},\"xaxis\":{\"gridcolor\":\"white\",\"linecolor\":\"white\",\"ticks\":\"\",\"title\":{\"standoff\":15},\"zerolinecolor\":\"white\",\"automargin\":true,\"zerolinewidth\":2},\"yaxis\":{\"gridcolor\":\"white\",\"linecolor\":\"white\",\"ticks\":\"\",\"title\":{\"standoff\":15},\"zerolinecolor\":\"white\",\"automargin\":true,\"zerolinewidth\":2},\"scene\":{\"xaxis\":{\"backgroundcolor\":\"#E5ECF6\",\"gridcolor\":\"white\",\"linecolor\":\"white\",\"showbackground\":true,\"ticks\":\"\",\"zerolinecolor\":\"white\",\"gridwidth\":2},\"yaxis\":{\"backgroundcolor\":\"#E5ECF6\",\"gridcolor\":\"white\",\"linecolor\":\"white\",\"showbackground\":true,\"ticks\":\"\",\"zerolinecolor\":\"white\",\"gridwidth\":2},\"zaxis\":{\"backgroundcolor\":\"#E5ECF6\",\"gridcolor\":\"white\",\"linecolor\":\"white\",\"showbackground\":true,\"ticks\":\"\",\"zerolinecolor\":\"white\",\"gridwidth\":2}},\"shapedefaults\":{\"line\":{\"color\":\"#2a3f5f\"}},\"annotationdefaults\":{\"arrowcolor\":\"#2a3f5f\",\"arrowhead\":0,\"arrowwidth\":1},\"geo\":{\"bgcolor\":\"white\",\"landcolor\":\"#E5ECF6\",\"subunitcolor\":\"white\",\"showland\":true,\"showlakes\":true,\"lakecolor\":\"white\"},\"title\":{\"x\":0.05},\"mapbox\":{\"style\":\"light\"}}}},                        {\"responsive\": true}                    ).then(function(){\n",
              "                            \n",
              "var gd = document.getElementById('b473d0f3-cee1-44c6-ba62-6657a00678a4');\n",
              "var x = new MutationObserver(function (mutations, observer) {{\n",
              "        var display = window.getComputedStyle(gd).display;\n",
              "        if (!display || display === 'none') {{\n",
              "            console.log([gd, 'removed!']);\n",
              "            Plotly.purge(gd);\n",
              "            observer.disconnect();\n",
              "        }}\n",
              "}});\n",
              "\n",
              "// Listen for the removal of the full notebook cells\n",
              "var notebookContainer = gd.closest('#notebook-container');\n",
              "if (notebookContainer) {{\n",
              "    x.observe(notebookContainer, {childList: true});\n",
              "}}\n",
              "\n",
              "// Listen for the clearing of the current output cell\n",
              "var outputEl = gd.closest('.output');\n",
              "if (outputEl) {{\n",
              "    x.observe(outputEl, {childList: true});\n",
              "}}\n",
              "\n",
              "                        })                };                            </script>        </div>\n",
              "</body>\n",
              "</html>"
            ]
          },
          "metadata": {}
        }
      ]
    },
    {
      "cell_type": "code",
      "source": [
        "#  teraz będziemy badać histogram błędów (czyli rozkład)\n",
        "#  Potrzebujemy więcej danych\n",
        "\n",
        "y_true = 100 + 20 *np.random.randn(1000)\n",
        "y_pred = y_true + 10 * np.random.randn(1000)\n",
        "\n",
        "results = pd.DataFrame({'y_true': y_true, 'y_pred': y_pred})\n",
        "results['error'] = results['y_true'] - results['y_pred']\n",
        "\n",
        "px.histogram(results, x='error', nbins=50, width=800)"
      ],
      "metadata": {
        "colab": {
          "base_uri": "https://localhost:8080/",
          "height": 542
        },
        "id": "uA8LrmVGMpll",
        "outputId": "c6b022ee-d936-441f-c445-2ebe17cf1a3a"
      },
      "execution_count": 12,
      "outputs": [
        {
          "output_type": "display_data",
          "data": {
            "text/html": [
              "<html>\n",
              "<head><meta charset=\"utf-8\" /></head>\n",
              "<body>\n",
              "    <div>            <script src=\"https://cdnjs.cloudflare.com/ajax/libs/mathjax/2.7.5/MathJax.js?config=TeX-AMS-MML_SVG\"></script><script type=\"text/javascript\">if (window.MathJax && window.MathJax.Hub && window.MathJax.Hub.Config) {window.MathJax.Hub.Config({SVG: {font: \"STIX-Web\"}});}</script>                <script type=\"text/javascript\">window.PlotlyConfig = {MathJaxConfig: 'local'};</script>\n",
              "        <script charset=\"utf-8\" src=\"https://cdn.plot.ly/plotly-2.24.1.min.js\"></script>                <div id=\"831beda6-8300-4ddb-9f39-80d10a739224\" class=\"plotly-graph-div\" style=\"height:525px; width:800px;\"></div>            <script type=\"text/javascript\">                                    window.PLOTLYENV=window.PLOTLYENV || {};                                    if (document.getElementById(\"831beda6-8300-4ddb-9f39-80d10a739224\")) {                    Plotly.newPlot(                        \"831beda6-8300-4ddb-9f39-80d10a739224\",                        [{\"alignmentgroup\":\"True\",\"bingroup\":\"x\",\"hovertemplate\":\"error=%{x}\\u003cbr\\u003ecount=%{y}\\u003cextra\\u003e\\u003c\\u002fextra\\u003e\",\"legendgroup\":\"\",\"marker\":{\"color\":\"#636efa\",\"pattern\":{\"shape\":\"\"}},\"name\":\"\",\"nbinsx\":50,\"offsetgroup\":\"\",\"orientation\":\"v\",\"showlegend\":false,\"x\":[-0.20596039636021146,7.141103580625085,7.789502898210117,-4.279371112147601,7.875597899750204,0.49100691885075776,2.1907081540555993,-13.468197987474568,13.501676272455569,-15.037857161323686,12.016145953805875,1.6722087969698975,6.3614559317232136,8.097008177512137,-7.897574900832765,0.6899653247894832,12.53778801596458,-2.1512945714716807,23.33447210307878,-11.339936735884663,-8.657220118458781,-8.296461284589924,3.0424365654284458,-5.232420232934189,-1.0522665465141472,-9.38177430621299,-7.418105583083133,-21.478010299731707,-10.026603765639464,4.368250861892662,-3.4875154162550075,10.987506981765662,0.5181962229053738,-8.366927324676396,0.13308765914801768,-15.837435634137933,10.828876145633316,-1.795128810827677,-2.4294147059505917,3.675024322693531,-5.49910267062225,-5.382593392030941,-11.776067646527764,-1.652574719947836,-6.850269976602192,7.4808996499622396,-5.20767880092184,-4.729283830369738,0.7448282618984337,11.162651891003748,7.23534277547644,-1.9352320026705172,-5.030486458619507,-6.453388696195134,-7.597841042508591,-9.486800675323806,3.532819385120021,-11.404685212995304,-13.355913664032656,1.4455772765322337,-4.63102028392322,1.7477393401451593,16.040279973502805,1.280335609381055,10.691530429331394,-5.790199027448949,-3.5765803689501467,1.7459291803196209,1.438526082658285,6.430502283285463,21.677925296282652,-11.845604735915217,6.30837842114569,2.8718638049169556,-10.338244914434867,-5.183038416524923,16.42611288743425,-7.150314868379894,-3.383508948611521,-1.7671448466816742,-0.46340557053218845,-2.625494908903633,5.746903741320125,4.557399225135512,-7.010611424304727,11.520176251828232,7.902570382549612,-10.95434016022034,14.487509750491881,-4.166694124735429,-11.0060578143964,19.142811957550535,18.890496576641027,-7.269704177833603,-1.822756191130324,-0.5150584071680413,5.741087490964759,6.629320416589081,9.364101890465236,-5.692818819180445,-3.6173231130398165,-6.782019142243058,8.149122417217399,11.33596223928754,-4.144364789987208,-11.429472052142032,9.927591948131365,-16.280838005085656,10.125229068415877,-23.333251220337175,-5.058989448660171,4.933205703724298,-12.368320370140978,-4.3420741076246685,-6.024967627386459,-0.371418911974601,-6.562188047963403,-7.305843124091737,-2.7261708099223796,-2.724440123661907,-2.140167829820413,-3.3306433413646204,3.438353150752704,-5.018842448164989,1.5783836218073617,-16.122505519791957,1.7115769247275523,-16.557835085085856,3.040944477152877,20.052572620794933,5.509298722266905,-0.9018010511628489,6.588627247539151,-2.934832085097824,0.2649033751957717,2.690689590672406,13.702713172605513,-8.209076793410787,10.379714010877095,-16.953344348975733,-14.779698639734718,15.086960413131365,-6.089463921546198,-9.39993363960508,14.439026530543913,6.410433389330379,10.845171262071375,15.18333258550453,7.415655220487949,-2.6108290329075743,7.967530014928343,-7.543087457079579,0.4546758639057771,-12.581334738564635,4.637642366600659,1.678759848066278,0.3893562370701176,-4.713986720806929,-3.6751824105737683,-14.6695391307871,6.4350471492104475,23.73824843961154,-4.882824638704577,1.8346960025088066,-0.3522241564851498,7.088112332124496,3.195900907891385,-7.621848625057197,0.2560511371971188,-7.301790648335796,1.5105381625161556,-0.04756410096331365,21.941888653215358,15.85814126856765,4.3351690390021815,-8.457582603438354,-1.977916746345258,9.428789121144106,-7.223726852414771,2.46225901254698,-4.759662599394559,11.330657520038528,-12.794785469750572,23.850162968643744,16.930542569175714,-6.544467965357242,-8.841725345799944,5.707607840488052,16.143999374393132,-11.830288364317184,-12.834101478771203,-8.16720721434865,3.4221619095377633,-1.4714133501506126,-10.154932441981117,12.767172414727952,-7.581000759749898,-24.484856030606494,-1.5271708049810115,-10.442665914374373,-1.253091723656624,-11.807605289445178,5.636555572143251,-8.805595393757883,0.6016935363794147,-5.718974848237508,-7.52093288586282,-2.3286162686594025,0.8846308358620263,2.7012927387795713,5.191472975885915,5.365395122574711,-0.4298925578246582,9.225004397784602,2.008183625930201,4.392191958692408,-10.182613666360524,1.8401643175345583,-9.59545377568891,21.4322870593642,-8.606878301120872,-21.251654359750802,-3.80676026710438,14.667754188742805,7.597124230775989,6.859826661477243,-12.8300021764111,-7.7255684478134015,-0.13698973028961348,-2.583930439762071,-9.833645751819361,8.461116783546657,-0.5898976835206184,-2.0641783115130323,-7.186715045083929,10.569089461259253,-7.396837914494711,5.893355716847225,-14.054908934018812,-2.1442783558136966,15.026095707448548,0.8410312815190935,-19.929661584374827,0.7168869871616295,3.930860722805946,4.357304262439939,8.083142797345388,2.4146791441525863,6.071291069058731,-8.883949201776105,-19.583116284284174,-20.356970040737238,9.27849335917574,-12.128713596226092,2.1405621769480234,-1.4392215021821926,-14.200209505376549,19.701898947895202,-6.3433600522740505,-3.7162228600274574,-4.522335813879394,-1.8070049277597207,5.8193237785073535,0.7479014089455518,10.179411893580209,0.12059019163285711,9.356624546356485,5.280435988939956,5.370007294570243,9.225921745150714,10.798617979553995,-3.4523671636827657,-1.8485394336912009,-1.7366785095973256,-4.387405720542574,-9.54406976802646,16.275901000041102,5.036216186511638,-10.011728063950386,-25.535007194759658,-1.0230622985757236,-4.442563438239333,2.2550188086114957,6.232353795151482,11.079301303623808,-11.593857856866506,-24.081044193840057,-13.049965041967681,0.7824906400954319,-17.617117275991603,-4.5712366538106295,-10.009954643733366,-3.0206016447377237,2.982783411262645,15.096860622503677,-9.4894274443799,1.2508766991730624,7.636636360725319,9.951628582795564,14.215015686790153,-2.2650428698888305,-4.738509423635975,3.103275169300076,4.784674428178377,2.949243433384339,13.466051870213363,1.3201512048835298,1.5865437487460667,-16.941593917317235,11.707346781267972,3.922014847221078,13.79312584722436,1.5204122624678575,-7.526874409299879,13.036864641957337,-14.33773567232474,7.686141378848788,1.9462697869633132,-0.31571690849841616,-8.90600545812643,5.827999283680128,16.13866683368701,-5.092428218044745,-0.7124672604611249,-4.367512149742012,-6.262477991852904,-4.280747137558336,6.875321483455352,2.5240757087372003,11.731212005463988,9.890327370675394,20.494943726695354,-0.7759567718306215,13.29551028106279,-12.037007187084626,-18.53570662101731,12.821961533247446,3.6086807495705955,0.8045139033248745,-13.401356352974162,-11.346510886938859,6.468139227326844,6.5541802538233185,-1.7346817455575376,-5.256962637317855,4.43541987902185,-14.678823398041985,4.854972141428902,-11.857968577669851,3.6352794103450634,7.03340494923016,-9.976136156280802,-2.151377719169119,-4.994341846812446,-12.410402435272772,1.8979975844692376,6.991980625223135,6.290460346574562,-9.150320998866562,2.1969007235434646,8.966921536517077,3.947336101268718,0.6211256634606883,1.8882215541106007,-18.625565440490064,1.1551227073632617,-7.8420698249505705,-6.621910362531821,17.13039345238714,5.557483080702397,17.186138289517345,13.905876705032114,-2.8640093283641903,1.3849886124920516,1.5726974232426727,1.7844503465585433,-5.730776860003658,-14.220776879370774,-7.232846810045999,-0.10380406847760071,-4.002567842825982,-6.2464364566808115,4.510395706164445,-10.033762259820662,-0.7897363760159664,4.336107866101742,-0.2731777492076617,6.7218125168488285,4.705185028217649,13.65870892471925,-2.2884428340190084,8.507733486978623,-2.2659217800172513,-1.9505580597205352,-10.338110709942882,7.200216559746252,-17.15166378740257,9.55123961895427,7.094908952900596,-3.8803384046384934,12.128752619075172,2.1900338569144537,-0.8763599487303395,7.0008844254882945,-3.848928632949395,9.534892533718704,6.742179095257711,0.08053072691639329,20.007776404415452,0.6401329943094396,0.6983604751613655,-7.938687846163035,9.259616510333274,8.531899751723458,-0.8199495080863812,-9.73792070866368,-1.8111888144922403,-3.6517032109862555,9.767716604282128,26.75182000762547,-8.848008488952658,-2.962999595710869,-3.358140211517366,22.401667435428223,-4.438442963090893,23.757095400749094,-0.6878059872346398,-3.2730611997752987,-20.935469327757033,5.1542325960854924,15.272897691988192,6.730296378737307,-16.406809770779546,7.706388715970078,-2.455047981162167,0.726602236596861,11.415474681199754,4.841343463349276,-0.7631744039480282,2.5716181093000046,-19.865206765087265,-9.72507746920428,0.7446729248914039,-2.6390382102243706,10.96363610796844,9.467581957620595,21.80322948524919,-16.70595507952055,15.626937085429148,2.917561679312854,-9.403939260815392,3.645951738924893,-15.268015771787915,0.9587006189372147,2.5829697816225945,-2.720924820283898,8.8893625736155,10.062683140149105,-14.319701102679034,8.238916660671151,-2.7710073832567588,-7.6506739784937,-1.831651732514544,19.961467948854448,3.7503843800875956,5.0856361040218445,14.341161218360114,10.494737277783955,6.531639844419487,-8.294059924644287,-0.3693999477052188,-4.900667803534503,-3.0259849024911887,7.71926611722607,-9.117568262376338,14.99474158010429,14.68900850049684,-16.137051533800644,10.894972728105458,1.9480221375053048,-17.724997986077312,-15.787646052261266,1.704701243734661,-4.726011471293106,-10.767167096427826,-20.120471008439722,-12.821139998608814,-4.735681957420354,12.74184492699709,-11.201297621249097,28.725787290936864,-9.346834793487417,6.9238437781480116,-3.056789495628365,-7.502727518117311,-9.670532169374681,2.063760142950102,3.19872624021734,-5.894366572425923,1.3589219423855923,5.292170813328497,8.261296046441927,-15.965673081747596,1.2825755471103975,0.335887865268262,-14.751583487163003,0.3216579321744035,12.101774780897046,38.86190526931087,5.303458715768443,-13.427746990149885,-4.643530622571518,-2.103788623109949,-11.017564266739896,13.348229784290936,-4.301066548290464,1.9054093228929503,-7.563823739862329,2.314668625891372,-10.970429703158572,7.311647032314809,5.437648392325116,6.2817564303733775,-16.052467286547596,-12.587639375531992,-4.769516438891586,9.145333034558462,-14.941215168623131,5.56989965704112,12.19365996926065,0.5308818622154661,16.24360705019197,9.186749595654277,10.696019397563944,32.58877699408421,16.20639748599291,-1.370654664344812,15.225252844524448,10.364985487910587,-3.811222623537134,-0.9373892356848046,-8.427971349759133,-4.998795848100642,-12.448683550739858,19.76583920103795,-11.60453922426558,-8.981026282939283,-8.586944214553384,-0.8969830763405895,9.226775502381358,9.243182920677341,15.610512602767528,14.41370924053156,19.346519970042195,6.000287616933235,13.093062290916322,-15.390125489694768,-6.2902367468439735,-6.937630887537438,4.569358869625489,6.840166390388333,8.065893755629872,-7.3335338708849065,-0.2611265693580833,9.285997569581355,-2.9170220957416007,0.31883597283500364,5.235065448029715,-10.786889542645724,5.379047284264772,-2.2355633328009645,10.887550532377432,3.4787774478737816,-9.679098290482884,19.638090015610317,-9.223591796315048,-5.017590332922509,-19.172145420078422,-4.889881526339337,12.989458749125916,1.8109292171495355,-2.231839684420592,1.7836648438718754,21.421082911760507,3.6639175168332088,-3.9715876818262643,-6.1921787274511075,-5.088842460108943,-8.258849020014381,11.95911878376809,-2.112541240841736,12.699183105633836,-15.85075248492116,4.047146572137393,-23.935200529122554,-6.555284802801481,-13.533005023523842,-13.536030393985001,-1.276061794630266,-23.243100262872048,6.31400990252294,-6.879789243730329,5.741680996767073,0.9901541285958899,-5.201232091381371,4.029673630032221,7.552147108289574,0.07766053383674887,-7.003729833653409,-6.823220194594228,-13.322462307958219,14.979359606031949,4.128154575372321,16.201524517875043,12.065990605666897,-1.3182842856533625,-11.001391138321793,-5.009496543114764,-5.575505479178872,-11.250092801561905,13.717349123939258,7.8151706476176415,-3.645367016946949,-25.118200312199875,-3.6981958965055526,9.95982822805729,4.590352188800509,4.22570000315082,4.25763436005532,4.925211336606651,-4.672928225200991,-10.957699127107816,12.23127116804541,-2.1833235896642975,-13.660648452007848,12.660357720819803,-0.7590376317090204,-2.713888935636305,-5.0431855000938555,8.127145046492984,-1.2426728698269471,2.272960784189223,16.335377553832814,6.193798737015811,1.3374423117614214,-0.2981671827636916,-6.002511687148029,12.550513881416947,16.46493123856456,-11.834706676127922,-1.7257151076202462,1.2004530813289591,-6.432722213969839,-3.97327674170144,-0.6646641154211039,-9.556026641529684,-2.0142031665013462,-1.3238856683666143,0.6490202374184335,7.383974269794862,12.172006795703467,6.484605000704946,-1.0673650479597256,-3.4902023027244837,-8.239923367186577,14.213125145737365,14.604592666731065,-13.821176454627178,19.32484830580995,-9.374027559917678,-0.14494502901524697,20.34180261151125,-6.151124738665587,14.524348547535382,-3.189222121883077,-14.13912588545874,7.362497745178004,7.9257027996729335,19.46487163088399,8.90086141960937,-5.572082392608294,-11.904155129978363,4.798406533685778,-11.342693370497926,-2.6354469465939445,-3.4807860590509847,12.85116015349935,11.902084754538947,-11.530007321864886,7.659747122005157,-4.084394208133752,-2.728925194796659,-5.436011923516176,9.276242468910297,-18.41402682227809,-0.7471921439252753,8.088338337932626,3.6591654341934117,-3.9488574096923372,-4.107875862842278,20.782675908078375,-2.0449079350602375,5.494142099102447,-1.5392778279443746,-0.42286971853972943,-4.265562451331164,1.5745425470970247,5.593762906359288,-12.91914649904308,15.4948192737927,10.040786224218692,18.282455471400183,10.99312951584696,12.797022408449862,7.713166723658759,26.82868552940276,8.333126092441404,-13.56462780659912,-25.54178093631586,-3.043225830120903,-17.79742957284921,6.596223280859704,3.954471455302084,-12.195628038144875,-5.797765879915957,-5.291079239568823,-10.51470877611031,-16.414849397130908,-15.990783569296383,-0.766055502000583,-7.145606813869023,18.56692649537466,6.563037220180604,3.313632405131102,-9.975381479224112,19.139970023407813,2.151584740578002,-5.765910006156503,1.3101509671895997,24.92442180355397,16.01229465560698,-0.1329310969069013,5.309762042827799,6.8309966247998375,6.6753997348251914,9.590191945696901,-21.282542972467525,-2.380131508180071,-7.180912249949628,18.95114400023573,-17.399255355068604,-3.4817633249825093,-7.777024674905306,3.4638434418328643,13.46000088769813,4.992433664616485,4.660668113421366,8.783275760144804,-15.111085834112956,19.345861401048822,5.920180901028203,1.6025325447364906,-5.208366005153707,10.348334119567426,18.341750580609215,0.7298182963221223,-8.985220808577012,5.029355029649736,2.856301536210111,-10.747454723180681,-14.906213218101016,-1.1810223563989624,-6.676599668534209,1.5480902904329525,2.8249731879363793,0.5124950478446237,-1.5896616110656936,9.338176939262397,-5.131755177105987,-10.125884088160959,-17.122108648453832,5.9175098327958295,18.02086800993473,0.3059920362476021,4.832405720034103,-9.374184283020867,-1.5179048072772758,-0.9006462020592352,-5.059575094783341,5.753416243336474,0.8620928644402,-18.615164702823094,17.534814870750807,5.940750134349727,-1.4538848024083393,11.298476606417509,-3.4479376122802563,-1.409110939166979,-8.716025473022285,1.3978466433109844,-8.643022824299706,5.2562117441532905,-20.02543313211929,-4.171713727052378,-9.206133352545578,1.3124644503887595,7.190886670345606,-1.5831619283462857,-12.163100304155492,-5.3383405978369325,16.13514077079114,-13.07766555699149,0.9752870272676404,25.746915057458054,-5.254672764696409,10.765350557999739,1.6279131486634384,-3.6406694871903937,-6.657646210378829,-4.49525544638179,-12.007989512455353,-12.762022355564,2.3969365088808985,2.3046099880010473,-1.1761734146134302,-15.083010343007274,7.08236640554145,-14.845002307097104,-14.610687404318384,-8.913964989942428,24.823798905233545,-13.096291090334745,-1.0096109467655907,-3.9151283726547916,-7.561589585500059,-5.923956104693332,8.476608865786545,2.264786386069531,3.804840619936094,15.742582080806486,-14.93331881543483,-4.763573570333364,4.246766569693605,-0.865038255085139,12.579534311889233,6.434700017879379,-1.002663461603575,-4.952482187718246,-6.061765895877556,-9.073112557975165,15.37988590343565,-6.435310684156164,5.947385365579208,-19.302791118535325,2.199225480675125,0.26138685213123836,8.972700294436265,1.6426787294950458,-12.78060738565405,-3.350473381865527,-0.9054601918583387,-16.06410856356655,11.398572756015923,9.420506890598006,0.8005648486211783,4.139409930535095,-23.582837428058056,18.138947170599835,-0.3274487423065864,-5.17504619696993,-17.6785725960859,6.360511253635977,1.3693264604307984,-4.964377190270085,5.424633458335876,7.802467144137879,8.487801245207962,5.961571613850381,1.649232892290044,1.0748716222885975,13.589765508848856,-5.371026625340633,-10.025108360186778,-2.4684914883766567,7.0854686226943215,5.067145831355006,-3.29439933053915,2.676165432846659,32.07580812872715,-0.4138282980573038,8.31283027950738,18.190063975417104,21.75205643432244,-3.2666419165531835,-2.4438622060642956,7.9941203739607545,13.866834604524797,-1.7772994790547472,11.646819997391688,-7.765469437169315,20.662535389005726,2.145052024477252,-4.153639796220091,6.490102412109891,1.1230224499103656,2.429749423792046,2.9648719313930627,-5.099648471572891,2.775964219654071,13.653078559317706,9.701250438611538,1.4058536696071684,-7.790121589651719,15.738823550021976,-2.230550267870825,-5.531836444832351,5.968262347685538,-1.8269289503797097,3.2424887443160912,6.330800662545599,-19.48130689078596,-11.570374200511694,-3.1116125148506626,12.805161296446926,-18.62452794062321,-12.546217597232072,-8.15599557919407,1.283417298345185,12.73897455752548,7.498319913221479,2.9175095941177176,-5.457657338194991,0.8002241662821916,17.099561321633274,0.2440286717593665,1.796897166449014,-12.666402771625087,-4.3849460945371845,2.923695628461303,-0.6592715598896746,5.066706174370879,23.47918509579266,-20.27097222355914,-14.630014694869345,-4.553513985976238,13.502491435337049,-0.834500034705357,-0.5290757264268819,-14.849418407614309,-0.3584897127236104,-1.1532019047578785,8.15602391841351,-3.019139065497143,-7.895387206607751,-0.5170613226569287,-2.094259375077627,-2.552612402280076,2.6968826104216106,12.85892179599007,4.338356932800309,-21.617612420654353,15.931218812384472,14.419877135385605,1.1935897017489765,6.183615401781182,-2.7741734978957595,5.754031038063246,-4.710436926491909,-10.824740323004093,4.017619086129066,1.960090687738571,2.488679850288662,-0.7719503764470232,-13.143994269391783,-2.5787136698789794,1.090970026547737,3.283610670943858,-6.009396782605627,7.636857460097971,-9.314714809150274,-10.328650901169098,9.03693386321244,-6.883056143914018,-7.469586936920123,-2.4068392942356667,4.509180812951968,-16.212362525402412,-13.674012051714243,2.807584967208129,0.10015746331420416,11.100068662666487,6.1154298492429575,-10.096641936849522,-13.239935264279097,-1.740227489190687,-4.463963984318639,1.0517144088099855,-6.443964322910787,2.582216371520289,-10.039032151247227],\"xaxis\":\"x\",\"yaxis\":\"y\",\"type\":\"histogram\"}],                        {\"template\":{\"data\":{\"histogram2dcontour\":[{\"type\":\"histogram2dcontour\",\"colorbar\":{\"outlinewidth\":0,\"ticks\":\"\"},\"colorscale\":[[0.0,\"#0d0887\"],[0.1111111111111111,\"#46039f\"],[0.2222222222222222,\"#7201a8\"],[0.3333333333333333,\"#9c179e\"],[0.4444444444444444,\"#bd3786\"],[0.5555555555555556,\"#d8576b\"],[0.6666666666666666,\"#ed7953\"],[0.7777777777777778,\"#fb9f3a\"],[0.8888888888888888,\"#fdca26\"],[1.0,\"#f0f921\"]]}],\"choropleth\":[{\"type\":\"choropleth\",\"colorbar\":{\"outlinewidth\":0,\"ticks\":\"\"}}],\"histogram2d\":[{\"type\":\"histogram2d\",\"colorbar\":{\"outlinewidth\":0,\"ticks\":\"\"},\"colorscale\":[[0.0,\"#0d0887\"],[0.1111111111111111,\"#46039f\"],[0.2222222222222222,\"#7201a8\"],[0.3333333333333333,\"#9c179e\"],[0.4444444444444444,\"#bd3786\"],[0.5555555555555556,\"#d8576b\"],[0.6666666666666666,\"#ed7953\"],[0.7777777777777778,\"#fb9f3a\"],[0.8888888888888888,\"#fdca26\"],[1.0,\"#f0f921\"]]}],\"heatmap\":[{\"type\":\"heatmap\",\"colorbar\":{\"outlinewidth\":0,\"ticks\":\"\"},\"colorscale\":[[0.0,\"#0d0887\"],[0.1111111111111111,\"#46039f\"],[0.2222222222222222,\"#7201a8\"],[0.3333333333333333,\"#9c179e\"],[0.4444444444444444,\"#bd3786\"],[0.5555555555555556,\"#d8576b\"],[0.6666666666666666,\"#ed7953\"],[0.7777777777777778,\"#fb9f3a\"],[0.8888888888888888,\"#fdca26\"],[1.0,\"#f0f921\"]]}],\"heatmapgl\":[{\"type\":\"heatmapgl\",\"colorbar\":{\"outlinewidth\":0,\"ticks\":\"\"},\"colorscale\":[[0.0,\"#0d0887\"],[0.1111111111111111,\"#46039f\"],[0.2222222222222222,\"#7201a8\"],[0.3333333333333333,\"#9c179e\"],[0.4444444444444444,\"#bd3786\"],[0.5555555555555556,\"#d8576b\"],[0.6666666666666666,\"#ed7953\"],[0.7777777777777778,\"#fb9f3a\"],[0.8888888888888888,\"#fdca26\"],[1.0,\"#f0f921\"]]}],\"contourcarpet\":[{\"type\":\"contourcarpet\",\"colorbar\":{\"outlinewidth\":0,\"ticks\":\"\"}}],\"contour\":[{\"type\":\"contour\",\"colorbar\":{\"outlinewidth\":0,\"ticks\":\"\"},\"colorscale\":[[0.0,\"#0d0887\"],[0.1111111111111111,\"#46039f\"],[0.2222222222222222,\"#7201a8\"],[0.3333333333333333,\"#9c179e\"],[0.4444444444444444,\"#bd3786\"],[0.5555555555555556,\"#d8576b\"],[0.6666666666666666,\"#ed7953\"],[0.7777777777777778,\"#fb9f3a\"],[0.8888888888888888,\"#fdca26\"],[1.0,\"#f0f921\"]]}],\"surface\":[{\"type\":\"surface\",\"colorbar\":{\"outlinewidth\":0,\"ticks\":\"\"},\"colorscale\":[[0.0,\"#0d0887\"],[0.1111111111111111,\"#46039f\"],[0.2222222222222222,\"#7201a8\"],[0.3333333333333333,\"#9c179e\"],[0.4444444444444444,\"#bd3786\"],[0.5555555555555556,\"#d8576b\"],[0.6666666666666666,\"#ed7953\"],[0.7777777777777778,\"#fb9f3a\"],[0.8888888888888888,\"#fdca26\"],[1.0,\"#f0f921\"]]}],\"mesh3d\":[{\"type\":\"mesh3d\",\"colorbar\":{\"outlinewidth\":0,\"ticks\":\"\"}}],\"scatter\":[{\"fillpattern\":{\"fillmode\":\"overlay\",\"size\":10,\"solidity\":0.2},\"type\":\"scatter\"}],\"parcoords\":[{\"type\":\"parcoords\",\"line\":{\"colorbar\":{\"outlinewidth\":0,\"ticks\":\"\"}}}],\"scatterpolargl\":[{\"type\":\"scatterpolargl\",\"marker\":{\"colorbar\":{\"outlinewidth\":0,\"ticks\":\"\"}}}],\"bar\":[{\"error_x\":{\"color\":\"#2a3f5f\"},\"error_y\":{\"color\":\"#2a3f5f\"},\"marker\":{\"line\":{\"color\":\"#E5ECF6\",\"width\":0.5},\"pattern\":{\"fillmode\":\"overlay\",\"size\":10,\"solidity\":0.2}},\"type\":\"bar\"}],\"scattergeo\":[{\"type\":\"scattergeo\",\"marker\":{\"colorbar\":{\"outlinewidth\":0,\"ticks\":\"\"}}}],\"scatterpolar\":[{\"type\":\"scatterpolar\",\"marker\":{\"colorbar\":{\"outlinewidth\":0,\"ticks\":\"\"}}}],\"histogram\":[{\"marker\":{\"pattern\":{\"fillmode\":\"overlay\",\"size\":10,\"solidity\":0.2}},\"type\":\"histogram\"}],\"scattergl\":[{\"type\":\"scattergl\",\"marker\":{\"colorbar\":{\"outlinewidth\":0,\"ticks\":\"\"}}}],\"scatter3d\":[{\"type\":\"scatter3d\",\"line\":{\"colorbar\":{\"outlinewidth\":0,\"ticks\":\"\"}},\"marker\":{\"colorbar\":{\"outlinewidth\":0,\"ticks\":\"\"}}}],\"scattermapbox\":[{\"type\":\"scattermapbox\",\"marker\":{\"colorbar\":{\"outlinewidth\":0,\"ticks\":\"\"}}}],\"scatterternary\":[{\"type\":\"scatterternary\",\"marker\":{\"colorbar\":{\"outlinewidth\":0,\"ticks\":\"\"}}}],\"scattercarpet\":[{\"type\":\"scattercarpet\",\"marker\":{\"colorbar\":{\"outlinewidth\":0,\"ticks\":\"\"}}}],\"carpet\":[{\"aaxis\":{\"endlinecolor\":\"#2a3f5f\",\"gridcolor\":\"white\",\"linecolor\":\"white\",\"minorgridcolor\":\"white\",\"startlinecolor\":\"#2a3f5f\"},\"baxis\":{\"endlinecolor\":\"#2a3f5f\",\"gridcolor\":\"white\",\"linecolor\":\"white\",\"minorgridcolor\":\"white\",\"startlinecolor\":\"#2a3f5f\"},\"type\":\"carpet\"}],\"table\":[{\"cells\":{\"fill\":{\"color\":\"#EBF0F8\"},\"line\":{\"color\":\"white\"}},\"header\":{\"fill\":{\"color\":\"#C8D4E3\"},\"line\":{\"color\":\"white\"}},\"type\":\"table\"}],\"barpolar\":[{\"marker\":{\"line\":{\"color\":\"#E5ECF6\",\"width\":0.5},\"pattern\":{\"fillmode\":\"overlay\",\"size\":10,\"solidity\":0.2}},\"type\":\"barpolar\"}],\"pie\":[{\"automargin\":true,\"type\":\"pie\"}]},\"layout\":{\"autotypenumbers\":\"strict\",\"colorway\":[\"#636efa\",\"#EF553B\",\"#00cc96\",\"#ab63fa\",\"#FFA15A\",\"#19d3f3\",\"#FF6692\",\"#B6E880\",\"#FF97FF\",\"#FECB52\"],\"font\":{\"color\":\"#2a3f5f\"},\"hovermode\":\"closest\",\"hoverlabel\":{\"align\":\"left\"},\"paper_bgcolor\":\"white\",\"plot_bgcolor\":\"#E5ECF6\",\"polar\":{\"bgcolor\":\"#E5ECF6\",\"angularaxis\":{\"gridcolor\":\"white\",\"linecolor\":\"white\",\"ticks\":\"\"},\"radialaxis\":{\"gridcolor\":\"white\",\"linecolor\":\"white\",\"ticks\":\"\"}},\"ternary\":{\"bgcolor\":\"#E5ECF6\",\"aaxis\":{\"gridcolor\":\"white\",\"linecolor\":\"white\",\"ticks\":\"\"},\"baxis\":{\"gridcolor\":\"white\",\"linecolor\":\"white\",\"ticks\":\"\"},\"caxis\":{\"gridcolor\":\"white\",\"linecolor\":\"white\",\"ticks\":\"\"}},\"coloraxis\":{\"colorbar\":{\"outlinewidth\":0,\"ticks\":\"\"}},\"colorscale\":{\"sequential\":[[0.0,\"#0d0887\"],[0.1111111111111111,\"#46039f\"],[0.2222222222222222,\"#7201a8\"],[0.3333333333333333,\"#9c179e\"],[0.4444444444444444,\"#bd3786\"],[0.5555555555555556,\"#d8576b\"],[0.6666666666666666,\"#ed7953\"],[0.7777777777777778,\"#fb9f3a\"],[0.8888888888888888,\"#fdca26\"],[1.0,\"#f0f921\"]],\"sequentialminus\":[[0.0,\"#0d0887\"],[0.1111111111111111,\"#46039f\"],[0.2222222222222222,\"#7201a8\"],[0.3333333333333333,\"#9c179e\"],[0.4444444444444444,\"#bd3786\"],[0.5555555555555556,\"#d8576b\"],[0.6666666666666666,\"#ed7953\"],[0.7777777777777778,\"#fb9f3a\"],[0.8888888888888888,\"#fdca26\"],[1.0,\"#f0f921\"]],\"diverging\":[[0,\"#8e0152\"],[0.1,\"#c51b7d\"],[0.2,\"#de77ae\"],[0.3,\"#f1b6da\"],[0.4,\"#fde0ef\"],[0.5,\"#f7f7f7\"],[0.6,\"#e6f5d0\"],[0.7,\"#b8e186\"],[0.8,\"#7fbc41\"],[0.9,\"#4d9221\"],[1,\"#276419\"]]},\"xaxis\":{\"gridcolor\":\"white\",\"linecolor\":\"white\",\"ticks\":\"\",\"title\":{\"standoff\":15},\"zerolinecolor\":\"white\",\"automargin\":true,\"zerolinewidth\":2},\"yaxis\":{\"gridcolor\":\"white\",\"linecolor\":\"white\",\"ticks\":\"\",\"title\":{\"standoff\":15},\"zerolinecolor\":\"white\",\"automargin\":true,\"zerolinewidth\":2},\"scene\":{\"xaxis\":{\"backgroundcolor\":\"#E5ECF6\",\"gridcolor\":\"white\",\"linecolor\":\"white\",\"showbackground\":true,\"ticks\":\"\",\"zerolinecolor\":\"white\",\"gridwidth\":2},\"yaxis\":{\"backgroundcolor\":\"#E5ECF6\",\"gridcolor\":\"white\",\"linecolor\":\"white\",\"showbackground\":true,\"ticks\":\"\",\"zerolinecolor\":\"white\",\"gridwidth\":2},\"zaxis\":{\"backgroundcolor\":\"#E5ECF6\",\"gridcolor\":\"white\",\"linecolor\":\"white\",\"showbackground\":true,\"ticks\":\"\",\"zerolinecolor\":\"white\",\"gridwidth\":2}},\"shapedefaults\":{\"line\":{\"color\":\"#2a3f5f\"}},\"annotationdefaults\":{\"arrowcolor\":\"#2a3f5f\",\"arrowhead\":0,\"arrowwidth\":1},\"geo\":{\"bgcolor\":\"white\",\"landcolor\":\"#E5ECF6\",\"subunitcolor\":\"white\",\"showland\":true,\"showlakes\":true,\"lakecolor\":\"white\"},\"title\":{\"x\":0.05},\"mapbox\":{\"style\":\"light\"}}},\"xaxis\":{\"anchor\":\"y\",\"domain\":[0.0,1.0],\"title\":{\"text\":\"error\"}},\"yaxis\":{\"anchor\":\"x\",\"domain\":[0.0,1.0],\"title\":{\"text\":\"count\"}},\"legend\":{\"tracegroupgap\":0},\"margin\":{\"t\":60},\"barmode\":\"relative\",\"width\":800},                        {\"responsive\": true}                    ).then(function(){\n",
              "                            \n",
              "var gd = document.getElementById('831beda6-8300-4ddb-9f39-80d10a739224');\n",
              "var x = new MutationObserver(function (mutations, observer) {{\n",
              "        var display = window.getComputedStyle(gd).display;\n",
              "        if (!display || display === 'none') {{\n",
              "            console.log([gd, 'removed!']);\n",
              "            Plotly.purge(gd);\n",
              "            observer.disconnect();\n",
              "        }}\n",
              "}});\n",
              "\n",
              "// Listen for the removal of the full notebook cells\n",
              "var notebookContainer = gd.closest('#notebook-container');\n",
              "if (notebookContainer) {{\n",
              "    x.observe(notebookContainer, {childList: true});\n",
              "}}\n",
              "\n",
              "// Listen for the clearing of the current output cell\n",
              "var outputEl = gd.closest('.output');\n",
              "if (outputEl) {{\n",
              "    x.observe(outputEl, {childList: true});\n",
              "}}\n",
              "\n",
              "                        })                };                            </script>        </div>\n",
              "</body>\n",
              "</html>"
            ]
          },
          "metadata": {}
        }
      ]
    },
    {
      "cell_type": "markdown",
      "source": [
        "Zazwyczaj powinien przypominać rozkład normalny. Gdy jest lewo / prawo skośny to oznacza, że przeszacowuje albo niedoszacowuje. Jak jest więcej błędów po prawej stronie to ozacza, że model niedoszacowuje wartości.  \n",
        "Gdy jest więcej błędów po lewej stronie to oznacza ze model przeszacowuje wartości.  \n",
        "*Optymalnie* gdy jest symetryczny.\n",
        "Gdy histogram jest *rozwlekły* to oznacza że model tworzy duże błędy.  \n"
      ],
      "metadata": {
        "id": "ZscTfFCOOwid"
      }
    },
    {
      "cell_type": "markdown",
      "source": [
        "## <a name='a3'></a> Mean Absolute Error - Średni błąd bezwzględny\n",
        "Standardowa metryka.\n",
        "\n",
        "### $$MAE = \\frac{1}{n}\\sum_{i=1}^{n}|y_{true} - y_{pred}|$$"
      ],
      "metadata": {
        "id": "x7cO4HN2PqHn"
      }
    },
    {
      "cell_type": "code",
      "source": [
        "def mean_absolute_error(y_true, y_pred):\n",
        "  return abs(y_true - y_pred).sum() / len(y_true)\n",
        "\n",
        "mean_absolute_error(y_true, y_pred)"
      ],
      "metadata": {
        "colab": {
          "base_uri": "https://localhost:8080/"
        },
        "id": "GJqI-OGOQuvR",
        "outputId": "17b205d6-9d74-4529-92eb-6a235703477f"
      },
      "execution_count": 14,
      "outputs": [
        {
          "output_type": "execute_result",
          "data": {
            "text/plain": [
              "7.882351823561818"
            ]
          },
          "metadata": {},
          "execution_count": 14
        }
      ]
    },
    {
      "cell_type": "code",
      "source": [
        "# Zamiast tego możemy korzystać z gotowej metody\n",
        "\n",
        "from sklearn.metrics import mean_absolute_error\n",
        "\n",
        "mean_absolute_error(y_true, y_pred)"
      ],
      "metadata": {
        "colab": {
          "base_uri": "https://localhost:8080/"
        },
        "id": "_xm6TvBfWY4u",
        "outputId": "d0b853cb-97b2-4e8d-e63f-01cf9139e030"
      },
      "execution_count": 15,
      "outputs": [
        {
          "output_type": "execute_result",
          "data": {
            "text/plain": [
              "7.882351823561818"
            ]
          },
          "metadata": {},
          "execution_count": 15
        }
      ]
    },
    {
      "cell_type": "markdown",
      "source": [
        "### <a name='a4'></a> Mean Squared Error - MSE - Błąd średniokwadratowy\n",
        "### $$MSE = \\frac{1}{n}\\sum_{i=1}^{n}(y_{true} - y_{pred})^{2}$$"
      ],
      "metadata": {
        "id": "Z9ceV9UTWzfe"
      }
    },
    {
      "cell_type": "markdown",
      "source": [
        "Błąd będzie karał większe odległości."
      ],
      "metadata": {
        "id": "2Tt5bPxsW83B"
      }
    },
    {
      "cell_type": "code",
      "source": [
        "def mean_squared_error(y_true, y_pred):\n",
        "  return ((y_true-y_pred)**2).sum() / len(y_true)\n",
        "\n",
        "mean_squared_error(y_true, y_pred)"
      ],
      "metadata": {
        "colab": {
          "base_uri": "https://localhost:8080/"
        },
        "id": "djDHIEFCWoPk",
        "outputId": "e6bdf74c-0892-4b58-f934-c522c651b55b"
      },
      "execution_count": 16,
      "outputs": [
        {
          "output_type": "execute_result",
          "data": {
            "text/plain": [
              "98.85967855930728"
            ]
          },
          "metadata": {},
          "execution_count": 16
        }
      ]
    },
    {
      "cell_type": "code",
      "source": [
        "# To samo dzięki wbudowanej bibliotece\n",
        "from sklearn.metrics import mean_squared_error\n",
        "mean_squared_error(y_true, y_pred)"
      ],
      "metadata": {
        "colab": {
          "base_uri": "https://localhost:8080/"
        },
        "id": "y23bVXXzXii8",
        "outputId": "346be209-2bb6-4895-be4f-ffe7b1ffdbb0"
      },
      "execution_count": 17,
      "outputs": [
        {
          "output_type": "execute_result",
          "data": {
            "text/plain": [
              "98.85967855930728"
            ]
          },
          "metadata": {},
          "execution_count": 17
        }
      ]
    },
    {
      "cell_type": "markdown",
      "source": [
        "### <a name='a5'></a> Root Mean Squared Error - RMSE - Pierwiastek błędu średniokwadratowego\n",
        "### $$RMSE = \\sqrt{MSE}$$"
      ],
      "metadata": {
        "id": "-KI_xwQjX2MQ"
      }
    },
    {
      "cell_type": "markdown",
      "source": [
        "Ta metryka pozwala nieco lepiej zinterpretować nasz wynik.  \n",
        "Wynik mówi nam jak średnio predykcje odbiegają od wartości prawdziwych."
      ],
      "metadata": {
        "id": "6-iJ1-1wX3eg"
      }
    },
    {
      "cell_type": "code",
      "source": [
        "def root_mean_squared_error(y_true, y_pred):\n",
        "    return np.sqrt(((y_true - y_pred) ** 2).sum() / len(y_true))\n",
        "\n",
        "root_mean_squared_error(y_true, y_pred)"
      ],
      "metadata": {
        "colab": {
          "base_uri": "https://localhost:8080/"
        },
        "id": "K_mWuLkIXuCW",
        "outputId": "75ea3228-cb45-4a89-a5aa-a525bd6a3d32"
      },
      "execution_count": 18,
      "outputs": [
        {
          "output_type": "execute_result",
          "data": {
            "text/plain": [
              "9.942820452935237"
            ]
          },
          "metadata": {},
          "execution_count": 18
        }
      ]
    },
    {
      "cell_type": "code",
      "source": [
        "np.sqrt(mean_squared_error(y_true, y_pred))"
      ],
      "metadata": {
        "colab": {
          "base_uri": "https://localhost:8080/"
        },
        "id": "2RoKRtJJYKz1",
        "outputId": "83888025-f476-4f22-c1ca-60217e3baa4f"
      },
      "execution_count": 19,
      "outputs": [
        {
          "output_type": "execute_result",
          "data": {
            "text/plain": [
              "9.942820452935237"
            ]
          },
          "metadata": {},
          "execution_count": 19
        }
      ]
    },
    {
      "cell_type": "markdown",
      "source": [
        "Nasze wartości odbiegają średnio o 9.9428 (np. zł)"
      ],
      "metadata": {
        "id": "U46dPiH9YOHg"
      }
    },
    {
      "cell_type": "markdown",
      "source": [
        "### <a name='a6'></a>  Max Error - Błąd maksymalny\n",
        "\n",
        "$$ME = max(|y\\_true - y\\_pred|)$$"
      ],
      "metadata": {
        "id": "a7KiIXxWYjXY"
      }
    },
    {
      "cell_type": "code",
      "source": [
        "def max_error(y_true, y_pred):\n",
        "    return abs(y_true - y_pred).max()\n",
        "\n",
        "max_error(y_true, y_pred)"
      ],
      "metadata": {
        "colab": {
          "base_uri": "https://localhost:8080/"
        },
        "id": "kDh9QqOCYjD8",
        "outputId": "1223ddbd-e0f1-4a9d-dfb5-e5437a37818f"
      },
      "execution_count": 21,
      "outputs": [
        {
          "output_type": "execute_result",
          "data": {
            "text/plain": [
              "38.86190526931087"
            ]
          },
          "metadata": {},
          "execution_count": 21
        }
      ]
    },
    {
      "cell_type": "code",
      "source": [
        "# gotowa metoda\n",
        "\n",
        "from sklearn.metrics import max_error\n",
        "\n",
        "max_error(y_true, y_pred)"
      ],
      "metadata": {
        "colab": {
          "base_uri": "https://localhost:8080/"
        },
        "id": "EiKCkYH_Y2Hu",
        "outputId": "6bd1b6d6-b9a3-4780-edc4-fc70c8e49fa3"
      },
      "execution_count": 22,
      "outputs": [
        {
          "output_type": "execute_result",
          "data": {
            "text/plain": [
              "38.86190526931087"
            ]
          },
          "metadata": {},
          "execution_count": 22
        }
      ]
    },
    {
      "cell_type": "markdown",
      "source": [
        "### <a name='a7'></a>  R2 score - współczynnik determinacji\n",
        "### $$R2\\_score = 1 - \\frac{\\sum_{i=1}^{N}(y_{true} - y_{pred})^{2}}{\\sum_{i=1}^{N}(y_{true} - \\overline{y_{true}})^{2}}$$"
      ],
      "metadata": {
        "id": "Nj3QfzzXZCna"
      }
    },
    {
      "cell_type": "markdown",
      "source": [],
      "metadata": {
        "id": "li0ZUSF7aImE"
      }
    },
    {
      "cell_type": "markdown",
      "source": [
        "To w mianowniku to jest średnia.\"Jak byśmy wzięli model, który dla każdego przypadku będzie przewidywał średnią wartość , i jak nasz model działa lepiej poza ten zwykly model\"  \n",
        "Chodzi o to, żeby ta wartość była jak najbliżej 1.  \n",
        "Jest to domyślna metoda, która sotsuje biblioteka sklearn do ewaluacji modeli regresji."
      ],
      "metadata": {
        "id": "-j1h-N5SaKEu"
      }
    },
    {
      "cell_type": "code",
      "source": [
        "\n",
        "\n",
        "from sklearn.metrics import r2_score\n",
        "\n",
        "r2_score(y_true, y_pred)\n"
      ],
      "metadata": {
        "colab": {
          "base_uri": "https://localhost:8080/"
        },
        "id": "91OXT3TzZLSY",
        "outputId": "a270eb6c-daf5-428e-a960-f51c616c7588"
      },
      "execution_count": 24,
      "outputs": [
        {
          "output_type": "execute_result",
          "data": {
            "text/plain": [
              "0.7396561155757666"
            ]
          },
          "metadata": {},
          "execution_count": 24
        }
      ]
    },
    {
      "cell_type": "code",
      "source": [
        "def r2_score(y_true, y_pred):\n",
        "    numerator = ((y_true - y_pred) ** 2).sum()\n",
        "    denominator = ((y_true - y_true.mean()) ** 2).sum()\n",
        "    try:\n",
        "        r2 = 1 - numerator / denominator\n",
        "    except ZeroDivisionError:\n",
        "        print('Dzielenie przez zero')\n",
        "    return r2"
      ],
      "metadata": {
        "id": "Ud5qI0BKZ9PC"
      },
      "execution_count": 25,
      "outputs": []
    },
    {
      "cell_type": "code",
      "source": [
        "r2_score(y_true, y_pred)"
      ],
      "metadata": {
        "colab": {
          "base_uri": "https://localhost:8080/"
        },
        "id": "WXcjZEYeaWTm",
        "outputId": "1a9af7e2-72e7-4651-cdba-725995ef31ac"
      },
      "execution_count": 26,
      "outputs": [
        {
          "output_type": "execute_result",
          "data": {
            "text/plain": [
              "0.7396561155757666"
            ]
          },
          "metadata": {},
          "execution_count": 26
        }
      ]
    }
  ]
}